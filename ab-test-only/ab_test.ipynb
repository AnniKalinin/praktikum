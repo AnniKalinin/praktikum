{
 "cells": [
  {
   "cell_type": "markdown",
   "metadata": {},
   "source": [
    "## Сборный проект\n",
    "#### Описание проекта\n",
    "\n",
    "Задача:\n",
    "- разобраться, как ведут себя пользователи мобильного приложения.\n",
    "- изучить воронку продаж, узнайть, как пользователи доходят до покупки. \n",
    "- исследовать результаты A/A/B-эксперимента \n",
    "\n",
    "#### Описание данных\n",
    "Каждая запись в логе — это действие пользователя, или событие.\n",
    "\n",
    "ExpId — номер эксперимента: 246 и 247 — контрольные группы, а 248 — экспериментальная.\n",
    "\n",
    "\n",
    "#### Содержание:\n",
    "1. <a href='#Предобработка данных'>Предобработка данных</a>\n",
    "2. <a href='#Анализ данных'>Анализ данных</a>\n",
    "3. <a href='#Воронка событий'>Воронка событий</a>\n",
    "4. <a href='#Анализ результатов эксперимента'> Анализ результатов эксперимента</a>  "
   ]
  },
  {
   "cell_type": "code",
   "execution_count": 1,
   "metadata": {},
   "outputs": [],
   "source": [
    "import pandas as pd\n",
    "import datetime as dt\n",
    "import numpy as np\n",
    "import matplotlib.pyplot as plt\n",
    "import seaborn as sns\n",
    "from scipy import stats as st\n",
    "import warnings\n",
    "import math as mth\n",
    "from pandas.plotting import register_matplotlib_converters\n",
    "from plotly import graph_objects as go"
   ]
  },
  {
   "cell_type": "markdown",
   "metadata": {},
   "source": [
    "### 1. Предобработка данных\n",
    "<a id='Предобработка данных'></a>"
   ]
  },
  {
   "cell_type": "code",
   "execution_count": 2,
   "metadata": {},
   "outputs": [],
   "source": [
    "logs = pd.read_csv('/datasets/logs_exp.csv', sep='\\t')"
   ]
  },
  {
   "cell_type": "code",
   "execution_count": 3,
   "metadata": {},
   "outputs": [
    {
     "data": {
      "text/html": [
       "<div>\n",
       "<style scoped>\n",
       "    .dataframe tbody tr th:only-of-type {\n",
       "        vertical-align: middle;\n",
       "    }\n",
       "\n",
       "    .dataframe tbody tr th {\n",
       "        vertical-align: top;\n",
       "    }\n",
       "\n",
       "    .dataframe thead th {\n",
       "        text-align: right;\n",
       "    }\n",
       "</style>\n",
       "<table border=\"1\" class=\"dataframe\">\n",
       "  <thead>\n",
       "    <tr style=\"text-align: right;\">\n",
       "      <th></th>\n",
       "      <th>EventName</th>\n",
       "      <th>DeviceIDHash</th>\n",
       "      <th>EventTimestamp</th>\n",
       "      <th>ExpId</th>\n",
       "    </tr>\n",
       "  </thead>\n",
       "  <tbody>\n",
       "    <tr>\n",
       "      <td>0</td>\n",
       "      <td>MainScreenAppear</td>\n",
       "      <td>4575588528974610257</td>\n",
       "      <td>1564029816</td>\n",
       "      <td>246</td>\n",
       "    </tr>\n",
       "    <tr>\n",
       "      <td>1</td>\n",
       "      <td>MainScreenAppear</td>\n",
       "      <td>7416695313311560658</td>\n",
       "      <td>1564053102</td>\n",
       "      <td>246</td>\n",
       "    </tr>\n",
       "    <tr>\n",
       "      <td>2</td>\n",
       "      <td>PaymentScreenSuccessful</td>\n",
       "      <td>3518123091307005509</td>\n",
       "      <td>1564054127</td>\n",
       "      <td>248</td>\n",
       "    </tr>\n",
       "    <tr>\n",
       "      <td>3</td>\n",
       "      <td>CartScreenAppear</td>\n",
       "      <td>3518123091307005509</td>\n",
       "      <td>1564054127</td>\n",
       "      <td>248</td>\n",
       "    </tr>\n",
       "    <tr>\n",
       "      <td>4</td>\n",
       "      <td>PaymentScreenSuccessful</td>\n",
       "      <td>6217807653094995999</td>\n",
       "      <td>1564055322</td>\n",
       "      <td>248</td>\n",
       "    </tr>\n",
       "  </tbody>\n",
       "</table>\n",
       "</div>"
      ],
      "text/plain": [
       "                 EventName         DeviceIDHash  EventTimestamp  ExpId\n",
       "0         MainScreenAppear  4575588528974610257      1564029816    246\n",
       "1         MainScreenAppear  7416695313311560658      1564053102    246\n",
       "2  PaymentScreenSuccessful  3518123091307005509      1564054127    248\n",
       "3         CartScreenAppear  3518123091307005509      1564054127    248\n",
       "4  PaymentScreenSuccessful  6217807653094995999      1564055322    248"
      ]
     },
     "execution_count": 3,
     "metadata": {},
     "output_type": "execute_result"
    }
   ],
   "source": [
    "logs.head()"
   ]
  },
  {
   "cell_type": "code",
   "execution_count": 4,
   "metadata": {},
   "outputs": [],
   "source": [
    "logs.columns = ['event_name', 'device_id_hash', 'event_timestamp', 'exp_id']"
   ]
  },
  {
   "cell_type": "code",
   "execution_count": 5,
   "metadata": {},
   "outputs": [
    {
     "name": "stdout",
     "output_type": "stream",
     "text": [
      "<class 'pandas.core.frame.DataFrame'>\n",
      "RangeIndex: 244126 entries, 0 to 244125\n",
      "Data columns (total 4 columns):\n",
      "event_name         244126 non-null object\n",
      "device_id_hash     244126 non-null int64\n",
      "event_timestamp    244126 non-null int64\n",
      "exp_id             244126 non-null int64\n",
      "dtypes: int64(3), object(1)\n",
      "memory usage: 7.5+ MB\n"
     ]
    }
   ],
   "source": [
    "logs.info()"
   ]
  },
  {
   "cell_type": "code",
   "execution_count": 6,
   "metadata": {},
   "outputs": [
    {
     "data": {
      "text/plain": [
       "413"
      ]
     },
     "execution_count": 6,
     "metadata": {},
     "output_type": "execute_result"
    }
   ],
   "source": [
    "logs.duplicated().sum()"
   ]
  },
  {
   "cell_type": "code",
   "execution_count": 7,
   "metadata": {},
   "outputs": [
    {
     "data": {
      "text/html": [
       "<div>\n",
       "<style scoped>\n",
       "    .dataframe tbody tr th:only-of-type {\n",
       "        vertical-align: middle;\n",
       "    }\n",
       "\n",
       "    .dataframe tbody tr th {\n",
       "        vertical-align: top;\n",
       "    }\n",
       "\n",
       "    .dataframe thead th {\n",
       "        text-align: right;\n",
       "    }\n",
       "</style>\n",
       "<table border=\"1\" class=\"dataframe\">\n",
       "  <thead>\n",
       "    <tr style=\"text-align: right;\">\n",
       "      <th></th>\n",
       "      <th>event_name</th>\n",
       "      <th>device_id_hash</th>\n",
       "      <th>event_timestamp</th>\n",
       "      <th>exp_id</th>\n",
       "    </tr>\n",
       "  </thead>\n",
       "  <tbody>\n",
       "    <tr>\n",
       "      <td>452</td>\n",
       "      <td>MainScreenAppear</td>\n",
       "      <td>5613408041324010552</td>\n",
       "      <td>1564474784</td>\n",
       "      <td>248</td>\n",
       "    </tr>\n",
       "    <tr>\n",
       "      <td>453</td>\n",
       "      <td>MainScreenAppear</td>\n",
       "      <td>5613408041324010552</td>\n",
       "      <td>1564474784</td>\n",
       "      <td>248</td>\n",
       "    </tr>\n",
       "    <tr>\n",
       "      <td>2348</td>\n",
       "      <td>CartScreenAppear</td>\n",
       "      <td>1694940645335807244</td>\n",
       "      <td>1564609899</td>\n",
       "      <td>248</td>\n",
       "    </tr>\n",
       "    <tr>\n",
       "      <td>2350</td>\n",
       "      <td>CartScreenAppear</td>\n",
       "      <td>1694940645335807244</td>\n",
       "      <td>1564609899</td>\n",
       "      <td>248</td>\n",
       "    </tr>\n",
       "    <tr>\n",
       "      <td>3572</td>\n",
       "      <td>MainScreenAppear</td>\n",
       "      <td>434103746454591587</td>\n",
       "      <td>1564628377</td>\n",
       "      <td>248</td>\n",
       "    </tr>\n",
       "    <tr>\n",
       "      <td>...</td>\n",
       "      <td>...</td>\n",
       "      <td>...</td>\n",
       "      <td>...</td>\n",
       "      <td>...</td>\n",
       "    </tr>\n",
       "    <tr>\n",
       "      <td>242359</td>\n",
       "      <td>PaymentScreenSuccessful</td>\n",
       "      <td>2382591782303281935</td>\n",
       "      <td>1565206049</td>\n",
       "      <td>246</td>\n",
       "    </tr>\n",
       "    <tr>\n",
       "      <td>242360</td>\n",
       "      <td>PaymentScreenSuccessful</td>\n",
       "      <td>2382591782303281935</td>\n",
       "      <td>1565206049</td>\n",
       "      <td>246</td>\n",
       "    </tr>\n",
       "    <tr>\n",
       "      <td>242362</td>\n",
       "      <td>CartScreenAppear</td>\n",
       "      <td>2382591782303281935</td>\n",
       "      <td>1565206049</td>\n",
       "      <td>246</td>\n",
       "    </tr>\n",
       "    <tr>\n",
       "      <td>242634</td>\n",
       "      <td>MainScreenAppear</td>\n",
       "      <td>4097782667445790512</td>\n",
       "      <td>1565206618</td>\n",
       "      <td>246</td>\n",
       "    </tr>\n",
       "    <tr>\n",
       "      <td>242635</td>\n",
       "      <td>MainScreenAppear</td>\n",
       "      <td>4097782667445790512</td>\n",
       "      <td>1565206618</td>\n",
       "      <td>246</td>\n",
       "    </tr>\n",
       "  </tbody>\n",
       "</table>\n",
       "<p>768 rows × 4 columns</p>\n",
       "</div>"
      ],
      "text/plain": [
       "                     event_name       device_id_hash  event_timestamp  exp_id\n",
       "452            MainScreenAppear  5613408041324010552       1564474784     248\n",
       "453            MainScreenAppear  5613408041324010552       1564474784     248\n",
       "2348           CartScreenAppear  1694940645335807244       1564609899     248\n",
       "2350           CartScreenAppear  1694940645335807244       1564609899     248\n",
       "3572           MainScreenAppear   434103746454591587       1564628377     248\n",
       "...                         ...                  ...              ...     ...\n",
       "242359  PaymentScreenSuccessful  2382591782303281935       1565206049     246\n",
       "242360  PaymentScreenSuccessful  2382591782303281935       1565206049     246\n",
       "242362         CartScreenAppear  2382591782303281935       1565206049     246\n",
       "242634         MainScreenAppear  4097782667445790512       1565206618     246\n",
       "242635         MainScreenAppear  4097782667445790512       1565206618     246\n",
       "\n",
       "[768 rows x 4 columns]"
      ]
     },
     "execution_count": 7,
     "metadata": {},
     "output_type": "execute_result"
    }
   ],
   "source": [
    "logs[logs.duplicated(keep=False)==True]"
   ]
  },
  {
   "cell_type": "code",
   "execution_count": 8,
   "metadata": {},
   "outputs": [],
   "source": [
    "logs = logs.drop_duplicates()"
   ]
  },
  {
   "cell_type": "code",
   "execution_count": 9,
   "metadata": {},
   "outputs": [],
   "source": [
    "logs['datetime'] = pd.to_datetime(logs['event_timestamp'], unit='s')"
   ]
  },
  {
   "cell_type": "code",
   "execution_count": 10,
   "metadata": {},
   "outputs": [],
   "source": [
    "logs['date'] = logs['datetime'].dt.date"
   ]
  },
  {
   "cell_type": "code",
   "execution_count": 11,
   "metadata": {},
   "outputs": [
    {
     "name": "stdout",
     "output_type": "stream",
     "text": [
      "<class 'pandas.core.frame.DataFrame'>\n",
      "Int64Index: 243713 entries, 0 to 244125\n",
      "Data columns (total 6 columns):\n",
      "event_name         243713 non-null object\n",
      "device_id_hash     243713 non-null int64\n",
      "event_timestamp    243713 non-null int64\n",
      "exp_id             243713 non-null int64\n",
      "datetime           243713 non-null datetime64[ns]\n",
      "date               243713 non-null object\n",
      "dtypes: datetime64[ns](1), int64(3), object(2)\n",
      "memory usage: 13.0+ MB\n"
     ]
    }
   ],
   "source": [
    "logs.info()"
   ]
  },
  {
   "cell_type": "markdown",
   "metadata": {},
   "source": [
    "В данных нет пропусков. \n",
    "В данных обнаружено и удалено 413 дубликатов методами pd.duplicated() и pd.drop_duplicates()\n",
    "Названия колонок изменены на 'event_name', 'device_id_hash', 'event_timestamp', 'exp_id' для удобства работы с данными.\n",
    "Введены две новые колонки:\n",
    "- 'datetime' -содержащая информацию о дате и времени события в формате datetime64[ns]. Создана как произодное из колонки event_timestamp методом pd.to_datetime(),\n",
    "- 'date'  - содержащая информацию только о дате события.\n"
   ]
  },
  {
   "cell_type": "markdown",
   "metadata": {},
   "source": [
    "### 2. Анализ данных\n",
    "<a id='Анализ данных'></a>"
   ]
  },
  {
   "cell_type": "code",
   "execution_count": 12,
   "metadata": {},
   "outputs": [
    {
     "name": "stdout",
     "output_type": "stream",
     "text": [
      "Всего в логе 243713 событий\n",
      "Всего уникальных событий - 5\n"
     ]
    }
   ],
   "source": [
    "print('Всего в логе {} событий'.format(len(logs)))\n",
    "\n",
    "list_of_event_name = logs['event_name'].unique()\n",
    "print('Всего уникальных событий - {}'.format(len(list_of_event_name)))"
   ]
  },
  {
   "cell_type": "code",
   "execution_count": 13,
   "metadata": {},
   "outputs": [
    {
     "name": "stdout",
     "output_type": "stream",
     "text": [
      "Всего в логе 7551 уникальных пользователя\n"
     ]
    }
   ],
   "source": [
    "total_unique_id = len(logs['device_id_hash'].unique())\n",
    "print('Всего в логе {} уникальных пользователя'.format(total_unique_id))"
   ]
  },
  {
   "cell_type": "code",
   "execution_count": 14,
   "metadata": {},
   "outputs": [
    {
     "name": "stdout",
     "output_type": "stream",
     "text": [
      "В среднем на каждого пользователя приходится 32 события\n"
     ]
    }
   ],
   "source": [
    "print('В среднем на каждого пользователя приходится {:.0f} события'.format(len(logs)/(len(logs['device_id_hash'].unique()))))"
   ]
  },
  {
   "cell_type": "code",
   "execution_count": 15,
   "metadata": {},
   "outputs": [
    {
     "name": "stdout",
     "output_type": "stream",
     "text": [
      "В логах хранятся события за период 2019-07-25 - 2019-08-07\n",
      "За 14 дней\n"
     ]
    }
   ],
   "source": [
    "print('В логах хранятся события за период', logs['date'].min(), '-', logs['date'].max())\n",
    "print('За {} дней'.format(len(logs['date'].unique())))"
   ]
  },
  {
   "cell_type": "code",
   "execution_count": 16,
   "metadata": {},
   "outputs": [
    {
     "data": {
      "image/png": "[encoded data removed]",
      "text/plain": [
       "<Figure size 432x288 with 1 Axes>"
      ]
     },
     "metadata": {
      "needs_background": "light"
     },
     "output_type": "display_data"
    }
   ],
   "source": [
    "register_matplotlib_converters()\n",
    "\n",
    "plt.xticks(rotation=90)\n",
    "logs['date'].hist(bins = 14)\n",
    "list_of_date = list(logs['date'].unique())\n"
   ]
  },
  {
   "cell_type": "markdown",
   "metadata": {},
   "source": [
    "За период 2019-07-25 - 2019-07-31 данные не выглядят полными. Их слишком мало. \n",
    "\n",
    "Фактически анализируемый период будет 2019-08-01 - 2019-08-07"
   ]
  },
  {
   "cell_type": "code",
   "execution_count": 17,
   "metadata": {},
   "outputs": [],
   "source": [
    "list_of_date = list_of_date[7:]"
   ]
  },
  {
   "cell_type": "code",
   "execution_count": 18,
   "metadata": {},
   "outputs": [],
   "source": [
    "logs_week = logs.loc[logs['date'].isin(list_of_date)]"
   ]
  },
  {
   "cell_type": "code",
   "execution_count": 19,
   "metadata": {},
   "outputs": [
    {
     "name": "stdout",
     "output_type": "stream",
     "text": [
      "Исключив первую неделю из исследования, убрали 1.2% данных\n"
     ]
    }
   ],
   "source": [
    "dif_old_new = 100-(len(logs_week)*100/len(logs))\n",
    "print('Исключив первую неделю из исследования, убрали {:.1f}% данных'.format(dif_old_new))"
   ]
  },
  {
   "cell_type": "code",
   "execution_count": 20,
   "metadata": {},
   "outputs": [],
   "source": [
    "old_group = logs.groupby('exp_id').agg({'device_id_hash': 'nunique'}).reset_index()\n",
    "new_group = logs_week.groupby('exp_id').agg({'device_id_hash': 'nunique'}).reset_index()\n",
    "new_group.columns = ['exp_id', 'new_id_hash']\n",
    "old_group = pd.merge(old_group, new_group, on = 'exp_id')"
   ]
  },
  {
   "cell_type": "code",
   "execution_count": 21,
   "metadata": {},
   "outputs": [
    {
     "data": {
      "text/html": [
       "<div>\n",
       "<style scoped>\n",
       "    .dataframe tbody tr th:only-of-type {\n",
       "        vertical-align: middle;\n",
       "    }\n",
       "\n",
       "    .dataframe tbody tr th {\n",
       "        vertical-align: top;\n",
       "    }\n",
       "\n",
       "    .dataframe thead th {\n",
       "        text-align: right;\n",
       "    }\n",
       "</style>\n",
       "<table border=\"1\" class=\"dataframe\">\n",
       "  <thead>\n",
       "    <tr style=\"text-align: right;\">\n",
       "      <th></th>\n",
       "      <th>exp_id</th>\n",
       "      <th>device_id_hash</th>\n",
       "      <th>new_id_hash</th>\n",
       "      <th>difference</th>\n",
       "      <th>%_dif</th>\n",
       "    </tr>\n",
       "  </thead>\n",
       "  <tbody>\n",
       "    <tr>\n",
       "      <td>0</td>\n",
       "      <td>246</td>\n",
       "      <td>2489</td>\n",
       "      <td>2484</td>\n",
       "      <td>5</td>\n",
       "      <td>0.200884</td>\n",
       "    </tr>\n",
       "    <tr>\n",
       "      <td>1</td>\n",
       "      <td>247</td>\n",
       "      <td>2520</td>\n",
       "      <td>2513</td>\n",
       "      <td>7</td>\n",
       "      <td>0.277778</td>\n",
       "    </tr>\n",
       "    <tr>\n",
       "      <td>2</td>\n",
       "      <td>248</td>\n",
       "      <td>2542</td>\n",
       "      <td>2537</td>\n",
       "      <td>5</td>\n",
       "      <td>0.196696</td>\n",
       "    </tr>\n",
       "  </tbody>\n",
       "</table>\n",
       "</div>"
      ],
      "text/plain": [
       "   exp_id  device_id_hash  new_id_hash  difference     %_dif\n",
       "0     246            2489         2484           5  0.200884\n",
       "1     247            2520         2513           7  0.277778\n",
       "2     248            2542         2537           5  0.196696"
      ]
     },
     "execution_count": 21,
     "metadata": {},
     "output_type": "execute_result"
    }
   ],
   "source": [
    "old_group['difference'] = old_group['device_id_hash'] - old_group['new_id_hash']\n",
    "old_group['%_dif'] = 100 * old_group['difference']/old_group['device_id_hash']\n",
    "old_group"
   ]
  },
  {
   "cell_type": "markdown",
   "metadata": {},
   "source": [
    "После удаления данных остались пользователи всех трех групп. Разница между количеством пользоателей до удаления данных и после не превышает 0.3%"
   ]
  },
  {
   "cell_type": "markdown",
   "metadata": {},
   "source": [
    "#### Вывод\n",
    "1. Всего в логе 243713 событий. Всего уникальных событий - 5\n",
    "\n",
    "2. В среднем на каждого пользователя приходится 32 события.\n",
    "\n",
    "3. В логах хранятся события за период 2019-07-25 - 2019-08-07 (14 дней)\n",
    "\n",
    "4. За период 2019-07-25 - 2019-07-31 данные не выглядят полными. Их слишком мало. Фактически анализируемый период принят 2019-08-01 - 2019-08-07\n",
    "\n",
    "5. Исключив первую неделю из исследования, убрали 1.2% данных. После удаления данных остались пользователи всех трех групп. Разница между количеством пользоателей до удаления данных и после не превышает 0.3%"
   ]
  },
  {
   "cell_type": "markdown",
   "metadata": {},
   "source": [
    "### 3. Воронка событий\n",
    "<a id='Воронка событий'></a>"
   ]
  },
  {
   "cell_type": "code",
   "execution_count": 22,
   "metadata": {},
   "outputs": [
    {
     "data": {
      "text/html": [
       "<div>\n",
       "<style scoped>\n",
       "    .dataframe tbody tr th:only-of-type {\n",
       "        vertical-align: middle;\n",
       "    }\n",
       "\n",
       "    .dataframe tbody tr th {\n",
       "        vertical-align: top;\n",
       "    }\n",
       "\n",
       "    .dataframe thead th {\n",
       "        text-align: right;\n",
       "    }\n",
       "</style>\n",
       "<table border=\"1\" class=\"dataframe\">\n",
       "  <thead>\n",
       "    <tr style=\"text-align: right;\">\n",
       "      <th></th>\n",
       "      <th>datetime</th>\n",
       "    </tr>\n",
       "    <tr>\n",
       "      <th>event_name</th>\n",
       "      <th></th>\n",
       "    </tr>\n",
       "  </thead>\n",
       "  <tbody>\n",
       "    <tr>\n",
       "      <td>MainScreenAppear</td>\n",
       "      <td>117328</td>\n",
       "    </tr>\n",
       "    <tr>\n",
       "      <td>OffersScreenAppear</td>\n",
       "      <td>46333</td>\n",
       "    </tr>\n",
       "    <tr>\n",
       "      <td>CartScreenAppear</td>\n",
       "      <td>42303</td>\n",
       "    </tr>\n",
       "    <tr>\n",
       "      <td>PaymentScreenSuccessful</td>\n",
       "      <td>33918</td>\n",
       "    </tr>\n",
       "    <tr>\n",
       "      <td>Tutorial</td>\n",
       "      <td>1005</td>\n",
       "    </tr>\n",
       "  </tbody>\n",
       "</table>\n",
       "</div>"
      ],
      "text/plain": [
       "                         datetime\n",
       "event_name                       \n",
       "MainScreenAppear           117328\n",
       "OffersScreenAppear          46333\n",
       "CartScreenAppear            42303\n",
       "PaymentScreenSuccessful     33918\n",
       "Tutorial                     1005"
      ]
     },
     "execution_count": 22,
     "metadata": {},
     "output_type": "execute_result"
    }
   ],
   "source": [
    "events_freq = logs_week.groupby('event_name').agg({\n",
    "    'datetime': 'count'\n",
    "}).sort_values(by = 'datetime', ascending = False)\n",
    "events_freq"
   ]
  },
  {
   "cell_type": "code",
   "execution_count": 23,
   "metadata": {},
   "outputs": [
    {
     "data": {
      "text/html": [
       "<div>\n",
       "<style scoped>\n",
       "    .dataframe tbody tr th:only-of-type {\n",
       "        vertical-align: middle;\n",
       "    }\n",
       "\n",
       "    .dataframe tbody tr th {\n",
       "        vertical-align: top;\n",
       "    }\n",
       "\n",
       "    .dataframe thead th {\n",
       "        text-align: right;\n",
       "    }\n",
       "</style>\n",
       "<table border=\"1\" class=\"dataframe\">\n",
       "  <thead>\n",
       "    <tr style=\"text-align: right;\">\n",
       "      <th></th>\n",
       "      <th>unique_id_count</th>\n",
       "    </tr>\n",
       "    <tr>\n",
       "      <th>event_name</th>\n",
       "      <th></th>\n",
       "    </tr>\n",
       "  </thead>\n",
       "  <tbody>\n",
       "    <tr>\n",
       "      <td>MainScreenAppear</td>\n",
       "      <td>7419</td>\n",
       "    </tr>\n",
       "    <tr>\n",
       "      <td>OffersScreenAppear</td>\n",
       "      <td>4593</td>\n",
       "    </tr>\n",
       "    <tr>\n",
       "      <td>CartScreenAppear</td>\n",
       "      <td>3734</td>\n",
       "    </tr>\n",
       "    <tr>\n",
       "      <td>PaymentScreenSuccessful</td>\n",
       "      <td>3539</td>\n",
       "    </tr>\n",
       "    <tr>\n",
       "      <td>Tutorial</td>\n",
       "      <td>840</td>\n",
       "    </tr>\n",
       "  </tbody>\n",
       "</table>\n",
       "</div>"
      ],
      "text/plain": [
       "                         unique_id_count\n",
       "event_name                              \n",
       "MainScreenAppear                    7419\n",
       "OffersScreenAppear                  4593\n",
       "CartScreenAppear                    3734\n",
       "PaymentScreenSuccessful             3539\n",
       "Tutorial                             840"
      ]
     },
     "metadata": {},
     "output_type": "display_data"
    }
   ],
   "source": [
    "events_popular = logs_week.groupby('event_name').agg({\n",
    "    'device_id_hash': 'nunique'\n",
    "}).sort_values(by = 'device_id_hash', ascending = False)\n",
    "events_popular.columns = ['unique_id_count']\n",
    "display(events_popular)\n",
    "unique_id = len(logs_week['device_id_hash'].unique())\n"
   ]
  },
  {
   "cell_type": "code",
   "execution_count": 24,
   "metadata": {},
   "outputs": [],
   "source": [
    "events_popular['%_of_tital_id'] = 100* events_popular['unique_id_count']/ unique_id"
   ]
  },
  {
   "cell_type": "code",
   "execution_count": 25,
   "metadata": {},
   "outputs": [],
   "source": [
    "unique_id_first_step = logs_week.loc[logs_week['event_name'] == \"MainScreenAppear\", 'device_id_hash'].unique().tolist()\n",
    "\n",
    "list_of_id_from_nowhere = []"
   ]
  },
  {
   "cell_type": "code",
   "execution_count": 26,
   "metadata": {},
   "outputs": [],
   "source": [
    "for element in logs_week['device_id_hash'].unique():\n",
    "    if element not in unique_id_first_step:\n",
    "        list_of_id_from_nowhere.append(element)"
   ]
  },
  {
   "cell_type": "code",
   "execution_count": 27,
   "metadata": {},
   "outputs": [
    {
     "name": "stdout",
     "output_type": "stream",
     "text": [
      "115\n",
      "Что составляет 1.53 % от всех уникальных пользователей\n",
      "Пользователи, прошедшие этап Tutorial, составляют 11.15 % от всех уникальных пользователей\n"
     ]
    }
   ],
   "source": [
    "print(len(list_of_id_from_nowhere))\n",
    "print(\"Что составляет {:.2f} % от всех уникальных пользователей\".format(100 * len(list_of_id_from_nowhere)/unique_id))\n",
    "print(\"Пользователи, прошедшие этап Tutorial, составляют {:.2f} % от всех уникальных пользователей\".format(100*840/unique_id))"
   ]
  },
  {
   "cell_type": "markdown",
   "metadata": {},
   "source": [
    "Существует 115 пользователей, которые не совершали действия \"MainScreenAppear\", но при этом существуют в общем списке уникальных id за исследуемую неделю. Это всего 1.5% от всех пользователей. \"MainScreenAppear\" будем считать первым обязательным этапом для пользователя. \n",
    "А этап 'Tutorial' будем считать необязательным. Его проходило 11.2% всех пользователей. "
   ]
  },
  {
   "cell_type": "code",
   "execution_count": 28,
   "metadata": {},
   "outputs": [],
   "source": [
    "#Для пользователей посчитаем время первого срабатывания каждого события методом pivot_table()\n",
    "users = logs_week.pivot_table(\n",
    "        index='device_id_hash', \n",
    "        columns='event_name', \n",
    "        values='datetime',\n",
    "        aggfunc='min')"
   ]
  },
  {
   "cell_type": "code",
   "execution_count": 29,
   "metadata": {},
   "outputs": [
    {
     "name": "stdout",
     "output_type": "stream",
     "text": [
      "Посетителей, прошедших этап \"MainScreenAppear\": 7419\n",
      "Посетителей, прошедших этап \"MainScreenAppear\" и \"OffersScreenAppear\" 4201\n",
      "Посетителей, затем прошедших этап \"CartScreenAppear\": 1767\n",
      "А прошедших этап \"PaymentScreenSuccessful\" 454\n"
     ]
    }
   ],
   "source": [
    "#Узнаем, сколько пользователей переходило с этапа на этап.\n",
    "step_1 = ~users['MainScreenAppear'].isna()\n",
    "step_2 = step_1 & (users['OffersScreenAppear'] > users['MainScreenAppear'])\n",
    "step_3 = step_2 & (users['CartScreenAppear'] > users['OffersScreenAppear'])\n",
    "step_4 = step_3 & (users['PaymentScreenSuccessful'] > users['CartScreenAppear'])\n",
    "\n",
    "main_screen = users[step_1].shape[0]\n",
    "offer_screen = users[step_2].shape[0]\n",
    "cart_screen = users[step_3].shape[0]\n",
    "payment_success = users[step_4].shape[0]\n",
    "\n",
    "print('Посетителей, прошедших этап \"MainScreenAppear\":', main_screen)\n",
    "print('Посетителей, прошедших этап \"MainScreenAppear\" и \"OffersScreenAppear\"', offer_screen)\n",
    "print('Посетителей, затем прошедших этап \"CartScreenAppear\":', cart_screen)\n",
    "print('А прошедших этап \"PaymentScreenSuccessful\"', payment_success)\n",
    "step_by_step = pd.DataFrame(data=[\n",
    "    ['MainScreenAppear', main_screen], \n",
    "    ['OffersScreenAppear', offer_screen], \n",
    "    ['CartScreenAppear', cart_screen],\n",
    "    ['PaymentScreenSuccessful', payment_success]], columns = ['event_name', 'uniq_user'])"
   ]
  },
  {
   "cell_type": "code",
   "execution_count": 30,
   "metadata": {},
   "outputs": [],
   "source": [
    "events_popular = events_popular.reset_index()"
   ]
  },
  {
   "cell_type": "code",
   "execution_count": 31,
   "metadata": {},
   "outputs": [
    {
     "data": {
      "text/html": [
       "<div>\n",
       "<style scoped>\n",
       "    .dataframe tbody tr th:only-of-type {\n",
       "        vertical-align: middle;\n",
       "    }\n",
       "\n",
       "    .dataframe tbody tr th {\n",
       "        vertical-align: top;\n",
       "    }\n",
       "\n",
       "    .dataframe thead th {\n",
       "        text-align: right;\n",
       "    }\n",
       "</style>\n",
       "<table border=\"1\" class=\"dataframe\">\n",
       "  <thead>\n",
       "    <tr style=\"text-align: right;\">\n",
       "      <th></th>\n",
       "      <th>event_name</th>\n",
       "      <th>uniq_user</th>\n",
       "    </tr>\n",
       "  </thead>\n",
       "  <tbody>\n",
       "    <tr>\n",
       "      <td>0</td>\n",
       "      <td>MainScreenAppear</td>\n",
       "      <td>7419</td>\n",
       "    </tr>\n",
       "    <tr>\n",
       "      <td>1</td>\n",
       "      <td>OffersScreenAppear</td>\n",
       "      <td>4201</td>\n",
       "    </tr>\n",
       "    <tr>\n",
       "      <td>2</td>\n",
       "      <td>CartScreenAppear</td>\n",
       "      <td>1767</td>\n",
       "    </tr>\n",
       "    <tr>\n",
       "      <td>3</td>\n",
       "      <td>PaymentScreenSuccessful</td>\n",
       "      <td>454</td>\n",
       "    </tr>\n",
       "  </tbody>\n",
       "</table>\n",
       "</div>"
      ],
      "text/plain": [
       "                event_name  uniq_user\n",
       "0         MainScreenAppear       7419\n",
       "1       OffersScreenAppear       4201\n",
       "2         CartScreenAppear       1767\n",
       "3  PaymentScreenSuccessful        454"
      ]
     },
     "execution_count": 31,
     "metadata": {},
     "output_type": "execute_result"
    }
   ],
   "source": [
    "events_popular = pd.merge(events_popular, step_by_step, on = 'event_name')\n",
    "step_by_step"
   ]
  },
  {
   "cell_type": "code",
   "execution_count": 32,
   "metadata": {},
   "outputs": [],
   "source": [
    "events_popular['%_all_step_by_step'] = 100 * events_popular['uniq_user']/ events_popular['unique_id_count']"
   ]
  },
  {
   "cell_type": "code",
   "execution_count": 33,
   "metadata": {},
   "outputs": [
    {
     "data": {
      "text/html": [
       "<div>\n",
       "<style scoped>\n",
       "    .dataframe tbody tr th:only-of-type {\n",
       "        vertical-align: middle;\n",
       "    }\n",
       "\n",
       "    .dataframe tbody tr th {\n",
       "        vertical-align: top;\n",
       "    }\n",
       "\n",
       "    .dataframe thead th {\n",
       "        text-align: right;\n",
       "    }\n",
       "</style>\n",
       "<table border=\"1\" class=\"dataframe\">\n",
       "  <thead>\n",
       "    <tr style=\"text-align: right;\">\n",
       "      <th></th>\n",
       "      <th>event_name</th>\n",
       "      <th>unique_id_count</th>\n",
       "      <th>%_of_tital_id</th>\n",
       "      <th>uniq_user</th>\n",
       "      <th>%_all_step_by_step</th>\n",
       "    </tr>\n",
       "  </thead>\n",
       "  <tbody>\n",
       "    <tr>\n",
       "      <td>0</td>\n",
       "      <td>MainScreenAppear</td>\n",
       "      <td>7419</td>\n",
       "      <td>98.473586</td>\n",
       "      <td>7419</td>\n",
       "      <td>100.000000</td>\n",
       "    </tr>\n",
       "    <tr>\n",
       "      <td>1</td>\n",
       "      <td>OffersScreenAppear</td>\n",
       "      <td>4593</td>\n",
       "      <td>60.963632</td>\n",
       "      <td>4201</td>\n",
       "      <td>91.465273</td>\n",
       "    </tr>\n",
       "    <tr>\n",
       "      <td>2</td>\n",
       "      <td>CartScreenAppear</td>\n",
       "      <td>3734</td>\n",
       "      <td>49.561986</td>\n",
       "      <td>1767</td>\n",
       "      <td>47.321907</td>\n",
       "    </tr>\n",
       "    <tr>\n",
       "      <td>3</td>\n",
       "      <td>PaymentScreenSuccessful</td>\n",
       "      <td>3539</td>\n",
       "      <td>46.973719</td>\n",
       "      <td>454</td>\n",
       "      <td>12.828483</td>\n",
       "    </tr>\n",
       "  </tbody>\n",
       "</table>\n",
       "</div>"
      ],
      "text/plain": [
       "                event_name  unique_id_count  %_of_tital_id  uniq_user  \\\n",
       "0         MainScreenAppear             7419      98.473586       7419   \n",
       "1       OffersScreenAppear             4593      60.963632       4201   \n",
       "2         CartScreenAppear             3734      49.561986       1767   \n",
       "3  PaymentScreenSuccessful             3539      46.973719        454   \n",
       "\n",
       "   %_all_step_by_step  \n",
       "0          100.000000  \n",
       "1           91.465273  \n",
       "2           47.321907  \n",
       "3           12.828483  "
      ]
     },
     "execution_count": 33,
     "metadata": {},
     "output_type": "execute_result"
    }
   ],
   "source": [
    "events_popular"
   ]
  },
  {
   "cell_type": "markdown",
   "metadata": {},
   "source": [
    "Первые два этапа хорошо совпадают по пользователям. А вот последние два - совсем нет. Пользователи приходят к оплате каким-то другим способом. Возможно, опалчивают не он-лайн, а наличными курьеру при доставке? (если возможен такой способ оплаты)\n",
    "Или пользователи предпочитаею делать заказ не с главного экрана, а переходя по сторонним ссылкам сразу к экрану оплаты? Существует возможность быстрого платежа, которая позволяет миновать последние два шага?"
   ]
  },
  {
   "cell_type": "code",
   "execution_count": 34,
   "metadata": {},
   "outputs": [
    {
     "data": {
      "text/html": [
       "<div>\n",
       "<style scoped>\n",
       "    .dataframe tbody tr th:only-of-type {\n",
       "        vertical-align: middle;\n",
       "    }\n",
       "\n",
       "    .dataframe tbody tr th {\n",
       "        vertical-align: top;\n",
       "    }\n",
       "\n",
       "    .dataframe thead th {\n",
       "        text-align: right;\n",
       "    }\n",
       "</style>\n",
       "<table border=\"1\" class=\"dataframe\">\n",
       "  <thead>\n",
       "    <tr style=\"text-align: right;\">\n",
       "      <th></th>\n",
       "      <th>event_name</th>\n",
       "      <th>uniq_user</th>\n",
       "      <th>%_step_transfer</th>\n",
       "    </tr>\n",
       "  </thead>\n",
       "  <tbody>\n",
       "    <tr>\n",
       "      <td>0</td>\n",
       "      <td>MainScreenAppear</td>\n",
       "      <td>7419</td>\n",
       "      <td>NaN</td>\n",
       "    </tr>\n",
       "    <tr>\n",
       "      <td>1</td>\n",
       "      <td>OffersScreenAppear</td>\n",
       "      <td>4201</td>\n",
       "      <td>-43.4</td>\n",
       "    </tr>\n",
       "    <tr>\n",
       "      <td>2</td>\n",
       "      <td>CartScreenAppear</td>\n",
       "      <td>1767</td>\n",
       "      <td>-57.9</td>\n",
       "    </tr>\n",
       "    <tr>\n",
       "      <td>3</td>\n",
       "      <td>PaymentScreenSuccessful</td>\n",
       "      <td>454</td>\n",
       "      <td>-74.3</td>\n",
       "    </tr>\n",
       "  </tbody>\n",
       "</table>\n",
       "</div>"
      ],
      "text/plain": [
       "                event_name  uniq_user  %_step_transfer\n",
       "0         MainScreenAppear       7419              NaN\n",
       "1       OffersScreenAppear       4201            -43.4\n",
       "2         CartScreenAppear       1767            -57.9\n",
       "3  PaymentScreenSuccessful        454            -74.3"
      ]
     },
     "metadata": {},
     "output_type": "display_data"
    },
    {
     "name": "stdout",
     "output_type": "stream",
     "text": [
      "От этапа MainScreenAppear до этапа PaymentScreenSuccessful доходят 6.12 % пользователей\n"
     ]
    }
   ],
   "source": [
    "step_by_step['%_step_transfer'] = step_by_step['uniq_user'].pct_change().round(3) * 100\n",
    "display(step_by_step)\n",
    "print(\"От этапа MainScreenAppear до этапа PaymentScreenSuccessful доходят {:.2f} % пользователей\"\n",
    "      .format(100*454/7419))"
   ]
  },
  {
   "cell_type": "code",
   "execution_count": 36,
   "metadata": {},
   "outputs": [
    {
     "data": {
      "application/vnd.plotly.v1+json": {
       "config": {
        "plotlyServerURL": "https://plot.ly"
       },
       "data": [
        {
         "type": "funnel",
         "x": [
          7419,
          4201,
          1767,
          454
         ],
         "y": [
          "MainScreenAppear",
          "OffersScreenAppear",
          "CartScreenAppear",
          "PaymentScreenSuccessful"
         ]
        }
       ],
       "layout": {
        "template": {
         "data": {
          "bar": [
           {
            "error_x": {
             "color": "#2a3f5f"
            },
            "error_y": {
             "color": "#2a3f5f"
            },
            "marker": {
             "line": {
              "color": "#E5ECF6",
              "width": 0.5
             }
            },
            "type": "bar"
           }
          ],
          "barpolar": [
           {
            "marker": {
             "line": {
              "color": "#E5ECF6",
              "width": 0.5
             }
            },
            "type": "barpolar"
           }
          ],
          "carpet": [
           {
            "aaxis": {
             "endlinecolor": "#2a3f5f",
             "gridcolor": "white",
             "linecolor": "white",
             "minorgridcolor": "white",
             "startlinecolor": "#2a3f5f"
            },
            "baxis": {
             "endlinecolor": "#2a3f5f",
             "gridcolor": "white",
             "linecolor": "white",
             "minorgridcolor": "white",
             "startlinecolor": "#2a3f5f"
            },
            "type": "carpet"
           }
          ],
          "choropleth": [
           {
            "colorbar": {
             "outlinewidth": 0,
             "ticks": ""
            },
            "type": "choropleth"
           }
          ],
          "contour": [
           {
            "colorbar": {
             "outlinewidth": 0,
             "ticks": ""
            },
            "colorscale": [
             [
              0,
              "#0d0887"
             ],
             [
              0.1111111111111111,
              "#46039f"
             ],
             [
              0.2222222222222222,
              "#7201a8"
             ],
             [
              0.3333333333333333,
              "#9c179e"
             ],
             [
              0.4444444444444444,
              "#bd3786"
             ],
             [
              0.5555555555555556,
              "#d8576b"
             ],
             [
              0.6666666666666666,
              "#ed7953"
             ],
             [
              0.7777777777777778,
              "#fb9f3a"
             ],
             [
              0.8888888888888888,
              "#fdca26"
             ],
             [
              1,
              "#f0f921"
             ]
            ],
            "type": "contour"
           }
          ],
          "contourcarpet": [
           {
            "colorbar": {
             "outlinewidth": 0,
             "ticks": ""
            },
            "type": "contourcarpet"
           }
          ],
          "heatmap": [
           {
            "colorbar": {
             "outlinewidth": 0,
             "ticks": ""
            },
            "colorscale": [
             [
              0,
              "#0d0887"
             ],
             [
              0.1111111111111111,
              "#46039f"
             ],
             [
              0.2222222222222222,
              "#7201a8"
             ],
             [
              0.3333333333333333,
              "#9c179e"
             ],
             [
              0.4444444444444444,
              "#bd3786"
             ],
             [
              0.5555555555555556,
              "#d8576b"
             ],
             [
              0.6666666666666666,
              "#ed7953"
             ],
             [
              0.7777777777777778,
              "#fb9f3a"
             ],
             [
              0.8888888888888888,
              "#fdca26"
             ],
             [
              1,
              "#f0f921"
             ]
            ],
            "type": "heatmap"
           }
          ],
          "heatmapgl": [
           {
            "colorbar": {
             "outlinewidth": 0,
             "ticks": ""
            },
            "colorscale": [
             [
              0,
              "#0d0887"
             ],
             [
              0.1111111111111111,
              "#46039f"
             ],
             [
              0.2222222222222222,
              "#7201a8"
             ],
             [
              0.3333333333333333,
              "#9c179e"
             ],
             [
              0.4444444444444444,
              "#bd3786"
             ],
             [
              0.5555555555555556,
              "#d8576b"
             ],
             [
              0.6666666666666666,
              "#ed7953"
             ],
             [
              0.7777777777777778,
              "#fb9f3a"
             ],
             [
              0.8888888888888888,
              "#fdca26"
             ],
             [
              1,
              "#f0f921"
             ]
            ],
            "type": "heatmapgl"
           }
          ],
          "histogram": [
           {
            "marker": {
             "colorbar": {
              "outlinewidth": 0,
              "ticks": ""
             }
            },
            "type": "histogram"
           }
          ],
          "histogram2d": [
           {
            "colorbar": {
             "outlinewidth": 0,
             "ticks": ""
            },
            "colorscale": [
             [
              0,
              "#0d0887"
             ],
             [
              0.1111111111111111,
              "#46039f"
             ],
             [
              0.2222222222222222,
              "#7201a8"
             ],
             [
              0.3333333333333333,
              "#9c179e"
             ],
             [
              0.4444444444444444,
              "#bd3786"
             ],
             [
              0.5555555555555556,
              "#d8576b"
             ],
             [
              0.6666666666666666,
              "#ed7953"
             ],
             [
              0.7777777777777778,
              "#fb9f3a"
             ],
             [
              0.8888888888888888,
              "#fdca26"
             ],
             [
              1,
              "#f0f921"
             ]
            ],
            "type": "histogram2d"
           }
          ],
          "histogram2dcontour": [
           {
            "colorbar": {
             "outlinewidth": 0,
             "ticks": ""
            },
            "colorscale": [
             [
              0,
              "#0d0887"
             ],
             [
              0.1111111111111111,
              "#46039f"
             ],
             [
              0.2222222222222222,
              "#7201a8"
             ],
             [
              0.3333333333333333,
              "#9c179e"
             ],
             [
              0.4444444444444444,
              "#bd3786"
             ],
             [
              0.5555555555555556,
              "#d8576b"
             ],
             [
              0.6666666666666666,
              "#ed7953"
             ],
             [
              0.7777777777777778,
              "#fb9f3a"
             ],
             [
              0.8888888888888888,
              "#fdca26"
             ],
             [
              1,
              "#f0f921"
             ]
            ],
            "type": "histogram2dcontour"
           }
          ],
          "mesh3d": [
           {
            "colorbar": {
             "outlinewidth": 0,
             "ticks": ""
            },
            "type": "mesh3d"
           }
          ],
          "parcoords": [
           {
            "line": {
             "colorbar": {
              "outlinewidth": 0,
              "ticks": ""
             }
            },
            "type": "parcoords"
           }
          ],
          "scatter": [
           {
            "marker": {
             "colorbar": {
              "outlinewidth": 0,
              "ticks": ""
             }
            },
            "type": "scatter"
           }
          ],
          "scatter3d": [
           {
            "line": {
             "colorbar": {
              "outlinewidth": 0,
              "ticks": ""
             }
            },
            "marker": {
             "colorbar": {
              "outlinewidth": 0,
              "ticks": ""
             }
            },
            "type": "scatter3d"
           }
          ],
          "scattercarpet": [
           {
            "marker": {
             "colorbar": {
              "outlinewidth": 0,
              "ticks": ""
             }
            },
            "type": "scattercarpet"
           }
          ],
          "scattergeo": [
           {
            "marker": {
             "colorbar": {
              "outlinewidth": 0,
              "ticks": ""
             }
            },
            "type": "scattergeo"
           }
          ],
          "scattergl": [
           {
            "marker": {
             "colorbar": {
              "outlinewidth": 0,
              "ticks": ""
             }
            },
            "type": "scattergl"
           }
          ],
          "scattermapbox": [
           {
            "marker": {
             "colorbar": {
              "outlinewidth": 0,
              "ticks": ""
             }
            },
            "type": "scattermapbox"
           }
          ],
          "scatterpolar": [
           {
            "marker": {
             "colorbar": {
              "outlinewidth": 0,
              "ticks": ""
             }
            },
            "type": "scatterpolar"
           }
          ],
          "scatterpolargl": [
           {
            "marker": {
             "colorbar": {
              "outlinewidth": 0,
              "ticks": ""
             }
            },
            "type": "scatterpolargl"
           }
          ],
          "scatterternary": [
           {
            "marker": {
             "colorbar": {
              "outlinewidth": 0,
              "ticks": ""
             }
            },
            "type": "scatterternary"
           }
          ],
          "surface": [
           {
            "colorbar": {
             "outlinewidth": 0,
             "ticks": ""
            },
            "colorscale": [
             [
              0,
              "#0d0887"
             ],
             [
              0.1111111111111111,
              "#46039f"
             ],
             [
              0.2222222222222222,
              "#7201a8"
             ],
             [
              0.3333333333333333,
              "#9c179e"
             ],
             [
              0.4444444444444444,
              "#bd3786"
             ],
             [
              0.5555555555555556,
              "#d8576b"
             ],
             [
              0.6666666666666666,
              "#ed7953"
             ],
             [
              0.7777777777777778,
              "#fb9f3a"
             ],
             [
              0.8888888888888888,
              "#fdca26"
             ],
             [
              1,
              "#f0f921"
             ]
            ],
            "type": "surface"
           }
          ],
          "table": [
           {
            "cells": {
             "fill": {
              "color": "#EBF0F8"
             },
             "line": {
              "color": "white"
             }
            },
            "header": {
             "fill": {
              "color": "#C8D4E3"
             },
             "line": {
              "color": "white"
             }
            },
            "type": "table"
           }
          ]
         },
         "layout": {
          "annotationdefaults": {
           "arrowcolor": "#2a3f5f",
           "arrowhead": 0,
           "arrowwidth": 1
          },
          "colorscale": {
           "diverging": [
            [
             0,
             "#8e0152"
            ],
            [
             0.1,
             "#c51b7d"
            ],
            [
             0.2,
             "#de77ae"
            ],
            [
             0.3,
             "#f1b6da"
            ],
            [
             0.4,
             "#fde0ef"
            ],
            [
             0.5,
             "#f7f7f7"
            ],
            [
             0.6,
             "#e6f5d0"
            ],
            [
             0.7,
             "#b8e186"
            ],
            [
             0.8,
             "#7fbc41"
            ],
            [
             0.9,
             "#4d9221"
            ],
            [
             1,
             "#276419"
            ]
           ],
           "sequential": [
            [
             0,
             "#0d0887"
            ],
            [
             0.1111111111111111,
             "#46039f"
            ],
            [
             0.2222222222222222,
             "#7201a8"
            ],
            [
             0.3333333333333333,
             "#9c179e"
            ],
            [
             0.4444444444444444,
             "#bd3786"
            ],
            [
             0.5555555555555556,
             "#d8576b"
            ],
            [
             0.6666666666666666,
             "#ed7953"
            ],
            [
             0.7777777777777778,
             "#fb9f3a"
            ],
            [
             0.8888888888888888,
             "#fdca26"
            ],
            [
             1,
             "#f0f921"
            ]
           ],
           "sequentialminus": [
            [
             0,
             "#0d0887"
            ],
            [
             0.1111111111111111,
             "#46039f"
            ],
            [
             0.2222222222222222,
             "#7201a8"
            ],
            [
             0.3333333333333333,
             "#9c179e"
            ],
            [
             0.4444444444444444,
             "#bd3786"
            ],
            [
             0.5555555555555556,
             "#d8576b"
            ],
            [
             0.6666666666666666,
             "#ed7953"
            ],
            [
             0.7777777777777778,
             "#fb9f3a"
            ],
            [
             0.8888888888888888,
             "#fdca26"
            ],
            [
             1,
             "#f0f921"
            ]
           ]
          },
          "colorway": [
           "#636efa",
           "#EF553B",
           "#00cc96",
           "#ab63fa",
           "#FFA15A",
           "#19d3f3",
           "#FF6692",
           "#B6E880",
           "#FF97FF",
           "#FECB52"
          ],
          "font": {
           "color": "#2a3f5f"
          },
          "geo": {
           "bgcolor": "white",
           "lakecolor": "white",
           "landcolor": "#E5ECF6",
           "showlakes": true,
           "showland": true,
           "subunitcolor": "white"
          },
          "hoverlabel": {
           "align": "left"
          },
          "hovermode": "closest",
          "mapbox": {
           "style": "light"
          },
          "paper_bgcolor": "white",
          "plot_bgcolor": "#E5ECF6",
          "polar": {
           "angularaxis": {
            "gridcolor": "white",
            "linecolor": "white",
            "ticks": ""
           },
           "bgcolor": "#E5ECF6",
           "radialaxis": {
            "gridcolor": "white",
            "linecolor": "white",
            "ticks": ""
           }
          },
          "scene": {
           "xaxis": {
            "backgroundcolor": "#E5ECF6",
            "gridcolor": "white",
            "gridwidth": 2,
            "linecolor": "white",
            "showbackground": true,
            "ticks": "",
            "zerolinecolor": "white"
           },
           "yaxis": {
            "backgroundcolor": "#E5ECF6",
            "gridcolor": "white",
            "gridwidth": 2,
            "linecolor": "white",
            "showbackground": true,
            "ticks": "",
            "zerolinecolor": "white"
           },
           "zaxis": {
            "backgroundcolor": "#E5ECF6",
            "gridcolor": "white",
            "gridwidth": 2,
            "linecolor": "white",
            "showbackground": true,
            "ticks": "",
            "zerolinecolor": "white"
           }
          },
          "shapedefaults": {
           "line": {
            "color": "#2a3f5f"
           }
          },
          "ternary": {
           "aaxis": {
            "gridcolor": "white",
            "linecolor": "white",
            "ticks": ""
           },
           "baxis": {
            "gridcolor": "white",
            "linecolor": "white",
            "ticks": ""
           },
           "bgcolor": "#E5ECF6",
           "caxis": {
            "gridcolor": "white",
            "linecolor": "white",
            "ticks": ""
           }
          },
          "title": {
           "x": 0.05
          },
          "xaxis": {
           "automargin": true,
           "gridcolor": "white",
           "linecolor": "white",
           "ticks": "",
           "zerolinecolor": "white",
           "zerolinewidth": 2
          },
          "yaxis": {
           "automargin": true,
           "gridcolor": "white",
           "linecolor": "white",
           "ticks": "",
           "zerolinecolor": "white",
           "zerolinewidth": 2
          }
         }
        }
       }
      },
      "text/html": [
       "<div>\n",
       "        \n",
       "        \n",
       "            <div id=\"44687a55-180e-4356-9fc0-103cd36ef053\" class=\"plotly-graph-div\" style=\"height:525px; width:100%;\"></div>\n",
       "            <script type=\"text/javascript\">\n",
       "                require([\"plotly\"], function(Plotly) {\n",
       "                    window.PLOTLYENV=window.PLOTLYENV || {};\n",
       "                    \n",
       "                if (document.getElementById(\"44687a55-180e-4356-9fc0-103cd36ef053\")) {\n",
       "                    Plotly.newPlot(\n",
       "                        '44687a55-180e-4356-9fc0-103cd36ef053',\n",
       "                        [{\"type\": \"funnel\", \"x\": [7419, 4201, 1767, 454], \"y\": [\"MainScreenAppear\", \"OffersScreenAppear\", \"CartScreenAppear\", \"PaymentScreenSuccessful\"]}],\n",
       "                        {\"template\": {\"data\": {\"bar\": [{\"error_x\": {\"color\": \"#2a3f5f\"}, \"error_y\": {\"color\": \"#2a3f5f\"}, \"marker\": {\"line\": {\"color\": \"#E5ECF6\", \"width\": 0.5}}, \"type\": \"bar\"}], \"barpolar\": [{\"marker\": {\"line\": {\"color\": \"#E5ECF6\", \"width\": 0.5}}, \"type\": \"barpolar\"}], \"carpet\": [{\"aaxis\": {\"endlinecolor\": \"#2a3f5f\", \"gridcolor\": \"white\", \"linecolor\": \"white\", \"minorgridcolor\": \"white\", \"startlinecolor\": \"#2a3f5f\"}, \"baxis\": {\"endlinecolor\": \"#2a3f5f\", \"gridcolor\": \"white\", \"linecolor\": \"white\", \"minorgridcolor\": \"white\", \"startlinecolor\": \"#2a3f5f\"}, \"type\": \"carpet\"}], \"choropleth\": [{\"colorbar\": {\"outlinewidth\": 0, \"ticks\": \"\"}, \"type\": \"choropleth\"}], \"contour\": [{\"colorbar\": {\"outlinewidth\": 0, \"ticks\": \"\"}, \"colorscale\": [[0.0, \"#0d0887\"], [0.1111111111111111, \"#46039f\"], [0.2222222222222222, \"#7201a8\"], [0.3333333333333333, \"#9c179e\"], [0.4444444444444444, \"#bd3786\"], [0.5555555555555556, \"#d8576b\"], [0.6666666666666666, \"#ed7953\"], [0.7777777777777778, \"#fb9f3a\"], [0.8888888888888888, \"#fdca26\"], [1.0, \"#f0f921\"]], \"type\": \"contour\"}], \"contourcarpet\": [{\"colorbar\": {\"outlinewidth\": 0, \"ticks\": \"\"}, \"type\": \"contourcarpet\"}], \"heatmap\": [{\"colorbar\": {\"outlinewidth\": 0, \"ticks\": \"\"}, \"colorscale\": [[0.0, \"#0d0887\"], [0.1111111111111111, \"#46039f\"], [0.2222222222222222, \"#7201a8\"], [0.3333333333333333, \"#9c179e\"], [0.4444444444444444, \"#bd3786\"], [0.5555555555555556, \"#d8576b\"], [0.6666666666666666, \"#ed7953\"], [0.7777777777777778, \"#fb9f3a\"], [0.8888888888888888, \"#fdca26\"], [1.0, \"#f0f921\"]], \"type\": \"heatmap\"}], \"heatmapgl\": [{\"colorbar\": {\"outlinewidth\": 0, \"ticks\": \"\"}, \"colorscale\": [[0.0, \"#0d0887\"], [0.1111111111111111, \"#46039f\"], [0.2222222222222222, \"#7201a8\"], [0.3333333333333333, \"#9c179e\"], [0.4444444444444444, \"#bd3786\"], [0.5555555555555556, \"#d8576b\"], [0.6666666666666666, \"#ed7953\"], [0.7777777777777778, \"#fb9f3a\"], [0.8888888888888888, \"#fdca26\"], [1.0, \"#f0f921\"]], \"type\": \"heatmapgl\"}], \"histogram\": [{\"marker\": {\"colorbar\": {\"outlinewidth\": 0, \"ticks\": \"\"}}, \"type\": \"histogram\"}], \"histogram2d\": [{\"colorbar\": {\"outlinewidth\": 0, \"ticks\": \"\"}, \"colorscale\": [[0.0, \"#0d0887\"], [0.1111111111111111, \"#46039f\"], [0.2222222222222222, \"#7201a8\"], [0.3333333333333333, \"#9c179e\"], [0.4444444444444444, \"#bd3786\"], [0.5555555555555556, \"#d8576b\"], [0.6666666666666666, \"#ed7953\"], [0.7777777777777778, \"#fb9f3a\"], [0.8888888888888888, \"#fdca26\"], [1.0, \"#f0f921\"]], \"type\": \"histogram2d\"}], \"histogram2dcontour\": [{\"colorbar\": {\"outlinewidth\": 0, \"ticks\": \"\"}, \"colorscale\": [[0.0, \"#0d0887\"], [0.1111111111111111, \"#46039f\"], [0.2222222222222222, \"#7201a8\"], [0.3333333333333333, \"#9c179e\"], [0.4444444444444444, \"#bd3786\"], [0.5555555555555556, \"#d8576b\"], [0.6666666666666666, \"#ed7953\"], [0.7777777777777778, \"#fb9f3a\"], [0.8888888888888888, \"#fdca26\"], [1.0, \"#f0f921\"]], \"type\": \"histogram2dcontour\"}], \"mesh3d\": [{\"colorbar\": {\"outlinewidth\": 0, \"ticks\": \"\"}, \"type\": \"mesh3d\"}], \"parcoords\": [{\"line\": {\"colorbar\": {\"outlinewidth\": 0, \"ticks\": \"\"}}, \"type\": \"parcoords\"}], \"scatter\": [{\"marker\": {\"colorbar\": {\"outlinewidth\": 0, \"ticks\": \"\"}}, \"type\": \"scatter\"}], \"scatter3d\": [{\"line\": {\"colorbar\": {\"outlinewidth\": 0, \"ticks\": \"\"}}, \"marker\": {\"colorbar\": {\"outlinewidth\": 0, \"ticks\": \"\"}}, \"type\": \"scatter3d\"}], \"scattercarpet\": [{\"marker\": {\"colorbar\": {\"outlinewidth\": 0, \"ticks\": \"\"}}, \"type\": \"scattercarpet\"}], \"scattergeo\": [{\"marker\": {\"colorbar\": {\"outlinewidth\": 0, \"ticks\": \"\"}}, \"type\": \"scattergeo\"}], \"scattergl\": [{\"marker\": {\"colorbar\": {\"outlinewidth\": 0, \"ticks\": \"\"}}, \"type\": \"scattergl\"}], \"scattermapbox\": [{\"marker\": {\"colorbar\": {\"outlinewidth\": 0, \"ticks\": \"\"}}, \"type\": \"scattermapbox\"}], \"scatterpolar\": [{\"marker\": {\"colorbar\": {\"outlinewidth\": 0, \"ticks\": \"\"}}, \"type\": \"scatterpolar\"}], \"scatterpolargl\": [{\"marker\": {\"colorbar\": {\"outlinewidth\": 0, \"ticks\": \"\"}}, \"type\": \"scatterpolargl\"}], \"scatterternary\": [{\"marker\": {\"colorbar\": {\"outlinewidth\": 0, \"ticks\": \"\"}}, \"type\": \"scatterternary\"}], \"surface\": [{\"colorbar\": {\"outlinewidth\": 0, \"ticks\": \"\"}, \"colorscale\": [[0.0, \"#0d0887\"], [0.1111111111111111, \"#46039f\"], [0.2222222222222222, \"#7201a8\"], [0.3333333333333333, \"#9c179e\"], [0.4444444444444444, \"#bd3786\"], [0.5555555555555556, \"#d8576b\"], [0.6666666666666666, \"#ed7953\"], [0.7777777777777778, \"#fb9f3a\"], [0.8888888888888888, \"#fdca26\"], [1.0, \"#f0f921\"]], \"type\": \"surface\"}], \"table\": [{\"cells\": {\"fill\": {\"color\": \"#EBF0F8\"}, \"line\": {\"color\": \"white\"}}, \"header\": {\"fill\": {\"color\": \"#C8D4E3\"}, \"line\": {\"color\": \"white\"}}, \"type\": \"table\"}]}, \"layout\": {\"annotationdefaults\": {\"arrowcolor\": \"#2a3f5f\", \"arrowhead\": 0, \"arrowwidth\": 1}, \"colorscale\": {\"diverging\": [[0, \"#8e0152\"], [0.1, \"#c51b7d\"], [0.2, \"#de77ae\"], [0.3, \"#f1b6da\"], [0.4, \"#fde0ef\"], [0.5, \"#f7f7f7\"], [0.6, \"#e6f5d0\"], [0.7, \"#b8e186\"], [0.8, \"#7fbc41\"], [0.9, \"#4d9221\"], [1, \"#276419\"]], \"sequential\": [[0.0, \"#0d0887\"], [0.1111111111111111, \"#46039f\"], [0.2222222222222222, \"#7201a8\"], [0.3333333333333333, \"#9c179e\"], [0.4444444444444444, \"#bd3786\"], [0.5555555555555556, \"#d8576b\"], [0.6666666666666666, \"#ed7953\"], [0.7777777777777778, \"#fb9f3a\"], [0.8888888888888888, \"#fdca26\"], [1.0, \"#f0f921\"]], \"sequentialminus\": [[0.0, \"#0d0887\"], [0.1111111111111111, \"#46039f\"], [0.2222222222222222, \"#7201a8\"], [0.3333333333333333, \"#9c179e\"], [0.4444444444444444, \"#bd3786\"], [0.5555555555555556, \"#d8576b\"], [0.6666666666666666, \"#ed7953\"], [0.7777777777777778, \"#fb9f3a\"], [0.8888888888888888, \"#fdca26\"], [1.0, \"#f0f921\"]]}, \"colorway\": [\"#636efa\", \"#EF553B\", \"#00cc96\", \"#ab63fa\", \"#FFA15A\", \"#19d3f3\", \"#FF6692\", \"#B6E880\", \"#FF97FF\", \"#FECB52\"], \"font\": {\"color\": \"#2a3f5f\"}, \"geo\": {\"bgcolor\": \"white\", \"lakecolor\": \"white\", \"landcolor\": \"#E5ECF6\", \"showlakes\": true, \"showland\": true, \"subunitcolor\": \"white\"}, \"hoverlabel\": {\"align\": \"left\"}, \"hovermode\": \"closest\", \"mapbox\": {\"style\": \"light\"}, \"paper_bgcolor\": \"white\", \"plot_bgcolor\": \"#E5ECF6\", \"polar\": {\"angularaxis\": {\"gridcolor\": \"white\", \"linecolor\": \"white\", \"ticks\": \"\"}, \"bgcolor\": \"#E5ECF6\", \"radialaxis\": {\"gridcolor\": \"white\", \"linecolor\": \"white\", \"ticks\": \"\"}}, \"scene\": {\"xaxis\": {\"backgroundcolor\": \"#E5ECF6\", \"gridcolor\": \"white\", \"gridwidth\": 2, \"linecolor\": \"white\", \"showbackground\": true, \"ticks\": \"\", \"zerolinecolor\": \"white\"}, \"yaxis\": {\"backgroundcolor\": \"#E5ECF6\", \"gridcolor\": \"white\", \"gridwidth\": 2, \"linecolor\": \"white\", \"showbackground\": true, \"ticks\": \"\", \"zerolinecolor\": \"white\"}, \"zaxis\": {\"backgroundcolor\": \"#E5ECF6\", \"gridcolor\": \"white\", \"gridwidth\": 2, \"linecolor\": \"white\", \"showbackground\": true, \"ticks\": \"\", \"zerolinecolor\": \"white\"}}, \"shapedefaults\": {\"line\": {\"color\": \"#2a3f5f\"}}, \"ternary\": {\"aaxis\": {\"gridcolor\": \"white\", \"linecolor\": \"white\", \"ticks\": \"\"}, \"baxis\": {\"gridcolor\": \"white\", \"linecolor\": \"white\", \"ticks\": \"\"}, \"bgcolor\": \"#E5ECF6\", \"caxis\": {\"gridcolor\": \"white\", \"linecolor\": \"white\", \"ticks\": \"\"}}, \"title\": {\"x\": 0.05}, \"xaxis\": {\"automargin\": true, \"gridcolor\": \"white\", \"linecolor\": \"white\", \"ticks\": \"\", \"zerolinecolor\": \"white\", \"zerolinewidth\": 2}, \"yaxis\": {\"automargin\": true, \"gridcolor\": \"white\", \"linecolor\": \"white\", \"ticks\": \"\", \"zerolinecolor\": \"white\", \"zerolinewidth\": 2}}}},\n",
       "                        {\"responsive\": true}\n",
       "                    ).then(function(){\n",
       "                            \n",
       "var gd = document.getElementById('44687a55-180e-4356-9fc0-103cd36ef053');\n",
       "var x = new MutationObserver(function (mutations, observer) {{\n",
       "        var display = window.getComputedStyle(gd).display;\n",
       "        if (!display || display === 'none') {{\n",
       "            console.log([gd, 'removed!']);\n",
       "            Plotly.purge(gd);\n",
       "            observer.disconnect();\n",
       "        }}\n",
       "}});\n",
       "\n",
       "// Listen for the removal of the full notebook cells\n",
       "var notebookContainer = gd.closest('#notebook-container');\n",
       "if (notebookContainer) {{\n",
       "    x.observe(notebookContainer, {childList: true});\n",
       "}}\n",
       "\n",
       "// Listen for the clearing of the current output cell\n",
       "var outputEl = gd.closest('.output');\n",
       "if (outputEl) {{\n",
       "    x.observe(outputEl, {childList: true});\n",
       "}}\n",
       "\n",
       "                        })\n",
       "                };\n",
       "                });\n",
       "            </script>\n",
       "        </div>"
      ]
     },
     "metadata": {},
     "output_type": "display_data"
    }
   ],
   "source": [
    "fig = go.Figure(go.Funnel(\n",
    "    y = step_by_step['event_name'],\n",
    "    x = step_by_step['uniq_user']))\n",
    "\n",
    "fig.show()"
   ]
  },
  {
   "cell_type": "markdown",
   "metadata": {},
   "source": [
    "#### Вывод \n",
    "Самый большой % потери клиентов видно с этапа CartScreenAppear на этап PaymentScreenSuccessful. Возможно что-то не так с оплатой картой он-лайн, ведь 74% пользователей прошедших этап CartScreenAppear не проходят этап PaymentScreenSuccessful (это только  6.12% от пользователей, прошедших первый этап)"
   ]
  },
  {
   "cell_type": "markdown",
   "metadata": {},
   "source": [
    "### 4. Анализ результатов эксперимента\n",
    "<a id='Анализ результатов эксперимента'></a>"
   ]
  },
  {
   "cell_type": "markdown",
   "metadata": {},
   "source": [
    "#### 4.1 Сколько пользователей в каждой экспериментальной группе?"
   ]
  },
  {
   "cell_type": "code",
   "execution_count": 37,
   "metadata": {},
   "outputs": [
    {
     "data": {
      "text/html": [
       "<div>\n",
       "<style scoped>\n",
       "    .dataframe tbody tr th:only-of-type {\n",
       "        vertical-align: middle;\n",
       "    }\n",
       "\n",
       "    .dataframe tbody tr th {\n",
       "        vertical-align: top;\n",
       "    }\n",
       "\n",
       "    .dataframe thead th {\n",
       "        text-align: right;\n",
       "    }\n",
       "</style>\n",
       "<table border=\"1\" class=\"dataframe\">\n",
       "  <thead>\n",
       "    <tr style=\"text-align: right;\">\n",
       "      <th></th>\n",
       "      <th>exp_id</th>\n",
       "      <th>device_id_hash</th>\n",
       "    </tr>\n",
       "  </thead>\n",
       "  <tbody>\n",
       "    <tr>\n",
       "      <td>0</td>\n",
       "      <td>246</td>\n",
       "      <td>2484</td>\n",
       "    </tr>\n",
       "    <tr>\n",
       "      <td>1</td>\n",
       "      <td>247</td>\n",
       "      <td>2513</td>\n",
       "    </tr>\n",
       "    <tr>\n",
       "      <td>2</td>\n",
       "      <td>248</td>\n",
       "      <td>2537</td>\n",
       "    </tr>\n",
       "  </tbody>\n",
       "</table>\n",
       "</div>"
      ],
      "text/plain": [
       "   exp_id  device_id_hash\n",
       "0     246            2484\n",
       "1     247            2513\n",
       "2     248            2537"
      ]
     },
     "metadata": {},
     "output_type": "display_data"
    }
   ],
   "source": [
    "uniq_users_in_group = logs_week.groupby('exp_id').agg({'device_id_hash' : 'nunique'}).reset_index()\n",
    "display(uniq_users_in_group)"
   ]
  },
  {
   "cell_type": "markdown",
   "metadata": {},
   "source": [
    "#### 4.2 А/А-тест"
   ]
  },
  {
   "cell_type": "code",
   "execution_count": 38,
   "metadata": {},
   "outputs": [],
   "source": [
    "logs_a1 = logs_week.query('exp_id == 246')\n",
    "logs_a2 = logs_week.query('exp_id == 247')"
   ]
  },
  {
   "cell_type": "code",
   "execution_count": 39,
   "metadata": {},
   "outputs": [
    {
     "data": {
      "text/html": [
       "<div>\n",
       "<style scoped>\n",
       "    .dataframe tbody tr th:only-of-type {\n",
       "        vertical-align: middle;\n",
       "    }\n",
       "\n",
       "    .dataframe tbody tr th {\n",
       "        vertical-align: top;\n",
       "    }\n",
       "\n",
       "    .dataframe thead th {\n",
       "        text-align: right;\n",
       "    }\n",
       "</style>\n",
       "<table border=\"1\" class=\"dataframe\">\n",
       "  <thead>\n",
       "    <tr style=\"text-align: right;\">\n",
       "      <th></th>\n",
       "      <th>event_name</th>\n",
       "      <th>device_id_hash</th>\n",
       "      <th>from_total</th>\n",
       "    </tr>\n",
       "  </thead>\n",
       "  <tbody>\n",
       "    <tr>\n",
       "      <td>0</td>\n",
       "      <td>MainScreenAppear</td>\n",
       "      <td>2450</td>\n",
       "      <td>0.986312</td>\n",
       "    </tr>\n",
       "    <tr>\n",
       "      <td>1</td>\n",
       "      <td>OffersScreenAppear</td>\n",
       "      <td>1542</td>\n",
       "      <td>0.620773</td>\n",
       "    </tr>\n",
       "    <tr>\n",
       "      <td>2</td>\n",
       "      <td>CartScreenAppear</td>\n",
       "      <td>1266</td>\n",
       "      <td>0.509662</td>\n",
       "    </tr>\n",
       "    <tr>\n",
       "      <td>3</td>\n",
       "      <td>PaymentScreenSuccessful</td>\n",
       "      <td>1200</td>\n",
       "      <td>0.483092</td>\n",
       "    </tr>\n",
       "    <tr>\n",
       "      <td>4</td>\n",
       "      <td>Tutorial</td>\n",
       "      <td>278</td>\n",
       "      <td>0.111916</td>\n",
       "    </tr>\n",
       "  </tbody>\n",
       "</table>\n",
       "</div>"
      ],
      "text/plain": [
       "                event_name  device_id_hash  from_total\n",
       "0         MainScreenAppear            2450    0.986312\n",
       "1       OffersScreenAppear            1542    0.620773\n",
       "2         CartScreenAppear            1266    0.509662\n",
       "3  PaymentScreenSuccessful            1200    0.483092\n",
       "4                 Tutorial             278    0.111916"
      ]
     },
     "metadata": {},
     "output_type": "display_data"
    },
    {
     "data": {
      "text/html": [
       "<div>\n",
       "<style scoped>\n",
       "    .dataframe tbody tr th:only-of-type {\n",
       "        vertical-align: middle;\n",
       "    }\n",
       "\n",
       "    .dataframe tbody tr th {\n",
       "        vertical-align: top;\n",
       "    }\n",
       "\n",
       "    .dataframe thead th {\n",
       "        text-align: right;\n",
       "    }\n",
       "</style>\n",
       "<table border=\"1\" class=\"dataframe\">\n",
       "  <thead>\n",
       "    <tr style=\"text-align: right;\">\n",
       "      <th></th>\n",
       "      <th>event_name</th>\n",
       "      <th>device_id_hash</th>\n",
       "      <th>from_total</th>\n",
       "    </tr>\n",
       "  </thead>\n",
       "  <tbody>\n",
       "    <tr>\n",
       "      <td>0</td>\n",
       "      <td>MainScreenAppear</td>\n",
       "      <td>2476</td>\n",
       "      <td>0.985277</td>\n",
       "    </tr>\n",
       "    <tr>\n",
       "      <td>1</td>\n",
       "      <td>OffersScreenAppear</td>\n",
       "      <td>1520</td>\n",
       "      <td>0.604855</td>\n",
       "    </tr>\n",
       "    <tr>\n",
       "      <td>2</td>\n",
       "      <td>CartScreenAppear</td>\n",
       "      <td>1238</td>\n",
       "      <td>0.492638</td>\n",
       "    </tr>\n",
       "    <tr>\n",
       "      <td>3</td>\n",
       "      <td>PaymentScreenSuccessful</td>\n",
       "      <td>1158</td>\n",
       "      <td>0.460804</td>\n",
       "    </tr>\n",
       "    <tr>\n",
       "      <td>4</td>\n",
       "      <td>Tutorial</td>\n",
       "      <td>283</td>\n",
       "      <td>0.112614</td>\n",
       "    </tr>\n",
       "  </tbody>\n",
       "</table>\n",
       "</div>"
      ],
      "text/plain": [
       "                event_name  device_id_hash  from_total\n",
       "0         MainScreenAppear            2476    0.985277\n",
       "1       OffersScreenAppear            1520    0.604855\n",
       "2         CartScreenAppear            1238    0.492638\n",
       "3  PaymentScreenSuccessful            1158    0.460804\n",
       "4                 Tutorial             283    0.112614"
      ]
     },
     "metadata": {},
     "output_type": "display_data"
    }
   ],
   "source": [
    "log_a1_groupby =logs_a1.groupby('event_name').agg({\n",
    "    'device_id_hash' : 'nunique'\n",
    "}).sort_values(by = 'device_id_hash', ascending = False).reset_index()\n",
    "log_a1_groupby['from_total'] = log_a1_groupby['device_id_hash']/ (uniq_users_in_group['device_id_hash'][0])\n",
    "display(log_a1_groupby)\n",
    "\n",
    "\n",
    "log_a2_groupby = logs_a2.groupby('event_name').agg({\n",
    "    'device_id_hash' : 'nunique'\n",
    "}).sort_values(by = 'device_id_hash', ascending = False).reset_index()\n",
    "log_a2_groupby['from_total'] = log_a2_groupby['device_id_hash']/ (uniq_users_in_group['device_id_hash'][1])\n",
    "display(log_a2_groupby)"
   ]
  },
  {
   "cell_type": "markdown",
   "metadata": {},
   "source": [
    "##### Проверяем гипотезу:\n",
    "H0 = между долями пользователей, совершивших каждый из шагов в контрольных группах, нет значимой разницы\n",
    "\n",
    "\n",
    "H1 = между долями пользователей, совершивших каждый из шагов в контрольных группах, есть значимая разница"
   ]
  },
  {
   "cell_type": "code",
   "execution_count": 40,
   "metadata": {},
   "outputs": [
    {
     "name": "stdout",
     "output_type": "stream",
     "text": [
      "p-значение для этапа MainScreenAppear : [0.75705972]\n",
      "Не получилось отвергнуть нулевую гипотезу, нет оснований считать доли разными\n",
      "***\n",
      "p-значение для этапа PaymentScreenSuccessful : [0.11456679]\n",
      "Не получилось отвергнуть нулевую гипотезу, нет оснований считать доли разными\n",
      "***\n",
      "p-значение для этапа CartScreenAppear : [0.22883372]\n",
      "Не получилось отвергнуть нулевую гипотезу, нет оснований считать доли разными\n",
      "***\n",
      "p-значение для этапа OffersScreenAppear : [0.24809546]\n",
      "Не получилось отвергнуть нулевую гипотезу, нет оснований считать доли разными\n",
      "***\n",
      "p-значение для этапа Tutorial : [0.93769962]\n",
      "Не получилось отвергнуть нулевую гипотезу, нет оснований считать доли разными\n",
      "***\n"
     ]
    }
   ],
   "source": [
    "# создаем функцию для проверки гипотез\n",
    "def calculate_dif(a,b,c,d):\n",
    "    alpha = .05 # критический уровень статистической значимости\n",
    "    list_of_event_name = logs['event_name'].unique()\n",
    "    for element in list_of_event_name:\n",
    "        events = np.array([a.query('event_name == @element')['device_id_hash'], \n",
    "                           b.query('event_name == @element')['device_id_hash']])\n",
    "        total = np.array([c, d])\n",
    "    \n",
    "    # прохождение этапа в первой группе:\n",
    "        p1 = events[0]/total[0]\n",
    "\n",
    "    # прохождение этапа во второй группе:\n",
    "        p2 = events[1]/total[1]\n",
    "\n",
    "    # прохождение этапов в комбинированном датасете:\n",
    "        p_combined = (events[0] + events[1]) / (total[0] + total[1])\n",
    "\n",
    "    # разница пропорций в датасетах\n",
    "        difference = p1 - p2\n",
    "\n",
    "    # задаем стандартное нормальное распределение (среднее 0, ст.отклонение 1)\n",
    "        distr = st.norm(0, 1)\n",
    "    \n",
    "    # считаем статистику в ст.отклонениях стандартного нормального распределения\n",
    "        z_value = difference / mth.sqrt(p_combined * (1 - p_combined) * (1/total[0] + 1/total[1]))\n",
    "\n",
    "        p_value = (1 - distr.cdf(abs(z_value)))*2\n",
    "\n",
    "        print('p-значение для этапа', element, ':', p_value)\n",
    "\n",
    "        if (p_value < alpha):\n",
    "            print(\"Отвергаем нулевую гипотезу: между долями есть значимая разница\")\n",
    "        else:\n",
    "            print(\"Не получилось отвергнуть нулевую гипотезу, нет оснований считать доли разными\")\n",
    "        \n",
    "        print('***')\n",
    "    \n",
    "calculate_dif(\n",
    "    log_a1_groupby, \n",
    "    log_a2_groupby, \n",
    "    uniq_users_in_group['device_id_hash'][0], \n",
    "    uniq_users_in_group['device_id_hash'][1]\n",
    ")"
   ]
  },
  {
   "cell_type": "markdown",
   "metadata": {},
   "source": [
    "По итогам проверки можно сделать вывод, что разбиение на группы работает корректно. Нет оснований считать группы 246 и 247 статистически разными."
   ]
  },
  {
   "cell_type": "markdown",
   "metadata": {},
   "source": [
    "#### 4.3 A/A/B тест\n"
   ]
  },
  {
   "cell_type": "markdown",
   "metadata": {},
   "source": [
    "Всего проверяется 12 гипотез о статистической значимости долей в группах 246, 247, 248."
   ]
  },
  {
   "cell_type": "markdown",
   "metadata": {},
   "source": [
    "##### Сравниваем группу 246 (контроль) с группой 248 (тест)\n",
    "\n",
    "##### Проверяем гипотезу:\n",
    "H0 = между долями пользователей, совершивших каждый из шагов в группах, нет значимой разницы\n",
    "\n",
    "\n",
    "H1 = между долями пользователей, совершивших каждый из шагов в группах, есть значимая разница"
   ]
  },
  {
   "cell_type": "code",
   "execution_count": 41,
   "metadata": {},
   "outputs": [
    {
     "data": {
      "text/html": [
       "<div>\n",
       "<style scoped>\n",
       "    .dataframe tbody tr th:only-of-type {\n",
       "        vertical-align: middle;\n",
       "    }\n",
       "\n",
       "    .dataframe tbody tr th {\n",
       "        vertical-align: top;\n",
       "    }\n",
       "\n",
       "    .dataframe thead th {\n",
       "        text-align: right;\n",
       "    }\n",
       "</style>\n",
       "<table border=\"1\" class=\"dataframe\">\n",
       "  <thead>\n",
       "    <tr style=\"text-align: right;\">\n",
       "      <th></th>\n",
       "      <th>event_name</th>\n",
       "      <th>device_id_hash</th>\n",
       "      <th>from_total</th>\n",
       "    </tr>\n",
       "  </thead>\n",
       "  <tbody>\n",
       "    <tr>\n",
       "      <td>0</td>\n",
       "      <td>MainScreenAppear</td>\n",
       "      <td>2493</td>\n",
       "      <td>0.982657</td>\n",
       "    </tr>\n",
       "    <tr>\n",
       "      <td>1</td>\n",
       "      <td>OffersScreenAppear</td>\n",
       "      <td>1531</td>\n",
       "      <td>0.603469</td>\n",
       "    </tr>\n",
       "    <tr>\n",
       "      <td>2</td>\n",
       "      <td>CartScreenAppear</td>\n",
       "      <td>1230</td>\n",
       "      <td>0.484825</td>\n",
       "    </tr>\n",
       "    <tr>\n",
       "      <td>3</td>\n",
       "      <td>PaymentScreenSuccessful</td>\n",
       "      <td>1181</td>\n",
       "      <td>0.465510</td>\n",
       "    </tr>\n",
       "    <tr>\n",
       "      <td>4</td>\n",
       "      <td>Tutorial</td>\n",
       "      <td>279</td>\n",
       "      <td>0.109972</td>\n",
       "    </tr>\n",
       "  </tbody>\n",
       "</table>\n",
       "</div>"
      ],
      "text/plain": [
       "                event_name  device_id_hash  from_total\n",
       "0         MainScreenAppear            2493    0.982657\n",
       "1       OffersScreenAppear            1531    0.603469\n",
       "2         CartScreenAppear            1230    0.484825\n",
       "3  PaymentScreenSuccessful            1181    0.465510\n",
       "4                 Tutorial             279    0.109972"
      ]
     },
     "metadata": {},
     "output_type": "display_data"
    }
   ],
   "source": [
    "logs_b = logs_week.query('exp_id == 248')\n",
    "log_b_groupby = logs_b.groupby('event_name').agg({\n",
    "    'device_id_hash' : 'nunique'\n",
    "}).sort_values(by = 'device_id_hash', ascending = False).reset_index()\n",
    "log_b_groupby['from_total'] = log_b_groupby['device_id_hash']/ (uniq_users_in_group['device_id_hash'][2])\n",
    "display(log_b_groupby)"
   ]
  },
  {
   "cell_type": "code",
   "execution_count": 42,
   "metadata": {},
   "outputs": [
    {
     "name": "stdout",
     "output_type": "stream",
     "text": [
      "p-значение для этапа MainScreenAppear : [0.29497219]\n",
      "Не получилось отвергнуть нулевую гипотезу, нет оснований считать доли разными\n",
      "***\n",
      "p-значение для этапа PaymentScreenSuccessful : [0.21225533]\n",
      "Не получилось отвергнуть нулевую гипотезу, нет оснований считать доли разными\n",
      "***\n",
      "p-значение для этапа CartScreenAppear : [0.07842923]\n",
      "Не получилось отвергнуть нулевую гипотезу, нет оснований считать доли разными\n",
      "***\n",
      "p-значение для этапа OffersScreenAppear : [0.20836205]\n",
      "Не получилось отвергнуть нулевую гипотезу, нет оснований считать доли разными\n",
      "***\n",
      "p-значение для этапа Tutorial : [0.8264294]\n",
      "Не получилось отвергнуть нулевую гипотезу, нет оснований считать доли разными\n",
      "***\n"
     ]
    }
   ],
   "source": [
    "   \n",
    "calculate_dif(\n",
    "    log_a1_groupby, \n",
    "    log_b_groupby, \n",
    "    uniq_users_in_group['device_id_hash'][0], \n",
    "    uniq_users_in_group['device_id_hash'][2]\n",
    ")    "
   ]
  },
  {
   "cell_type": "markdown",
   "metadata": {},
   "source": [
    "##### Сравниваем группу 247 (контроль) с группой 248 (тест)\n",
    "\n",
    "##### Проверяем гипотезу:\n",
    "H0 = между долями пользователей, совершивших каждый из шагов в группах, нет значимой разницы\n",
    "\n",
    "\n",
    "H1 = между долями пользователей, совершивших каждый из шагов в группах, есть значимая разница"
   ]
  },
  {
   "cell_type": "code",
   "execution_count": 43,
   "metadata": {},
   "outputs": [
    {
     "name": "stdout",
     "output_type": "stream",
     "text": [
      "p-значение для этапа MainScreenAppear : [0.45870536]\n",
      "Не получилось отвергнуть нулевую гипотезу, нет оснований считать доли разными\n",
      "***\n",
      "p-значение для этапа PaymentScreenSuccessful : [0.73734151]\n",
      "Не получилось отвергнуть нулевую гипотезу, нет оснований считать доли разными\n",
      "***\n",
      "p-значение для этапа CartScreenAppear : [0.57861979]\n",
      "Не получилось отвергнуть нулевую гипотезу, нет оснований считать доли разными\n",
      "***\n",
      "p-значение для этапа OffersScreenAppear : [0.91978178]\n",
      "Не получилось отвергнуть нулевую гипотезу, нет оснований считать доли разными\n",
      "***\n",
      "p-значение для этапа Tutorial : [0.76532392]\n",
      "Не получилось отвергнуть нулевую гипотезу, нет оснований считать доли разными\n",
      "***\n"
     ]
    }
   ],
   "source": [
    "\n",
    "calculate_dif(\n",
    "    log_a2_groupby, \n",
    "    log_b_groupby, \n",
    "    uniq_users_in_group['device_id_hash'][1], \n",
    "    uniq_users_in_group['device_id_hash'][2]\n",
    ")    "
   ]
  },
  {
   "cell_type": "markdown",
   "metadata": {},
   "source": [
    "##### Сравниваем группу 246+247 (контроль) с группой 248 (тест)\n",
    "\n",
    "##### Проверяем гипотезу:\n",
    "H0 = между долями пользователей, совершивших каждый из шагов в группах, нет значимой разницы\n",
    "\n",
    "\n",
    "H1 = между долями пользователей, совершивших каждый из шагов в группах, есть значимая разница"
   ]
  },
  {
   "cell_type": "code",
   "execution_count": 44,
   "metadata": {},
   "outputs": [
    {
     "data": {
      "text/html": [
       "<div>\n",
       "<style scoped>\n",
       "    .dataframe tbody tr th:only-of-type {\n",
       "        vertical-align: middle;\n",
       "    }\n",
       "\n",
       "    .dataframe tbody tr th {\n",
       "        vertical-align: top;\n",
       "    }\n",
       "\n",
       "    .dataframe thead th {\n",
       "        text-align: right;\n",
       "    }\n",
       "</style>\n",
       "<table border=\"1\" class=\"dataframe\">\n",
       "  <thead>\n",
       "    <tr style=\"text-align: right;\">\n",
       "      <th></th>\n",
       "      <th>event_name</th>\n",
       "      <th>device_id_hash</th>\n",
       "      <th>from_total</th>\n",
       "    </tr>\n",
       "  </thead>\n",
       "  <tbody>\n",
       "    <tr>\n",
       "      <td>0</td>\n",
       "      <td>MainScreenAppear</td>\n",
       "      <td>4926</td>\n",
       "      <td>0.991546</td>\n",
       "    </tr>\n",
       "    <tr>\n",
       "      <td>1</td>\n",
       "      <td>OffersScreenAppear</td>\n",
       "      <td>3062</td>\n",
       "      <td>0.616345</td>\n",
       "    </tr>\n",
       "    <tr>\n",
       "      <td>2</td>\n",
       "      <td>CartScreenAppear</td>\n",
       "      <td>2504</td>\n",
       "      <td>0.504026</td>\n",
       "    </tr>\n",
       "    <tr>\n",
       "      <td>3</td>\n",
       "      <td>PaymentScreenSuccessful</td>\n",
       "      <td>2358</td>\n",
       "      <td>0.474638</td>\n",
       "    </tr>\n",
       "    <tr>\n",
       "      <td>4</td>\n",
       "      <td>Tutorial</td>\n",
       "      <td>561</td>\n",
       "      <td>0.112923</td>\n",
       "    </tr>\n",
       "  </tbody>\n",
       "</table>\n",
       "</div>"
      ],
      "text/plain": [
       "                event_name  device_id_hash  from_total\n",
       "0         MainScreenAppear            4926    0.991546\n",
       "1       OffersScreenAppear            3062    0.616345\n",
       "2         CartScreenAppear            2504    0.504026\n",
       "3  PaymentScreenSuccessful            2358    0.474638\n",
       "4                 Tutorial             561    0.112923"
      ]
     },
     "metadata": {},
     "output_type": "display_data"
    }
   ],
   "source": [
    "logs_a = logs_week.query('exp_id != 248')\n",
    "log_a_groupby = logs_a.groupby('event_name').agg({\n",
    "    'device_id_hash' : 'nunique'\n",
    "}).sort_values(by = 'device_id_hash', ascending = False).reset_index()\n",
    "log_a_groupby['from_total'] = log_a_groupby['device_id_hash']/ (uniq_users_in_group['device_id_hash'][0] + uniq_users_in_group['device_id_hash'][0])\n",
    "display(log_a_groupby)"
   ]
  },
  {
   "cell_type": "code",
   "execution_count": 45,
   "metadata": {},
   "outputs": [
    {
     "name": "stdout",
     "output_type": "stream",
     "text": [
      "p-значение для этапа MainScreenAppear : [0.29424527]\n",
      "Не получилось отвергнуть нулевую гипотезу, нет оснований считать доли разными\n",
      "***\n",
      "p-значение для этапа PaymentScreenSuccessful : [0.60042943]\n",
      "Не получилось отвергнуть нулевую гипотезу, нет оснований считать доли разными\n",
      "***\n",
      "p-значение для этапа CartScreenAppear : [0.18175875]\n",
      "Не получилось отвергнуть нулевую гипотезу, нет оснований считать доли разными\n",
      "***\n",
      "p-значение для этапа OffersScreenAppear : [0.4342555]\n",
      "Не получилось отвергнуть нулевую гипотезу, нет оснований считать доли разными\n",
      "***\n",
      "p-значение для этапа Tutorial : [0.76486247]\n",
      "Не получилось отвергнуть нулевую гипотезу, нет оснований считать доли разными\n",
      "***\n"
     ]
    }
   ],
   "source": [
    "\n",
    "calculate_dif(\n",
    "    log_a_groupby, \n",
    "    log_b_groupby, \n",
    "    (uniq_users_in_group['device_id_hash'][1] + uniq_users_in_group['device_id_hash'][0]), \n",
    "    uniq_users_in_group['device_id_hash'][2]\n",
    ")    "
   ]
  },
  {
   "cell_type": "markdown",
   "metadata": {},
   "source": [
    "#### Вывод\n",
    "По итогам A/A/B теста не получилось найти статистически значимой разницы ни по одной из 12 гипоз между группами 246,247 и 248 при выбранном значеннии порога статистической значимсоти в 0.01. \n",
    "Тоже наблюдаемм при повышении уровня значимости до 0.05."
   ]
  },
  {
   "cell_type": "markdown",
   "metadata": {},
   "source": [
    "### Выводы\n",
    "1. В данных нет пропусков. В данных обнаружено и удалено 413 дубликатов.\n",
    "2. Всего в логе 243713 событий. Всего уникальных событий - 5. В среднем на каждого пользователя приходится 32 события.\n",
    "3. В логах хранятся события за период 2019-07-25 - 2019-08-07 (14 дней). При этом за период 2019-07-25 - 2019-07-31 данные не выглядят полными. Их слишком мало. Фактически анализируемый период принят 2019-08-01 - 2019-08-07. \n",
    "4. Исключив первую неделю из исследования, убрали 1.2% данных. После удаления данных остались пользователи всех трех групп. Разница между количеством пользоателей до удаления данных и после не превышает 0.3%\n",
    "5. Исходя из анализа данных, предполагаю такую последовательность прохождения этапов для пользователя: \"MainScreenAppear\", \"OffersScreenAppear\", \"CartScreenAppear\", \"PaymentScreenSuccessful\". \n",
    "    Количество посетителей, проходящих этапы последовательно, равны:\n",
    "    - \"MainScreenAppear\": 7419\n",
    "    - \"OffersScreenAppear\" 4201\n",
    "    - \"CartScreenAppear\": 1767\n",
    "    - \"PaymentScreenSuccessful\" 454\n",
    "6. Самый большой % потери клиентов видно с этапа CartScreenAppear на этап PaymentScreenSuccessful. Возможно что-то не так с оплатой картой он-лайн, ведь 74% пользователей прошедших этап CartScreenAppear не проходят этап PaymentScreenSuccessful (это только 6.12% от пользователей, прошедших первый этап) \n",
    "7. По результатам А/А-теста статистической разницы между группами не выявлено.\n",
    "8. По результатам А/А/В- теста  не получилось найти статистически значимой разницы ни по одной из 12 гипотез между группами 246,247 и 248 при выбранном значеннии порога статистической значимсоти в 0.01 и 0.05.\n",
    "9. Результаты тестов показывают, что можно смело менять шрифты (или не менять) - пользователи не изменят свое поведение.\n"
   ]
  },
  {
   "cell_type": "code",
   "execution_count": null,
   "metadata": {},
   "outputs": [],
   "source": []
  }
 ],
 "metadata": {
  "kernelspec": {
   "display_name": "Python 3",
   "language": "python",
   "name": "python3"
  },
  "language_info": {
   "codemirror_mode": {
    "name": "ipython",
    "version": 3
   },
   "file_extension": ".py",
   "mimetype": "text/x-python",
   "name": "python",
   "nbconvert_exporter": "python",
   "pygments_lexer": "ipython3",
   "version": "3.7.6"
  }
 },
 "nbformat": 4,
 "nbformat_minor": 2
}
