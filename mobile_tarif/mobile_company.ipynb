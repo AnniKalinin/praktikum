{
 "cells": [
  {
   "cell_type": "markdown",
   "metadata": {},
   "source": [
    "# Определение перспективного тарифа для телеком компании\n",
    "\n",
    "Задача: \n",
    "Определить, какой тариф приносит больше денег. Сделать предварительный анализ тарифов на небольшой выборке клиентов. Проанализировать поведение клиентов. Предложить оптимальный набор услуг \n",
    "\n",
    "Даннные от 500 пользователей за 2018 год: \n",
    "\n",
    "- Таблица users (информация о пользователях)\n",
    "- Таблица calls (информация о звонках)\n",
    "- Таблица messages (информация о сообщениях)\n",
    "- Таблица internet (информация об интернет-сессиях)\n",
    "- Таблица tariffs (информация о тарифах)"
   ]
  },
  {
   "cell_type": "markdown",
   "metadata": {},
   "source": [
    "## 1. Изучение общей информации"
   ]
  },
  {
   "cell_type": "code",
   "execution_count": 1,
   "metadata": {},
   "outputs": [],
   "source": [
    "import pandas as pd\n",
    "import numpy as np\n",
    "from scipy import stats as st\n",
    "import matplotlib.pyplot as plt\n",
    "import datetime as dt\n",
    "from math import *"
   ]
  },
  {
   "cell_type": "code",
   "execution_count": 2,
   "metadata": {},
   "outputs": [
    {
     "data": {
      "text/html": [
       "<div>\n",
       "<style scoped>\n",
       "    .dataframe tbody tr th:only-of-type {\n",
       "        vertical-align: middle;\n",
       "    }\n",
       "\n",
       "    .dataframe tbody tr th {\n",
       "        vertical-align: top;\n",
       "    }\n",
       "\n",
       "    .dataframe thead th {\n",
       "        text-align: right;\n",
       "    }\n",
       "</style>\n",
       "<table border=\"1\" class=\"dataframe\">\n",
       "  <thead>\n",
       "    <tr style=\"text-align: right;\">\n",
       "      <th></th>\n",
       "      <th>id</th>\n",
       "      <th>call_date</th>\n",
       "      <th>duration</th>\n",
       "      <th>user_id</th>\n",
       "    </tr>\n",
       "  </thead>\n",
       "  <tbody>\n",
       "    <tr>\n",
       "      <td>0</td>\n",
       "      <td>1000_0</td>\n",
       "      <td>2018-07-25</td>\n",
       "      <td>0.00</td>\n",
       "      <td>1000</td>\n",
       "    </tr>\n",
       "    <tr>\n",
       "      <td>1</td>\n",
       "      <td>1000_1</td>\n",
       "      <td>2018-08-17</td>\n",
       "      <td>0.00</td>\n",
       "      <td>1000</td>\n",
       "    </tr>\n",
       "    <tr>\n",
       "      <td>2</td>\n",
       "      <td>1000_2</td>\n",
       "      <td>2018-06-11</td>\n",
       "      <td>2.85</td>\n",
       "      <td>1000</td>\n",
       "    </tr>\n",
       "    <tr>\n",
       "      <td>3</td>\n",
       "      <td>1000_3</td>\n",
       "      <td>2018-09-21</td>\n",
       "      <td>13.80</td>\n",
       "      <td>1000</td>\n",
       "    </tr>\n",
       "    <tr>\n",
       "      <td>4</td>\n",
       "      <td>1000_4</td>\n",
       "      <td>2018-12-15</td>\n",
       "      <td>5.18</td>\n",
       "      <td>1000</td>\n",
       "    </tr>\n",
       "  </tbody>\n",
       "</table>\n",
       "</div>"
      ],
      "text/plain": [
       "       id   call_date  duration  user_id\n",
       "0  1000_0  2018-07-25      0.00     1000\n",
       "1  1000_1  2018-08-17      0.00     1000\n",
       "2  1000_2  2018-06-11      2.85     1000\n",
       "3  1000_3  2018-09-21     13.80     1000\n",
       "4  1000_4  2018-12-15      5.18     1000"
      ]
     },
     "metadata": {},
     "output_type": "display_data"
    },
    {
     "name": "stdout",
     "output_type": "stream",
     "text": [
      "<class 'pandas.core.frame.DataFrame'>\n",
      "RangeIndex: 202607 entries, 0 to 202606\n",
      "Data columns (total 4 columns):\n",
      "id           202607 non-null object\n",
      "call_date    202607 non-null object\n",
      "duration     202607 non-null float64\n",
      "user_id      202607 non-null int64\n",
      "dtypes: float64(1), int64(1), object(2)\n",
      "memory usage: 6.2+ MB\n"
     ]
    },
    {
     "data": {
      "text/html": [
       "<div>\n",
       "<style scoped>\n",
       "    .dataframe tbody tr th:only-of-type {\n",
       "        vertical-align: middle;\n",
       "    }\n",
       "\n",
       "    .dataframe tbody tr th {\n",
       "        vertical-align: top;\n",
       "    }\n",
       "\n",
       "    .dataframe thead th {\n",
       "        text-align: right;\n",
       "    }\n",
       "</style>\n",
       "<table border=\"1\" class=\"dataframe\">\n",
       "  <thead>\n",
       "    <tr style=\"text-align: right;\">\n",
       "      <th></th>\n",
       "      <th>duration</th>\n",
       "      <th>user_id</th>\n",
       "    </tr>\n",
       "  </thead>\n",
       "  <tbody>\n",
       "    <tr>\n",
       "      <td>count</td>\n",
       "      <td>202607.000000</td>\n",
       "      <td>202607.000000</td>\n",
       "    </tr>\n",
       "    <tr>\n",
       "      <td>mean</td>\n",
       "      <td>6.755887</td>\n",
       "      <td>1253.940619</td>\n",
       "    </tr>\n",
       "    <tr>\n",
       "      <td>std</td>\n",
       "      <td>5.843365</td>\n",
       "      <td>144.722751</td>\n",
       "    </tr>\n",
       "    <tr>\n",
       "      <td>min</td>\n",
       "      <td>0.000000</td>\n",
       "      <td>1000.000000</td>\n",
       "    </tr>\n",
       "    <tr>\n",
       "      <td>25%</td>\n",
       "      <td>1.300000</td>\n",
       "      <td>1126.000000</td>\n",
       "    </tr>\n",
       "    <tr>\n",
       "      <td>50%</td>\n",
       "      <td>6.000000</td>\n",
       "      <td>1260.000000</td>\n",
       "    </tr>\n",
       "    <tr>\n",
       "      <td>75%</td>\n",
       "      <td>10.700000</td>\n",
       "      <td>1379.000000</td>\n",
       "    </tr>\n",
       "    <tr>\n",
       "      <td>max</td>\n",
       "      <td>38.000000</td>\n",
       "      <td>1499.000000</td>\n",
       "    </tr>\n",
       "  </tbody>\n",
       "</table>\n",
       "</div>"
      ],
      "text/plain": [
       "            duration        user_id\n",
       "count  202607.000000  202607.000000\n",
       "mean        6.755887    1253.940619\n",
       "std         5.843365     144.722751\n",
       "min         0.000000    1000.000000\n",
       "25%         1.300000    1126.000000\n",
       "50%         6.000000    1260.000000\n",
       "75%        10.700000    1379.000000\n",
       "max        38.000000    1499.000000"
      ]
     },
     "execution_count": 2,
     "metadata": {},
     "output_type": "execute_result"
    }
   ],
   "source": [
    "data_calls = pd.read_csv('/datasets/calls.csv')\n",
    "display(data_calls.head())\n",
    "data_calls.info()\n",
    "data_calls.describe()"
   ]
  },
  {
   "cell_type": "code",
   "execution_count": 3,
   "metadata": {},
   "outputs": [
    {
     "data": {
      "text/html": [
       "<div>\n",
       "<style scoped>\n",
       "    .dataframe tbody tr th:only-of-type {\n",
       "        vertical-align: middle;\n",
       "    }\n",
       "\n",
       "    .dataframe tbody tr th {\n",
       "        vertical-align: top;\n",
       "    }\n",
       "\n",
       "    .dataframe thead th {\n",
       "        text-align: right;\n",
       "    }\n",
       "</style>\n",
       "<table border=\"1\" class=\"dataframe\">\n",
       "  <thead>\n",
       "    <tr style=\"text-align: right;\">\n",
       "      <th></th>\n",
       "      <th>Unnamed: 0</th>\n",
       "      <th>id</th>\n",
       "      <th>mb_used</th>\n",
       "      <th>session_date</th>\n",
       "      <th>user_id</th>\n",
       "    </tr>\n",
       "  </thead>\n",
       "  <tbody>\n",
       "    <tr>\n",
       "      <td>0</td>\n",
       "      <td>0</td>\n",
       "      <td>1000_0</td>\n",
       "      <td>112.95</td>\n",
       "      <td>2018-11-25</td>\n",
       "      <td>1000</td>\n",
       "    </tr>\n",
       "    <tr>\n",
       "      <td>1</td>\n",
       "      <td>1</td>\n",
       "      <td>1000_1</td>\n",
       "      <td>1052.81</td>\n",
       "      <td>2018-09-07</td>\n",
       "      <td>1000</td>\n",
       "    </tr>\n",
       "    <tr>\n",
       "      <td>2</td>\n",
       "      <td>2</td>\n",
       "      <td>1000_2</td>\n",
       "      <td>1197.26</td>\n",
       "      <td>2018-06-25</td>\n",
       "      <td>1000</td>\n",
       "    </tr>\n",
       "    <tr>\n",
       "      <td>3</td>\n",
       "      <td>3</td>\n",
       "      <td>1000_3</td>\n",
       "      <td>550.27</td>\n",
       "      <td>2018-08-22</td>\n",
       "      <td>1000</td>\n",
       "    </tr>\n",
       "    <tr>\n",
       "      <td>4</td>\n",
       "      <td>4</td>\n",
       "      <td>1000_4</td>\n",
       "      <td>302.56</td>\n",
       "      <td>2018-09-24</td>\n",
       "      <td>1000</td>\n",
       "    </tr>\n",
       "  </tbody>\n",
       "</table>\n",
       "</div>"
      ],
      "text/plain": [
       "   Unnamed: 0      id  mb_used session_date  user_id\n",
       "0           0  1000_0   112.95   2018-11-25     1000\n",
       "1           1  1000_1  1052.81   2018-09-07     1000\n",
       "2           2  1000_2  1197.26   2018-06-25     1000\n",
       "3           3  1000_3   550.27   2018-08-22     1000\n",
       "4           4  1000_4   302.56   2018-09-24     1000"
      ]
     },
     "metadata": {},
     "output_type": "display_data"
    },
    {
     "name": "stdout",
     "output_type": "stream",
     "text": [
      "<class 'pandas.core.frame.DataFrame'>\n",
      "RangeIndex: 149396 entries, 0 to 149395\n",
      "Data columns (total 5 columns):\n",
      "Unnamed: 0      149396 non-null int64\n",
      "id              149396 non-null object\n",
      "mb_used         149396 non-null float64\n",
      "session_date    149396 non-null object\n",
      "user_id         149396 non-null int64\n",
      "dtypes: float64(1), int64(2), object(2)\n",
      "memory usage: 5.7+ MB\n"
     ]
    },
    {
     "data": {
      "text/html": [
       "<div>\n",
       "<style scoped>\n",
       "    .dataframe tbody tr th:only-of-type {\n",
       "        vertical-align: middle;\n",
       "    }\n",
       "\n",
       "    .dataframe tbody tr th {\n",
       "        vertical-align: top;\n",
       "    }\n",
       "\n",
       "    .dataframe thead th {\n",
       "        text-align: right;\n",
       "    }\n",
       "</style>\n",
       "<table border=\"1\" class=\"dataframe\">\n",
       "  <thead>\n",
       "    <tr style=\"text-align: right;\">\n",
       "      <th></th>\n",
       "      <th>Unnamed: 0</th>\n",
       "      <th>mb_used</th>\n",
       "      <th>user_id</th>\n",
       "    </tr>\n",
       "  </thead>\n",
       "  <tbody>\n",
       "    <tr>\n",
       "      <td>count</td>\n",
       "      <td>149396.000000</td>\n",
       "      <td>149396.000000</td>\n",
       "      <td>149396.000000</td>\n",
       "    </tr>\n",
       "    <tr>\n",
       "      <td>mean</td>\n",
       "      <td>74697.500000</td>\n",
       "      <td>370.192426</td>\n",
       "      <td>1252.099842</td>\n",
       "    </tr>\n",
       "    <tr>\n",
       "      <td>std</td>\n",
       "      <td>43127.054745</td>\n",
       "      <td>278.300951</td>\n",
       "      <td>144.050823</td>\n",
       "    </tr>\n",
       "    <tr>\n",
       "      <td>min</td>\n",
       "      <td>0.000000</td>\n",
       "      <td>0.000000</td>\n",
       "      <td>1000.000000</td>\n",
       "    </tr>\n",
       "    <tr>\n",
       "      <td>25%</td>\n",
       "      <td>37348.750000</td>\n",
       "      <td>138.187500</td>\n",
       "      <td>1130.000000</td>\n",
       "    </tr>\n",
       "    <tr>\n",
       "      <td>50%</td>\n",
       "      <td>74697.500000</td>\n",
       "      <td>348.015000</td>\n",
       "      <td>1251.000000</td>\n",
       "    </tr>\n",
       "    <tr>\n",
       "      <td>75%</td>\n",
       "      <td>112046.250000</td>\n",
       "      <td>559.552500</td>\n",
       "      <td>1380.000000</td>\n",
       "    </tr>\n",
       "    <tr>\n",
       "      <td>max</td>\n",
       "      <td>149395.000000</td>\n",
       "      <td>1724.830000</td>\n",
       "      <td>1499.000000</td>\n",
       "    </tr>\n",
       "  </tbody>\n",
       "</table>\n",
       "</div>"
      ],
      "text/plain": [
       "          Unnamed: 0        mb_used        user_id\n",
       "count  149396.000000  149396.000000  149396.000000\n",
       "mean    74697.500000     370.192426    1252.099842\n",
       "std     43127.054745     278.300951     144.050823\n",
       "min         0.000000       0.000000    1000.000000\n",
       "25%     37348.750000     138.187500    1130.000000\n",
       "50%     74697.500000     348.015000    1251.000000\n",
       "75%    112046.250000     559.552500    1380.000000\n",
       "max    149395.000000    1724.830000    1499.000000"
      ]
     },
     "execution_count": 3,
     "metadata": {},
     "output_type": "execute_result"
    }
   ],
   "source": [
    "data_internet = pd.read_csv('/datasets/internet.csv')\n",
    "display(data_internet.head())\n",
    "data_internet.info()\n",
    "data_internet.describe()"
   ]
  },
  {
   "cell_type": "code",
   "execution_count": 4,
   "metadata": {},
   "outputs": [
    {
     "data": {
      "text/html": [
       "<div>\n",
       "<style scoped>\n",
       "    .dataframe tbody tr th:only-of-type {\n",
       "        vertical-align: middle;\n",
       "    }\n",
       "\n",
       "    .dataframe tbody tr th {\n",
       "        vertical-align: top;\n",
       "    }\n",
       "\n",
       "    .dataframe thead th {\n",
       "        text-align: right;\n",
       "    }\n",
       "</style>\n",
       "<table border=\"1\" class=\"dataframe\">\n",
       "  <thead>\n",
       "    <tr style=\"text-align: right;\">\n",
       "      <th></th>\n",
       "      <th>id</th>\n",
       "      <th>message_date</th>\n",
       "      <th>user_id</th>\n",
       "    </tr>\n",
       "  </thead>\n",
       "  <tbody>\n",
       "    <tr>\n",
       "      <td>0</td>\n",
       "      <td>1000_0</td>\n",
       "      <td>2018-06-27</td>\n",
       "      <td>1000</td>\n",
       "    </tr>\n",
       "    <tr>\n",
       "      <td>1</td>\n",
       "      <td>1000_1</td>\n",
       "      <td>2018-10-08</td>\n",
       "      <td>1000</td>\n",
       "    </tr>\n",
       "    <tr>\n",
       "      <td>2</td>\n",
       "      <td>1000_2</td>\n",
       "      <td>2018-08-04</td>\n",
       "      <td>1000</td>\n",
       "    </tr>\n",
       "    <tr>\n",
       "      <td>3</td>\n",
       "      <td>1000_3</td>\n",
       "      <td>2018-06-16</td>\n",
       "      <td>1000</td>\n",
       "    </tr>\n",
       "    <tr>\n",
       "      <td>4</td>\n",
       "      <td>1000_4</td>\n",
       "      <td>2018-12-05</td>\n",
       "      <td>1000</td>\n",
       "    </tr>\n",
       "  </tbody>\n",
       "</table>\n",
       "</div>"
      ],
      "text/plain": [
       "       id message_date  user_id\n",
       "0  1000_0   2018-06-27     1000\n",
       "1  1000_1   2018-10-08     1000\n",
       "2  1000_2   2018-08-04     1000\n",
       "3  1000_3   2018-06-16     1000\n",
       "4  1000_4   2018-12-05     1000"
      ]
     },
     "metadata": {},
     "output_type": "display_data"
    },
    {
     "name": "stdout",
     "output_type": "stream",
     "text": [
      "<class 'pandas.core.frame.DataFrame'>\n",
      "RangeIndex: 123036 entries, 0 to 123035\n",
      "Data columns (total 3 columns):\n",
      "id              123036 non-null object\n",
      "message_date    123036 non-null object\n",
      "user_id         123036 non-null int64\n",
      "dtypes: int64(1), object(2)\n",
      "memory usage: 2.8+ MB\n"
     ]
    }
   ],
   "source": [
    "data_messages = pd.read_csv('/datasets/messages.csv')\n",
    "display(data_messages.head())\n",
    "data_messages.info()"
   ]
  },
  {
   "cell_type": "code",
   "execution_count": 5,
   "metadata": {},
   "outputs": [
    {
     "data": {
      "text/html": [
       "<div>\n",
       "<style scoped>\n",
       "    .dataframe tbody tr th:only-of-type {\n",
       "        vertical-align: middle;\n",
       "    }\n",
       "\n",
       "    .dataframe tbody tr th {\n",
       "        vertical-align: top;\n",
       "    }\n",
       "\n",
       "    .dataframe thead th {\n",
       "        text-align: right;\n",
       "    }\n",
       "</style>\n",
       "<table border=\"1\" class=\"dataframe\">\n",
       "  <thead>\n",
       "    <tr style=\"text-align: right;\">\n",
       "      <th></th>\n",
       "      <th>messages_included</th>\n",
       "      <th>mb_per_month_included</th>\n",
       "      <th>minutes_included</th>\n",
       "      <th>rub_monthly_fee</th>\n",
       "      <th>rub_per_gb</th>\n",
       "      <th>rub_per_message</th>\n",
       "      <th>rub_per_minute</th>\n",
       "      <th>tariff_name</th>\n",
       "    </tr>\n",
       "  </thead>\n",
       "  <tbody>\n",
       "    <tr>\n",
       "      <td>0</td>\n",
       "      <td>50</td>\n",
       "      <td>15360</td>\n",
       "      <td>500</td>\n",
       "      <td>550</td>\n",
       "      <td>200</td>\n",
       "      <td>3</td>\n",
       "      <td>3</td>\n",
       "      <td>smart</td>\n",
       "    </tr>\n",
       "    <tr>\n",
       "      <td>1</td>\n",
       "      <td>1000</td>\n",
       "      <td>30720</td>\n",
       "      <td>3000</td>\n",
       "      <td>1950</td>\n",
       "      <td>150</td>\n",
       "      <td>1</td>\n",
       "      <td>1</td>\n",
       "      <td>ultra</td>\n",
       "    </tr>\n",
       "  </tbody>\n",
       "</table>\n",
       "</div>"
      ],
      "text/plain": [
       "   messages_included  mb_per_month_included  minutes_included  \\\n",
       "0                 50                  15360               500   \n",
       "1               1000                  30720              3000   \n",
       "\n",
       "   rub_monthly_fee  rub_per_gb  rub_per_message  rub_per_minute tariff_name  \n",
       "0              550         200                3               3       smart  \n",
       "1             1950         150                1               1       ultra  "
      ]
     },
     "metadata": {},
     "output_type": "display_data"
    }
   ],
   "source": [
    "data_tariffs = pd.read_csv('/datasets/tariffs.csv')\n",
    "display(data_tariffs)"
   ]
  },
  {
   "cell_type": "code",
   "execution_count": 6,
   "metadata": {},
   "outputs": [
    {
     "data": {
      "text/html": [
       "<div>\n",
       "<style scoped>\n",
       "    .dataframe tbody tr th:only-of-type {\n",
       "        vertical-align: middle;\n",
       "    }\n",
       "\n",
       "    .dataframe tbody tr th {\n",
       "        vertical-align: top;\n",
       "    }\n",
       "\n",
       "    .dataframe thead th {\n",
       "        text-align: right;\n",
       "    }\n",
       "</style>\n",
       "<table border=\"1\" class=\"dataframe\">\n",
       "  <thead>\n",
       "    <tr style=\"text-align: right;\">\n",
       "      <th></th>\n",
       "      <th>user_id</th>\n",
       "      <th>age</th>\n",
       "      <th>churn_date</th>\n",
       "      <th>city</th>\n",
       "      <th>first_name</th>\n",
       "      <th>last_name</th>\n",
       "      <th>reg_date</th>\n",
       "      <th>tariff</th>\n",
       "    </tr>\n",
       "  </thead>\n",
       "  <tbody>\n",
       "    <tr>\n",
       "      <td>0</td>\n",
       "      <td>1000</td>\n",
       "      <td>52</td>\n",
       "      <td>NaN</td>\n",
       "      <td>Краснодар</td>\n",
       "      <td>Рафаил</td>\n",
       "      <td>Верещагин</td>\n",
       "      <td>2018-05-25</td>\n",
       "      <td>ultra</td>\n",
       "    </tr>\n",
       "    <tr>\n",
       "      <td>1</td>\n",
       "      <td>1001</td>\n",
       "      <td>41</td>\n",
       "      <td>NaN</td>\n",
       "      <td>Москва</td>\n",
       "      <td>Иван</td>\n",
       "      <td>Ежов</td>\n",
       "      <td>2018-11-01</td>\n",
       "      <td>smart</td>\n",
       "    </tr>\n",
       "    <tr>\n",
       "      <td>2</td>\n",
       "      <td>1002</td>\n",
       "      <td>59</td>\n",
       "      <td>NaN</td>\n",
       "      <td>Стерлитамак</td>\n",
       "      <td>Евгений</td>\n",
       "      <td>Абрамович</td>\n",
       "      <td>2018-06-17</td>\n",
       "      <td>smart</td>\n",
       "    </tr>\n",
       "    <tr>\n",
       "      <td>3</td>\n",
       "      <td>1003</td>\n",
       "      <td>23</td>\n",
       "      <td>NaN</td>\n",
       "      <td>Москва</td>\n",
       "      <td>Белла</td>\n",
       "      <td>Белякова</td>\n",
       "      <td>2018-08-17</td>\n",
       "      <td>ultra</td>\n",
       "    </tr>\n",
       "    <tr>\n",
       "      <td>4</td>\n",
       "      <td>1004</td>\n",
       "      <td>68</td>\n",
       "      <td>NaN</td>\n",
       "      <td>Новокузнецк</td>\n",
       "      <td>Татьяна</td>\n",
       "      <td>Авдеенко</td>\n",
       "      <td>2018-05-14</td>\n",
       "      <td>ultra</td>\n",
       "    </tr>\n",
       "  </tbody>\n",
       "</table>\n",
       "</div>"
      ],
      "text/plain": [
       "   user_id  age churn_date         city first_name  last_name    reg_date  \\\n",
       "0     1000   52        NaN    Краснодар     Рафаил  Верещагин  2018-05-25   \n",
       "1     1001   41        NaN       Москва       Иван       Ежов  2018-11-01   \n",
       "2     1002   59        NaN  Стерлитамак    Евгений  Абрамович  2018-06-17   \n",
       "3     1003   23        NaN       Москва      Белла   Белякова  2018-08-17   \n",
       "4     1004   68        NaN  Новокузнецк    Татьяна   Авдеенко  2018-05-14   \n",
       "\n",
       "  tariff  \n",
       "0  ultra  \n",
       "1  smart  \n",
       "2  smart  \n",
       "3  ultra  \n",
       "4  ultra  "
      ]
     },
     "metadata": {},
     "output_type": "display_data"
    },
    {
     "name": "stdout",
     "output_type": "stream",
     "text": [
      "<class 'pandas.core.frame.DataFrame'>\n",
      "RangeIndex: 500 entries, 0 to 499\n",
      "Data columns (total 8 columns):\n",
      "user_id       500 non-null int64\n",
      "age           500 non-null int64\n",
      "churn_date    38 non-null object\n",
      "city          500 non-null object\n",
      "first_name    500 non-null object\n",
      "last_name     500 non-null object\n",
      "reg_date      500 non-null object\n",
      "tariff        500 non-null object\n",
      "dtypes: int64(2), object(6)\n",
      "memory usage: 31.4+ KB\n",
      "Ушли с тарифа \"Смарт\" за год 23 0.06552706552706553\n",
      "Ушли с тарифа \"Ультра\" за год 15 0.10067114093959731\n"
     ]
    }
   ],
   "source": [
    "data_users = pd.read_csv('/datasets/users.csv')\n",
    "display(data_users.head())\n",
    "data_users.info()\n",
    "data_users.describe()\n",
    "print( 'Ушли с тарифа \"Смарт\" за год', len(data_users.query('churn_date.isna() != True and tariff == \"smart\"')), len(data_users.query('churn_date.isna() != True and tariff == \"smart\"'))/351)\n",
    "print( 'Ушли с тарифа \"Ультра\" за год',len(data_users.query('churn_date.isna() != True and tariff == \"ultra\"')), len(data_users.query('churn_date.isna() != True and tariff == \"ultra\"'))/149)"
   ]
  },
  {
   "cell_type": "markdown",
   "metadata": {},
   "source": [
    "### Выводы\n",
    "\n",
    "В данных нет пропусков. Предоставленны данные по 500 клиентам, что соответствует заявленной выборке. 38 человек прекратили использовать данные тарифы до конца 2018 года. Данные только о совершеннолетних пользователях.\n",
    "\n",
    "При знакомстве с данными выявлены следующие проблемы:\n",
    "- все колонки с датами содержат данные формата 'object', что затрудняет работу с ними;\n",
    "- графа с данными о звонках содержит 0: что это за звонки? только неотвеченные, или здесь же звонки за счет абонента?\n",
    "- длительность звонков указана как float, но учитываются только целые минуты. Эти значения должны быть округлены в большую сторону. \n",
    "- в графе churn_date значатся пропуски, которые проще заменить условной датой, которая заведомо больше исследуемого промежутка времени. "
   ]
  },
  {
   "cell_type": "markdown",
   "metadata": {},
   "source": [
    "## 2. Подготовка данных"
   ]
  },
  {
   "cell_type": "code",
   "execution_count": 7,
   "metadata": {},
   "outputs": [
    {
     "data": {
      "text/html": [
       "<div>\n",
       "<style scoped>\n",
       "    .dataframe tbody tr th:only-of-type {\n",
       "        vertical-align: middle;\n",
       "    }\n",
       "\n",
       "    .dataframe tbody tr th {\n",
       "        vertical-align: top;\n",
       "    }\n",
       "\n",
       "    .dataframe thead th {\n",
       "        text-align: right;\n",
       "    }\n",
       "</style>\n",
       "<table border=\"1\" class=\"dataframe\">\n",
       "  <thead>\n",
       "    <tr style=\"text-align: right;\">\n",
       "      <th></th>\n",
       "      <th>id</th>\n",
       "      <th>call_date</th>\n",
       "      <th>duration</th>\n",
       "      <th>user_id</th>\n",
       "      <th>month</th>\n",
       "    </tr>\n",
       "  </thead>\n",
       "  <tbody>\n",
       "    <tr>\n",
       "      <td>0</td>\n",
       "      <td>1000_0</td>\n",
       "      <td>2018-07-25</td>\n",
       "      <td>0</td>\n",
       "      <td>1000</td>\n",
       "      <td>2018-07-01</td>\n",
       "    </tr>\n",
       "    <tr>\n",
       "      <td>1</td>\n",
       "      <td>1000_1</td>\n",
       "      <td>2018-08-17</td>\n",
       "      <td>0</td>\n",
       "      <td>1000</td>\n",
       "      <td>2018-08-01</td>\n",
       "    </tr>\n",
       "    <tr>\n",
       "      <td>2</td>\n",
       "      <td>1000_2</td>\n",
       "      <td>2018-06-11</td>\n",
       "      <td>3</td>\n",
       "      <td>1000</td>\n",
       "      <td>2018-06-01</td>\n",
       "    </tr>\n",
       "    <tr>\n",
       "      <td>3</td>\n",
       "      <td>1000_3</td>\n",
       "      <td>2018-09-21</td>\n",
       "      <td>14</td>\n",
       "      <td>1000</td>\n",
       "      <td>2018-09-01</td>\n",
       "    </tr>\n",
       "    <tr>\n",
       "      <td>4</td>\n",
       "      <td>1000_4</td>\n",
       "      <td>2018-12-15</td>\n",
       "      <td>6</td>\n",
       "      <td>1000</td>\n",
       "      <td>2018-12-01</td>\n",
       "    </tr>\n",
       "    <tr>\n",
       "      <td>...</td>\n",
       "      <td>...</td>\n",
       "      <td>...</td>\n",
       "      <td>...</td>\n",
       "      <td>...</td>\n",
       "      <td>...</td>\n",
       "    </tr>\n",
       "    <tr>\n",
       "      <td>202602</td>\n",
       "      <td>1499_215</td>\n",
       "      <td>2018-12-26</td>\n",
       "      <td>1</td>\n",
       "      <td>1499</td>\n",
       "      <td>2018-12-01</td>\n",
       "    </tr>\n",
       "    <tr>\n",
       "      <td>202603</td>\n",
       "      <td>1499_216</td>\n",
       "      <td>2018-10-18</td>\n",
       "      <td>19</td>\n",
       "      <td>1499</td>\n",
       "      <td>2018-10-01</td>\n",
       "    </tr>\n",
       "    <tr>\n",
       "      <td>202604</td>\n",
       "      <td>1499_217</td>\n",
       "      <td>2018-11-10</td>\n",
       "      <td>11</td>\n",
       "      <td>1499</td>\n",
       "      <td>2018-11-01</td>\n",
       "    </tr>\n",
       "    <tr>\n",
       "      <td>202605</td>\n",
       "      <td>1499_218</td>\n",
       "      <td>2018-10-06</td>\n",
       "      <td>5</td>\n",
       "      <td>1499</td>\n",
       "      <td>2018-10-01</td>\n",
       "    </tr>\n",
       "    <tr>\n",
       "      <td>202606</td>\n",
       "      <td>1499_219</td>\n",
       "      <td>2018-12-14</td>\n",
       "      <td>20</td>\n",
       "      <td>1499</td>\n",
       "      <td>2018-12-01</td>\n",
       "    </tr>\n",
       "  </tbody>\n",
       "</table>\n",
       "<p>202607 rows × 5 columns</p>\n",
       "</div>"
      ],
      "text/plain": [
       "              id  call_date  duration  user_id      month\n",
       "0         1000_0 2018-07-25         0     1000 2018-07-01\n",
       "1         1000_1 2018-08-17         0     1000 2018-08-01\n",
       "2         1000_2 2018-06-11         3     1000 2018-06-01\n",
       "3         1000_3 2018-09-21        14     1000 2018-09-01\n",
       "4         1000_4 2018-12-15         6     1000 2018-12-01\n",
       "...          ...        ...       ...      ...        ...\n",
       "202602  1499_215 2018-12-26         1     1499 2018-12-01\n",
       "202603  1499_216 2018-10-18        19     1499 2018-10-01\n",
       "202604  1499_217 2018-11-10        11     1499 2018-11-01\n",
       "202605  1499_218 2018-10-06         5     1499 2018-10-01\n",
       "202606  1499_219 2018-12-14        20     1499 2018-12-01\n",
       "\n",
       "[202607 rows x 5 columns]"
      ]
     },
     "execution_count": 7,
     "metadata": {},
     "output_type": "execute_result"
    }
   ],
   "source": [
    "data_calls['call_date'] = pd.to_datetime(data_calls['call_date'], format='%Y-%m-%d')\n",
    "data_calls['month'] = data_calls['call_date'].values.astype('datetime64[M]')\n",
    "data_calls['duration'] = data_calls['duration'].agg(ceil)\n",
    "data_calls"
   ]
  },
  {
   "cell_type": "code",
   "execution_count": 10,
   "metadata": {},
   "outputs": [],
   "source": [
    "data_internet['session_date'] = pd.to_datetime(data_internet['session_date'], format='%Y-%m-%d')\n",
    "data_internet['month'] = data_internet['session_date'].values.astype('datetime64[M]')\n",
    "data_calls['duration'] = data_calls['duration'].replace(0, 1)"
   ]
  },
  {
   "cell_type": "code",
   "execution_count": 11,
   "metadata": {},
   "outputs": [],
   "source": [
    "data_messages['message_date'] = pd.to_datetime(data_messages['message_date'], format='%Y-%m-%d')\n",
    "data_messages['month'] = data_messages['message_date'].values.astype('datetime64[M]')"
   ]
  },
  {
   "cell_type": "code",
   "execution_count": 12,
   "metadata": {},
   "outputs": [],
   "source": [
    "data_users['churn_date'] = data_users['churn_date'].fillna('2019-12-31')\n",
    "data_users['churn_date'] = pd.to_datetime(data_users['churn_date'], format='%Y-%m-%d')\n",
    "data_users['reg_date'] = pd.to_datetime(data_users['reg_date'], format='%Y-%m-%d')"
   ]
  },
  {
   "cell_type": "code",
   "execution_count": 13,
   "metadata": {},
   "outputs": [
    {
     "data": {
      "text/plain": [
       "1489914"
      ]
     },
     "execution_count": 13,
     "metadata": {},
     "output_type": "execute_result"
    }
   ],
   "source": [
    "data_calls['duration'] = data_calls['duration'].replace(0, 1) \n",
    "data_calls['duration'].sum()"
   ]
  },
  {
   "cell_type": "code",
   "execution_count": 14,
   "metadata": {},
   "outputs": [
    {
     "data": {
      "text/html": [
       "<div>\n",
       "<style scoped>\n",
       "    .dataframe tbody tr th:only-of-type {\n",
       "        vertical-align: middle;\n",
       "    }\n",
       "\n",
       "    .dataframe tbody tr th {\n",
       "        vertical-align: top;\n",
       "    }\n",
       "\n",
       "    .dataframe thead th {\n",
       "        text-align: right;\n",
       "    }\n",
       "</style>\n",
       "<table border=\"1\" class=\"dataframe\">\n",
       "  <thead>\n",
       "    <tr style=\"text-align: right;\">\n",
       "      <th></th>\n",
       "      <th>month</th>\n",
       "      <th>user_id</th>\n",
       "      <th>calls_duration_sum</th>\n",
       "      <th>calls_count</th>\n",
       "    </tr>\n",
       "  </thead>\n",
       "  <tbody>\n",
       "    <tr>\n",
       "      <td>355</td>\n",
       "      <td>2018-04-01</td>\n",
       "      <td>1373</td>\n",
       "      <td>1</td>\n",
       "      <td>1</td>\n",
       "    </tr>\n",
       "    <tr>\n",
       "      <td>1003</td>\n",
       "      <td>2018-07-01</td>\n",
       "      <td>1257</td>\n",
       "      <td>1</td>\n",
       "      <td>1</td>\n",
       "    </tr>\n",
       "    <tr>\n",
       "      <td>1661</td>\n",
       "      <td>2018-09-01</td>\n",
       "      <td>1257</td>\n",
       "      <td>1</td>\n",
       "      <td>1</td>\n",
       "    </tr>\n",
       "    <tr>\n",
       "      <td>818</td>\n",
       "      <td>2018-06-01</td>\n",
       "      <td>1424</td>\n",
       "      <td>1</td>\n",
       "      <td>1</td>\n",
       "    </tr>\n",
       "    <tr>\n",
       "      <td>1516</td>\n",
       "      <td>2018-09-01</td>\n",
       "      <td>1053</td>\n",
       "      <td>2</td>\n",
       "      <td>2</td>\n",
       "    </tr>\n",
       "    <tr>\n",
       "      <td>...</td>\n",
       "      <td>...</td>\n",
       "      <td>...</td>\n",
       "      <td>...</td>\n",
       "      <td>...</td>\n",
       "    </tr>\n",
       "    <tr>\n",
       "      <td>2158</td>\n",
       "      <td>2018-10-01</td>\n",
       "      <td>1377</td>\n",
       "      <td>1431</td>\n",
       "      <td>178</td>\n",
       "    </tr>\n",
       "    <tr>\n",
       "      <td>712</td>\n",
       "      <td>2018-06-01</td>\n",
       "      <td>1196</td>\n",
       "      <td>1437</td>\n",
       "      <td>176</td>\n",
       "    </tr>\n",
       "    <tr>\n",
       "      <td>2909</td>\n",
       "      <td>2018-12-01</td>\n",
       "      <td>1216</td>\n",
       "      <td>1471</td>\n",
       "      <td>198</td>\n",
       "    </tr>\n",
       "    <tr>\n",
       "      <td>204</td>\n",
       "      <td>2018-03-01</td>\n",
       "      <td>1377</td>\n",
       "      <td>1647</td>\n",
       "      <td>203</td>\n",
       "    </tr>\n",
       "    <tr>\n",
       "      <td>3145</td>\n",
       "      <td>2018-12-01</td>\n",
       "      <td>1467</td>\n",
       "      <td>1727</td>\n",
       "      <td>244</td>\n",
       "    </tr>\n",
       "  </tbody>\n",
       "</table>\n",
       "<p>3174 rows × 4 columns</p>\n",
       "</div>"
      ],
      "text/plain": [
       "          month  user_id  calls_duration_sum  calls_count\n",
       "355  2018-04-01     1373                   1            1\n",
       "1003 2018-07-01     1257                   1            1\n",
       "1661 2018-09-01     1257                   1            1\n",
       "818  2018-06-01     1424                   1            1\n",
       "1516 2018-09-01     1053                   2            2\n",
       "...         ...      ...                 ...          ...\n",
       "2158 2018-10-01     1377                1431          178\n",
       "712  2018-06-01     1196                1437          176\n",
       "2909 2018-12-01     1216                1471          198\n",
       "204  2018-03-01     1377                1647          203\n",
       "3145 2018-12-01     1467                1727          244\n",
       "\n",
       "[3174 rows x 4 columns]"
      ]
     },
     "execution_count": 14,
     "metadata": {},
     "output_type": "execute_result"
    }
   ],
   "source": [
    "data_calls_grouped = data_calls.pivot_table(index = ['month', 'user_id'], values = 'duration', aggfunc = ['sum', 'count']).reset_index()\n",
    "data_calls_grouped.columns = ['month', 'user_id', 'calls_duration_sum', 'calls_count']\n",
    "data_calls_grouped.sort_values(by = 'calls_duration_sum')"
   ]
  },
  {
   "cell_type": "code",
   "execution_count": 15,
   "metadata": {},
   "outputs": [
    {
     "data": {
      "text/html": [
       "<div>\n",
       "<style scoped>\n",
       "    .dataframe tbody tr th:only-of-type {\n",
       "        vertical-align: middle;\n",
       "    }\n",
       "\n",
       "    .dataframe tbody tr th {\n",
       "        vertical-align: top;\n",
       "    }\n",
       "\n",
       "    .dataframe thead th {\n",
       "        text-align: right;\n",
       "    }\n",
       "</style>\n",
       "<table border=\"1\" class=\"dataframe\">\n",
       "  <thead>\n",
       "    <tr style=\"text-align: right;\">\n",
       "      <th></th>\n",
       "      <th>month</th>\n",
       "      <th>user_id</th>\n",
       "      <th>message_count</th>\n",
       "    </tr>\n",
       "  </thead>\n",
       "  <tbody>\n",
       "    <tr>\n",
       "      <td>0</td>\n",
       "      <td>2018-01-01</td>\n",
       "      <td>1005</td>\n",
       "      <td>7</td>\n",
       "    </tr>\n",
       "    <tr>\n",
       "      <td>1</td>\n",
       "      <td>2018-01-01</td>\n",
       "      <td>1032</td>\n",
       "      <td>38</td>\n",
       "    </tr>\n",
       "    <tr>\n",
       "      <td>2</td>\n",
       "      <td>2018-01-01</td>\n",
       "      <td>1045</td>\n",
       "      <td>5</td>\n",
       "    </tr>\n",
       "    <tr>\n",
       "      <td>3</td>\n",
       "      <td>2018-01-01</td>\n",
       "      <td>1055</td>\n",
       "      <td>30</td>\n",
       "    </tr>\n",
       "    <tr>\n",
       "      <td>4</td>\n",
       "      <td>2018-01-01</td>\n",
       "      <td>1071</td>\n",
       "      <td>16</td>\n",
       "    </tr>\n",
       "    <tr>\n",
       "      <td>...</td>\n",
       "      <td>...</td>\n",
       "      <td>...</td>\n",
       "      <td>...</td>\n",
       "    </tr>\n",
       "    <tr>\n",
       "      <td>2712</td>\n",
       "      <td>2018-12-01</td>\n",
       "      <td>1493</td>\n",
       "      <td>78</td>\n",
       "    </tr>\n",
       "    <tr>\n",
       "      <td>2713</td>\n",
       "      <td>2018-12-01</td>\n",
       "      <td>1495</td>\n",
       "      <td>84</td>\n",
       "    </tr>\n",
       "    <tr>\n",
       "      <td>2714</td>\n",
       "      <td>2018-12-01</td>\n",
       "      <td>1496</td>\n",
       "      <td>51</td>\n",
       "    </tr>\n",
       "    <tr>\n",
       "      <td>2715</td>\n",
       "      <td>2018-12-01</td>\n",
       "      <td>1497</td>\n",
       "      <td>17</td>\n",
       "    </tr>\n",
       "    <tr>\n",
       "      <td>2716</td>\n",
       "      <td>2018-12-01</td>\n",
       "      <td>1499</td>\n",
       "      <td>66</td>\n",
       "    </tr>\n",
       "  </tbody>\n",
       "</table>\n",
       "<p>2717 rows × 3 columns</p>\n",
       "</div>"
      ],
      "text/plain": [
       "          month  user_id  message_count\n",
       "0    2018-01-01     1005              7\n",
       "1    2018-01-01     1032             38\n",
       "2    2018-01-01     1045              5\n",
       "3    2018-01-01     1055             30\n",
       "4    2018-01-01     1071             16\n",
       "...         ...      ...            ...\n",
       "2712 2018-12-01     1493             78\n",
       "2713 2018-12-01     1495             84\n",
       "2714 2018-12-01     1496             51\n",
       "2715 2018-12-01     1497             17\n",
       "2716 2018-12-01     1499             66\n",
       "\n",
       "[2717 rows x 3 columns]"
      ]
     },
     "execution_count": 15,
     "metadata": {},
     "output_type": "execute_result"
    }
   ],
   "source": [
    "data_messages_grouped = data_messages.pivot_table(index = ['month', 'user_id'], values = 'message_date', aggfunc = 'count').reset_index()\n",
    "data_messages_grouped.columns = ['month', 'user_id', 'message_count']\n",
    "data_messages_grouped"
   ]
  },
  {
   "cell_type": "code",
   "execution_count": 16,
   "metadata": {},
   "outputs": [],
   "source": [
    "data_internet_grouped = data_internet.pivot_table(index = ['month', 'user_id'], values = 'mb_used', aggfunc = 'sum').reset_index()"
   ]
  },
  {
   "cell_type": "code",
   "execution_count": 17,
   "metadata": {},
   "outputs": [],
   "source": [
    "month = data_calls.groupby('month')['duration'].min().reset_index()\n",
    "month['key'] = 1\n",
    "\n",
    "data_users['key'] = 1\n",
    "report = month.merge(data_users, on = 'key').drop(['duration', 'key'], axis = 1)"
   ]
  },
  {
   "cell_type": "code",
   "execution_count": 18,
   "metadata": {},
   "outputs": [
    {
     "data": {
      "text/html": [
       "<div>\n",
       "<style scoped>\n",
       "    .dataframe tbody tr th:only-of-type {\n",
       "        vertical-align: middle;\n",
       "    }\n",
       "\n",
       "    .dataframe tbody tr th {\n",
       "        vertical-align: top;\n",
       "    }\n",
       "\n",
       "    .dataframe thead th {\n",
       "        text-align: right;\n",
       "    }\n",
       "</style>\n",
       "<table border=\"1\" class=\"dataframe\">\n",
       "  <thead>\n",
       "    <tr style=\"text-align: right;\">\n",
       "      <th></th>\n",
       "      <th>month</th>\n",
       "      <th>user_id</th>\n",
       "      <th>age</th>\n",
       "      <th>churn_date</th>\n",
       "      <th>city</th>\n",
       "      <th>first_name</th>\n",
       "      <th>last_name</th>\n",
       "      <th>reg_date</th>\n",
       "      <th>tariff</th>\n",
       "    </tr>\n",
       "  </thead>\n",
       "  <tbody>\n",
       "    <tr>\n",
       "      <td>0</td>\n",
       "      <td>2018-01-01</td>\n",
       "      <td>1000</td>\n",
       "      <td>52</td>\n",
       "      <td>2019-12-31</td>\n",
       "      <td>Краснодар</td>\n",
       "      <td>Рафаил</td>\n",
       "      <td>Верещагин</td>\n",
       "      <td>2018-05-25</td>\n",
       "      <td>ultra</td>\n",
       "    </tr>\n",
       "    <tr>\n",
       "      <td>1</td>\n",
       "      <td>2018-01-01</td>\n",
       "      <td>1001</td>\n",
       "      <td>41</td>\n",
       "      <td>2019-12-31</td>\n",
       "      <td>Москва</td>\n",
       "      <td>Иван</td>\n",
       "      <td>Ежов</td>\n",
       "      <td>2018-11-01</td>\n",
       "      <td>smart</td>\n",
       "    </tr>\n",
       "    <tr>\n",
       "      <td>2</td>\n",
       "      <td>2018-01-01</td>\n",
       "      <td>1002</td>\n",
       "      <td>59</td>\n",
       "      <td>2019-12-31</td>\n",
       "      <td>Стерлитамак</td>\n",
       "      <td>Евгений</td>\n",
       "      <td>Абрамович</td>\n",
       "      <td>2018-06-17</td>\n",
       "      <td>smart</td>\n",
       "    </tr>\n",
       "    <tr>\n",
       "      <td>3</td>\n",
       "      <td>2018-01-01</td>\n",
       "      <td>1003</td>\n",
       "      <td>23</td>\n",
       "      <td>2019-12-31</td>\n",
       "      <td>Москва</td>\n",
       "      <td>Белла</td>\n",
       "      <td>Белякова</td>\n",
       "      <td>2018-08-17</td>\n",
       "      <td>ultra</td>\n",
       "    </tr>\n",
       "    <tr>\n",
       "      <td>4</td>\n",
       "      <td>2018-01-01</td>\n",
       "      <td>1004</td>\n",
       "      <td>68</td>\n",
       "      <td>2019-12-31</td>\n",
       "      <td>Новокузнецк</td>\n",
       "      <td>Татьяна</td>\n",
       "      <td>Авдеенко</td>\n",
       "      <td>2018-05-14</td>\n",
       "      <td>ultra</td>\n",
       "    </tr>\n",
       "  </tbody>\n",
       "</table>\n",
       "</div>"
      ],
      "text/plain": [
       "       month  user_id  age churn_date         city first_name  last_name  \\\n",
       "0 2018-01-01     1000   52 2019-12-31    Краснодар     Рафаил  Верещагин   \n",
       "1 2018-01-01     1001   41 2019-12-31       Москва       Иван       Ежов   \n",
       "2 2018-01-01     1002   59 2019-12-31  Стерлитамак    Евгений  Абрамович   \n",
       "3 2018-01-01     1003   23 2019-12-31       Москва      Белла   Белякова   \n",
       "4 2018-01-01     1004   68 2019-12-31  Новокузнецк    Татьяна   Авдеенко   \n",
       "\n",
       "    reg_date tariff  \n",
       "0 2018-05-25  ultra  \n",
       "1 2018-11-01  smart  \n",
       "2 2018-06-17  smart  \n",
       "3 2018-08-17  ultra  \n",
       "4 2018-05-14  ultra  "
      ]
     },
     "execution_count": 18,
     "metadata": {},
     "output_type": "execute_result"
    }
   ],
   "source": [
    "report.head()"
   ]
  },
  {
   "cell_type": "code",
   "execution_count": 19,
   "metadata": {},
   "outputs": [
    {
     "data": {
      "text/html": [
       "<div>\n",
       "<style scoped>\n",
       "    .dataframe tbody tr th:only-of-type {\n",
       "        vertical-align: middle;\n",
       "    }\n",
       "\n",
       "    .dataframe tbody tr th {\n",
       "        vertical-align: top;\n",
       "    }\n",
       "\n",
       "    .dataframe thead th {\n",
       "        text-align: right;\n",
       "    }\n",
       "</style>\n",
       "<table border=\"1\" class=\"dataframe\">\n",
       "  <thead>\n",
       "    <tr style=\"text-align: right;\">\n",
       "      <th></th>\n",
       "      <th>month</th>\n",
       "      <th>user_id</th>\n",
       "      <th>age</th>\n",
       "      <th>churn_date</th>\n",
       "      <th>city</th>\n",
       "      <th>first_name</th>\n",
       "      <th>last_name</th>\n",
       "      <th>reg_date</th>\n",
       "      <th>tariff</th>\n",
       "    </tr>\n",
       "  </thead>\n",
       "  <tbody>\n",
       "    <tr>\n",
       "      <td>0</td>\n",
       "      <td>2018-01-01</td>\n",
       "      <td>1000</td>\n",
       "      <td>52</td>\n",
       "      <td>2019-12-31</td>\n",
       "      <td>Краснодар</td>\n",
       "      <td>Рафаил</td>\n",
       "      <td>Верещагин</td>\n",
       "      <td>2018-05-25</td>\n",
       "      <td>ultra</td>\n",
       "    </tr>\n",
       "    <tr>\n",
       "      <td>1000</td>\n",
       "      <td>2018-03-01</td>\n",
       "      <td>1000</td>\n",
       "      <td>52</td>\n",
       "      <td>2019-12-31</td>\n",
       "      <td>Краснодар</td>\n",
       "      <td>Рафаил</td>\n",
       "      <td>Верещагин</td>\n",
       "      <td>2018-05-25</td>\n",
       "      <td>ultra</td>\n",
       "    </tr>\n",
       "    <tr>\n",
       "      <td>5500</td>\n",
       "      <td>2018-12-01</td>\n",
       "      <td>1000</td>\n",
       "      <td>52</td>\n",
       "      <td>2019-12-31</td>\n",
       "      <td>Краснодар</td>\n",
       "      <td>Рафаил</td>\n",
       "      <td>Верещагин</td>\n",
       "      <td>2018-05-25</td>\n",
       "      <td>ultra</td>\n",
       "    </tr>\n",
       "    <tr>\n",
       "      <td>1500</td>\n",
       "      <td>2018-04-01</td>\n",
       "      <td>1000</td>\n",
       "      <td>52</td>\n",
       "      <td>2019-12-31</td>\n",
       "      <td>Краснодар</td>\n",
       "      <td>Рафаил</td>\n",
       "      <td>Верещагин</td>\n",
       "      <td>2018-05-25</td>\n",
       "      <td>ultra</td>\n",
       "    </tr>\n",
       "    <tr>\n",
       "      <td>500</td>\n",
       "      <td>2018-02-01</td>\n",
       "      <td>1000</td>\n",
       "      <td>52</td>\n",
       "      <td>2019-12-31</td>\n",
       "      <td>Краснодар</td>\n",
       "      <td>Рафаил</td>\n",
       "      <td>Верещагин</td>\n",
       "      <td>2018-05-25</td>\n",
       "      <td>ultra</td>\n",
       "    </tr>\n",
       "    <tr>\n",
       "      <td>...</td>\n",
       "      <td>...</td>\n",
       "      <td>...</td>\n",
       "      <td>...</td>\n",
       "      <td>...</td>\n",
       "      <td>...</td>\n",
       "      <td>...</td>\n",
       "      <td>...</td>\n",
       "      <td>...</td>\n",
       "      <td>...</td>\n",
       "    </tr>\n",
       "    <tr>\n",
       "      <td>1499</td>\n",
       "      <td>2018-03-01</td>\n",
       "      <td>1499</td>\n",
       "      <td>35</td>\n",
       "      <td>2019-12-31</td>\n",
       "      <td>Пермь</td>\n",
       "      <td>Гектор</td>\n",
       "      <td>Корнилов</td>\n",
       "      <td>2018-09-27</td>\n",
       "      <td>smart</td>\n",
       "    </tr>\n",
       "    <tr>\n",
       "      <td>999</td>\n",
       "      <td>2018-02-01</td>\n",
       "      <td>1499</td>\n",
       "      <td>35</td>\n",
       "      <td>2019-12-31</td>\n",
       "      <td>Пермь</td>\n",
       "      <td>Гектор</td>\n",
       "      <td>Корнилов</td>\n",
       "      <td>2018-09-27</td>\n",
       "      <td>smart</td>\n",
       "    </tr>\n",
       "    <tr>\n",
       "      <td>499</td>\n",
       "      <td>2018-01-01</td>\n",
       "      <td>1499</td>\n",
       "      <td>35</td>\n",
       "      <td>2019-12-31</td>\n",
       "      <td>Пермь</td>\n",
       "      <td>Гектор</td>\n",
       "      <td>Корнилов</td>\n",
       "      <td>2018-09-27</td>\n",
       "      <td>smart</td>\n",
       "    </tr>\n",
       "    <tr>\n",
       "      <td>5499</td>\n",
       "      <td>2018-11-01</td>\n",
       "      <td>1499</td>\n",
       "      <td>35</td>\n",
       "      <td>2019-12-31</td>\n",
       "      <td>Пермь</td>\n",
       "      <td>Гектор</td>\n",
       "      <td>Корнилов</td>\n",
       "      <td>2018-09-27</td>\n",
       "      <td>smart</td>\n",
       "    </tr>\n",
       "    <tr>\n",
       "      <td>5999</td>\n",
       "      <td>2018-12-01</td>\n",
       "      <td>1499</td>\n",
       "      <td>35</td>\n",
       "      <td>2019-12-31</td>\n",
       "      <td>Пермь</td>\n",
       "      <td>Гектор</td>\n",
       "      <td>Корнилов</td>\n",
       "      <td>2018-09-27</td>\n",
       "      <td>smart</td>\n",
       "    </tr>\n",
       "  </tbody>\n",
       "</table>\n",
       "<p>6000 rows × 9 columns</p>\n",
       "</div>"
      ],
      "text/plain": [
       "          month  user_id  age churn_date       city first_name  last_name  \\\n",
       "0    2018-01-01     1000   52 2019-12-31  Краснодар     Рафаил  Верещагин   \n",
       "1000 2018-03-01     1000   52 2019-12-31  Краснодар     Рафаил  Верещагин   \n",
       "5500 2018-12-01     1000   52 2019-12-31  Краснодар     Рафаил  Верещагин   \n",
       "1500 2018-04-01     1000   52 2019-12-31  Краснодар     Рафаил  Верещагин   \n",
       "500  2018-02-01     1000   52 2019-12-31  Краснодар     Рафаил  Верещагин   \n",
       "...         ...      ...  ...        ...        ...        ...        ...   \n",
       "1499 2018-03-01     1499   35 2019-12-31      Пермь     Гектор   Корнилов   \n",
       "999  2018-02-01     1499   35 2019-12-31      Пермь     Гектор   Корнилов   \n",
       "499  2018-01-01     1499   35 2019-12-31      Пермь     Гектор   Корнилов   \n",
       "5499 2018-11-01     1499   35 2019-12-31      Пермь     Гектор   Корнилов   \n",
       "5999 2018-12-01     1499   35 2019-12-31      Пермь     Гектор   Корнилов   \n",
       "\n",
       "       reg_date tariff  \n",
       "0    2018-05-25  ultra  \n",
       "1000 2018-05-25  ultra  \n",
       "5500 2018-05-25  ultra  \n",
       "1500 2018-05-25  ultra  \n",
       "500  2018-05-25  ultra  \n",
       "...         ...    ...  \n",
       "1499 2018-09-27  smart  \n",
       "999  2018-09-27  smart  \n",
       "499  2018-09-27  smart  \n",
       "5499 2018-09-27  smart  \n",
       "5999 2018-09-27  smart  \n",
       "\n",
       "[6000 rows x 9 columns]"
      ]
     },
     "execution_count": 19,
     "metadata": {},
     "output_type": "execute_result"
    }
   ],
   "source": [
    "report.sort_values(by = 'user_id')"
   ]
  },
  {
   "cell_type": "code",
   "execution_count": 20,
   "metadata": {},
   "outputs": [],
   "source": [
    "report = report.merge(data_calls_grouped, how = 'left', on = ['month', 'user_id'])"
   ]
  },
  {
   "cell_type": "code",
   "execution_count": 21,
   "metadata": {},
   "outputs": [
    {
     "data": {
      "text/plain": [
       "1489914.0"
      ]
     },
     "execution_count": 21,
     "metadata": {},
     "output_type": "execute_result"
    }
   ],
   "source": [
    "report['calls_duration_sum'].sum()"
   ]
  },
  {
   "cell_type": "code",
   "execution_count": 22,
   "metadata": {},
   "outputs": [],
   "source": [
    "report = report.merge(data_messages_grouped, how = 'left', on = ['month', 'user_id'])"
   ]
  },
  {
   "cell_type": "code",
   "execution_count": 23,
   "metadata": {},
   "outputs": [
    {
     "data": {
      "text/plain": [
       "Index(['month', 'user_id', 'age', 'churn_date', 'city', 'first_name',\n",
       "       'last_name', 'reg_date', 'tariff', 'calls_duration_sum', 'calls_count',\n",
       "       'message_count', 'mb_used'],\n",
       "      dtype='object')"
      ]
     },
     "execution_count": 23,
     "metadata": {},
     "output_type": "execute_result"
    }
   ],
   "source": [
    "report = report.merge(data_internet_grouped, how = 'left', on = ['month', 'user_id'])\n",
    "report.columns"
   ]
  },
  {
   "cell_type": "code",
   "execution_count": 24,
   "metadata": {},
   "outputs": [],
   "source": [
    "report.columns = ['month', 'user_id', 'age', 'churn_date', 'city', 'first_name','last_name', 'reg_date', 'tariff_name', 'calls_duration_sum', 'calls_count', 'message_count', 'mb_used']"
   ]
  },
  {
   "cell_type": "code",
   "execution_count": 25,
   "metadata": {},
   "outputs": [
    {
     "data": {
      "text/plain": [
       "1499    12\n",
       "1181    12\n",
       "1129    12\n",
       "1133    12\n",
       "1137    12\n",
       "        ..\n",
       "1354    12\n",
       "1358    12\n",
       "1362    12\n",
       "1366    12\n",
       "1000    12\n",
       "Name: user_id, Length: 500, dtype: int64"
      ]
     },
     "execution_count": 25,
     "metadata": {},
     "output_type": "execute_result"
    }
   ],
   "source": [
    "report['user_id'].value_counts()"
   ]
  },
  {
   "cell_type": "code",
   "execution_count": 26,
   "metadata": {},
   "outputs": [],
   "source": [
    "report = report.merge(data_tariffs, on = 'tariff_name', how = 'left')"
   ]
  },
  {
   "cell_type": "code",
   "execution_count": 27,
   "metadata": {},
   "outputs": [],
   "source": [
    "report['mb_used'] = report['mb_used']/ 1024\n",
    "report['mb_per_month_included'] = report['mb_per_month_included'] / 1024\n",
    "report.columns = ['month', 'user_id', 'age', 'churn_date', 'city', 'first_name',\n",
    "       'last_name', 'reg_date', 'tariff_name', 'calls_duration_sum',\n",
    "       'calls_count', 'message_count', 'gb_used', 'messages_included',\n",
    "       'gb_per_month_included', 'minutes_included', 'rub_monthly_fee',\n",
    "       'rub_per_gb', 'rub_per_message', 'rub_per_minute']"
   ]
  },
  {
   "cell_type": "code",
   "execution_count": 28,
   "metadata": {},
   "outputs": [],
   "source": [
    "report['calls_duration_sum'] = report['calls_duration_sum'].fillna(0)\n",
    "report['message_count'] = report['message_count'].fillna(0)\n",
    "report['gb_used'] = report['gb_used'].fillna(0)"
   ]
  },
  {
   "cell_type": "code",
   "execution_count": 29,
   "metadata": {},
   "outputs": [
    {
     "data": {
      "text/plain": [
       "7608790.0"
      ]
     },
     "execution_count": 29,
     "metadata": {},
     "output_type": "execute_result"
    }
   ],
   "source": [
    "def money_per_month(row):\n",
    "    duration_more = row['calls_duration_sum'] -row['minutes_included']\n",
    "    if duration_more > 0 :\n",
    "        duration_sum = duration_more * row['rub_per_minute']\n",
    "    else:\n",
    "        duration_sum = duration_more * 0\n",
    "            \n",
    "    message_more = row['message_count'] - row['messages_included']\n",
    "    if message_more > 0:\n",
    "        message_sum = message_more * row['rub_per_message']\n",
    "    else:\n",
    "        message_sum = message_more * 0\n",
    "           \n",
    "    gb_more = row['gb_used'] - row['gb_per_month_included']\n",
    "    if gb_more > 0:\n",
    "        gb_sum = ceil(gb_more) * row['rub_per_gb']\n",
    "    else:\n",
    "        gb_sum = gb_more * 0\n",
    "            \n",
    "    summa = row['rub_monthly_fee'] + duration_sum + message_sum + gb_sum\n",
    "    return summa\n",
    "    \n",
    "report['summa'] = report.agg(money_per_month, axis = 1)\n",
    "report['summa'].sum()"
   ]
  },
  {
   "cell_type": "code",
   "execution_count": 30,
   "metadata": {},
   "outputs": [],
   "source": [
    "report = report.loc[report['month'] >= report['reg_date'].values.astype('datetime64[M]')]\n",
    "report = report.loc[report['month'] <= report['churn_date'].values.astype('datetime64[M]')]"
   ]
  },
  {
   "cell_type": "markdown",
   "metadata": {},
   "source": [
    "### Выводы\n",
    " Среди 500 предложенных для исследования клиентов - часть не являются пользователями исследуемых тарифов на всем промежутке отчетного периода. Данные об этих клиентах содержат информацию до перехода на тариф (отчетные месяца раньше, чем месяц перехода на тариф в графе reg_date,  либо позже, чем клиент прекратил использовать тариф - отчетные месяца больше, чем значение в графе churn_date). \n",
    "Строки, неудовлетворяющие временным условиям удалены из отчета.\n",
    "\n",
    " Данные приведены к следующим типам:\n",
    " - все даты приведены к типу datetime64\n",
    " - пропуски в графе churn_date заменены условной датой '2019-12-31', выходящий за границу исследуемого периода,\n",
    " - длительность звонков (в таблице учета каждого звонка) округлена до минут (в большую сторону, методом ceil())\n",
    " - использованный трафик, лимит трафика переведены из мегабайт в гигобайты. При вычислении оплаты трафика сверх положенного по тарифу осуществлялась так же при округлении дополнительного трафика до гигабайта (в большую сторону, методом ceil())\n",
    " - нулевые значения длительности звонков и использованных мегабайт заменены на 1, в соответствии с политикой компании \"Мегалайн\" \n",
    "\n",
    " Для клиентов посчитаны следующие параметры по месяцам:\n",
    " - количество минут, потраченных на звонки  (с учетом округления вверх, как указано в требованиях по тарифам)\n",
    " - количество звонков, совершенного за месяц\n",
    " - количество смс, отправленных абонентом\n",
    " - количество гигобайт, использованных за месяц\n",
    " - количество денег, которые заплатил клиент, учитывая требования тарифа, закрепленного за клиентом.\n",
    " \n",
    "Среди всех звонков выделены звонки длительностью 0 минут. Такие звонки есть почти у всех клиентов (492 из 500). Но средняя доля таких звонков по отношению к совершенным звонкам - 24%. Только один обонент имеет 50% пропущенных звонков (звонки с длительностью 0) - всего 14 звонков совершено этим абонентом. \n",
    "Все предоставленные данные сведены в общую таблицу, сгруппированную по месяцам и клиентам ('user_id')."
   ]
  },
  {
   "cell_type": "markdown",
   "metadata": {},
   "source": [
    "## Шаг 3: Анализ данных"
   ]
  },
  {
   "cell_type": "code",
   "execution_count": 31,
   "metadata": {},
   "outputs": [],
   "source": [
    "report_ultra = report.query('tariff_name == \"ultra\"')\n",
    "report_smart = report.query('tariff_name == \"smart\"')"
   ]
  },
  {
   "cell_type": "markdown",
   "metadata": {},
   "source": [
    "#### Тариф \"Ультра\""
   ]
  },
  {
   "cell_type": "code",
   "execution_count": 32,
   "metadata": {},
   "outputs": [
    {
     "data": {
      "text/html": [
       "<div>\n",
       "<style scoped>\n",
       "    .dataframe tbody tr th:only-of-type {\n",
       "        vertical-align: middle;\n",
       "    }\n",
       "\n",
       "    .dataframe tbody tr th {\n",
       "        vertical-align: top;\n",
       "    }\n",
       "\n",
       "    .dataframe thead th {\n",
       "        text-align: right;\n",
       "    }\n",
       "</style>\n",
       "<table border=\"1\" class=\"dataframe\">\n",
       "  <thead>\n",
       "    <tr style=\"text-align: right;\">\n",
       "      <th></th>\n",
       "      <th>calls_count</th>\n",
       "      <th>calls_duration_sum</th>\n",
       "      <th>gb_used</th>\n",
       "      <th>message_count</th>\n",
       "      <th>summa</th>\n",
       "    </tr>\n",
       "    <tr>\n",
       "      <th>month</th>\n",
       "      <th></th>\n",
       "      <th></th>\n",
       "      <th></th>\n",
       "      <th></th>\n",
       "      <th></th>\n",
       "    </tr>\n",
       "  </thead>\n",
       "  <tbody>\n",
       "    <tr>\n",
       "      <td>2018-01-01</td>\n",
       "      <td>59.444444</td>\n",
       "      <td>440.888889</td>\n",
       "      <td>12.832696</td>\n",
       "      <td>33.777778</td>\n",
       "      <td>1950.000000</td>\n",
       "    </tr>\n",
       "    <tr>\n",
       "      <td>2018-02-01</td>\n",
       "      <td>41.541667</td>\n",
       "      <td>304.666667</td>\n",
       "      <td>11.499939</td>\n",
       "      <td>21.958333</td>\n",
       "      <td>1975.000000</td>\n",
       "    </tr>\n",
       "    <tr>\n",
       "      <td>2018-03-01</td>\n",
       "      <td>67.675676</td>\n",
       "      <td>503.081081</td>\n",
       "      <td>17.124561</td>\n",
       "      <td>32.297297</td>\n",
       "      <td>2014.864865</td>\n",
       "    </tr>\n",
       "    <tr>\n",
       "      <td>2018-04-01</td>\n",
       "      <td>66.509434</td>\n",
       "      <td>470.072727</td>\n",
       "      <td>16.433725</td>\n",
       "      <td>31.563636</td>\n",
       "      <td>2001.818182</td>\n",
       "    </tr>\n",
       "    <tr>\n",
       "      <td>2018-05-01</td>\n",
       "      <td>75.906250</td>\n",
       "      <td>524.865672</td>\n",
       "      <td>18.909329</td>\n",
       "      <td>37.850746</td>\n",
       "      <td>2059.701493</td>\n",
       "    </tr>\n",
       "    <tr>\n",
       "      <td>2018-06-01</td>\n",
       "      <td>69.209877</td>\n",
       "      <td>492.428571</td>\n",
       "      <td>18.481386</td>\n",
       "      <td>41.726190</td>\n",
       "      <td>2039.285714</td>\n",
       "    </tr>\n",
       "    <tr>\n",
       "      <td>2018-07-01</td>\n",
       "      <td>78.363636</td>\n",
       "      <td>560.296703</td>\n",
       "      <td>20.015298</td>\n",
       "      <td>49.846154</td>\n",
       "      <td>2118.131868</td>\n",
       "    </tr>\n",
       "    <tr>\n",
       "      <td>2018-08-01</td>\n",
       "      <td>74.058252</td>\n",
       "      <td>524.570093</td>\n",
       "      <td>19.117241</td>\n",
       "      <td>48.439252</td>\n",
       "      <td>2083.177570</td>\n",
       "    </tr>\n",
       "    <tr>\n",
       "      <td>2018-09-01</td>\n",
       "      <td>77.288288</td>\n",
       "      <td>553.643478</td>\n",
       "      <td>18.754177</td>\n",
       "      <td>52.286957</td>\n",
       "      <td>2024.347826</td>\n",
       "    </tr>\n",
       "    <tr>\n",
       "      <td>2018-10-01</td>\n",
       "      <td>80.652542</td>\n",
       "      <td>572.829268</td>\n",
       "      <td>19.575525</td>\n",
       "      <td>58.430894</td>\n",
       "      <td>2065.853659</td>\n",
       "    </tr>\n",
       "    <tr>\n",
       "      <td>2018-11-01</td>\n",
       "      <td>78.031008</td>\n",
       "      <td>555.805970</td>\n",
       "      <td>19.323059</td>\n",
       "      <td>55.791045</td>\n",
       "      <td>2092.164179</td>\n",
       "    </tr>\n",
       "    <tr>\n",
       "      <td>2018-12-01</td>\n",
       "      <td>86.425373</td>\n",
       "      <td>604.778571</td>\n",
       "      <td>21.130378</td>\n",
       "      <td>60.178571</td>\n",
       "      <td>2137.500000</td>\n",
       "    </tr>\n",
       "  </tbody>\n",
       "</table>\n",
       "</div>"
      ],
      "text/plain": [
       "            calls_count  calls_duration_sum    gb_used  message_count  \\\n",
       "month                                                                   \n",
       "2018-01-01    59.444444          440.888889  12.832696      33.777778   \n",
       "2018-02-01    41.541667          304.666667  11.499939      21.958333   \n",
       "2018-03-01    67.675676          503.081081  17.124561      32.297297   \n",
       "2018-04-01    66.509434          470.072727  16.433725      31.563636   \n",
       "2018-05-01    75.906250          524.865672  18.909329      37.850746   \n",
       "2018-06-01    69.209877          492.428571  18.481386      41.726190   \n",
       "2018-07-01    78.363636          560.296703  20.015298      49.846154   \n",
       "2018-08-01    74.058252          524.570093  19.117241      48.439252   \n",
       "2018-09-01    77.288288          553.643478  18.754177      52.286957   \n",
       "2018-10-01    80.652542          572.829268  19.575525      58.430894   \n",
       "2018-11-01    78.031008          555.805970  19.323059      55.791045   \n",
       "2018-12-01    86.425373          604.778571  21.130378      60.178571   \n",
       "\n",
       "                  summa  \n",
       "month                    \n",
       "2018-01-01  1950.000000  \n",
       "2018-02-01  1975.000000  \n",
       "2018-03-01  2014.864865  \n",
       "2018-04-01  2001.818182  \n",
       "2018-05-01  2059.701493  \n",
       "2018-06-01  2039.285714  \n",
       "2018-07-01  2118.131868  \n",
       "2018-08-01  2083.177570  \n",
       "2018-09-01  2024.347826  \n",
       "2018-10-01  2065.853659  \n",
       "2018-11-01  2092.164179  \n",
       "2018-12-01  2137.500000  "
      ]
     },
     "metadata": {},
     "output_type": "display_data"
    },
    {
     "data": {
      "text/plain": [
       "149"
      ]
     },
     "execution_count": 32,
     "metadata": {},
     "output_type": "execute_result"
    }
   ],
   "source": [
    "report_ultra_grouped = report_ultra.pivot_table(index='month', values = ['calls_duration_sum', 'calls_count', 'message_count', 'gb_used', 'summa'], aggfunc= 'mean')\n",
    "display(report_ultra_grouped)\n",
    "len(report_ultra['user_id'].unique())"
   ]
  },
  {
   "cell_type": "code",
   "execution_count": 33,
   "metadata": {
    "scrolled": false
   },
   "outputs": [
    {
     "data": {
      "image/png": "[encoded data removed]",
      "text/plain": [
       "<Figure size 432x288 with 1 Axes>"
      ]
     },
     "metadata": {
      "needs_background": "light"
     },
     "output_type": "display_data"
    },
    {
     "name": "stdout",
     "output_type": "stream",
     "text": [
      "Среднее значение calls_duration_sum 508.993974322146\n",
      "Дисперсия значение calls_duration_sum 5731.10507373408\n",
      "Стандартное отклонение значение calls_duration_sum 75.70406246519457\n"
     ]
    },
    {
     "data": {
      "image/png": "[encoded data removed]",
      "text/plain": [
       "<Figure size 432x288 with 1 Axes>"
      ]
     },
     "metadata": {
      "needs_background": "light"
     },
     "output_type": "display_data"
    },
    {
     "data": {
      "image/png": "[encoded data removed]",
      "text/plain": [
       "<Figure size 432x288 with 1 Axes>"
      ]
     },
     "metadata": {
      "needs_background": "light"
     },
     "output_type": "display_data"
    },
    {
     "name": "stdout",
     "output_type": "stream",
     "text": [
      "Среднее значение calls_count 71.25887063587648\n",
      "Дисперсия значение calls_count 128.55663700914195\n",
      "Стандартное отклонение значение calls_count 11.33828192492769\n"
     ]
    },
    {
     "data": {
      "image/png": "[encoded data removed]",
      "text/plain": [
       "<Figure size 432x288 with 1 Axes>"
      ]
     },
     "metadata": {
      "needs_background": "light"
     },
     "output_type": "display_data"
    },
    {
     "data": {
      "image/png": "[encoded data removed]",
      "text/plain": [
       "<Figure size 432x288 with 1 Axes>"
      ]
     },
     "metadata": {
      "needs_background": "light"
     },
     "output_type": "display_data"
    },
    {
     "name": "stdout",
     "output_type": "stream",
     "text": [
      "Среднее значение message_count 43.67890456123896\n",
      "Дисперсия значение message_count 137.93961140938538\n",
      "Стандартное отклонение значение message_count 11.744769534111148\n"
     ]
    },
    {
     "data": {
      "image/png": "[encoded data removed]",
      "text/plain": [
       "<Figure size 432x288 with 1 Axes>"
      ]
     },
     "metadata": {
      "needs_background": "light"
     },
     "output_type": "display_data"
    },
    {
     "data": {
      "image/png": "[encoded data removed]",
      "text/plain": [
       "<Figure size 432x288 with 1 Axes>"
      ]
     },
     "metadata": {
      "needs_background": "light"
     },
     "output_type": "display_data"
    },
    {
     "name": "stdout",
     "output_type": "stream",
     "text": [
      "Среднее значение gb_used 17.7664428169891\n",
      "Дисперсия значение gb_used 7.7071601261619245\n",
      "Стандартное отклонение значение gb_used 2.77617725049427\n"
     ]
    },
    {
     "data": {
      "image/png": "[encoded data removed]",
      "text/plain": [
       "<Figure size 432x288 with 1 Axes>"
      ]
     },
     "metadata": {
      "needs_background": "light"
     },
     "output_type": "display_data"
    }
   ],
   "source": [
    "list_qualities = ['calls_duration_sum', 'calls_count', 'message_count', 'gb_used']\n",
    "\n",
    "for column in list_qualities:\n",
    "    report_ultra.hist(column, bins = 100)\n",
    "    plt.show()\n",
    "    print('Среднее значение', column, report_ultra_grouped[column].mean())\n",
    "    print('Дисперсия значение', column, np.var(report_ultra_grouped[column]))\n",
    "    print('Стандартное отклонение значение', column, np.std(report_ultra_grouped[column]))\n",
    "    report_ultra.boxplot(column) \n",
    "    plt.show()"
   ]
  },
  {
   "cell_type": "markdown",
   "metadata": {},
   "source": [
    "#### Тариф 'Смарт'"
   ]
  },
  {
   "cell_type": "code",
   "execution_count": 34,
   "metadata": {},
   "outputs": [
    {
     "data": {
      "text/html": [
       "<div>\n",
       "<style scoped>\n",
       "    .dataframe tbody tr th:only-of-type {\n",
       "        vertical-align: middle;\n",
       "    }\n",
       "\n",
       "    .dataframe tbody tr th {\n",
       "        vertical-align: top;\n",
       "    }\n",
       "\n",
       "    .dataframe thead th {\n",
       "        text-align: right;\n",
       "    }\n",
       "</style>\n",
       "<table border=\"1\" class=\"dataframe\">\n",
       "  <thead>\n",
       "    <tr style=\"text-align: right;\">\n",
       "      <th></th>\n",
       "      <th>calls_count</th>\n",
       "      <th>calls_duration_sum</th>\n",
       "      <th>gb_used</th>\n",
       "      <th>message_count</th>\n",
       "      <th>summa</th>\n",
       "    </tr>\n",
       "    <tr>\n",
       "      <th>month</th>\n",
       "      <th></th>\n",
       "      <th></th>\n",
       "      <th></th>\n",
       "      <th></th>\n",
       "      <th></th>\n",
       "    </tr>\n",
       "  </thead>\n",
       "  <tbody>\n",
       "    <tr>\n",
       "      <td>2018-01-01</td>\n",
       "      <td>27.676471</td>\n",
       "      <td>209.647059</td>\n",
       "      <td>8.314177</td>\n",
       "      <td>18.235294</td>\n",
       "      <td>723.352941</td>\n",
       "    </tr>\n",
       "    <tr>\n",
       "      <td>2018-02-01</td>\n",
       "      <td>40.189655</td>\n",
       "      <td>306.310345</td>\n",
       "      <td>11.325248</td>\n",
       "      <td>24.086207</td>\n",
       "      <td>835.051724</td>\n",
       "    </tr>\n",
       "    <tr>\n",
       "      <td>2018-03-01</td>\n",
       "      <td>54.324675</td>\n",
       "      <td>400.532468</td>\n",
       "      <td>14.750155</td>\n",
       "      <td>31.857143</td>\n",
       "      <td>1178.571429</td>\n",
       "    </tr>\n",
       "    <tr>\n",
       "      <td>2018-04-01</td>\n",
       "      <td>51.312500</td>\n",
       "      <td>377.000000</td>\n",
       "      <td>13.146661</td>\n",
       "      <td>30.741071</td>\n",
       "      <td>974.875000</td>\n",
       "    </tr>\n",
       "    <tr>\n",
       "      <td>2018-05-01</td>\n",
       "      <td>55.241135</td>\n",
       "      <td>398.404255</td>\n",
       "      <td>15.434750</td>\n",
       "      <td>33.773050</td>\n",
       "      <td>1210.595745</td>\n",
       "    </tr>\n",
       "    <tr>\n",
       "      <td>2018-06-01</td>\n",
       "      <td>55.889571</td>\n",
       "      <td>406.701220</td>\n",
       "      <td>15.424461</td>\n",
       "      <td>33.402439</td>\n",
       "      <td>1218.048780</td>\n",
       "    </tr>\n",
       "    <tr>\n",
       "      <td>2018-07-01</td>\n",
       "      <td>56.726368</td>\n",
       "      <td>419.288557</td>\n",
       "      <td>15.374170</td>\n",
       "      <td>33.751244</td>\n",
       "      <td>1240.502488</td>\n",
       "    </tr>\n",
       "    <tr>\n",
       "      <td>2018-08-01</td>\n",
       "      <td>59.230769</td>\n",
       "      <td>433.191489</td>\n",
       "      <td>16.221406</td>\n",
       "      <td>33.638298</td>\n",
       "      <td>1337.612766</td>\n",
       "    </tr>\n",
       "    <tr>\n",
       "      <td>2018-09-01</td>\n",
       "      <td>59.776062</td>\n",
       "      <td>440.080769</td>\n",
       "      <td>15.921464</td>\n",
       "      <td>33.638462</td>\n",
       "      <td>1267.576923</td>\n",
       "    </tr>\n",
       "    <tr>\n",
       "      <td>2018-10-01</td>\n",
       "      <td>60.167235</td>\n",
       "      <td>438.295918</td>\n",
       "      <td>16.364378</td>\n",
       "      <td>33.765306</td>\n",
       "      <td>1382.710884</td>\n",
       "    </tr>\n",
       "    <tr>\n",
       "      <td>2018-11-01</td>\n",
       "      <td>61.698413</td>\n",
       "      <td>447.620253</td>\n",
       "      <td>16.499704</td>\n",
       "      <td>34.075949</td>\n",
       "      <td>1362.566456</td>\n",
       "    </tr>\n",
       "    <tr>\n",
       "      <td>2018-12-01</td>\n",
       "      <td>66.684524</td>\n",
       "      <td>489.964497</td>\n",
       "      <td>17.636788</td>\n",
       "      <td>35.887574</td>\n",
       "      <td>1597.588757</td>\n",
       "    </tr>\n",
       "  </tbody>\n",
       "</table>\n",
       "</div>"
      ],
      "text/plain": [
       "            calls_count  calls_duration_sum    gb_used  message_count  \\\n",
       "month                                                                   \n",
       "2018-01-01    27.676471          209.647059   8.314177      18.235294   \n",
       "2018-02-01    40.189655          306.310345  11.325248      24.086207   \n",
       "2018-03-01    54.324675          400.532468  14.750155      31.857143   \n",
       "2018-04-01    51.312500          377.000000  13.146661      30.741071   \n",
       "2018-05-01    55.241135          398.404255  15.434750      33.773050   \n",
       "2018-06-01    55.889571          406.701220  15.424461      33.402439   \n",
       "2018-07-01    56.726368          419.288557  15.374170      33.751244   \n",
       "2018-08-01    59.230769          433.191489  16.221406      33.638298   \n",
       "2018-09-01    59.776062          440.080769  15.921464      33.638462   \n",
       "2018-10-01    60.167235          438.295918  16.364378      33.765306   \n",
       "2018-11-01    61.698413          447.620253  16.499704      34.075949   \n",
       "2018-12-01    66.684524          489.964497  17.636788      35.887574   \n",
       "\n",
       "                  summa  \n",
       "month                    \n",
       "2018-01-01   723.352941  \n",
       "2018-02-01   835.051724  \n",
       "2018-03-01  1178.571429  \n",
       "2018-04-01   974.875000  \n",
       "2018-05-01  1210.595745  \n",
       "2018-06-01  1218.048780  \n",
       "2018-07-01  1240.502488  \n",
       "2018-08-01  1337.612766  \n",
       "2018-09-01  1267.576923  \n",
       "2018-10-01  1382.710884  \n",
       "2018-11-01  1362.566456  \n",
       "2018-12-01  1597.588757  "
      ]
     },
     "metadata": {},
     "output_type": "display_data"
    },
    {
     "data": {
      "text/plain": [
       "351"
      ]
     },
     "execution_count": 34,
     "metadata": {},
     "output_type": "execute_result"
    }
   ],
   "source": [
    "report_smart_grouped = report_smart.pivot_table(index='month', values = ['calls_duration_sum', 'calls_count', 'message_count', 'gb_used', 'summa'], aggfunc= 'mean')\n",
    "display(report_smart_grouped)\n",
    "len(report_smart['user_id'].unique())"
   ]
  },
  {
   "cell_type": "code",
   "execution_count": 35,
   "metadata": {
    "scrolled": false
   },
   "outputs": [
    {
     "data": {
      "image/png": "[encoded data removed]",
      "text/plain": [
       "<Figure size 432x288 with 1 Axes>"
      ]
     },
     "metadata": {
      "needs_background": "light"
     },
     "output_type": "display_data"
    },
    {
     "name": "stdout",
     "output_type": "stream",
     "text": [
      "Среднее значение calls_duration_sum 397.25306919955443\n",
      "Дисперсия значение calls_duration_sum 5033.854207603631\n",
      "Стандартное отклонение значение calls_duration_sum 70.94965967221852\n"
     ]
    },
    {
     "data": {
      "image/png": "[encoded data removed]",
      "text/plain": [
       "<Figure size 432x288 with 1 Axes>"
      ]
     },
     "metadata": {
      "needs_background": "light"
     },
     "output_type": "display_data"
    },
    {
     "data": {
      "image/png": "[encoded data removed]",
      "text/plain": [
       "<Figure size 432x288 with 1 Axes>"
      ]
     },
     "metadata": {
      "needs_background": "light"
     },
     "output_type": "display_data"
    },
    {
     "name": "stdout",
     "output_type": "stream",
     "text": [
      "Среднее значение calls_count 54.076448129841395\n",
      "Дисперсия значение calls_count 101.86475596124963\n",
      "Стандартное отклонение значение calls_count 10.092807139802565\n"
     ]
    },
    {
     "data": {
      "image/png": "[encoded data removed]",
      "text/plain": [
       "<Figure size 432x288 with 1 Axes>"
      ]
     },
     "metadata": {
      "needs_background": "light"
     },
     "output_type": "display_data"
    },
    {
     "data": {
      "image/png": "[encoded data removed]",
      "text/plain": [
       "<Figure size 432x288 with 1 Axes>"
      ]
     },
     "metadata": {
      "needs_background": "light"
     },
     "output_type": "display_data"
    },
    {
     "name": "stdout",
     "output_type": "stream",
     "text": [
      "Среднее значение message_count 31.404336384635375\n",
      "Дисперсия значение message_count 23.79398757463942\n",
      "Стандартное отклонение значение message_count 4.877908114616287\n"
     ]
    },
    {
     "data": {
      "image/png": "[encoded data removed]",
      "text/plain": [
       "<Figure size 432x288 with 1 Axes>"
      ]
     },
     "metadata": {
      "needs_background": "light"
     },
     "output_type": "display_data"
    },
    {
     "data": {
      "image/png": "[encoded data removed]",
      "text/plain": [
       "<Figure size 432x288 with 1 Axes>"
      ]
     },
     "metadata": {
      "needs_background": "light"
     },
     "output_type": "display_data"
    },
    {
     "name": "stdout",
     "output_type": "stream",
     "text": [
      "Среднее значение gb_used 14.701113614624282\n",
      "Дисперсия значение gb_used 6.211892818927102\n",
      "Стандартное отклонение значение gb_used 2.49236691097581\n"
     ]
    },
    {
     "data": {
      "image/png": "[encoded data removed]",
      "text/plain": [
       "<Figure size 432x288 with 1 Axes>"
      ]
     },
     "metadata": {
      "needs_background": "light"
     },
     "output_type": "display_data"
    }
   ],
   "source": [
    "for column in list_qualities:\n",
    "    report_smart.hist(column, bins = 100)\n",
    "    plt.show()\n",
    "    print('Среднее значение', column, report_smart_grouped[column].mean())\n",
    "    print('Дисперсия значение', column, np.var(report_smart_grouped[column]))\n",
    "    print('Стандартное отклонение значение', column, np.std(report_smart_grouped[column]))\n",
    "    report_smart.boxplot(column)\n",
    "    plt.show()"
   ]
  },
  {
   "cell_type": "code",
   "execution_count": 36,
   "metadata": {},
   "outputs": [
    {
     "data": {
      "text/plain": [
       "count    986.000000\n",
       "mean      18.993223\n",
       "std        9.864351\n",
       "min        0.000000\n",
       "25%       11.473228\n",
       "50%       18.851582\n",
       "75%       26.206919\n",
       "max       48.579775\n",
       "Name: gb_used, dtype: float64"
      ]
     },
     "execution_count": 36,
     "metadata": {},
     "output_type": "execute_result"
    }
   ],
   "source": [
    "report_ultra['gb_used'].describe()"
   ]
  },
  {
   "cell_type": "code",
   "execution_count": 37,
   "metadata": {},
   "outputs": [
    {
     "name": "stdout",
     "output_type": "stream",
     "text": [
      "Количесвто клиентов, которым выгоднее уйти с тарифа Ультра на Смарт (без доплаты за трафик и звонки) 105\n",
      "Количесвто клиентов, которым выгоднее уйти с тарифа Ультра на Смарт (c доплатой за трафик до 19 гб и минуты до 700) 119\n"
     ]
    }
   ],
   "source": [
    "print('Количесвто клиентов, которым выгоднее уйти с тарифа Ультра на Смарт (без доплаты за трафик и звонки)', len(report_ultra.query('gb_used <= 15 and calls_duration_sum <= 500')['user_id'].unique()))\n",
    "print('Количесвто клиентов, которым выгоднее уйти с тарифа Ультра на Смарт (c доплатой за трафик до 19 гб и минуты до 700)', len(report_ultra.query('gb_used <= 19 and calls_duration_sum <= 700')['user_id'].unique()))"
   ]
  },
  {
   "cell_type": "code",
   "execution_count": null,
   "metadata": {},
   "outputs": [],
   "source": []
  },
  {
   "cell_type": "markdown",
   "metadata": {},
   "source": [
    "### Выводы\n",
    "Между двумя тарифами клиенты распределены не равномерно - большая часть выборки относится к тарифу \"Смарт\" (351 из 500 клиентов). Распределение величин по параметрам длительность звонков за месяц, количество звонков, количество использованного трафика для каждого клиента за каждый месяц похоже на нормальное с длиными хвостами вправо, поскольку отрицательные значения не возможны. Так же для всех исследуемых критериев есть выбросы в 0 - кто-то вообще не пользуется звонками, кто-то сообщениями - предпочитая тратить интернет -трафик взамен. При этом значения использованного трафика около 0 можно считать выбросами - таких клиентов очень мало среди пользователей тарифа \"Смарт\".  \n",
    "\n",
    "Клиенты тарифа \"Ультра\" делают в среднем за месяц:\n",
    "- совершают 71 звонок (стандартное отклонение (std) = 11.34), если исключить звонки длительностью 0 - 58 звонков (стандартное отклонение (std) = 8.9)\n",
    "- общая длительность этих звонков - 508.99 мин (std = 75.7)\n",
    "- отправляют сообщений - 44 (std = 11.7)\n",
    "- используют 19 Gb интернета (std = 2.8)\n",
    "\n",
    "\n",
    "Клиенты тарифа \"Смарт\" делают в среднем за месяц:\n",
    "- совершают 54 звонка (std = 10), если исключить звонки длительностью 0 - 44 звонка (std = 7.9)\n",
    "- общая длительность этих звонков - 397.25 мин (std = 70.95)\n",
    "- отправляют сообщений - 31 (std = 4.9)\n",
    "- используют 14.7 Gb интернета (std = 2.5)\n",
    "\n",
    "\n",
    "Пользователи тарифа \"Ультра\" в основном не используют половину доступных минут (75% клиентов использует до 772,5 минут из 3000), сообщений (75% клиентов используют 79 сообщение из 1000 доступных), не израсходуют свой трафик (26.2 Gb из 30)\n",
    "Пользователи тарифа \"Смарт\" исползуют обльшую часть предоставленных минут, сообщений и Gb. При этом большей части клиентов не хватает доступного трафика (медиана использованных Gb  - 16.12, а 75% - 19.57 Gb)\n",
    "\n",
    "\n"
   ]
  },
  {
   "cell_type": "markdown",
   "metadata": {},
   "source": [
    "### Шаг 4: Проверить гипотезы"
   ]
  },
  {
   "cell_type": "code",
   "execution_count": 38,
   "metadata": {},
   "outputs": [
    {
     "data": {
      "text/plain": [
       "<matplotlib.axes._subplots.AxesSubplot at 0x7fcd7805d890>"
      ]
     },
     "execution_count": 38,
     "metadata": {},
     "output_type": "execute_result"
    },
    {
     "data": {
      "image/png": "[encoded data removed]",
      "text/plain": [
       "<Figure size 432x288 with 1 Axes>"
      ]
     },
     "metadata": {
      "needs_background": "light"
     },
     "output_type": "display_data"
    }
   ],
   "source": [
    "report['summa'].hist(bins = 100)"
   ]
  },
  {
   "cell_type": "markdown",
   "metadata": {},
   "source": [
    "#### 1 Гипотеза: Средняя выручка пользователей тарифов \"Смарт\" и \"Ультра\" равны (Н0).\n",
    "Альтернативная: Средняя выручка пользователей тарифов \"Смарт\" и \"Ультра\" не равны (Н1)."
   ]
  },
  {
   "cell_type": "markdown",
   "metadata": {},
   "source": [
    "Для оценки распределения выручки по тариффам используем метод st.ttest_ind(), поскольку выборка в обоих случаях больше 50, и выборки не пересекаются между собой, поскольку изначально в данной базе было 500 непересекающихся клиентов. "
   ]
  },
  {
   "cell_type": "code",
   "execution_count": 39,
   "metadata": {},
   "outputs": [
    {
     "name": "stdout",
     "output_type": "stream",
     "text": [
      "р-значение 2.2280145134901475e-238\n",
      "Отвергаем нулевую гипотезу\n",
      "Всего получено за год по тарифу \"Смарт\", руб: 2913740.0\n",
      "Всего получено за год по тарифу \"Ультра\", руб: 2041050.0\n",
      "Абонентская плата за год, руб: 3149200\n",
      "Всего за год, руб: 4954790.0\n",
      "Всего получено за месяц на клиента по тарифу \"Смарт\", руб: 1306.6098654708521\n",
      "из них сверх абонентской платы 756.6098654708521\n",
      "Всего получено за месяц на клиента по тарифу \"Ультра\", руб: 2070.030425963489\n",
      "из них сверх абонентской платы 120.03042596348905\n"
     ]
    }
   ],
   "source": [
    "alpha = .05\n",
    "results1 = st.ttest_ind(report_ultra['summa'], report_smart['summa'], equal_var = False)\n",
    "print('р-значение', results1.pvalue)\n",
    "if (results1.pvalue < alpha):\n",
    "    print(\"Отвергаем нулевую гипотезу\")\n",
    "else:\n",
    "    print(\"Не получилось отвергнуть нулевую гипотезу\")\n",
    "    \n",
    "    \n",
    "\n",
    "print('Всего получено за год по тарифу \"Смарт\", руб:', report.query('tariff_name == \"smart\"')['summa'].sum())\n",
    "print('Всего получено за год по тарифу \"Ультра\", руб:', report.query('tariff_name == \"ultra\"')['summa'].sum())\n",
    "print('Абонентская плата за год, руб:', report['rub_monthly_fee'].sum())\n",
    "print('Всего за год, руб:', report['summa'].sum())\n",
    "print('Всего получено за месяц на клиента по тарифу \"Смарт\", руб:', report.query('tariff_name == \"smart\"')['summa'].mean())\n",
    "print('из них сверх абонентской платы', report.query('tariff_name == \"smart\"')['summa'].mean() - 550)\n",
    "print('Всего получено за месяц на клиента по тарифу \"Ультра\", руб:', report.query('tariff_name == \"ultra\"')['summa'].mean())\n",
    "print('из них сверх абонентской платы', report.query('tariff_name == \"ultra\"')['summa'].mean() - 1950)"
   ]
  },
  {
   "cell_type": "markdown",
   "metadata": {},
   "source": [
    "#### 2 Гипотеза: Средняя выручка пользователей из Москвы не отличается от пользователей других регионов (Н0)\n",
    "Альтернативная: Средняя выручка пользователей из Москвы отличаются от пользователей других регионов (Н1)."
   ]
  },
  {
   "cell_type": "markdown",
   "metadata": {},
   "source": [
    "Для оценки распределения выручки по тариффам используем метод st.ttest_ind(), поскольку выборка в обоих случаях больше 50, и выборки не пересекаются между собой, поскольку изначально в данной базе было 500 непересекающихся клиентов."
   ]
  },
  {
   "cell_type": "code",
   "execution_count": 40,
   "metadata": {},
   "outputs": [
    {
     "name": "stdout",
     "output_type": "stream",
     "text": [
      "р-значение 0.570512062814858\n",
      "Не получилось отвергнуть нулевую гипотезу\n"
     ]
    }
   ],
   "source": [
    "results2 = st.ttest_ind(report.query('city == \"Москва\"')['summa'], report.query('city != \"Москва\"')['summa'], equal_var = False)\n",
    "print('р-значение', results2.pvalue)\n",
    "if (results2.pvalue < alpha):\n",
    "    print(\"Отвергаем нулевую гипотезу\")\n",
    "else:\n",
    "    print(\"Не получилось отвергнуть нулевую гипотезу\")"
   ]
  },
  {
   "cell_type": "markdown",
   "metadata": {},
   "source": [
    "#### 3 Гипотеза: Пользователи уходят с тарифа с одинаковой частотой (Н0)\n",
    "Альтернативная: Пользователи уходят с тарифов с разной частотой (Н1)"
   ]
  },
  {
   "cell_type": "code",
   "execution_count": 41,
   "metadata": {},
   "outputs": [
    {
     "name": "stdout",
     "output_type": "stream",
     "text": [
      "р-значение 0.21144209958483215\n",
      "Не получилось отвергнуть нулевую гипотезу\n"
     ]
    }
   ],
   "source": [
    "data_users['leave_tariff'] = (data_users['churn_date'] == '2019-12-31')  \n",
    "results3 = st.ttest_ind(data_users.query('tariff == \"smart\"')['leave_tariff'], data_users.query('tariff == \"ultra\"')['leave_tariff'], equal_var = False)\n",
    "print('р-значение', results3.pvalue)\n",
    "if (results3.pvalue < alpha):\n",
    "    print(\"Отвергаем нулевую гипотезу\")\n",
    "else:\n",
    "    print(\"Не получилось отвергнуть нулевую гипотезу\")"
   ]
  },
  {
   "cell_type": "markdown",
   "metadata": {},
   "source": [
    "### Выводы\n",
    "По итогам исследования гипотез:\n",
    "- Средняя выручка пользователей тарифов \"Смарт\" и \"Ультра\" не равны между собой. Учитывая базовую стоимость тарифа \"Ультра\" можно сделать предположение, что средняя выручка с пользователя тарифа \"Ультра\" больше, чем с тарифа \"Смарт\".\n",
    "- Нельзя уверенно утвверждать, что есть разница в выручке между пользователями тарифов из Москвы и из других городов. p-value  по гипотезе равенства выручки составило 0.52. Но выборка по клиентам показывает, что всего на 500 клиентов приходится 99 жителей Москвы. Что не может не влиять на результат."
   ]
  },
  {
   "cell_type": "markdown",
   "metadata": {},
   "source": [
    "## Вывод\n",
    "Среди предложенных 500 клиентов, 351 являются пользователями тарифа \"Смарт\", а 149 - пользователями тарифа \"Ультра\". Но за интересующий период (2018год) часть этой выборки определенное время не являлась пользователями нужных тарифов - это уменьшило количество данных для сравнения.\n",
    "В выгруженных данных нет критичных пропусков. \n",
    "Все даты во всех выгруженных файлах идут в формате 'object', что затрудняет работу с ними.\n",
    "\n",
    "За 2018 год все клиенты за период пользования интересующих тарифов принесли выручку в размере 4 916 951р. В данную сумму включена и базовая стоимость тарифов (3 149 200р), и оплата за использование сверх тарифа минут, сообщения, гигабайт.\n",
    "\n",
    "Клиенты тарифа \"Ультра\" делают в среднем за месяц:\n",
    "- 58 звонков (стандартное отклонение (std) = 8.9)\n",
    "- общая длительность этих звонков - 495.6 мин (std = 73.7)\n",
    "- отправляют сообщений - 44 (std = 11.7)\n",
    "- используют 19 Gb интернета (std = 2.8)\n",
    "\n",
    "\n",
    "Клиенты тарифа \"Смарт\" делают в среднем за месяц:\n",
    "- совершают 44 звонка (std = 7.9)\n",
    "- общая длительность этих звонков - 386.6 мин (std = 69)\n",
    "- отправляют сообщений - 31 (std = 4.9)\n",
    "- используют 14.7 Gb интернета (std = 2.5)\n",
    "\n",
    "\n",
    "Пользователи тарифа \"Ультра\" в основном не используют половину доступных минут (75% клиентов использует до 545 минут из 3000), сообщений (75% клиентов используют 51 сообщение из 1000 доступных), не израсходуют свой трафик (26.2 Gb из 30)\n",
    "\n",
    "\n",
    "Пользователи тарифа \"Смарт\" исползуют обльшую часть предоставленных минут, сообщений и Gb. При этом большей части клиентов не хватает доступного трафика  (медиана использованных Gb  - 16.12, а 75% - 19.57 Gb).\n",
    "\n",
    "\n",
    "##### Рекомендации отделу маркетинга: стоит больше уделить внимания тарифу \"Смарт\" \n",
    "За год больше денег принесли пользователи тарифа \"Смарт\". Этот тариф приносит больше дохода за счет дополнительных gb трафика сверх тарифа, которые оплачивают пользователи. Это позволяет перекрыть разницу в абонентской плате по тарифу. Пользователи тарифа \"Смарт\" платят сверх тарифа в среднем 756 руб., а пользователи тарифа \"Ультра\" - 120 руб.\n",
    "Средняя выручка пользователей тарифов \"Смарт\" и \"Ультра\" не равны между собой. Учитывая базовую стоимость тарифа \"Ультра\" можно сделать предположение, что средняя выручка с пользователя тарифа \"Ультра\" больше, чем с тарифа \"Смарт\". Но, самих пользователей тарифа \"Ультра\" в данной выборке меньше, чем пользователей тарифа \"Смарт\". В итоге за год тариф \"Смарт\" принес больше денег (2 875 901р), чем тариф \"Ультра\" (2 041 050р). В тоже время за год с тарифа \"Смарт\" ушло 23 человека (6.5%), в то время как с \"Ультра\" ушло 15 человек (10%), но не получилось отвергнуть гипотезу о случайном получении таких различий.\n",
    "\n",
    "##### Рекомендации отделу маркетинга: нет оснований разделять рекламную компанию по городам.\n",
    "Нельзя уверенно утвверждать, что есть разница в выручке между пользователями тарифов из Москвы и из других городов. Выборка по клиентам показывает, что всего на 500 клиентов приходится 99 жителей Москвы. Что может влиять на результат. \n",
    "\n",
    "\n",
    "##### Рекомендации отделу маркетинга: провести анализ клиентов тарифа \"Ультра\", возможно,  предложить более подходящий тариф.\n",
    "У пользователей тарифа \"Смарт\" нет повода переходить на тариф \"Ультра\". В среднем за месяц пользователь тарифа \"Смарт\" тратит 1306 руб/мес, получая при этом достаточное количество минут, сообщений и интернет трафика. При этом все еще тратит меньше, чем пользователи тарифа \"Ультра\", которые используют больше минут и сообщение, но среднее их использование укладывается в границы тарифа \"Смарт\", а доплачивают только за интернет трафик. \n",
    "В тоже время почти половин пользователей тарифа \"Ультра\" может перейти на тариф \"Смарт\" и не переплачивать: 119 человек, из них 105 смогут вписаться в лимит тарифа \"Смарт\" и платить на 1 400р меньше. Такая упущенная выгода приведет к тому, что клиент может отказаться от тарифа самостоятельно и уйти к конкурентам, где более внимательно отнесутся к его финансам. "
   ]
  }
 ],
 "metadata": {
  "kernelspec": {
   "display_name": "Python 3",
   "language": "python",
   "name": "python3"
  },
  "language_info": {
   "codemirror_mode": {
    "name": "ipython",
    "version": 3
   },
   "file_extension": ".py",
   "mimetype": "text/x-python",
   "name": "python",
   "nbconvert_exporter": "python",
   "pygments_lexer": "ipython3",
   "version": "3.7.6"
  }
 },
 "nbformat": 4,
 "nbformat_minor": 2
}
