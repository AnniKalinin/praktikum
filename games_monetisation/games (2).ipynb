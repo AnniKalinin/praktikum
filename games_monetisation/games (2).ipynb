{
 "cells": [
  {
   "cell_type": "markdown",
   "metadata": {},
   "source": [
    "## Выпускной проект: \"Формирование модели монетизации\""
   ]
  },
  {
   "cell_type": "markdown",
   "metadata": {},
   "source": [
    "### Задача\n",
    "\n",
    "Сформировать модель монетизации игрового приложения.\n",
    "\n",
    "\n",
    "\n",
    "1. Исследовательский анализ данных\n",
    "\n",
    "2. Анализ влияния событий на совершение целевого события(получение первого уровня)\n",
    "\n",
    "3. Проверка статистических гипотез\n",
    "\n",
    "\n",
    "Основная монетизация игры — только планируется. Но предполагается, что в приложении будет происходить показ рекламы на экране с выбором типа объекта для постройки.\n",
    "\n",
    "В датасете представлены данные по игре пользователей на первом уровне.\n",
    "\n",
    "Ссылка на презентацию https://docs.google.com/presentation/d/1D9_0i8MdR6m84RqqxL7KttklhwIdne4lfEyERDXCzrY/edit?usp=sharing"
   ]
  },
  {
   "cell_type": "code",
   "execution_count": 1,
   "metadata": {},
   "outputs": [],
   "source": [
    "import pandas as pd\n",
    "import datetime as dt\n",
    "import numpy as np\n",
    "import matplotlib.pyplot as plt\n",
    "import seaborn as sns\n",
    "from scipy import stats as st\n",
    "import warnings\n",
    "import math as mth\n",
    "from pandas.plotting import register_matplotlib_converters\n",
    "from plotly import graph_objects as go\n",
    "import datetime as dt \n",
    "import plotly.express as px\n",
    "from datetime import timedelta\n",
    " "
   ]
  },
  {
   "cell_type": "markdown",
   "metadata": {},
   "source": [
    "<a id='1'></a>\n",
    "### 1. Предобработка"
   ]
  },
  {
   "cell_type": "code",
   "execution_count": 2,
   "metadata": {},
   "outputs": [],
   "source": [
    "events = pd.read_csv('/datasets/game_actions.csv')"
   ]
  },
  {
   "cell_type": "code",
   "execution_count": 3,
   "metadata": {},
   "outputs": [
    {
     "data": {
      "text/html": [
       "<div>\n",
       "<style scoped>\n",
       "    .dataframe tbody tr th:only-of-type {\n",
       "        vertical-align: middle;\n",
       "    }\n",
       "\n",
       "    .dataframe tbody tr th {\n",
       "        vertical-align: top;\n",
       "    }\n",
       "\n",
       "    .dataframe thead th {\n",
       "        text-align: right;\n",
       "    }\n",
       "</style>\n",
       "<table border=\"1\" class=\"dataframe\">\n",
       "  <thead>\n",
       "    <tr style=\"text-align: right;\">\n",
       "      <th></th>\n",
       "      <th>event_datetime</th>\n",
       "      <th>event</th>\n",
       "      <th>building_type</th>\n",
       "      <th>user_id</th>\n",
       "      <th>project_type</th>\n",
       "    </tr>\n",
       "  </thead>\n",
       "  <tbody>\n",
       "    <tr>\n",
       "      <td>0</td>\n",
       "      <td>2020-05-04 00:00:01</td>\n",
       "      <td>building</td>\n",
       "      <td>assembly_shop</td>\n",
       "      <td>55e92310-cb8e-4754-b622-597e124b03de</td>\n",
       "      <td>NaN</td>\n",
       "    </tr>\n",
       "    <tr>\n",
       "      <td>1</td>\n",
       "      <td>2020-05-04 00:00:03</td>\n",
       "      <td>building</td>\n",
       "      <td>assembly_shop</td>\n",
       "      <td>c07b1c10-f477-44dc-81dc-ec82254b1347</td>\n",
       "      <td>NaN</td>\n",
       "    </tr>\n",
       "    <tr>\n",
       "      <td>2</td>\n",
       "      <td>2020-05-04 00:00:16</td>\n",
       "      <td>building</td>\n",
       "      <td>assembly_shop</td>\n",
       "      <td>6edd42cc-e753-4ff6-a947-2107cd560710</td>\n",
       "      <td>NaN</td>\n",
       "    </tr>\n",
       "    <tr>\n",
       "      <td>3</td>\n",
       "      <td>2020-05-04 00:00:16</td>\n",
       "      <td>building</td>\n",
       "      <td>assembly_shop</td>\n",
       "      <td>92c69003-d60a-444a-827f-8cc51bf6bf4c</td>\n",
       "      <td>NaN</td>\n",
       "    </tr>\n",
       "    <tr>\n",
       "      <td>4</td>\n",
       "      <td>2020-05-04 00:00:35</td>\n",
       "      <td>building</td>\n",
       "      <td>assembly_shop</td>\n",
       "      <td>cdc6bb92-0ccb-4490-9866-ef142f09139d</td>\n",
       "      <td>NaN</td>\n",
       "    </tr>\n",
       "  </tbody>\n",
       "</table>\n",
       "</div>"
      ],
      "text/plain": [
       "        event_datetime     event  building_type  \\\n",
       "0  2020-05-04 00:00:01  building  assembly_shop   \n",
       "1  2020-05-04 00:00:03  building  assembly_shop   \n",
       "2  2020-05-04 00:00:16  building  assembly_shop   \n",
       "3  2020-05-04 00:00:16  building  assembly_shop   \n",
       "4  2020-05-04 00:00:35  building  assembly_shop   \n",
       "\n",
       "                                user_id project_type  \n",
       "0  55e92310-cb8e-4754-b622-597e124b03de          NaN  \n",
       "1  c07b1c10-f477-44dc-81dc-ec82254b1347          NaN  \n",
       "2  6edd42cc-e753-4ff6-a947-2107cd560710          NaN  \n",
       "3  92c69003-d60a-444a-827f-8cc51bf6bf4c          NaN  \n",
       "4  cdc6bb92-0ccb-4490-9866-ef142f09139d          NaN  "
      ]
     },
     "execution_count": 3,
     "metadata": {},
     "output_type": "execute_result"
    }
   ],
   "source": [
    "events.head()"
   ]
  },
  {
   "cell_type": "code",
   "execution_count": 4,
   "metadata": {},
   "outputs": [
    {
     "name": "stdout",
     "output_type": "stream",
     "text": [
      "<class 'pandas.core.frame.DataFrame'>\n",
      "RangeIndex: 135640 entries, 0 to 135639\n",
      "Data columns (total 5 columns):\n",
      "event_datetime    135640 non-null object\n",
      "event             135640 non-null object\n",
      "building_type     127957 non-null object\n",
      "user_id           135640 non-null object\n",
      "project_type      1866 non-null object\n",
      "dtypes: object(5)\n",
      "memory usage: 5.2+ MB\n"
     ]
    }
   ],
   "source": [
    "events.info()"
   ]
  },
  {
   "cell_type": "code",
   "execution_count": 5,
   "metadata": {},
   "outputs": [
    {
     "data": {
      "text/plain": [
       "13576"
      ]
     },
     "execution_count": 5,
     "metadata": {},
     "output_type": "execute_result"
    }
   ],
   "source": [
    "len(events['user_id'].unique())"
   ]
  },
  {
   "cell_type": "code",
   "execution_count": 6,
   "metadata": {},
   "outputs": [],
   "source": [
    "user_source = pd.read_csv('/datasets/user_source.csv')"
   ]
  },
  {
   "cell_type": "code",
   "execution_count": 7,
   "metadata": {},
   "outputs": [
    {
     "data": {
      "text/html": [
       "<div>\n",
       "<style scoped>\n",
       "    .dataframe tbody tr th:only-of-type {\n",
       "        vertical-align: middle;\n",
       "    }\n",
       "\n",
       "    .dataframe tbody tr th {\n",
       "        vertical-align: top;\n",
       "    }\n",
       "\n",
       "    .dataframe thead th {\n",
       "        text-align: right;\n",
       "    }\n",
       "</style>\n",
       "<table border=\"1\" class=\"dataframe\">\n",
       "  <thead>\n",
       "    <tr style=\"text-align: right;\">\n",
       "      <th></th>\n",
       "      <th>user_id</th>\n",
       "      <th>source</th>\n",
       "    </tr>\n",
       "  </thead>\n",
       "  <tbody>\n",
       "    <tr>\n",
       "      <td>0</td>\n",
       "      <td>0001f83c-c6ac-4621-b7f0-8a28b283ac30</td>\n",
       "      <td>facebook_ads</td>\n",
       "    </tr>\n",
       "    <tr>\n",
       "      <td>1</td>\n",
       "      <td>00151b4f-ba38-44a8-a650-d7cf130a0105</td>\n",
       "      <td>yandex_direct</td>\n",
       "    </tr>\n",
       "    <tr>\n",
       "      <td>2</td>\n",
       "      <td>001aaea6-3d14-43f1-8ca8-7f48820f17aa</td>\n",
       "      <td>youtube_channel_reklama</td>\n",
       "    </tr>\n",
       "    <tr>\n",
       "      <td>3</td>\n",
       "      <td>001d39dc-366c-4021-9604-6a3b9ff01e25</td>\n",
       "      <td>instagram_new_adverts</td>\n",
       "    </tr>\n",
       "    <tr>\n",
       "      <td>4</td>\n",
       "      <td>002f508f-67b6-479f-814b-b05f00d4e995</td>\n",
       "      <td>facebook_ads</td>\n",
       "    </tr>\n",
       "  </tbody>\n",
       "</table>\n",
       "</div>"
      ],
      "text/plain": [
       "                                user_id                   source\n",
       "0  0001f83c-c6ac-4621-b7f0-8a28b283ac30             facebook_ads\n",
       "1  00151b4f-ba38-44a8-a650-d7cf130a0105            yandex_direct\n",
       "2  001aaea6-3d14-43f1-8ca8-7f48820f17aa  youtube_channel_reklama\n",
       "3  001d39dc-366c-4021-9604-6a3b9ff01e25    instagram_new_adverts\n",
       "4  002f508f-67b6-479f-814b-b05f00d4e995             facebook_ads"
      ]
     },
     "execution_count": 7,
     "metadata": {},
     "output_type": "execute_result"
    }
   ],
   "source": [
    "user_source.head()"
   ]
  },
  {
   "cell_type": "code",
   "execution_count": 8,
   "metadata": {},
   "outputs": [
    {
     "name": "stdout",
     "output_type": "stream",
     "text": [
      "<class 'pandas.core.frame.DataFrame'>\n",
      "RangeIndex: 13576 entries, 0 to 13575\n",
      "Data columns (total 2 columns):\n",
      "user_id    13576 non-null object\n",
      "source     13576 non-null object\n",
      "dtypes: object(2)\n",
      "memory usage: 212.2+ KB\n"
     ]
    }
   ],
   "source": [
    "user_source.info()"
   ]
  },
  {
   "cell_type": "code",
   "execution_count": 9,
   "metadata": {},
   "outputs": [
    {
     "data": {
      "text/plain": [
       "13576"
      ]
     },
     "execution_count": 9,
     "metadata": {},
     "output_type": "execute_result"
    }
   ],
   "source": [
    "len(user_source['user_id'].unique())"
   ]
  },
  {
   "cell_type": "code",
   "execution_count": 10,
   "metadata": {},
   "outputs": [],
   "source": [
    "ad_costs = pd.read_csv('/datasets/ad_costs.csv')"
   ]
  },
  {
   "cell_type": "code",
   "execution_count": 11,
   "metadata": {},
   "outputs": [],
   "source": [
    "ad_costs.head()\n",
    "ad_costs['day'] = pd.to_datetime(ad_costs['day'], format='%Y-%m-%d')"
   ]
  },
  {
   "cell_type": "code",
   "execution_count": 12,
   "metadata": {},
   "outputs": [],
   "source": [
    "events['event_datetime'] = pd.to_datetime(events['event_datetime'], format ='%Y-%m-%d %H:%M:%S')"
   ]
  },
  {
   "cell_type": "code",
   "execution_count": 13,
   "metadata": {},
   "outputs": [
    {
     "name": "stdout",
     "output_type": "stream",
     "text": [
      "<class 'pandas.core.frame.DataFrame'>\n",
      "RangeIndex: 135640 entries, 0 to 135639\n",
      "Data columns (total 5 columns):\n",
      "event_datetime    135640 non-null datetime64[ns]\n",
      "event             135640 non-null object\n",
      "building_type     127957 non-null object\n",
      "user_id           135640 non-null object\n",
      "project_type      1866 non-null object\n",
      "dtypes: datetime64[ns](1), object(4)\n",
      "memory usage: 5.2+ MB\n"
     ]
    }
   ],
   "source": [
    "events.info()"
   ]
  },
  {
   "cell_type": "code",
   "execution_count": 14,
   "metadata": {},
   "outputs": [],
   "source": [
    "events['date'] = events['event_datetime'].dt.date\n",
    "events['week'] = events['date'].astype('datetime64[W]')"
   ]
  },
  {
   "cell_type": "code",
   "execution_count": 15,
   "metadata": {},
   "outputs": [
    {
     "data": {
      "text/plain": [
       "array([datetime.date(2020, 5, 4), datetime.date(2020, 5, 5),\n",
       "       datetime.date(2020, 5, 6), datetime.date(2020, 5, 7),\n",
       "       datetime.date(2020, 5, 8), datetime.date(2020, 5, 9),\n",
       "       datetime.date(2020, 5, 10), datetime.date(2020, 5, 11),\n",
       "       datetime.date(2020, 5, 12), datetime.date(2020, 5, 13),\n",
       "       datetime.date(2020, 5, 14), datetime.date(2020, 5, 15),\n",
       "       datetime.date(2020, 5, 16), datetime.date(2020, 5, 17),\n",
       "       datetime.date(2020, 5, 18), datetime.date(2020, 5, 19),\n",
       "       datetime.date(2020, 5, 20), datetime.date(2020, 5, 21),\n",
       "       datetime.date(2020, 5, 22), datetime.date(2020, 5, 23),\n",
       "       datetime.date(2020, 5, 24), datetime.date(2020, 5, 25),\n",
       "       datetime.date(2020, 5, 26), datetime.date(2020, 5, 27),\n",
       "       datetime.date(2020, 5, 28), datetime.date(2020, 5, 29),\n",
       "       datetime.date(2020, 5, 30), datetime.date(2020, 5, 31),\n",
       "       datetime.date(2020, 6, 1), datetime.date(2020, 6, 2),\n",
       "       datetime.date(2020, 6, 3), datetime.date(2020, 6, 4),\n",
       "       datetime.date(2020, 6, 5)], dtype=object)"
      ]
     },
     "execution_count": 15,
     "metadata": {},
     "output_type": "execute_result"
    }
   ],
   "source": [
    "events['date'].unique()"
   ]
  },
  {
   "cell_type": "markdown",
   "metadata": {},
   "source": [
    "в выделенных данных есть события за даты с 5,04,20 по 5,06,20\n"
   ]
  },
  {
   "cell_type": "markdown",
   "metadata": {},
   "source": [
    "### 2. Первичный анализ\n",
    "<a id='2'></a>"
   ]
  },
  {
   "cell_type": "code",
   "execution_count": 16,
   "metadata": {},
   "outputs": [
    {
     "data": {
      "text/html": [
       "<div>\n",
       "<style scoped>\n",
       "    .dataframe tbody tr th:only-of-type {\n",
       "        vertical-align: middle;\n",
       "    }\n",
       "\n",
       "    .dataframe tbody tr th {\n",
       "        vertical-align: top;\n",
       "    }\n",
       "\n",
       "    .dataframe thead th {\n",
       "        text-align: right;\n",
       "    }\n",
       "</style>\n",
       "<table border=\"1\" class=\"dataframe\">\n",
       "  <thead>\n",
       "    <tr style=\"text-align: right;\">\n",
       "      <th></th>\n",
       "      <th>date</th>\n",
       "      <th>user_id</th>\n",
       "    </tr>\n",
       "  </thead>\n",
       "  <tbody>\n",
       "    <tr>\n",
       "      <td>0</td>\n",
       "      <td>2020-05-04</td>\n",
       "      <td>5860</td>\n",
       "    </tr>\n",
       "    <tr>\n",
       "      <td>1</td>\n",
       "      <td>2020-05-05</td>\n",
       "      <td>6382</td>\n",
       "    </tr>\n",
       "    <tr>\n",
       "      <td>2</td>\n",
       "      <td>2020-05-06</td>\n",
       "      <td>6854</td>\n",
       "    </tr>\n",
       "    <tr>\n",
       "      <td>3</td>\n",
       "      <td>2020-05-07</td>\n",
       "      <td>7384</td>\n",
       "    </tr>\n",
       "    <tr>\n",
       "      <td>4</td>\n",
       "      <td>2020-05-08</td>\n",
       "      <td>7891</td>\n",
       "    </tr>\n",
       "    <tr>\n",
       "      <td>5</td>\n",
       "      <td>2020-05-09</td>\n",
       "      <td>8394</td>\n",
       "    </tr>\n",
       "    <tr>\n",
       "      <td>6</td>\n",
       "      <td>2020-05-10</td>\n",
       "      <td>9219</td>\n",
       "    </tr>\n",
       "    <tr>\n",
       "      <td>7</td>\n",
       "      <td>2020-05-11</td>\n",
       "      <td>5995</td>\n",
       "    </tr>\n",
       "    <tr>\n",
       "      <td>8</td>\n",
       "      <td>2020-05-12</td>\n",
       "      <td>5776</td>\n",
       "    </tr>\n",
       "    <tr>\n",
       "      <td>9</td>\n",
       "      <td>2020-05-13</td>\n",
       "      <td>5632</td>\n",
       "    </tr>\n",
       "  </tbody>\n",
       "</table>\n",
       "</div>"
      ],
      "text/plain": [
       "         date  user_id\n",
       "0  2020-05-04     5860\n",
       "1  2020-05-05     6382\n",
       "2  2020-05-06     6854\n",
       "3  2020-05-07     7384\n",
       "4  2020-05-08     7891\n",
       "5  2020-05-09     8394\n",
       "6  2020-05-10     9219\n",
       "7  2020-05-11     5995\n",
       "8  2020-05-12     5776\n",
       "9  2020-05-13     5632"
      ]
     },
     "execution_count": 16,
     "metadata": {},
     "output_type": "execute_result"
    }
   ],
   "source": [
    "events_h = events.groupby('date').agg({'user_id' : 'nunique'}).reset_index()\n",
    "events_h.head(10)"
   ]
  },
  {
   "cell_type": "code",
   "execution_count": 17,
   "metadata": {},
   "outputs": [
    {
     "data": {
      "image/png": "[encoded data removed]",
      "text/plain": [
       "<Figure size 432x288 with 1 Axes>"
      ]
     },
     "metadata": {
      "needs_background": "light"
     },
     "output_type": "display_data"
    }
   ],
   "source": [
    "events_h.plot(x ='date',y = 'user_id', style = 'o-')\n",
    "plt.title('Количество уникальных пользователей')\n",
    "plt.xlabel(\"Дата\")\n",
    "plt.ylabel(\"Количество уникальных пользователей\")\n",
    "plt.xticks(rotation=90)\n",
    "plt.show()"
   ]
  },
  {
   "cell_type": "markdown",
   "metadata": {},
   "source": [
    "По графику видно, что очень мало пользователей, зарегистрировавшихся в игре с 4 по 10 мая все еще продолжают играть. Так же видно пик уникальных пользователей в игре 2020-05-10 - последний день, когда учитываются новые пользователи. "
   ]
  },
  {
   "cell_type": "code",
   "execution_count": 18,
   "metadata": {},
   "outputs": [
    {
     "data": {
      "text/plain": [
       "user_id\n",
       "0001f83c-c6ac-4621-b7f0-8a28b283ac30    2020-05-20\n",
       "00151b4f-ba38-44a8-a650-d7cf130a0105    2020-05-18\n",
       "001aaea6-3d14-43f1-8ca8-7f48820f17aa    2020-05-14\n",
       "001d39dc-366c-4021-9604-6a3b9ff01e25    2020-05-12\n",
       "002f508f-67b6-479f-814b-b05f00d4e995    2020-05-22\n",
       "Name: last_visit_date, dtype: object"
      ]
     },
     "execution_count": 18,
     "metadata": {},
     "output_type": "execute_result"
    }
   ],
   "source": [
    "first_visit_date = events.groupby('user_id')['date'].min()\n",
    "first_visit_date.name = 'first_visit_date'\n",
    "\n",
    "last_visit_date = events.groupby('user_id')['date'].max()\n",
    "last_visit_date.name = 'last_visit_date'\n",
    "last_visit_date.head()"
   ]
  },
  {
   "cell_type": "code",
   "execution_count": 19,
   "metadata": {},
   "outputs": [],
   "source": [
    "events = events.join(first_visit_date, on = 'user_id')\n",
    "events = events.join(last_visit_date, on = 'user_id')"
   ]
  },
  {
   "cell_type": "code",
   "execution_count": 20,
   "metadata": {},
   "outputs": [
    {
     "data": {
      "text/html": [
       "<div>\n",
       "<style scoped>\n",
       "    .dataframe tbody tr th:only-of-type {\n",
       "        vertical-align: middle;\n",
       "    }\n",
       "\n",
       "    .dataframe tbody tr th {\n",
       "        vertical-align: top;\n",
       "    }\n",
       "\n",
       "    .dataframe thead th {\n",
       "        text-align: right;\n",
       "    }\n",
       "</style>\n",
       "<table border=\"1\" class=\"dataframe\">\n",
       "  <thead>\n",
       "    <tr style=\"text-align: right;\">\n",
       "      <th></th>\n",
       "      <th>event_datetime</th>\n",
       "      <th>event</th>\n",
       "      <th>building_type</th>\n",
       "      <th>user_id</th>\n",
       "      <th>project_type</th>\n",
       "      <th>date</th>\n",
       "      <th>week</th>\n",
       "      <th>first_visit_date</th>\n",
       "      <th>last_visit_date</th>\n",
       "      <th>lifetime</th>\n",
       "      <th>total_in_game</th>\n",
       "    </tr>\n",
       "  </thead>\n",
       "  <tbody>\n",
       "    <tr>\n",
       "      <td>0</td>\n",
       "      <td>2020-05-04 00:00:01</td>\n",
       "      <td>building</td>\n",
       "      <td>assembly_shop</td>\n",
       "      <td>55e92310-cb8e-4754-b622-597e124b03de</td>\n",
       "      <td>NaN</td>\n",
       "      <td>2020-05-04</td>\n",
       "      <td>2020-04-30</td>\n",
       "      <td>2020-05-04</td>\n",
       "      <td>2020-05-10</td>\n",
       "      <td>0</td>\n",
       "      <td>6.0</td>\n",
       "    </tr>\n",
       "    <tr>\n",
       "      <td>1</td>\n",
       "      <td>2020-05-04 00:00:03</td>\n",
       "      <td>building</td>\n",
       "      <td>assembly_shop</td>\n",
       "      <td>c07b1c10-f477-44dc-81dc-ec82254b1347</td>\n",
       "      <td>NaN</td>\n",
       "      <td>2020-05-04</td>\n",
       "      <td>2020-04-30</td>\n",
       "      <td>2020-05-04</td>\n",
       "      <td>2020-05-15</td>\n",
       "      <td>0</td>\n",
       "      <td>11.0</td>\n",
       "    </tr>\n",
       "    <tr>\n",
       "      <td>2</td>\n",
       "      <td>2020-05-04 00:00:16</td>\n",
       "      <td>building</td>\n",
       "      <td>assembly_shop</td>\n",
       "      <td>6edd42cc-e753-4ff6-a947-2107cd560710</td>\n",
       "      <td>NaN</td>\n",
       "      <td>2020-05-04</td>\n",
       "      <td>2020-04-30</td>\n",
       "      <td>2020-05-04</td>\n",
       "      <td>2020-05-16</td>\n",
       "      <td>0</td>\n",
       "      <td>12.0</td>\n",
       "    </tr>\n",
       "    <tr>\n",
       "      <td>3</td>\n",
       "      <td>2020-05-04 00:00:16</td>\n",
       "      <td>building</td>\n",
       "      <td>assembly_shop</td>\n",
       "      <td>92c69003-d60a-444a-827f-8cc51bf6bf4c</td>\n",
       "      <td>NaN</td>\n",
       "      <td>2020-05-04</td>\n",
       "      <td>2020-04-30</td>\n",
       "      <td>2020-05-04</td>\n",
       "      <td>2020-05-12</td>\n",
       "      <td>0</td>\n",
       "      <td>8.0</td>\n",
       "    </tr>\n",
       "    <tr>\n",
       "      <td>4</td>\n",
       "      <td>2020-05-04 00:00:35</td>\n",
       "      <td>building</td>\n",
       "      <td>assembly_shop</td>\n",
       "      <td>cdc6bb92-0ccb-4490-9866-ef142f09139d</td>\n",
       "      <td>NaN</td>\n",
       "      <td>2020-05-04</td>\n",
       "      <td>2020-04-30</td>\n",
       "      <td>2020-05-04</td>\n",
       "      <td>2020-05-11</td>\n",
       "      <td>0</td>\n",
       "      <td>7.0</td>\n",
       "    </tr>\n",
       "  </tbody>\n",
       "</table>\n",
       "</div>"
      ],
      "text/plain": [
       "       event_datetime     event  building_type  \\\n",
       "0 2020-05-04 00:00:01  building  assembly_shop   \n",
       "1 2020-05-04 00:00:03  building  assembly_shop   \n",
       "2 2020-05-04 00:00:16  building  assembly_shop   \n",
       "3 2020-05-04 00:00:16  building  assembly_shop   \n",
       "4 2020-05-04 00:00:35  building  assembly_shop   \n",
       "\n",
       "                                user_id project_type        date       week  \\\n",
       "0  55e92310-cb8e-4754-b622-597e124b03de          NaN  2020-05-04 2020-04-30   \n",
       "1  c07b1c10-f477-44dc-81dc-ec82254b1347          NaN  2020-05-04 2020-04-30   \n",
       "2  6edd42cc-e753-4ff6-a947-2107cd560710          NaN  2020-05-04 2020-04-30   \n",
       "3  92c69003-d60a-444a-827f-8cc51bf6bf4c          NaN  2020-05-04 2020-04-30   \n",
       "4  cdc6bb92-0ccb-4490-9866-ef142f09139d          NaN  2020-05-04 2020-04-30   \n",
       "\n",
       "  first_visit_date last_visit_date  lifetime  total_in_game  \n",
       "0       2020-05-04      2020-05-10         0            6.0  \n",
       "1       2020-05-04      2020-05-15         0           11.0  \n",
       "2       2020-05-04      2020-05-16         0           12.0  \n",
       "3       2020-05-04      2020-05-12         0            8.0  \n",
       "4       2020-05-04      2020-05-11         0            7.0  "
      ]
     },
     "execution_count": 20,
     "metadata": {},
     "output_type": "execute_result"
    }
   ],
   "source": [
    "events['lifetime'] = (events['date'] - events['first_visit_date'])/np.timedelta64(1, 'W')\n",
    "events['lifetime'] = events['lifetime'].round().astype('int')\n",
    "events['total_in_game'] = (events['last_visit_date'] - events['first_visit_date'])/np.timedelta64(1, 'D')\n",
    "\n",
    "events.head()"
   ]
  },
  {
   "cell_type": "code",
   "execution_count": 21,
   "metadata": {},
   "outputs": [
    {
     "data": {
      "text/plain": [
       "count    135640.000000\n",
       "mean         11.689760\n",
       "std           4.068289\n",
       "min           0.000000\n",
       "25%           9.000000\n",
       "50%          11.000000\n",
       "75%          14.000000\n",
       "max          31.000000\n",
       "Name: total_in_game, dtype: float64"
      ]
     },
     "execution_count": 21,
     "metadata": {},
     "output_type": "execute_result"
    }
   ],
   "source": [
    "events['total_in_game'].describe()"
   ]
  },
  {
   "cell_type": "code",
   "execution_count": 22,
   "metadata": {},
   "outputs": [
    {
     "data": {
      "image/png": "[encoded data removed]",
      "text/plain": [
       "<Figure size 432x288 with 1 Axes>"
      ]
     },
     "metadata": {
      "needs_background": "light"
     },
     "output_type": "display_data"
    }
   ],
   "source": [
    "plt.title('Длительность жизни игроков')\n",
    "events.boxplot('total_in_game')\n",
    "plt.xlabel(\"Количество дней в игре от первого посещения до достижения 1ур.\")\n",
    "plt.ylabel(\"Количество игроков\")\n",
    "plt.show()"
   ]
  },
  {
   "cell_type": "markdown",
   "metadata": {},
   "source": [
    "Большинство пользователей проводят в игре до 14 дней."
   ]
  },
  {
   "cell_type": "code",
   "execution_count": 23,
   "metadata": {},
   "outputs": [
    {
     "data": {
      "text/plain": [
       "<matplotlib.axes._subplots.AxesSubplot at 0x7f4aaf5b22d0>"
      ]
     },
     "execution_count": 23,
     "metadata": {},
     "output_type": "execute_result"
    },
    {
     "data": {
      "image/png": "[encoded data removed]",
      "text/plain": [
       "<Figure size 936x648 with 2 Axes>"
      ]
     },
     "metadata": {
      "needs_background": "light"
     },
     "output_type": "display_data"
    }
   ],
   "source": [
    "plt.figure(figsize=(13, 9))\n",
    "plt.title('Количество пользователей  день')\n",
    "sns.heatmap(events.pivot_table(index = 'first_visit_date', columns = 'lifetime', values = 'user_id', aggfunc = 'nunique'), annot=True, fmt='.1f', linewidths=1, linecolor='gray') \n"
   ]
  },
  {
   "cell_type": "code",
   "execution_count": 24,
   "metadata": {},
   "outputs": [
    {
     "data": {
      "text/html": [
       "<div>\n",
       "<style scoped>\n",
       "    .dataframe tbody tr th:only-of-type {\n",
       "        vertical-align: middle;\n",
       "    }\n",
       "\n",
       "    .dataframe tbody tr th {\n",
       "        vertical-align: top;\n",
       "    }\n",
       "\n",
       "    .dataframe thead th {\n",
       "        text-align: right;\n",
       "    }\n",
       "</style>\n",
       "<table border=\"1\" class=\"dataframe\">\n",
       "  <thead>\n",
       "    <tr style=\"text-align: right;\">\n",
       "      <th></th>\n",
       "      <th>event_datetime</th>\n",
       "      <th>event</th>\n",
       "      <th>building_type</th>\n",
       "      <th>user_id</th>\n",
       "      <th>project_type</th>\n",
       "      <th>date</th>\n",
       "      <th>week</th>\n",
       "      <th>first_visit_date</th>\n",
       "      <th>last_visit_date</th>\n",
       "      <th>lifetime</th>\n",
       "      <th>total_in_game</th>\n",
       "    </tr>\n",
       "  </thead>\n",
       "  <tbody>\n",
       "    <tr>\n",
       "      <td>6659</td>\n",
       "      <td>2020-05-04 19:47:29</td>\n",
       "      <td>finished_stage_1</td>\n",
       "      <td>NaN</td>\n",
       "      <td>ced7b368-818f-48f6-9461-2346de0892c5</td>\n",
       "      <td>NaN</td>\n",
       "      <td>2020-05-04</td>\n",
       "      <td>2020-04-30</td>\n",
       "      <td>2020-05-04</td>\n",
       "      <td>2020-05-04</td>\n",
       "      <td>0</td>\n",
       "      <td>0.0</td>\n",
       "    </tr>\n",
       "    <tr>\n",
       "      <td>13134</td>\n",
       "      <td>2020-05-05 13:22:09</td>\n",
       "      <td>finished_stage_1</td>\n",
       "      <td>NaN</td>\n",
       "      <td>7ef7fc89-2779-46ea-b328-9e5035b83af5</td>\n",
       "      <td>NaN</td>\n",
       "      <td>2020-05-05</td>\n",
       "      <td>2020-04-30</td>\n",
       "      <td>2020-05-04</td>\n",
       "      <td>2020-05-05</td>\n",
       "      <td>0</td>\n",
       "      <td>1.0</td>\n",
       "    </tr>\n",
       "    <tr>\n",
       "      <td>15274</td>\n",
       "      <td>2020-05-05 18:54:37</td>\n",
       "      <td>finished_stage_1</td>\n",
       "      <td>NaN</td>\n",
       "      <td>70db22b3-c2f4-43bc-94ea-51c8d2904a29</td>\n",
       "      <td>NaN</td>\n",
       "      <td>2020-05-05</td>\n",
       "      <td>2020-04-30</td>\n",
       "      <td>2020-05-04</td>\n",
       "      <td>2020-05-05</td>\n",
       "      <td>0</td>\n",
       "      <td>1.0</td>\n",
       "    </tr>\n",
       "    <tr>\n",
       "      <td>16284</td>\n",
       "      <td>2020-05-05 21:27:29</td>\n",
       "      <td>finished_stage_1</td>\n",
       "      <td>NaN</td>\n",
       "      <td>903fc9ef-ba97-4b12-9d5c-ac8d602fbd8b</td>\n",
       "      <td>NaN</td>\n",
       "      <td>2020-05-05</td>\n",
       "      <td>2020-04-30</td>\n",
       "      <td>2020-05-04</td>\n",
       "      <td>2020-05-05</td>\n",
       "      <td>0</td>\n",
       "      <td>1.0</td>\n",
       "    </tr>\n",
       "    <tr>\n",
       "      <td>19650</td>\n",
       "      <td>2020-05-06 06:02:22</td>\n",
       "      <td>finished_stage_1</td>\n",
       "      <td>NaN</td>\n",
       "      <td>58e077ba-feb1-4556-a5a0-d96bd04efa39</td>\n",
       "      <td>NaN</td>\n",
       "      <td>2020-05-06</td>\n",
       "      <td>2020-04-30</td>\n",
       "      <td>2020-05-04</td>\n",
       "      <td>2020-05-06</td>\n",
       "      <td>0</td>\n",
       "      <td>2.0</td>\n",
       "    </tr>\n",
       "  </tbody>\n",
       "</table>\n",
       "</div>"
      ],
      "text/plain": [
       "           event_datetime             event building_type  \\\n",
       "6659  2020-05-04 19:47:29  finished_stage_1           NaN   \n",
       "13134 2020-05-05 13:22:09  finished_stage_1           NaN   \n",
       "15274 2020-05-05 18:54:37  finished_stage_1           NaN   \n",
       "16284 2020-05-05 21:27:29  finished_stage_1           NaN   \n",
       "19650 2020-05-06 06:02:22  finished_stage_1           NaN   \n",
       "\n",
       "                                    user_id project_type        date  \\\n",
       "6659   ced7b368-818f-48f6-9461-2346de0892c5          NaN  2020-05-04   \n",
       "13134  7ef7fc89-2779-46ea-b328-9e5035b83af5          NaN  2020-05-05   \n",
       "15274  70db22b3-c2f4-43bc-94ea-51c8d2904a29          NaN  2020-05-05   \n",
       "16284  903fc9ef-ba97-4b12-9d5c-ac8d602fbd8b          NaN  2020-05-05   \n",
       "19650  58e077ba-feb1-4556-a5a0-d96bd04efa39          NaN  2020-05-06   \n",
       "\n",
       "            week first_visit_date last_visit_date  lifetime  total_in_game  \n",
       "6659  2020-04-30       2020-05-04      2020-05-04         0            0.0  \n",
       "13134 2020-04-30       2020-05-04      2020-05-05         0            1.0  \n",
       "15274 2020-04-30       2020-05-04      2020-05-05         0            1.0  \n",
       "16284 2020-04-30       2020-05-04      2020-05-05         0            1.0  \n",
       "19650 2020-04-30       2020-05-04      2020-05-06         0            2.0  "
      ]
     },
     "execution_count": 24,
     "metadata": {},
     "output_type": "execute_result"
    }
   ],
   "source": [
    "finish_st_1= events.query('event == \"finished_stage_1\"')\n",
    "first_level_complited = finish_st_1['user_id'].unique()\n",
    "\n",
    "finish_st_1['lifetime'].describe()\n",
    "finish_st_1.head()"
   ]
  },
  {
   "cell_type": "code",
   "execution_count": 25,
   "metadata": {},
   "outputs": [],
   "source": [
    "def level_complite(data):\n",
    "    if data in first_level_complited:\n",
    "        return 1\n",
    "    else:\n",
    "        return 0\n",
    "events['complite'] = 0\n",
    "events['complite'] = events['user_id'].apply(level_complite)"
   ]
  },
  {
   "cell_type": "markdown",
   "metadata": {},
   "source": [
    "#### 2.1 Корреляции признаков\n",
    "<a id='3'></a>"
   ]
  },
  {
   "cell_type": "code",
   "execution_count": 26,
   "metadata": {},
   "outputs": [],
   "source": [
    "matr = events.groupby('user_id').agg({'event':'count', 'complite': 'max', 'lifetime': 'max', 'total_in_game': 'max'})"
   ]
  },
  {
   "cell_type": "code",
   "execution_count": 27,
   "metadata": {},
   "outputs": [
    {
     "data": {
      "image/png": "[encoded data removed]",
      "text/plain": [
       "<Figure size 648x648 with 16 Axes>"
      ]
     },
     "metadata": {
      "needs_background": "light"
     },
     "output_type": "display_data"
    }
   ],
   "source": [
    "pd.plotting.scatter_matrix(matr, figsize=(9, 9))\n",
    "plt.show()"
   ]
  },
  {
   "cell_type": "code",
   "execution_count": 28,
   "metadata": {},
   "outputs": [
    {
     "data": {
      "text/html": [
       "<div>\n",
       "<style scoped>\n",
       "    .dataframe tbody tr th:only-of-type {\n",
       "        vertical-align: middle;\n",
       "    }\n",
       "\n",
       "    .dataframe tbody tr th {\n",
       "        vertical-align: top;\n",
       "    }\n",
       "\n",
       "    .dataframe thead th {\n",
       "        text-align: right;\n",
       "    }\n",
       "</style>\n",
       "<table border=\"1\" class=\"dataframe\">\n",
       "  <thead>\n",
       "    <tr style=\"text-align: right;\">\n",
       "      <th></th>\n",
       "      <th>event</th>\n",
       "      <th>complite</th>\n",
       "      <th>lifetime</th>\n",
       "      <th>total_in_game</th>\n",
       "    </tr>\n",
       "  </thead>\n",
       "  <tbody>\n",
       "    <tr>\n",
       "      <td>event</td>\n",
       "      <td>1.000000</td>\n",
       "      <td>0.371600</td>\n",
       "      <td>0.521837</td>\n",
       "      <td>0.585757</td>\n",
       "    </tr>\n",
       "    <tr>\n",
       "      <td>complite</td>\n",
       "      <td>0.371600</td>\n",
       "      <td>1.000000</td>\n",
       "      <td>0.208534</td>\n",
       "      <td>0.234041</td>\n",
       "    </tr>\n",
       "    <tr>\n",
       "      <td>lifetime</td>\n",
       "      <td>0.521837</td>\n",
       "      <td>0.208534</td>\n",
       "      <td>1.000000</td>\n",
       "      <td>0.908712</td>\n",
       "    </tr>\n",
       "    <tr>\n",
       "      <td>total_in_game</td>\n",
       "      <td>0.585757</td>\n",
       "      <td>0.234041</td>\n",
       "      <td>0.908712</td>\n",
       "      <td>1.000000</td>\n",
       "    </tr>\n",
       "  </tbody>\n",
       "</table>\n",
       "</div>"
      ],
      "text/plain": [
       "                  event  complite  lifetime  total_in_game\n",
       "event          1.000000  0.371600  0.521837       0.585757\n",
       "complite       0.371600  1.000000  0.208534       0.234041\n",
       "lifetime       0.521837  0.208534  1.000000       0.908712\n",
       "total_in_game  0.585757  0.234041  0.908712       1.000000"
      ]
     },
     "execution_count": 28,
     "metadata": {},
     "output_type": "execute_result"
    }
   ],
   "source": [
    "matr.corr()"
   ]
  },
  {
   "cell_type": "markdown",
   "metadata": {},
   "source": [
    "Сильной корреляции между окончание уровня и другими собятиями не выявлено. Наибольшая корреляция с показателем lifetime составляет всего 0,21, с количеством событий на пользователя - 0,37"
   ]
  },
  {
   "cell_type": "code",
   "execution_count": 29,
   "metadata": {},
   "outputs": [],
   "source": [
    "finish_st_1 = finish_st_1[['event_datetime', 'user_id']]"
   ]
  },
  {
   "cell_type": "code",
   "execution_count": 30,
   "metadata": {},
   "outputs": [],
   "source": [
    "finish_st_1.columns = ['1st_datetime', 'user_id']\n",
    "events = pd.merge(events, finish_st_1, how = 'left', on = 'user_id')"
   ]
  },
  {
   "cell_type": "code",
   "execution_count": 31,
   "metadata": {},
   "outputs": [
    {
     "name": "stderr",
     "output_type": "stream",
     "text": [
      "/opt/conda/lib/python3.7/site-packages/ipykernel_launcher.py:2: SettingWithCopyWarning:\n",
      "\n",
      "\n",
      "A value is trying to be set on a copy of a slice from a DataFrame.\n",
      "Try using .loc[row_indexer,col_indexer] = value instead\n",
      "\n",
      "See the caveats in the documentation: http://pandas.pydata.org/pandas-docs/stable/user_guide/indexing.html#returning-a-view-versus-a-copy\n",
      "\n"
     ]
    },
    {
     "data": {
      "text/plain": [
       "count    1866.000000\n",
       "mean        1.567524\n",
       "std         2.004284\n",
       "min         0.000000\n",
       "25%         0.000000\n",
       "50%         1.000000\n",
       "75%         2.000000\n",
       "max        13.000000\n",
       "Name: form_pr_to_1st, dtype: float64"
      ]
     },
     "execution_count": 31,
     "metadata": {},
     "output_type": "execute_result"
    }
   ],
   "source": [
    "project_finisher = events.query('project_type == \"satellite_orbital_assembly\"')\n",
    "project_finisher['form_pr_to_1st'] = (project_finisher['1st_datetime'].dt.date -project_finisher['event_datetime'].dt.date) /  np.timedelta64(1, 'D')\n",
    "project_finisher['form_pr_to_1st'].describe()"
   ]
  },
  {
   "cell_type": "markdown",
   "metadata": {},
   "source": [
    "Существует промежуток времени между постройкой космопорта и получением первого уровня. Для половины пользователей это время не превышает одного дня. А для некоторых пользователей период повышения уровня составил 13 дней. Уровень повышается только со следующим визитом в игру? \n",
    "\n",
    "Всего 1866 пользователей закончили первый уровень постройкой космопорта из 5817пользователей получивших первый уровень. Отсюда следует вывод, что большая часть пользователей предпочитает повышать уровень победой над другим игроком.\n"
   ]
  },
  {
   "cell_type": "code",
   "execution_count": 32,
   "metadata": {},
   "outputs": [],
   "source": [
    "events['1level_long'] = (events['1st_datetime'].dt.date - events['first_visit_date']) /  np.timedelta64(1, 'D')"
   ]
  },
  {
   "cell_type": "code",
   "execution_count": 33,
   "metadata": {},
   "outputs": [
    {
     "data": {
      "text/plain": [
       "count    68469.000000\n",
       "mean        12.347997\n",
       "std          3.877719\n",
       "min          0.000000\n",
       "25%         10.000000\n",
       "50%         12.000000\n",
       "75%         15.000000\n",
       "max         31.000000\n",
       "Name: 1level_long, dtype: float64"
      ]
     },
     "execution_count": 33,
     "metadata": {},
     "output_type": "execute_result"
    }
   ],
   "source": [
    "events['1level_long'].describe()"
   ]
  },
  {
   "cell_type": "markdown",
   "metadata": {},
   "source": [
    "Большинство пользователей получают первый уровень на 1-2 неделе жизни. Этот период соответствует наибольшему посещению игры (наибольшее количество пользователей в игре в недели lifetime 0 и 1)"
   ]
  },
  {
   "cell_type": "code",
   "execution_count": 34,
   "metadata": {},
   "outputs": [
    {
     "data": {
      "image/png": "[encoded data removed]",
      "text/plain": [
       "<Figure size 432x288 with 1 Axes>"
      ]
     },
     "metadata": {
      "needs_background": "light"
     },
     "output_type": "display_data"
    }
   ],
   "source": [
    "project_finisher_user = project_finisher['user_id'].unique()\n",
    "progect_finisher_per_day = events.query('user_id in @project_finisher_user').groupby('lifetime').agg({'user_id':'nunique'}).reset_index()\n",
    "\n",
    "\n",
    "progect_finisher_per_day.plot(y =['user_id'], kind = 'bar')\n",
    "plt.title('Посещаемость игры пользователями, получившими уровень за счет проекта')\n",
    "plt.xlabel(\"Неделя жизни пользователей\")\n",
    "plt.ylabel(\"Количество уникальных пользователей\")\n",
    "plt.show()"
   ]
  },
  {
   "cell_type": "markdown",
   "metadata": {},
   "source": [
    "Получается, что пользователи, получившие 1 уровень завершением проекта посещают игру активно в 0 и 1 неделю lifetime. Резкий спад идет на 3 неделю игры"
   ]
  },
  {
   "cell_type": "code",
   "execution_count": 35,
   "metadata": {},
   "outputs": [
    {
     "data": {
      "image/png": "[encoded data removed]",
      "text/plain": [
       "<Figure size 432x288 with 1 Axes>"
      ]
     },
     "metadata": {
      "needs_background": "light"
     },
     "output_type": "display_data"
    }
   ],
   "source": [
    "fighters_per_day = events.query('user_id in @first_level_complited and user_id not in @project_finisher_user').groupby('lifetime').agg({'user_id':'nunique'}).reset_index()\n",
    "fighters_per_day\n",
    "fighters_per_day.plot(y =['user_id'], kind = 'bar')\n",
    "plt.title('Посещаемость игры пользователями, получившими уровень за счет боя')\n",
    "plt.xlabel(\"Неделя жизни пользователей\")\n",
    "plt.ylabel(\"Количество уникальных пользователей\")\n",
    "plt.show()"
   ]
  },
  {
   "cell_type": "markdown",
   "metadata": {},
   "source": [
    "Пользователей получившие 1 уровень победой над другим персонажем в игре больше и уникальных пользователей в день так же заходит больше. Но тренд такой же - после первых двух недель игроки уходят."
   ]
  },
  {
   "cell_type": "code",
   "execution_count": 36,
   "metadata": {},
   "outputs": [
    {
     "data": {
      "text/html": [
       "<div>\n",
       "<style scoped>\n",
       "    .dataframe tbody tr th:only-of-type {\n",
       "        vertical-align: middle;\n",
       "    }\n",
       "\n",
       "    .dataframe tbody tr th {\n",
       "        vertical-align: top;\n",
       "    }\n",
       "\n",
       "    .dataframe thead th {\n",
       "        text-align: right;\n",
       "    }\n",
       "</style>\n",
       "<table border=\"1\" class=\"dataframe\">\n",
       "  <thead>\n",
       "    <tr style=\"text-align: right;\">\n",
       "      <th></th>\n",
       "      <th>event_datetime</th>\n",
       "      <th>event</th>\n",
       "      <th>building_type</th>\n",
       "      <th>user_id</th>\n",
       "      <th>project_type</th>\n",
       "      <th>date</th>\n",
       "      <th>week</th>\n",
       "      <th>first_visit_date</th>\n",
       "      <th>last_visit_date</th>\n",
       "      <th>lifetime</th>\n",
       "      <th>total_in_game</th>\n",
       "      <th>complite</th>\n",
       "      <th>1st_datetime</th>\n",
       "      <th>1level_long</th>\n",
       "      <th>assembly_shop</th>\n",
       "      <th>spaceport</th>\n",
       "      <th>research_center</th>\n",
       "    </tr>\n",
       "  </thead>\n",
       "  <tbody>\n",
       "    <tr>\n",
       "      <td>397</td>\n",
       "      <td>2020-05-04 01:14:40</td>\n",
       "      <td>building</td>\n",
       "      <td>spaceport</td>\n",
       "      <td>cd74d4ab-4f44-418d-9f9b-7db1b2d9a794</td>\n",
       "      <td>NaN</td>\n",
       "      <td>2020-05-04</td>\n",
       "      <td>2020-04-30</td>\n",
       "      <td>2020-05-04</td>\n",
       "      <td>2020-05-04</td>\n",
       "      <td>0</td>\n",
       "      <td>0.0</td>\n",
       "      <td>0</td>\n",
       "      <td>NaT</td>\n",
       "      <td>NaN</td>\n",
       "      <td>0</td>\n",
       "      <td>1</td>\n",
       "      <td>0</td>\n",
       "    </tr>\n",
       "    <tr>\n",
       "      <td>670</td>\n",
       "      <td>2020-05-04 02:03:16</td>\n",
       "      <td>building</td>\n",
       "      <td>spaceport</td>\n",
       "      <td>cbec1209-cd6d-4e94-b361-a40c0ddf532f</td>\n",
       "      <td>NaN</td>\n",
       "      <td>2020-05-04</td>\n",
       "      <td>2020-04-30</td>\n",
       "      <td>2020-05-04</td>\n",
       "      <td>2020-05-13</td>\n",
       "      <td>0</td>\n",
       "      <td>9.0</td>\n",
       "      <td>1</td>\n",
       "      <td>2020-05-13 22:26:56</td>\n",
       "      <td>9.0</td>\n",
       "      <td>0</td>\n",
       "      <td>1</td>\n",
       "      <td>0</td>\n",
       "    </tr>\n",
       "    <tr>\n",
       "      <td>722</td>\n",
       "      <td>2020-05-04 02:13:39</td>\n",
       "      <td>building</td>\n",
       "      <td>spaceport</td>\n",
       "      <td>a2d93bea-4d45-4091-8087-ea9a40bc0946</td>\n",
       "      <td>NaN</td>\n",
       "      <td>2020-05-04</td>\n",
       "      <td>2020-04-30</td>\n",
       "      <td>2020-05-04</td>\n",
       "      <td>2020-05-17</td>\n",
       "      <td>0</td>\n",
       "      <td>13.0</td>\n",
       "      <td>1</td>\n",
       "      <td>2020-05-17 13:57:58</td>\n",
       "      <td>13.0</td>\n",
       "      <td>0</td>\n",
       "      <td>1</td>\n",
       "      <td>0</td>\n",
       "    </tr>\n",
       "    <tr>\n",
       "      <td>845</td>\n",
       "      <td>2020-05-04 02:38:50</td>\n",
       "      <td>building</td>\n",
       "      <td>spaceport</td>\n",
       "      <td>f25eb405-33b3-45b6-958c-2959ba59364d</td>\n",
       "      <td>NaN</td>\n",
       "      <td>2020-05-04</td>\n",
       "      <td>2020-04-30</td>\n",
       "      <td>2020-05-04</td>\n",
       "      <td>2020-05-12</td>\n",
       "      <td>0</td>\n",
       "      <td>8.0</td>\n",
       "      <td>0</td>\n",
       "      <td>NaT</td>\n",
       "      <td>NaN</td>\n",
       "      <td>0</td>\n",
       "      <td>1</td>\n",
       "      <td>0</td>\n",
       "    </tr>\n",
       "    <tr>\n",
       "      <td>916</td>\n",
       "      <td>2020-05-04 02:53:07</td>\n",
       "      <td>building</td>\n",
       "      <td>spaceport</td>\n",
       "      <td>f7b2f74f-621f-41ab-821d-76fab1d68031</td>\n",
       "      <td>NaN</td>\n",
       "      <td>2020-05-04</td>\n",
       "      <td>2020-04-30</td>\n",
       "      <td>2020-05-04</td>\n",
       "      <td>2020-05-16</td>\n",
       "      <td>0</td>\n",
       "      <td>12.0</td>\n",
       "      <td>1</td>\n",
       "      <td>2020-05-16 15:44:58</td>\n",
       "      <td>12.0</td>\n",
       "      <td>0</td>\n",
       "      <td>1</td>\n",
       "      <td>0</td>\n",
       "    </tr>\n",
       "  </tbody>\n",
       "</table>\n",
       "</div>"
      ],
      "text/plain": [
       "         event_datetime     event building_type  \\\n",
       "397 2020-05-04 01:14:40  building     spaceport   \n",
       "670 2020-05-04 02:03:16  building     spaceport   \n",
       "722 2020-05-04 02:13:39  building     spaceport   \n",
       "845 2020-05-04 02:38:50  building     spaceport   \n",
       "916 2020-05-04 02:53:07  building     spaceport   \n",
       "\n",
       "                                  user_id project_type        date       week  \\\n",
       "397  cd74d4ab-4f44-418d-9f9b-7db1b2d9a794          NaN  2020-05-04 2020-04-30   \n",
       "670  cbec1209-cd6d-4e94-b361-a40c0ddf532f          NaN  2020-05-04 2020-04-30   \n",
       "722  a2d93bea-4d45-4091-8087-ea9a40bc0946          NaN  2020-05-04 2020-04-30   \n",
       "845  f25eb405-33b3-45b6-958c-2959ba59364d          NaN  2020-05-04 2020-04-30   \n",
       "916  f7b2f74f-621f-41ab-821d-76fab1d68031          NaN  2020-05-04 2020-04-30   \n",
       "\n",
       "    first_visit_date last_visit_date  lifetime  total_in_game  complite  \\\n",
       "397       2020-05-04      2020-05-04         0            0.0         0   \n",
       "670       2020-05-04      2020-05-13         0            9.0         1   \n",
       "722       2020-05-04      2020-05-17         0           13.0         1   \n",
       "845       2020-05-04      2020-05-12         0            8.0         0   \n",
       "916       2020-05-04      2020-05-16         0           12.0         1   \n",
       "\n",
       "           1st_datetime  1level_long  assembly_shop  spaceport  \\\n",
       "397                 NaT          NaN              0          1   \n",
       "670 2020-05-13 22:26:56          9.0              0          1   \n",
       "722 2020-05-17 13:57:58         13.0              0          1   \n",
       "845                 NaT          NaN              0          1   \n",
       "916 2020-05-16 15:44:58         12.0              0          1   \n",
       "\n",
       "     research_center  \n",
       "397                0  \n",
       "670                0  \n",
       "722                0  \n",
       "845                0  \n",
       "916                0  "
      ]
     },
     "execution_count": 36,
     "metadata": {},
     "output_type": "execute_result"
    }
   ],
   "source": [
    "for name in ['assembly_shop', 'spaceport', 'research_center']:\n",
    "    events[name] = 0\n",
    "    events.loc[events['building_type'] == name, name] = events.loc[events['building_type'] == name, name].replace(0,1)\n",
    "\n",
    "events.query('building_type == \"spaceport\"').head()\n"
   ]
  },
  {
   "cell_type": "code",
   "execution_count": 37,
   "metadata": {},
   "outputs": [],
   "source": [
    "builders_events = events.query('user_id in @project_finisher_user') # пользователи, завершившие первый уровень постройкой проекта\n",
    "fighters_events = events.query('user_id in @first_level_complited and user_id not in @project_finisher_user') # пользоватлеи, завершившие первый уровень сражением"
   ]
  },
  {
   "cell_type": "code",
   "execution_count": 38,
   "metadata": {},
   "outputs": [
    {
     "name": "stdout",
     "output_type": "stream",
     "text": [
      "Для всех игроков\n"
     ]
    },
    {
     "data": {
      "image/png": "[encoded data removed]",
      "text/plain": [
       "<Figure size 432x288 with 1 Axes>"
      ]
     },
     "metadata": {
      "needs_background": "light"
     },
     "output_type": "display_data"
    },
    {
     "data": {
      "image/png": "[encoded data removed]",
      "text/plain": [
       "<Figure size 432x288 with 1 Axes>"
      ]
     },
     "metadata": {
      "needs_background": "light"
     },
     "output_type": "display_data"
    },
    {
     "name": "stdout",
     "output_type": "stream",
     "text": [
      "Для строителей\n"
     ]
    },
    {
     "data": {
      "image/png": "[encoded data removed]",
      "text/plain": [
       "<Figure size 432x288 with 1 Axes>"
      ]
     },
     "metadata": {
      "needs_background": "light"
     },
     "output_type": "display_data"
    },
    {
     "data": {
      "image/png": "[encoded data removed]",
      "text/plain": [
       "<Figure size 432x288 with 1 Axes>"
      ]
     },
     "metadata": {
      "needs_background": "light"
     },
     "output_type": "display_data"
    },
    {
     "name": "stdout",
     "output_type": "stream",
     "text": [
      "Для бойцов\n"
     ]
    },
    {
     "data": {
      "image/png": "[encoded data removed]",
      "text/plain": [
       "<Figure size 432x288 with 1 Axes>"
      ]
     },
     "metadata": {
      "needs_background": "light"
     },
     "output_type": "display_data"
    },
    {
     "data": {
      "image/png": "[encoded data removed]",
      "text/plain": [
       "<Figure size 432x288 with 1 Axes>"
      ]
     },
     "metadata": {
      "needs_background": "light"
     },
     "output_type": "display_data"
    }
   ],
   "source": [
    "for data, name in [[events, \"Для всех игроков\"], [builders_events, \"Для строителей\"], [fighters_events, \"Для бойцов\"]]:\n",
    "    data_grouped = data.groupby('lifetime').agg({'user_id': 'nunique', 'event':'count'}).reset_index()\n",
    "    data_grouped['event_per_user'] = data_grouped['event']/data_grouped['user_id']\n",
    "    plt.boxplot(data_grouped['event_per_user'])\n",
    "    plt.title('Средняя активность игроков за весь период жизни')\n",
    "    plt.xlabel(name)\n",
    "    plt.ylabel(\"Среднее количество ивентов\")\n",
    "    data_grouped.plot(y =['event_per_user'], kind = 'bar')\n",
    "    print(name)\n",
    "    plt.title('Средняя активность игроков в день')\n",
    "    plt.xlabel(\"Неделя жизни\")\n",
    "    plt.ylabel(\"Среднее количество ивентов\")\n",
    "    plt.show()\n",
    "    \n",
    "    "
   ]
  },
  {
   "cell_type": "markdown",
   "metadata": {},
   "source": [
    "Количество пользователей убывает с 3ей недели жизни каждой когорты. А вот активность на пользователя не так однозначна. И на 4ой неделе виден рост активности  у бойцов. "
   ]
  },
  {
   "cell_type": "markdown",
   "metadata": {},
   "source": [
    "### 3. Проверка гипотез\n",
    "<a id='4'></a>"
   ]
  },
  {
   "cell_type": "code",
   "execution_count": 39,
   "metadata": {},
   "outputs": [],
   "source": [
    "builder_1stlevel =builders_events.groupby('user_id').agg({'1level_long': 'max'})\n",
    "fighter_1stlevel =fighters_events.groupby('user_id').agg({'1level_long': 'max'})"
   ]
  },
  {
   "cell_type": "code",
   "execution_count": 40,
   "metadata": {},
   "outputs": [
    {
     "data": {
      "image/png": "[encoded data removed]",
      "text/plain": [
       "<Figure size 936x648 with 1 Axes>"
      ]
     },
     "metadata": {
      "needs_background": "light"
     },
     "output_type": "display_data"
    }
   ],
   "source": [
    "plt.figure(figsize=(13, 9))\n",
    "plt.title('Как долго занимает путь до 1го уровня')\n",
    "sns.distplot(builder_1stlevel['1level_long'], label = 'builder')\n",
    "sns.distplot(fighter_1stlevel['1level_long'], label = 'fighter')\n",
    "plt.xlabel(\"Количество дней на достижение 1 уровня\")\n",
    "plt.ylabel(\"Количество пользователей\")\n",
    "plt.legend(loc = 7)\n",
    "\n",
    "plt.show()"
   ]
  },
  {
   "cell_type": "code",
   "execution_count": 41,
   "metadata": {},
   "outputs": [
    {
     "name": "stdout",
     "output_type": "stream",
     "text": [
      "1level_long    13.39657\n",
      "dtype: float64\n",
      "1level_long    11.058466\n",
      "dtype: float64\n"
     ]
    }
   ],
   "source": [
    "print(builder_1stlevel.mean())\n",
    "print(fighter_1stlevel.mean())"
   ]
  },
  {
   "cell_type": "markdown",
   "metadata": {},
   "source": [
    "По графику кажется, что бойцы быстрее проходят первый уровень, чем строители."
   ]
  },
  {
   "cell_type": "markdown",
   "metadata": {},
   "source": [
    "#### 1 Гипотеза: Среднее время прохождения 1 уровня одинаково для обеих групп (бойцы и строители (Н0).\n",
    "Альтернативная: Среднее время прохождения 1 уровня у группы бойцов меньше, чем у группы строителей (Н1)."
   ]
  },
  {
   "cell_type": "code",
   "execution_count": 42,
   "metadata": {},
   "outputs": [
    {
     "name": "stdout",
     "output_type": "stream",
     "text": [
      "p-значение: [4.36337001e-96]\n",
      "Отвергаем нулевую гипотезу\n"
     ]
    }
   ],
   "source": [
    "alpha = .05 # критический уровень статистической значимости\n",
    "            # если p-value окажется меньше него - отвергнем гипотезу\n",
    "\n",
    "results = st.ttest_ind(\n",
    "    builder_1stlevel, \n",
    "    fighter_1stlevel)\n",
    "\n",
    "print('p-значение:', results.pvalue)\n",
    "\n",
    "if (results.pvalue / 2 < alpha):\n",
    "    print(\"Отвергаем нулевую гипотезу\")\n",
    "else:\n",
    "    print(\"Не получилось отвергнуть нулевую гипотезу\") "
   ]
  },
  {
   "cell_type": "markdown",
   "metadata": {},
   "source": [
    "Отвергаем нулевую гипотезу. Альтернативная гипотеза верна - бойцы преодолевают порог 1го уровня быстрее. Среднее время бойцов - 11 дней, строителей - 13,4 дня "
   ]
  },
  {
   "cell_type": "code",
   "execution_count": 43,
   "metadata": {},
   "outputs": [
    {
     "data": {
      "text/plain": [
       "event_per_user    1.442386\n",
       "dtype: float64"
      ]
     },
     "execution_count": 43,
     "metadata": {},
     "output_type": "execute_result"
    }
   ],
   "source": [
    "builder_activity = builders_events.groupby('date').agg({'user_id': 'nunique', 'event':'count'}).reset_index()\n",
    "builder_activity['event_per_user'] = builder_activity['event']/builder_activity['user_id']\n",
    "activity_build = builder_activity[['event_per_user']]\n",
    "len(activity_build)\n",
    "activity_build.mean()"
   ]
  },
  {
   "cell_type": "code",
   "execution_count": 44,
   "metadata": {},
   "outputs": [
    {
     "data": {
      "text/plain": [
       "event_per_user    1.345382\n",
       "dtype: float64"
      ]
     },
     "execution_count": 44,
     "metadata": {},
     "output_type": "execute_result"
    }
   ],
   "source": [
    "fighter_activity = fighters_events.groupby('date').agg({'user_id': 'nunique', 'event':'count'}).reset_index()\n",
    "fighter_activity['event_per_user'] = fighter_activity['event']/fighter_activity['user_id']\n",
    "fighter_activity = fighter_activity[['event_per_user']]\n",
    "fighter_activity = fighter_activity.loc[:31] # бойцы были активны на один день больше, чем строители, поэтому сравниваем сеты по длине\n",
    "len(fighter_activity)\n",
    "fighter_activity.mean()"
   ]
  },
  {
   "cell_type": "code",
   "execution_count": 45,
   "metadata": {},
   "outputs": [
    {
     "data": {
      "image/png": "[encoded data removed]",
      "text/plain": [
       "<Figure size 936x648 with 1 Axes>"
      ]
     },
     "metadata": {
      "needs_background": "light"
     },
     "output_type": "display_data"
    }
   ],
   "source": [
    "plt.figure(figsize=(13, 9))\n",
    "plt.title('Средняяя активность пользователей')\n",
    "sns.distplot(activity_build, label = 'builder')\n",
    "sns.distplot(fighter_activity, label = 'fighter')\n",
    "plt.xlabel(\"Среднее количество ивентов на одного уникального пользователя в день\")\n",
    "plt.ylabel(\"Частота\")\n",
    "plt.legend(loc = 7)\n",
    "#fighter_1stlevel.hist()\n",
    "plt.show()"
   ]
  },
  {
   "cell_type": "markdown",
   "metadata": {},
   "source": [
    "#### 2 Гипотеза: Строители и бойцы совершают одинаковое среднее количество активностей в день (бойцы и строители (Н0).\n",
    "Альтернативная: Строители в среднем активнее бойцов (Н1)."
   ]
  },
  {
   "cell_type": "code",
   "execution_count": 46,
   "metadata": {},
   "outputs": [
    {
     "name": "stdout",
     "output_type": "stream",
     "text": [
      "p-значение: [0.0293681]\n",
      "Отвергаем нулевую гипотезу\n"
     ]
    }
   ],
   "source": [
    "results = st.ttest_ind(\n",
    "    activity_build, \n",
    "    fighter_activity)\n",
    "\n",
    "print('p-значение:', results.pvalue)\n",
    "\n",
    "if (results.pvalue / 2 < alpha):\n",
    "    print(\"Отвергаем нулевую гипотезу\")\n",
    "else:\n",
    "    print(\"Не получилось отвергнуть нулевую гипотезу\") "
   ]
  },
  {
   "cell_type": "markdown",
   "metadata": {},
   "source": [
    "Строители в среднем более активны, чем бойцы. "
   ]
  },
  {
   "cell_type": "markdown",
   "metadata": {},
   "source": [
    "### 4.Исследования строительной активности (место размещение рекламы)\n",
    "<a id='5'></a>"
   ]
  },
  {
   "cell_type": "code",
   "execution_count": 47,
   "metadata": {},
   "outputs": [
    {
     "data": {
      "text/html": [
       "<div>\n",
       "<style scoped>\n",
       "    .dataframe tbody tr th:only-of-type {\n",
       "        vertical-align: middle;\n",
       "    }\n",
       "\n",
       "    .dataframe tbody tr th {\n",
       "        vertical-align: top;\n",
       "    }\n",
       "\n",
       "    .dataframe thead th {\n",
       "        text-align: right;\n",
       "    }\n",
       "</style>\n",
       "<table border=\"1\" class=\"dataframe\">\n",
       "  <thead>\n",
       "    <tr style=\"text-align: right;\">\n",
       "      <th></th>\n",
       "      <th>user_id</th>\n",
       "      <th>assembly_shop</th>\n",
       "      <th>spaceport</th>\n",
       "      <th>research_center</th>\n",
       "      <th>per_user</th>\n",
       "    </tr>\n",
       "    <tr>\n",
       "      <th>building_type</th>\n",
       "      <th></th>\n",
       "      <th></th>\n",
       "      <th></th>\n",
       "      <th></th>\n",
       "      <th></th>\n",
       "    </tr>\n",
       "  </thead>\n",
       "  <tbody>\n",
       "    <tr>\n",
       "      <td>assembly_shop</td>\n",
       "      <td>1866</td>\n",
       "      <td>9116</td>\n",
       "      <td>0</td>\n",
       "      <td>0</td>\n",
       "      <td>4.885316</td>\n",
       "    </tr>\n",
       "    <tr>\n",
       "      <td>research_center</td>\n",
       "      <td>1866</td>\n",
       "      <td>0</td>\n",
       "      <td>0</td>\n",
       "      <td>3697</td>\n",
       "      <td>1.981243</td>\n",
       "    </tr>\n",
       "    <tr>\n",
       "      <td>spaceport</td>\n",
       "      <td>1866</td>\n",
       "      <td>0</td>\n",
       "      <td>10788</td>\n",
       "      <td>0</td>\n",
       "      <td>5.781350</td>\n",
       "    </tr>\n",
       "  </tbody>\n",
       "</table>\n",
       "</div>"
      ],
      "text/plain": [
       "                 user_id  assembly_shop  spaceport  research_center  per_user\n",
       "building_type                                                                \n",
       "assembly_shop       1866           9116          0                0  4.885316\n",
       "research_center     1866              0          0             3697  1.981243\n",
       "spaceport           1866              0      10788                0  5.781350"
      ]
     },
     "execution_count": 47,
     "metadata": {},
     "output_type": "execute_result"
    }
   ],
   "source": [
    "buildings_for_builders =builders_events.groupby('building_type').agg({'user_id' : 'nunique', 'assembly_shop': 'sum', 'spaceport': 'sum', 'research_center' : 'sum'})\n",
    "buildings_for_builders['per_user'] = (buildings_for_builders['assembly_shop'] + buildings_for_builders['spaceport'] + buildings_for_builders['research_center'])/ buildings_for_builders['user_id']\n",
    "buildings_for_builders"
   ]
  },
  {
   "cell_type": "code",
   "execution_count": 48,
   "metadata": {},
   "outputs": [
    {
     "data": {
      "text/html": [
       "<div>\n",
       "<style scoped>\n",
       "    .dataframe tbody tr th:only-of-type {\n",
       "        vertical-align: middle;\n",
       "    }\n",
       "\n",
       "    .dataframe tbody tr th {\n",
       "        vertical-align: top;\n",
       "    }\n",
       "\n",
       "    .dataframe thead th {\n",
       "        text-align: right;\n",
       "    }\n",
       "</style>\n",
       "<table border=\"1\" class=\"dataframe\">\n",
       "  <thead>\n",
       "    <tr style=\"text-align: right;\">\n",
       "      <th></th>\n",
       "      <th>user_id</th>\n",
       "      <th>assembly_shop</th>\n",
       "      <th>spaceport</th>\n",
       "      <th>research_center</th>\n",
       "      <th>per_user</th>\n",
       "    </tr>\n",
       "    <tr>\n",
       "      <th>building_type</th>\n",
       "      <th></th>\n",
       "      <th></th>\n",
       "      <th></th>\n",
       "      <th></th>\n",
       "      <th></th>\n",
       "    </tr>\n",
       "  </thead>\n",
       "  <tbody>\n",
       "    <tr>\n",
       "      <td>assembly_shop</td>\n",
       "      <td>3951</td>\n",
       "      <td>16298</td>\n",
       "      <td>0</td>\n",
       "      <td>0</td>\n",
       "      <td>4.125032</td>\n",
       "    </tr>\n",
       "    <tr>\n",
       "      <td>research_center</td>\n",
       "      <td>2342</td>\n",
       "      <td>0</td>\n",
       "      <td>0</td>\n",
       "      <td>3755</td>\n",
       "      <td>1.603330</td>\n",
       "    </tr>\n",
       "    <tr>\n",
       "      <td>spaceport</td>\n",
       "      <td>3894</td>\n",
       "      <td>0</td>\n",
       "      <td>17132</td>\n",
       "      <td>0</td>\n",
       "      <td>4.399589</td>\n",
       "    </tr>\n",
       "  </tbody>\n",
       "</table>\n",
       "</div>"
      ],
      "text/plain": [
       "                 user_id  assembly_shop  spaceport  research_center  per_user\n",
       "building_type                                                                \n",
       "assembly_shop       3951          16298          0                0  4.125032\n",
       "research_center     2342              0          0             3755  1.603330\n",
       "spaceport           3894              0      17132                0  4.399589"
      ]
     },
     "execution_count": 48,
     "metadata": {},
     "output_type": "execute_result"
    }
   ],
   "source": [
    "buildings_for_fighters = fighters_events.groupby('building_type').agg({'user_id' : 'nunique', 'assembly_shop': 'sum', 'spaceport': 'sum', 'research_center' : 'sum'})\n",
    "buildings_for_fighters['per_user'] = (buildings_for_fighters['assembly_shop'] + buildings_for_fighters['spaceport'] + buildings_for_fighters['research_center'])/ buildings_for_fighters['user_id']\n",
    "buildings_for_fighters"
   ]
  },
  {
   "cell_type": "markdown",
   "metadata": {},
   "source": [
    "Среди всех доступных для анализа построек - самая популярная для обних групп spaceport. При этом каждый строитель построил хотя бы по одному зданию каждого вида (наименее популярен - research center), а среди бойцов наибольшее кол-во пользователей строит assembly_shop (в среднем по 4,1 магазину на каждого пользователя). А spaceport строит чуть меньшее количество пользователей, но боьлше по количествоу (4.3 порта на каждого пользователя).  "
   ]
  },
  {
   "cell_type": "markdown",
   "metadata": {},
   "source": [
    "### 5.Исследование рекламных источников\n",
    "<a id='6'></a>"
   ]
  },
  {
   "cell_type": "code",
   "execution_count": 49,
   "metadata": {},
   "outputs": [],
   "source": [
    "for_market = events.groupby('user_id').agg({\n",
    "    'complite': 'max', \n",
    "    'event':'count', \n",
    "    'total_in_game': 'max', \n",
    "    'first_visit_date':'first'})"
   ]
  },
  {
   "cell_type": "code",
   "execution_count": 50,
   "metadata": {},
   "outputs": [],
   "source": [
    "for_market = pd.merge(for_market, user_source, how = 'left', on = 'user_id')"
   ]
  },
  {
   "cell_type": "code",
   "execution_count": 51,
   "metadata": {},
   "outputs": [],
   "source": [
    "def champions(user_id):\n",
    "    if user_id in project_finisher_user:\n",
    "        return \"builder\"\n",
    "    elif user_id in first_level_complited:\n",
    "        return \"fighters\"\n",
    "    else:\n",
    "        return \"not_int\""
   ]
  },
  {
   "cell_type": "code",
   "execution_count": 52,
   "metadata": {},
   "outputs": [],
   "source": [
    "for_market['user_class']= for_market['user_id'].agg(champions)"
   ]
  },
  {
   "cell_type": "code",
   "execution_count": 53,
   "metadata": {},
   "outputs": [
    {
     "data": {
      "text/html": [
       "<div>\n",
       "<style scoped>\n",
       "    .dataframe tbody tr th:only-of-type {\n",
       "        vertical-align: middle;\n",
       "    }\n",
       "\n",
       "    .dataframe tbody tr th {\n",
       "        vertical-align: top;\n",
       "    }\n",
       "\n",
       "    .dataframe thead th {\n",
       "        text-align: right;\n",
       "    }\n",
       "</style>\n",
       "<table border=\"1\" class=\"dataframe\">\n",
       "  <thead>\n",
       "    <tr style=\"text-align: right;\">\n",
       "      <th></th>\n",
       "      <th>total_in_game</th>\n",
       "    </tr>\n",
       "    <tr>\n",
       "      <th>source</th>\n",
       "      <th></th>\n",
       "    </tr>\n",
       "  </thead>\n",
       "  <tbody>\n",
       "    <tr>\n",
       "      <td>facebook_ads</td>\n",
       "      <td>9.860406</td>\n",
       "    </tr>\n",
       "    <tr>\n",
       "      <td>instagram_new_adverts</td>\n",
       "      <td>9.885699</td>\n",
       "    </tr>\n",
       "    <tr>\n",
       "      <td>yandex_direct</td>\n",
       "      <td>9.688649</td>\n",
       "    </tr>\n",
       "    <tr>\n",
       "      <td>youtube_channel_reklama</td>\n",
       "      <td>9.561231</td>\n",
       "    </tr>\n",
       "  </tbody>\n",
       "</table>\n",
       "</div>"
      ],
      "text/plain": [
       "                         total_in_game\n",
       "source                                \n",
       "facebook_ads                  9.860406\n",
       "instagram_new_adverts         9.885699\n",
       "yandex_direct                 9.688649\n",
       "youtube_channel_reklama       9.561231"
      ]
     },
     "execution_count": 53,
     "metadata": {},
     "output_type": "execute_result"
    }
   ],
   "source": [
    "for_market.query('user_class == \"not_int\"').groupby('source').agg({'total_in_game': 'mean'}) # средний срок жизни пользователей, так и не прошедших 1ый уровень"
   ]
  },
  {
   "cell_type": "code",
   "execution_count": 54,
   "metadata": {},
   "outputs": [
    {
     "data": {
      "text/html": [
       "<div>\n",
       "<style scoped>\n",
       "    .dataframe tbody tr th:only-of-type {\n",
       "        vertical-align: middle;\n",
       "    }\n",
       "\n",
       "    .dataframe tbody tr th {\n",
       "        vertical-align: top;\n",
       "    }\n",
       "\n",
       "    .dataframe thead th {\n",
       "        text-align: right;\n",
       "    }\n",
       "</style>\n",
       "<table border=\"1\" class=\"dataframe\">\n",
       "  <thead>\n",
       "    <tr style=\"text-align: right;\">\n",
       "      <th></th>\n",
       "      <th></th>\n",
       "      <th>event</th>\n",
       "      <th>complite</th>\n",
       "      <th>total_in_game</th>\n",
       "    </tr>\n",
       "    <tr>\n",
       "      <th>source</th>\n",
       "      <th>user_class</th>\n",
       "      <th></th>\n",
       "      <th></th>\n",
       "      <th></th>\n",
       "    </tr>\n",
       "  </thead>\n",
       "  <tbody>\n",
       "    <tr>\n",
       "      <td rowspan=\"3\" valign=\"top\">facebook_ads</td>\n",
       "      <td>builder</td>\n",
       "      <td>14.649616</td>\n",
       "      <td>391</td>\n",
       "      <td>13.0</td>\n",
       "    </tr>\n",
       "    <tr>\n",
       "      <td>fighters</td>\n",
       "      <td>10.429513</td>\n",
       "      <td>759</td>\n",
       "      <td>11.0</td>\n",
       "    </tr>\n",
       "    <tr>\n",
       "      <td>not_int</td>\n",
       "      <td>8.901015</td>\n",
       "      <td>0</td>\n",
       "      <td>10.0</td>\n",
       "    </tr>\n",
       "    <tr>\n",
       "      <td rowspan=\"3\" valign=\"top\">instagram_new_adverts</td>\n",
       "      <td>builder</td>\n",
       "      <td>14.756303</td>\n",
       "      <td>476</td>\n",
       "      <td>13.0</td>\n",
       "    </tr>\n",
       "    <tr>\n",
       "      <td>fighters</td>\n",
       "      <td>10.400000</td>\n",
       "      <td>990</td>\n",
       "      <td>11.0</td>\n",
       "    </tr>\n",
       "    <tr>\n",
       "      <td>not_int</td>\n",
       "      <td>8.738437</td>\n",
       "      <td>0</td>\n",
       "      <td>10.0</td>\n",
       "    </tr>\n",
       "    <tr>\n",
       "      <td rowspan=\"3\" valign=\"top\">yandex_direct</td>\n",
       "      <td>builder</td>\n",
       "      <td>14.595161</td>\n",
       "      <td>620</td>\n",
       "      <td>13.0</td>\n",
       "    </tr>\n",
       "    <tr>\n",
       "      <td>fighters</td>\n",
       "      <td>10.375527</td>\n",
       "      <td>1422</td>\n",
       "      <td>11.0</td>\n",
       "    </tr>\n",
       "    <tr>\n",
       "      <td>not_int</td>\n",
       "      <td>8.609369</td>\n",
       "      <td>0</td>\n",
       "      <td>9.0</td>\n",
       "    </tr>\n",
       "    <tr>\n",
       "      <td rowspan=\"3\" valign=\"top\">youtube_channel_reklama</td>\n",
       "      <td>builder</td>\n",
       "      <td>14.596306</td>\n",
       "      <td>379</td>\n",
       "      <td>13.0</td>\n",
       "    </tr>\n",
       "    <tr>\n",
       "      <td>fighters</td>\n",
       "      <td>10.474359</td>\n",
       "      <td>780</td>\n",
       "      <td>11.0</td>\n",
       "    </tr>\n",
       "    <tr>\n",
       "      <td>not_int</td>\n",
       "      <td>8.392272</td>\n",
       "      <td>0</td>\n",
       "      <td>9.0</td>\n",
       "    </tr>\n",
       "  </tbody>\n",
       "</table>\n",
       "</div>"
      ],
      "text/plain": [
       "                                        event  complite  total_in_game\n",
       "source                  user_class                                    \n",
       "facebook_ads            builder     14.649616       391           13.0\n",
       "                        fighters    10.429513       759           11.0\n",
       "                        not_int      8.901015         0           10.0\n",
       "instagram_new_adverts   builder     14.756303       476           13.0\n",
       "                        fighters    10.400000       990           11.0\n",
       "                        not_int      8.738437         0           10.0\n",
       "yandex_direct           builder     14.595161       620           13.0\n",
       "                        fighters    10.375527      1422           11.0\n",
       "                        not_int      8.609369         0            9.0\n",
       "youtube_channel_reklama builder     14.596306       379           13.0\n",
       "                        fighters    10.474359       780           11.0\n",
       "                        not_int      8.392272         0            9.0"
      ]
     },
     "execution_count": 54,
     "metadata": {},
     "output_type": "execute_result"
    }
   ],
   "source": [
    "for_market.groupby(['source', 'user_class']).agg({'event':'mean', 'complite':'sum','total_in_game':'median'})"
   ]
  },
  {
   "cell_type": "code",
   "execution_count": 55,
   "metadata": {},
   "outputs": [],
   "source": [
    "market_users = for_market.groupby('source').agg({'event':'mean', 'complite':['sum','count'],'total_in_game':'median'})"
   ]
  },
  {
   "cell_type": "code",
   "execution_count": 56,
   "metadata": {},
   "outputs": [],
   "source": [
    "market_users.columns = ['events_per_user', 'complite_1_lv', 'total_come', 'median_time_in_game']\n",
    "market_users['events_per_user'] = market_users['events_per_user'].round()"
   ]
  },
  {
   "cell_type": "code",
   "execution_count": 57,
   "metadata": {},
   "outputs": [
    {
     "data": {
      "text/html": [
       "<div>\n",
       "<style scoped>\n",
       "    .dataframe tbody tr th:only-of-type {\n",
       "        vertical-align: middle;\n",
       "    }\n",
       "\n",
       "    .dataframe tbody tr th {\n",
       "        vertical-align: top;\n",
       "    }\n",
       "\n",
       "    .dataframe thead th {\n",
       "        text-align: right;\n",
       "    }\n",
       "</style>\n",
       "<table border=\"1\" class=\"dataframe\">\n",
       "  <thead>\n",
       "    <tr style=\"text-align: right;\">\n",
       "      <th></th>\n",
       "      <th>events_per_user</th>\n",
       "      <th>complite_1_lv</th>\n",
       "      <th>total_come</th>\n",
       "      <th>median_time_in_game</th>\n",
       "      <th>%1st_level_finished</th>\n",
       "    </tr>\n",
       "    <tr>\n",
       "      <th>source</th>\n",
       "      <th></th>\n",
       "      <th></th>\n",
       "      <th></th>\n",
       "      <th></th>\n",
       "      <th></th>\n",
       "    </tr>\n",
       "  </thead>\n",
       "  <tbody>\n",
       "    <tr>\n",
       "      <td>facebook_ads</td>\n",
       "      <td>10.0</td>\n",
       "      <td>1150</td>\n",
       "      <td>2726</td>\n",
       "      <td>11.0</td>\n",
       "      <td>42.19</td>\n",
       "    </tr>\n",
       "    <tr>\n",
       "      <td>instagram_new_adverts</td>\n",
       "      <td>10.0</td>\n",
       "      <td>1466</td>\n",
       "      <td>3347</td>\n",
       "      <td>11.0</td>\n",
       "      <td>43.80</td>\n",
       "    </tr>\n",
       "    <tr>\n",
       "      <td>yandex_direct</td>\n",
       "      <td>10.0</td>\n",
       "      <td>2042</td>\n",
       "      <td>4817</td>\n",
       "      <td>10.0</td>\n",
       "      <td>42.39</td>\n",
       "    </tr>\n",
       "    <tr>\n",
       "      <td>youtube_channel_reklama</td>\n",
       "      <td>10.0</td>\n",
       "      <td>1159</td>\n",
       "      <td>2686</td>\n",
       "      <td>10.0</td>\n",
       "      <td>43.15</td>\n",
       "    </tr>\n",
       "  </tbody>\n",
       "</table>\n",
       "</div>"
      ],
      "text/plain": [
       "                         events_per_user  complite_1_lv  total_come  \\\n",
       "source                                                                \n",
       "facebook_ads                        10.0           1150        2726   \n",
       "instagram_new_adverts               10.0           1466        3347   \n",
       "yandex_direct                       10.0           2042        4817   \n",
       "youtube_channel_reklama             10.0           1159        2686   \n",
       "\n",
       "                         median_time_in_game  %1st_level_finished  \n",
       "source                                                             \n",
       "facebook_ads                            11.0                42.19  \n",
       "instagram_new_adverts                   11.0                43.80  \n",
       "yandex_direct                           10.0                42.39  \n",
       "youtube_channel_reklama                 10.0                43.15  "
      ]
     },
     "execution_count": 57,
     "metadata": {},
     "output_type": "execute_result"
    }
   ],
   "source": [
    "market_users['%1st_level_finished'] = 100 * market_users['complite_1_lv']/market_users['total_come']\n",
    "market_users['%1st_level_finished'] = market_users['%1st_level_finished'].round(2)\n",
    "market_users"
   ]
  },
  {
   "cell_type": "code",
   "execution_count": 58,
   "metadata": {},
   "outputs": [
    {
     "data": {
      "text/html": [
       "<div>\n",
       "<style scoped>\n",
       "    .dataframe tbody tr th:only-of-type {\n",
       "        vertical-align: middle;\n",
       "    }\n",
       "\n",
       "    .dataframe tbody tr th {\n",
       "        vertical-align: top;\n",
       "    }\n",
       "\n",
       "    .dataframe thead th {\n",
       "        text-align: right;\n",
       "    }\n",
       "</style>\n",
       "<table border=\"1\" class=\"dataframe\">\n",
       "  <thead>\n",
       "    <tr style=\"text-align: right;\">\n",
       "      <th></th>\n",
       "      <th>cost</th>\n",
       "    </tr>\n",
       "    <tr>\n",
       "      <th>source</th>\n",
       "      <th></th>\n",
       "    </tr>\n",
       "  </thead>\n",
       "  <tbody>\n",
       "    <tr>\n",
       "      <td>yandex_direct</td>\n",
       "      <td>2233.111449</td>\n",
       "    </tr>\n",
       "    <tr>\n",
       "      <td>instagram_new_adverts</td>\n",
       "      <td>2161.441691</td>\n",
       "    </tr>\n",
       "    <tr>\n",
       "      <td>facebook_ads</td>\n",
       "      <td>2140.904643</td>\n",
       "    </tr>\n",
       "    <tr>\n",
       "      <td>youtube_channel_reklama</td>\n",
       "      <td>1068.119204</td>\n",
       "    </tr>\n",
       "  </tbody>\n",
       "</table>\n",
       "</div>"
      ],
      "text/plain": [
       "                                cost\n",
       "source                              \n",
       "yandex_direct            2233.111449\n",
       "instagram_new_adverts    2161.441691\n",
       "facebook_ads             2140.904643\n",
       "youtube_channel_reklama  1068.119204"
      ]
     },
     "execution_count": 58,
     "metadata": {},
     "output_type": "execute_result"
    }
   ],
   "source": [
    "ad_costs.groupby('source').agg({'cost' : 'sum'}).sort_values(by='cost', ascending = False)"
   ]
  },
  {
   "cell_type": "code",
   "execution_count": 59,
   "metadata": {},
   "outputs": [
    {
     "data": {
      "image/png": "[encoded data removed]",
      "text/plain": [
       "<Figure size 432x288 with 1 Axes>"
      ]
     },
     "metadata": {
      "needs_background": "light"
     },
     "output_type": "display_data"
    }
   ],
   "source": [
    "market_users.plot(y='total_come', kind='bar')\n",
    "plt.title('Количество пришедших пользователей')\n",
    "plt.xticks(rotation=45)\n",
    "plt.xlabel(\"Источник\")\n",
    "plt.ylabel(\"Количество пользователей\")\n",
    "plt.show()"
   ]
  },
  {
   "cell_type": "code",
   "execution_count": 60,
   "metadata": {},
   "outputs": [
    {
     "data": {
      "image/png": "[encoded data removed]",
      "text/plain": [
       "<Figure size 432x288 with 1 Axes>"
      ]
     },
     "metadata": {
      "needs_background": "light"
     },
     "output_type": "display_data"
    }
   ],
   "source": [
    "market_users.plot(y='complite_1_lv', kind='bar')\n",
    "plt.title('Количество пришедших пользователей, прошедших 1 уровень')\n",
    "plt.xticks(rotation=45)\n",
    "plt.xlabel(\"Источник\")\n",
    "plt.ylabel(\"Количество пользователей\")\n",
    "plt.show()"
   ]
  },
  {
   "cell_type": "markdown",
   "metadata": {},
   "source": [
    "Больше всего людей пришло с yandex_direct, логично, что так же больше всего прошедших 1ый уровень. А вот процент прохождения 1 уровня примерно равный между источниками (42,2-43,8%) "
   ]
  },
  {
   "cell_type": "code",
   "execution_count": 61,
   "metadata": {},
   "outputs": [],
   "source": [
    "money_market = for_market.groupby(['source', 'first_visit_date']).agg({'user_id':'count', 'complite':'sum', 'total_in_game':'median'}).reset_index()\n",
    "money_market.columns = ['source', 'day', 'user_id', 'complite', 'median_totaltime_in_game']\n",
    "money_market['day'] = pd.to_datetime(money_market['day'], format='%Y-%m-%d')"
   ]
  },
  {
   "cell_type": "code",
   "execution_count": 62,
   "metadata": {},
   "outputs": [],
   "source": [
    "money_market = pd.merge(money_market, ad_costs, how = 'left', on = ['source', 'day'])\n",
    "money_market['cost_per_user'] = money_market['cost'] / money_market['user_id']\n"
   ]
  },
  {
   "cell_type": "code",
   "execution_count": 63,
   "metadata": {},
   "outputs": [
    {
     "data": {
      "text/plain": [
       "source\n",
       "facebook_ads               2726\n",
       "instagram_new_adverts      3347\n",
       "yandex_direct              4817\n",
       "youtube_channel_reklama    2686\n",
       "Name: user_id, dtype: int64"
      ]
     },
     "execution_count": 63,
     "metadata": {},
     "output_type": "execute_result"
    }
   ],
   "source": [
    "money_market.groupby('source').user_id.sum()"
   ]
  },
  {
   "cell_type": "code",
   "execution_count": 64,
   "metadata": {},
   "outputs": [
    {
     "data": {
      "text/plain": [
       "source\n",
       "facebook_ads               1205.021857\n",
       "instagram_new_adverts      1218.236973\n",
       "yandex_direct              1263.972055\n",
       "youtube_channel_reklama     613.894261\n",
       "Name: cost, dtype: float64"
      ]
     },
     "execution_count": 64,
     "metadata": {},
     "output_type": "execute_result"
    }
   ],
   "source": [
    "money_market.groupby('source').cost.sum()"
   ]
  },
  {
   "cell_type": "code",
   "execution_count": 65,
   "metadata": {},
   "outputs": [
    {
     "data": {
      "text/html": [
       "<div>\n",
       "<style scoped>\n",
       "    .dataframe tbody tr th:only-of-type {\n",
       "        vertical-align: middle;\n",
       "    }\n",
       "\n",
       "    .dataframe tbody tr th {\n",
       "        vertical-align: top;\n",
       "    }\n",
       "\n",
       "    .dataframe thead th {\n",
       "        text-align: right;\n",
       "    }\n",
       "</style>\n",
       "<table border=\"1\" class=\"dataframe\">\n",
       "  <thead>\n",
       "    <tr style=\"text-align: right;\">\n",
       "      <th></th>\n",
       "      <th>total_cost</th>\n",
       "      <th>total_users</th>\n",
       "      <th>avg_cost_per_user</th>\n",
       "    </tr>\n",
       "    <tr>\n",
       "      <th>source</th>\n",
       "      <th></th>\n",
       "      <th></th>\n",
       "      <th></th>\n",
       "    </tr>\n",
       "  </thead>\n",
       "  <tbody>\n",
       "    <tr>\n",
       "      <td>facebook_ads</td>\n",
       "      <td>1205.021857</td>\n",
       "      <td>2670</td>\n",
       "      <td>0.451</td>\n",
       "    </tr>\n",
       "    <tr>\n",
       "      <td>instagram_new_adverts</td>\n",
       "      <td>1218.236973</td>\n",
       "      <td>3277</td>\n",
       "      <td>0.372</td>\n",
       "    </tr>\n",
       "    <tr>\n",
       "      <td>yandex_direct</td>\n",
       "      <td>1263.972055</td>\n",
       "      <td>4728</td>\n",
       "      <td>0.267</td>\n",
       "    </tr>\n",
       "    <tr>\n",
       "      <td>youtube_channel_reklama</td>\n",
       "      <td>613.894261</td>\n",
       "      <td>2630</td>\n",
       "      <td>0.233</td>\n",
       "    </tr>\n",
       "  </tbody>\n",
       "</table>\n",
       "</div>"
      ],
      "text/plain": [
       "                          total_cost  total_users  avg_cost_per_user\n",
       "source                                                              \n",
       "facebook_ads             1205.021857         2670              0.451\n",
       "instagram_new_adverts    1218.236973         3277              0.372\n",
       "yandex_direct            1263.972055         4728              0.267\n",
       "youtube_channel_reklama   613.894261         2630              0.233"
      ]
     },
     "execution_count": 65,
     "metadata": {},
     "output_type": "execute_result"
    }
   ],
   "source": [
    "money_market = money_market.dropna()\n",
    "money_market.head()\n",
    "mm_grouped = money_market.groupby('source').agg({'cost':'sum', 'user_id': 'sum'}) \n",
    "mm_grouped.columns = ['total_cost', 'total_users']\n",
    "mm_grouped['avg_cost_per_user'] = mm_grouped['total_cost'] / mm_grouped['total_users']# средняя стоимость пользователя за весь период\n",
    "mm_grouped['avg_cost_per_user'] = mm_grouped['avg_cost_per_user'].round(3)\n",
    "mm_grouped"
   ]
  },
  {
   "cell_type": "code",
   "execution_count": 66,
   "metadata": {},
   "outputs": [
    {
     "data": {
      "image/png": "[encoded data removed]",
      "text/plain": [
       "<Figure size 432x288 with 1 Axes>"
      ]
     },
     "metadata": {
      "needs_background": "light"
     },
     "output_type": "display_data"
    },
    {
     "data": {
      "text/html": [
       "<div>\n",
       "<style scoped>\n",
       "    .dataframe tbody tr th:only-of-type {\n",
       "        vertical-align: middle;\n",
       "    }\n",
       "\n",
       "    .dataframe tbody tr th {\n",
       "        vertical-align: top;\n",
       "    }\n",
       "\n",
       "    .dataframe thead th {\n",
       "        text-align: right;\n",
       "    }\n",
       "</style>\n",
       "<table border=\"1\" class=\"dataframe\">\n",
       "  <thead>\n",
       "    <tr style=\"text-align: right;\">\n",
       "      <th></th>\n",
       "      <th>cost</th>\n",
       "    </tr>\n",
       "    <tr>\n",
       "      <th>source</th>\n",
       "      <th></th>\n",
       "    </tr>\n",
       "  </thead>\n",
       "  <tbody>\n",
       "    <tr>\n",
       "      <td>facebook_ads</td>\n",
       "      <td>2140.904643</td>\n",
       "    </tr>\n",
       "    <tr>\n",
       "      <td>instagram_new_adverts</td>\n",
       "      <td>2161.441691</td>\n",
       "    </tr>\n",
       "    <tr>\n",
       "      <td>yandex_direct</td>\n",
       "      <td>2233.111449</td>\n",
       "    </tr>\n",
       "    <tr>\n",
       "      <td>youtube_channel_reklama</td>\n",
       "      <td>1068.119204</td>\n",
       "    </tr>\n",
       "  </tbody>\n",
       "</table>\n",
       "</div>"
      ],
      "text/plain": [
       "                                cost\n",
       "source                              \n",
       "facebook_ads             2140.904643\n",
       "instagram_new_adverts    2161.441691\n",
       "yandex_direct            2233.111449\n",
       "youtube_channel_reklama  1068.119204"
      ]
     },
     "execution_count": 66,
     "metadata": {},
     "output_type": "execute_result"
    }
   ],
   "source": [
    "#ad_costs.groupby('source').cost.sum()\n",
    "ad_costs.groupby('day').agg({'cost':'sum'}).plot(y='cost', kind='bar')\n",
    "plt.title('Количество пришедших пользователей')\n",
    "plt.xticks(rotation=45)\n",
    "plt.xlabel(\"Источник\")\n",
    "plt.ylabel(\"Количество пользователей\")\n",
    "plt.show()\n",
    "\n",
    "ad_costs.groupby('source').agg({'cost':'sum'})"
   ]
  },
  {
   "cell_type": "code",
   "execution_count": 67,
   "metadata": {},
   "outputs": [
    {
     "data": {
      "text/plain": [
       "array(['2020-05-03T00:00:00.000000000', '2020-05-04T00:00:00.000000000',\n",
       "       '2020-05-05T00:00:00.000000000', '2020-05-06T00:00:00.000000000',\n",
       "       '2020-05-07T00:00:00.000000000', '2020-05-08T00:00:00.000000000',\n",
       "       '2020-05-09T00:00:00.000000000'], dtype='datetime64[ns]')"
      ]
     },
     "execution_count": 67,
     "metadata": {},
     "output_type": "execute_result"
    }
   ],
   "source": [
    "ad_costs['day'].unique()"
   ]
  },
  {
   "cell_type": "code",
   "execution_count": 68,
   "metadata": {},
   "outputs": [
    {
     "name": "stdout",
     "output_type": "stream",
     "text": [
      "<class 'pandas.core.frame.DataFrame'>\n",
      "RangeIndex: 28 entries, 0 to 27\n",
      "Data columns (total 3 columns):\n",
      "source    28 non-null object\n",
      "day       28 non-null datetime64[ns]\n",
      "cost      28 non-null float64\n",
      "dtypes: datetime64[ns](1), float64(1), object(1)\n",
      "memory usage: 800.0+ bytes\n"
     ]
    }
   ],
   "source": [
    "ad_costs.info()"
   ]
  },
  {
   "cell_type": "code",
   "execution_count": 69,
   "metadata": {},
   "outputs": [],
   "source": [
    "for_market_new = pd.merge(user_source, first_visit_date, how = 'left', on = 'user_id')\n",
    "for_market_new_grouped = for_market_new.groupby(['first_visit_date', 'source']).agg({'user_id':'count'}).reset_index()\n",
    "for_market_new_grouped.columns = ['day', 'source', 'user_count']\n",
    "for_market_new_grouped['day'] = pd.to_datetime(for_market_new_grouped['day'], format ='%Y-%m-%d')\n",
    "for_market_new_grouped = pd.merge(for_market_new_grouped, ad_costs, how = 'left', on = ['day', 'source'])"
   ]
  },
  {
   "cell_type": "code",
   "execution_count": 70,
   "metadata": {},
   "outputs": [
    {
     "data": {
      "text/html": [
       "<div>\n",
       "<style scoped>\n",
       "    .dataframe tbody tr th:only-of-type {\n",
       "        vertical-align: middle;\n",
       "    }\n",
       "\n",
       "    .dataframe tbody tr th {\n",
       "        vertical-align: top;\n",
       "    }\n",
       "\n",
       "    .dataframe thead th {\n",
       "        text-align: right;\n",
       "    }\n",
       "</style>\n",
       "<table border=\"1\" class=\"dataframe\">\n",
       "  <thead>\n",
       "    <tr style=\"text-align: right;\">\n",
       "      <th></th>\n",
       "      <th>user_count</th>\n",
       "      <th>cost</th>\n",
       "      <th>cost_per_user</th>\n",
       "    </tr>\n",
       "    <tr>\n",
       "      <th>source</th>\n",
       "      <th></th>\n",
       "      <th></th>\n",
       "      <th></th>\n",
       "    </tr>\n",
       "  </thead>\n",
       "  <tbody>\n",
       "    <tr>\n",
       "      <td>facebook_ads</td>\n",
       "      <td>2726</td>\n",
       "      <td>1205.021857</td>\n",
       "      <td>0.442048</td>\n",
       "    </tr>\n",
       "    <tr>\n",
       "      <td>instagram_new_adverts</td>\n",
       "      <td>3347</td>\n",
       "      <td>1218.236973</td>\n",
       "      <td>0.363979</td>\n",
       "    </tr>\n",
       "    <tr>\n",
       "      <td>yandex_direct</td>\n",
       "      <td>4817</td>\n",
       "      <td>1263.972055</td>\n",
       "      <td>0.262398</td>\n",
       "    </tr>\n",
       "    <tr>\n",
       "      <td>youtube_channel_reklama</td>\n",
       "      <td>2686</td>\n",
       "      <td>613.894261</td>\n",
       "      <td>0.228553</td>\n",
       "    </tr>\n",
       "  </tbody>\n",
       "</table>\n",
       "</div>"
      ],
      "text/plain": [
       "                         user_count         cost  cost_per_user\n",
       "source                                                         \n",
       "facebook_ads                   2726  1205.021857       0.442048\n",
       "instagram_new_adverts          3347  1218.236973       0.363979\n",
       "yandex_direct                  4817  1263.972055       0.262398\n",
       "youtube_channel_reklama        2686   613.894261       0.228553"
      ]
     },
     "execution_count": 70,
     "metadata": {},
     "output_type": "execute_result"
    }
   ],
   "source": [
    "mm_new = for_market_new_grouped.groupby('source').agg({'user_count':'sum', 'cost':'sum'})\n",
    "mm_new['cost_per_user'] = mm_new['cost'] / mm_new['user_count']\n",
    "mm_new"
   ]
  },
  {
   "cell_type": "markdown",
   "metadata": {},
   "source": [
    "Затраты, которые хравнятся в файле ad_costs включают 3 число, которого у нас среди пользоватеелй нет, и нет данных за 10 ое число, которое есть для пользователей, но его нет для  затрат.при это нет указзани сдвигать даты, чтобы затраты пользователей на 3 число считались на пользователей пришедших 4го числа. Что вполне логично, но для этого нужно знать, когда производится оплата и с какой скоростью действует реклама (на основании чего сдвигать расчет)."
   ]
  },
  {
   "cell_type": "code",
   "execution_count": 71,
   "metadata": {},
   "outputs": [],
   "source": [
    "for_market_new['effective_date'] = for_market_new['first_visit_date'] - timedelta(1)"
   ]
  },
  {
   "cell_type": "code",
   "execution_count": 72,
   "metadata": {},
   "outputs": [],
   "source": [
    "for_market_new = for_market_new.drop(columns= 'first_visit_date')"
   ]
  },
  {
   "cell_type": "code",
   "execution_count": 73,
   "metadata": {},
   "outputs": [
    {
     "data": {
      "text/html": [
       "<div>\n",
       "<style scoped>\n",
       "    .dataframe tbody tr th:only-of-type {\n",
       "        vertical-align: middle;\n",
       "    }\n",
       "\n",
       "    .dataframe tbody tr th {\n",
       "        vertical-align: top;\n",
       "    }\n",
       "\n",
       "    .dataframe thead th {\n",
       "        text-align: right;\n",
       "    }\n",
       "</style>\n",
       "<table border=\"1\" class=\"dataframe\">\n",
       "  <thead>\n",
       "    <tr style=\"text-align: right;\">\n",
       "      <th></th>\n",
       "      <th>user_count</th>\n",
       "      <th>cost</th>\n",
       "      <th>cost_per_user</th>\n",
       "    </tr>\n",
       "    <tr>\n",
       "      <th>source</th>\n",
       "      <th></th>\n",
       "      <th></th>\n",
       "      <th></th>\n",
       "    </tr>\n",
       "  </thead>\n",
       "  <tbody>\n",
       "    <tr>\n",
       "      <td>facebook_ads</td>\n",
       "      <td>2726</td>\n",
       "      <td>2140.904643</td>\n",
       "      <td>0.785365</td>\n",
       "    </tr>\n",
       "    <tr>\n",
       "      <td>instagram_new_adverts</td>\n",
       "      <td>3347</td>\n",
       "      <td>2161.441691</td>\n",
       "      <td>0.645785</td>\n",
       "    </tr>\n",
       "    <tr>\n",
       "      <td>yandex_direct</td>\n",
       "      <td>4817</td>\n",
       "      <td>2233.111449</td>\n",
       "      <td>0.463590</td>\n",
       "    </tr>\n",
       "    <tr>\n",
       "      <td>youtube_channel_reklama</td>\n",
       "      <td>2686</td>\n",
       "      <td>1068.119204</td>\n",
       "      <td>0.397662</td>\n",
       "    </tr>\n",
       "  </tbody>\n",
       "</table>\n",
       "</div>"
      ],
      "text/plain": [
       "                         user_count         cost  cost_per_user\n",
       "source                                                         \n",
       "facebook_ads                   2726  2140.904643       0.785365\n",
       "instagram_new_adverts          3347  2161.441691       0.645785\n",
       "yandex_direct                  4817  2233.111449       0.463590\n",
       "youtube_channel_reklama        2686  1068.119204       0.397662"
      ]
     },
     "execution_count": 73,
     "metadata": {},
     "output_type": "execute_result"
    }
   ],
   "source": [
    "for_market_new_grouped2 = for_market_new.groupby(['effective_date', 'source']).agg({'user_id':'count'}).reset_index()\n",
    "for_market_new_grouped2.columns = ['day', 'source', 'user_count']\n",
    "for_market_new_grouped2['day'] = pd.to_datetime(for_market_new_grouped2['day'], format ='%Y-%m-%d')\n",
    "for_market_new_grouped2 = pd.merge(for_market_new_grouped2, ad_costs, how = 'left', on = ['day', 'source'])\n",
    "for_market_new_grouped2\n",
    "\n",
    "mm_new_witn_timedelta = for_market_new_grouped2.groupby('source').agg({'user_count':'sum', 'cost':'sum'})\n",
    "mm_new_witn_timedelta['cost_per_user'] = mm_new_witn_timedelta['cost'] / mm_new_witn_timedelta['user_count']\n",
    "mm_new_witn_timedelta"
   ]
  },
  {
   "cell_type": "markdown",
   "metadata": {},
   "source": [
    "Если считаем верным условие, что затраты на рекламу приводят к действиям пользователей через сутки, то стоимость каждого пользователя в среднем за весь период времени с 03/05/2020 по 09/05/2020 на основании затрат на рекламу с учетам дельты времени будет выглядеть так: \n",
    "- facebook_ads 0,785\n",
    "- instagram_new_adverts  0,646\n",
    "- yandex_direct  0,463\n",
    "- youtube_channel_reklama 0,398 \n"
   ]
  },
  {
   "cell_type": "code",
   "execution_count": 74,
   "metadata": {},
   "outputs": [
    {
     "data": {
      "image/png": "[encoded data removed]",
      "text/plain": [
       "<Figure size 792x648 with 1 Axes>"
      ]
     },
     "metadata": {
      "needs_background": "light"
     },
     "output_type": "display_data"
    }
   ],
   "source": [
    "\n",
    "fig, ax = plt.subplots(figsize=(11, 9))\n",
    "\n",
    "for i, group in money_market.groupby('source'):\n",
    "    group.plot(x='day', y='cost_per_user', ax=ax, label=group[\"source\"].iloc[0])\n",
    "ax.set_title(\"Стоимость 1 пользователя с каждого ресурса в каждый день\")\n",
    "ax.set_ylabel(\"Средняя стоимость 1 пользователя\")\n",
    "ax.set_xlabel(\"Дата\")\n",
    "\n",
    "plt.show()\n"
   ]
  },
  {
   "cell_type": "markdown",
   "metadata": {},
   "source": [
    "При этом самыми дорогими являются пользователи, пришедшие с facebook_ads на всем протяжении наблюдений. "
   ]
  },
  {
   "cell_type": "markdown",
   "metadata": {},
   "source": [
    "### Выводы \n",
    "<a id='7'></a>\n",
    "\n",
    "\n",
    " Всего в предложенных датасетах рассматривали действия 13576 пользователей игры, зарегистрировавшихся в период с 4 по 10 мая 2020 года, за период  с 04 мая 2020 по 5 июня 2020.  Из этих пользоватлей были сформированы когорты по дням регистрации. Наиболее многочисленны когорты от 4 и 5 мая. \n",
    "\n",
    "\n",
    " Пик активности пользователей в игре приходится на 10 мая (последний день даты регистрации). При этом не ясно образовался ли пик присутствия пользователей в игре в результате края регистрационного периода, или происходила какая-то доп.активность, которая привлекла пользоватлей. \n",
    " \n",
    "Из 13576 пользоватлей только 5817 достигли 1 уровня. \n",
    "Всего 1866 пользователей закончили первый уровень постройкой космопорта из 5817пользователей получивших первый уровень. Отсюда следует вывод, что большая часть пользователей предпочитает повышать уровень победой над другим игроком.\n",
    "\n",
    "\n",
    "Самыми наполнеными (количество уникальных пользователей) являются первые две недели жизни пользователей. Дальше происходит резкий спад посещаемости.\n",
    "\n",
    "\n",
    "При исследовании корреляции между признаками наибольшая корреляция выявлена между показателем количество ивентов на пользователя и прохождением первого уровня. (коэф.корреляции 0,37)\n",
    "\n",
    "\n",
    "\n",
    "Средняя продолжительность жизни пользователей 14 дней. При этом средняя продолжительность жизни пользователей, не дошедших до 1 уровня, 9,5-9,8 дней (в зависимости от источника). Что удручающе мало. (учитывая, что больше половины игроков не доходят од 1го уровня, фактически это означает, что есть некий порог на 14 дне, который пользователям преодолеть трудно)\n",
    "\n",
    "\n",
    "Количество ивентов на пользователя растет ко второй неделе, но дальше резко снижается. Интересно, что произошло в жизни бойцов, что появился рост активности на 4ой неделе жизни. \n",
    "\n",
    "\n",
    "##### Было проверено две гипотезы:\n",
    "- 1 Гипотеза: Среднее время прохождения 1 уровня одинаково для обеих групп (бойцы и строители (Н0) - гипотеза отвергнута. Бойцы преодолевают порог 1го уровня быстрее. Среднее время бойцов - 11 дней, строителей - 13,4 дня \n",
    "\n",
    "- 2 Гипотеза: Строители и бойцы совершают одинаковое среднее количество активностей в день (бойцы и строители (Н0). Гипотеза отвергнула. Строители в среднем более активны, чем бойцы.\n",
    "\n",
    "\n",
    "###### Для отдела маркетинга\n",
    "Учитывая, что планируется размещать рекламу на экране построек:\n",
    "Среди всех доступных для анализа построек - самая популярная для обуих групп spaceport. При этом каждый строитель построил хотя бы по одному зданию каждого вида (наименее популярен - research center), а среди бойцов наибольшее кол-во пользователей строит assembly_shop (в среднем по 4,1 магазину на каждого пользователя). А spaceport строит чуть меньшее количество пользователей, но боьлше по количествоу (4.3 порта на каждого пользователя).\n",
    "\n",
    "\n",
    "При этом наиболее активны в плане кол-ва ивентов на пользователя -вторая неделя жизни игроков. Сложность в том, что почти нет пересечения максимальной активности пользоателей и целевого события. У игроков какие-то затруднения с достижением целевого собтия. \n",
    "\n",
    "\n",
    "\n",
    "Возможный вариант решения проблемы: на 9-ый день посещения игры можно давать пользователям промо-вип статус, или аналогичный бонус. Это позволит сократить отток пользователей и возможно увеличит количество игроков, прошедших 1ый уровень.\n",
    "\n",
    "\n",
    "Анализируя источники, из которых пришли пользователи, видим, что наибольшее количество пользователей пришло с yandex_direct, а наиболее дорогими получились пользователи пришедшие с facebook_ads. Наиболее выгодное вложение в рекламу оказалось в yandex_direct (средняя стоимость пользователя за весь период 0.274)  и youtube_channel_reklama (средняя стоимость пользователя за весь период 0.246). Возможно, стоит пересмотреть рекламный бюджет."
   ]
  },
  {
   "cell_type": "code",
   "execution_count": null,
   "metadata": {},
   "outputs": [],
   "source": []
  }
 ],
 "metadata": {
  "kernelspec": {
   "display_name": "Python 3",
   "language": "python",
   "name": "python3"
  },
  "language_info": {
   "codemirror_mode": {
    "name": "ipython",
    "version": 3
   },
   "file_extension": ".py",
   "mimetype": "text/x-python",
   "name": "python",
   "nbconvert_exporter": "python",
   "pygments_lexer": "ipython3",
   "version": "3.7.6"
  }
 },
 "nbformat": 4,
 "nbformat_minor": 2
}
