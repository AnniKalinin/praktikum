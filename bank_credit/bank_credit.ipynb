{
 "cells": [
  {
   "cell_type": "markdown",
   "metadata": {},
   "source": [
    "## Исследование надёжности заёмщиков\n",
    "\n",
    "Заказчик — кредитный отдел банка. Нужно разобраться, влияет ли семейное положение и количество детей клиента на факт погашения кредита в срок. Входные данные от банка — статистика о платёжеспособности клиентов."
   ]
  },
  {
   "cell_type": "markdown",
   "metadata": {},
   "source": [
    "### Шаг 1. Откройте файл с данными и изучите общую информацию. "
   ]
  },
  {
   "cell_type": "code",
   "execution_count": 1,
   "metadata": {},
   "outputs": [
    {
     "name": "stdout",
     "output_type": "stream",
     "text": [
      "<class 'pandas.core.frame.DataFrame'>\n",
      "RangeIndex: 21525 entries, 0 to 21524\n",
      "Data columns (total 12 columns):\n",
      "children            21525 non-null int64\n",
      "days_employed       19351 non-null float64\n",
      "dob_years           21525 non-null int64\n",
      "education           21525 non-null object\n",
      "education_id        21525 non-null int64\n",
      "family_status       21525 non-null object\n",
      "family_status_id    21525 non-null int64\n",
      "gender              21525 non-null object\n",
      "income_type         21525 non-null object\n",
      "debt                21525 non-null int64\n",
      "total_income        19351 non-null float64\n",
      "purpose             21525 non-null object\n",
      "dtypes: float64(2), int64(5), object(5)\n",
      "memory usage: 2.0+ MB\n"
     ]
    }
   ],
   "source": [
    "import pandas as pd\n",
    "data = pd.read_csv('/datasets/data.csv')\n",
    "data.info()\n"
   ]
  },
  {
   "cell_type": "markdown",
   "metadata": {},
   "source": [
    "### Вывод\n",
    "В исходных данных есть пропущенные значения в данных об общем трудовом стаже ('days_employed') и о ежемесячном доходе ('total_income') - 10% от датасета по этим параметрам отсутствуют. Это может быть связано с тем, что у некоторой категории клиентов нет подтверждения трудового стажа и официального дохода. Для данного проекта значения 'days_employed' не является ключевым. Поэтому будут заменеты медианным значением данного параметра по датасету. Параметр 'total_income' заявлен ключевым для данного иследования. Поэтому пропущенные значения будут заменены на медиану показателя для соответствующего типа занятости. "
   ]
  },
  {
   "cell_type": "markdown",
   "metadata": {},
   "source": [
    "### Шаг 2. Предобработка данных"
   ]
  },
  {
   "cell_type": "markdown",
   "metadata": {},
   "source": [
    "### Обработка пропусков"
   ]
  },
  {
   "cell_type": "code",
   "execution_count": 2,
   "metadata": {},
   "outputs": [
    {
     "name": "stdout",
     "output_type": "stream",
     "text": [
      "<class 'pandas.core.frame.DataFrame'>\n",
      "RangeIndex: 21525 entries, 0 to 21524\n",
      "Data columns (total 14 columns):\n",
      "children                    21525 non-null int64\n",
      "days_employed               19351 non-null float64\n",
      "dob_years                   21525 non-null int64\n",
      "education                   21525 non-null object\n",
      "education_id                21525 non-null int64\n",
      "family_status               21525 non-null object\n",
      "family_status_id            21525 non-null int64\n",
      "gender                      21525 non-null object\n",
      "income_type                 21525 non-null object\n",
      "debt                        21525 non-null int64\n",
      "total_income                21525 non-null float64\n",
      "purpose                     21525 non-null object\n",
      "classified_days_employed    21525 non-null object\n",
      "classified_dob_years        21525 non-null object\n",
      "dtypes: float64(2), int64(5), object(7)\n",
      "memory usage: 2.3+ MB\n"
     ]
    }
   ],
   "source": [
    "def classified_dob_years(row):\n",
    "    if (0 < row & row < 18):\n",
    "        return 'несовершеннолетний!!!'\n",
    "    if (18 <= row & row <= 25):\n",
    "        return 'молодой (18 - 25 лет)'\n",
    "    if (26 <= row & row <= 45):\n",
    "        return 'взрослый (26 - 45 лет)'\n",
    "    if (46 <= row & row <= 60):\n",
    "        return 'старший (46 - 60 лет)'\n",
    "    if row == 0:\n",
    "        return 'возраст не указан'\n",
    "    else:\n",
    "        return 'старше 60'\n",
    "    \n",
    "def classified_days_employed(row):\n",
    "    if row > 0:\n",
    "        return 'на пенсии или безработный'\n",
    "    if row < -15330:\n",
    "        return 'работают на пенсии'\n",
    "    \n",
    "    return 'обычный стаж'\n",
    "\n",
    "\n",
    "data['classified_days_employed'] = data['days_employed'].apply(classified_days_employed)\n",
    "data['classified_dob_years'] = data['dob_years'].apply(classified_dob_years)\n",
    "\n",
    "data_without_null = data.dropna()\n",
    "data_null = data.loc[data['days_employed'].isnull()]\n",
    "data_null['income_type'].value_counts()\n",
    "\n",
    "income_employee = data_without_null.loc[data_without_null['income_type'] == 'сотрудник']['total_income'].median()\n",
    "income_partner = data_without_null.loc[data_without_null['income_type'] == 'компаньон']['total_income'].median()\n",
    "income_public_employee = data_without_null.loc[data_without_null['income_type'] == 'госслужащий']['total_income'].median()\n",
    "income_pensionary = data_without_null.loc[data_without_null['income_type'] == 'пенсионер']['total_income'].median()\n",
    "income_bissness_owner = data_without_null.loc[data_without_null['income_type'] == 'предприниматель']['total_income'].median()\n",
    "\n",
    "data.loc[data['income_type'] == 'сотрудник','total_income'] = data.loc[data['income_type'] == 'сотрудник', 'total_income'].fillna(income_employee)\n",
    "data.loc[data['income_type'] == 'компаньон', 'total_income'] = data.loc[data['income_type'] == 'компаньон', 'total_income'].fillna(income_partner)\n",
    "data.loc[data['income_type'] == 'госслужащий', 'total_income'] = data.loc[data['income_type'] == 'госслужащий', 'total_income'].fillna(income_public_employee)\n",
    "data.loc[data['income_type'] == 'пенсионер', 'total_income'] = data.loc[data['income_type'] == 'пенсионер', 'total_income'].fillna(income_pensionary)\n",
    "data.loc[data['income_type'] == 'предприниматель','total_income'] = data.loc[data['income_type'] == 'предприниматель', 'total_income'].fillna(income_bissness_owner)\n",
    "\n",
    "data.info()"
   ]
  },
  {
   "cell_type": "code",
   "execution_count": 3,
   "metadata": {},
   "outputs": [
    {
     "name": "stdout",
     "output_type": "stream",
     "text": [
      "<class 'pandas.core.frame.DataFrame'>\n",
      "RangeIndex: 21525 entries, 0 to 21524\n",
      "Data columns (total 14 columns):\n",
      "children                    21525 non-null int64\n",
      "days_employed               21525 non-null float64\n",
      "dob_years                   21525 non-null int64\n",
      "education                   21525 non-null object\n",
      "education_id                21525 non-null int64\n",
      "family_status               21525 non-null object\n",
      "family_status_id            21525 non-null int64\n",
      "gender                      21525 non-null object\n",
      "income_type                 21525 non-null object\n",
      "debt                        21525 non-null int64\n",
      "total_income                21525 non-null float64\n",
      "purpose                     21525 non-null object\n",
      "classified_days_employed    21525 non-null object\n",
      "classified_dob_years        21525 non-null object\n",
      "dtypes: float64(2), int64(5), object(7)\n",
      "memory usage: 2.3+ MB\n",
      "\n",
      "                  total_income  days_employed   debt      \n",
      "                        median         median  count   sum\n",
      "income_type                                               \n",
      "безработный      131339.751676  366413.652744      2     1\n",
      "в декрете         53829.130729   -3296.759962      1     1\n",
      "госслужащий      150447.935283   -2385.358043   1459    86\n",
      "компаньон        172357.950966   -1556.774437   5085   376\n",
      "пенсионер        118514.486412  365213.306266   3856   216\n",
      "предприниматель  499163.144947    -853.048371      2     0\n",
      "сотрудник        142594.396847   -1556.774437  11119  1061\n",
      "студент           98201.625314    -578.751554      1     0\n"
     ]
    }
   ],
   "source": [
    "data_null = data.loc[data['days_employed'].isnull()]\n",
    "days_employed_pensioner_type = data_without_null.loc[data_without_null['income_type'] == 'пенсионер']['days_employed'].median()\n",
    "days_employed_26_45 = data_without_null.loc[data_without_null['classified_dob_years'] == 'взрослый (26 - 45 лет)']['days_employed'].median()\n",
    "days_employed_46_60 = data_without_null.loc[data_without_null['classified_dob_years'] == 'старший (46 - 60 лет)']['days_employed'].median()\n",
    "days_employed_18_25 = data_without_null.loc[data_without_null['classified_dob_years'] == 'молодой (18 - 25 лет)']['days_employed'].median()\n",
    "days_employed_more_60 = data_without_null.loc[data_without_null['classified_dob_years'] == 'старше 60']['days_employed'].median()\n",
    "days_employed_no_dob_years = data_without_null.loc[data_without_null['classified_dob_years'] == 'возраст не указан']['days_employed'].median()\n",
    "\n",
    "data.loc[data['income_type'] == 'пенсионер','days_employed'] = data.loc[data['income_type'] == 'пенсионер', 'days_employed'].fillna(days_employed_pensioner_type)\n",
    "data.loc[data['classified_dob_years'] == 'взрослый (26 - 45 лет)','days_employed'] = data.loc[data['classified_dob_years'] == 'взрослый (26 - 45 лет)', 'days_employed'].fillna(days_employed_26_45)\n",
    "data.loc[data['classified_dob_years'] == 'старший (46 - 60 лет)','days_employed'] = data.loc[data['classified_dob_years'] == 'старший (46 - 60 лет)', 'days_employed'].fillna(days_employed_46_60)\n",
    "data.loc[data['classified_dob_years'] == 'молодой (18 - 25 лет)','days_employed'] = data.loc[data['classified_dob_years'] == 'молодой (18 - 25 лет)', 'days_employed'].fillna(days_employed_18_25)\n",
    "data.loc[data['classified_dob_years'] == 'старше 60','days_employed'] = data.loc[data['classified_dob_years'] == 'старше 60', 'days_employed'].fillna(days_employed_more_60)\n",
    "data.loc[data['classified_dob_years'] == 'возраст не указан','days_employed'] = data.loc[data['classified_dob_years'] == 'возраст не указан', 'days_employed'].fillna(days_employed_no_dob_years)  \n",
    "data['classified_days_employed'] = data['days_employed'].apply(classified_days_employed)\n",
    "data['classified_dob_years'] = data['dob_years'].apply(classified_dob_years)\n",
    "data_grouped = data.groupby(['income_type']).agg({'total_income' : 'median', 'days_employed' : 'median', 'debt' : ['count', 'sum']})\n",
    "\n",
    "data.info()\n",
    "print()\n",
    "print(data_grouped)"
   ]
  },
  {
   "cell_type": "markdown",
   "metadata": {},
   "source": [
    "### Вывод\n",
    "Больше половины значений (74%) в графе общего трудового стажа ('days_employed') содержат отрицательные значения. Следовательно, это не случайная ошибка в данных. Требуются пояснения о назначении знаков в этой графе для более корректного ввода пропущенных значений. \n",
    "Пропущенные значения в графе общего трудового стажа ('days_employed') заменены на медиану значений в данной графе в соответствии с возрастной категорией ('classified_dob_years'), поскольку трудовой стаж так или иначе связан с количеством прожитых лет. За исключением пенсионеров, поскольку их трудовой стаж видимо специально записывался большим положительным числом. Их трудовой стаж был посчитан как медиана трудового стажа пенсионеров ('income_type') в данной таблице.  \n",
    "В графе возраста ('dob_years') есть значения 0. Либо данные клиента были введены не верно, были не введены вообще, возможно, были не подтверждены. "
   ]
  },
  {
   "cell_type": "markdown",
   "metadata": {},
   "source": [
    "### Замена типа данных"
   ]
  },
  {
   "cell_type": "code",
   "execution_count": 6,
   "metadata": {},
   "outputs": [
    {
     "name": "stdout",
     "output_type": "stream",
     "text": [
      "<class 'pandas.core.frame.DataFrame'>\n",
      "RangeIndex: 21525 entries, 0 to 21524\n",
      "Data columns (total 14 columns):\n",
      "children                    21525 non-null int64\n",
      "days_employed               21525 non-null int64\n",
      "dob_years                   21525 non-null int64\n",
      "education                   21525 non-null object\n",
      "education_id                21525 non-null int64\n",
      "family_status               21525 non-null object\n",
      "family_status_id            21525 non-null int64\n",
      "gender                      21525 non-null object\n",
      "income_type                 21525 non-null object\n",
      "debt                        21525 non-null int64\n",
      "total_income                21525 non-null int64\n",
      "purpose                     21525 non-null object\n",
      "classified_days_employed    21525 non-null object\n",
      "classified_dob_years        21525 non-null object\n",
      "dtypes: int64(7), object(7)\n",
      "memory usage: 2.3+ MB\n"
     ]
    }
   ],
   "source": [
    "data['days_employed'] = data['days_employed'].astype('int')\n",
    "data['total_income'] = data['total_income'].astype('int')\n",
    "data.info()"
   ]
  },
  {
   "cell_type": "markdown",
   "metadata": {},
   "source": [
    "### Вывод\n",
    "В датасете был изменен тип данных для колонок 'days_employed' и 'total income' методом astype() с типа float на тип int. "
   ]
  },
  {
   "cell_type": "markdown",
   "metadata": {},
   "source": [
    "### Обработка дубликатов"
   ]
  },
  {
   "cell_type": "code",
   "execution_count": 8,
   "metadata": {},
   "outputs": [
    {
     "name": "stdout",
     "output_type": "stream",
     "text": [
      "<class 'pandas.core.frame.DataFrame'>\n",
      "RangeIndex: 21471 entries, 0 to 21470\n",
      "Data columns (total 14 columns):\n",
      "children                    21471 non-null int64\n",
      "days_employed               21471 non-null int64\n",
      "dob_years                   21471 non-null int64\n",
      "education                   21471 non-null object\n",
      "education_id                21471 non-null int64\n",
      "family_status               21471 non-null object\n",
      "family_status_id            21471 non-null int64\n",
      "gender                      21471 non-null object\n",
      "income_type                 21471 non-null object\n",
      "debt                        21471 non-null int64\n",
      "total_income                21471 non-null int64\n",
      "purpose                     21471 non-null object\n",
      "classified_days_employed    21471 non-null object\n",
      "classified_dob_years        21471 non-null object\n",
      "dtypes: int64(7), object(7)\n",
      "memory usage: 2.3+ MB\n"
     ]
    },
    {
     "data": {
      "text/plain": [
       "0"
      ]
     },
     "execution_count": 8,
     "metadata": {},
     "output_type": "execute_result"
    }
   ],
   "source": [
    "data.loc[data.duplicated(keep=False) == True].sort_values('dob_years')\n",
    "data = data.drop_duplicates().reset_index(drop=True)\n",
    "data.info()\n",
    "data.duplicated().sum()"
   ]
  },
  {
   "cell_type": "markdown",
   "metadata": {},
   "source": [
    "### Вывод\n",
    "В исходных данных была найдена 71 полностью продублированная запись. Удалены методом drop_duplicates, чтобы избежать смещения статистики. Дублированные данные могут появляться при слиянии нескольких таблиц, или при случайном повторном внесении данных оператором. "
   ]
  },
  {
   "cell_type": "markdown",
   "metadata": {},
   "source": [
    "### Лемматизация"
   ]
  },
  {
   "cell_type": "code",
   "execution_count": 9,
   "metadata": {},
   "outputs": [
    {
     "data": {
      "text/plain": [
       "[автомобиль, \\n]                                          972\n",
       "[свадьба, \\n]                                             793\n",
       "[на,  , проведение,  , свадьба, \\n]                       773\n",
       "[сыграть,  , свадьба, \\n]                                 769\n",
       "[операция,  , с,  , недвижимость, \\n]                     675\n",
       "[покупка,  , коммерческий,  , недвижимость, \\n]           662\n",
       "[операция,  , с,  , жилье, \\n]                            652\n",
       "[покупка,  , жилье,  , для,  , сдача, \\n]                 652\n",
       "[операция,  , с,  , коммерческий,  , недвижимость, \\n]    650\n",
       "[покупка,  , жилье, \\n]                                   646\n",
       "[жилье, \\n]                                               646\n",
       "[покупка,  , жилье,  , для,  , семья, \\n]                 638\n",
       "[строительство,  , собственный,  , недвижимость, \\n]      635\n",
       "[недвижимость, \\n]                                        633\n",
       "[операция,  , со,  , свой,  , недвижимость, \\n]           627\n",
       "[строительство,  , жилой,  , недвижимость, \\n]            625\n",
       "[покупка,  , недвижимость, \\n]                            621\n",
       "[покупка,  , свой,  , жилье, \\n]                          620\n",
       "[строительство,  , недвижимость, \\n]                      619\n",
       "[ремонт,  , жилье, \\n]                                    607\n",
       "[покупка,  , жилой,  , недвижимость, \\n]                  606\n",
       "[на,  , покупка,  , свой,  , автомобиль, \\n]              505\n",
       "[заниматься,  , высокий,  , образование, \\n]              496\n",
       "[сделка,  , с,  , подержанный,  , автомобиль, \\n]         486\n",
       "[свой,  , автомобиль, \\n]                                 479\n",
       "[на,  , покупка,  , подержать,  , автомобиль, \\n]         478\n",
       "[на,  , покупка,  , автомобиль, \\n]                       472\n",
       "[приобретение,  , автомобиль, \\n]                         461\n",
       "[дополнительный,  , образование, \\n]                      460\n",
       "[сделка,  , с,  , автомобиль, \\n]                         455\n",
       "[высокий,  , образование, \\n]                             452\n",
       "[получение,  , дополнительный,  , образование, \\n]        447\n",
       "[образование, \\n]                                         447\n",
       "[получение,  , образование, \\n]                           442\n",
       "[профильный,  , образование, \\n]                          436\n",
       "[получение,  , высокий,  , образование, \\n]               426\n",
       "[заниматься,  , образование, \\n]                          408\n",
       "Name: lem_purpose, dtype: int64"
      ]
     },
     "execution_count": 9,
     "metadata": {},
     "output_type": "execute_result"
    }
   ],
   "source": [
    "from pymystem3 import Mystem\n",
    "m = Mystem()\n",
    "     \n",
    "data['lem_purpose'] = data['purpose'].apply(m.lemmatize)\n",
    "data['lem_purpose'].value_counts()"
   ]
  },
  {
   "cell_type": "markdown",
   "metadata": {},
   "source": [
    "### Вывод\n",
    "Для лемматизации данных в графе 'Цель кредита' ('purpose') использована функция Mystem.lemmatize из библиотеки pymystem3. После лемматизации данных выделено несколько очевидных общих категорий целей: недвижимость и жилье, свадьба, автомобиль, образование. "
   ]
  },
  {
   "cell_type": "markdown",
   "metadata": {},
   "source": [
    "### Категоризация данных"
   ]
  },
  {
   "cell_type": "code",
   "execution_count": 15,
   "metadata": {},
   "outputs": [
    {
     "name": "stdout",
     "output_type": "stream",
     "text": [
      "                   count   sum\n",
      "                    debt  debt\n",
      "children_category             \n",
      "0 бездетные        14107  1063\n",
      "1 ребенок           4856   445\n",
      "2 ребенка           2128   202\n",
      "многодетные          380    31\n",
      "\n",
      "                                        count  sum\n",
      "                                         debt debt\n",
      "family_status         family_status_id            \n",
      "женат / замужем       0                 12344  931\n",
      "гражданский брак      1                  4163  388\n",
      "вдовец / вдова        2                   959   63\n",
      "в разводе             3                  1195   85\n",
      "не женат / не замужем 4                  2810  274\n",
      "\n",
      "                 count   sum\n",
      "                  debt  debt\n",
      "income_category             \n",
      "100000 - 500000  16786  1373\n",
      "50000 - 100000    4091   331\n",
      "до 50000           372    23\n",
      "свыше 500000       222    14\n",
      "\n",
      "               count  sum\n",
      "                debt debt\n",
      "class_purpose            \n",
      "автомобиль      4308  403\n",
      "недвижимость   10814  782\n",
      "образование     4014  370\n",
      "свадьба         2335  186\n"
     ]
    }
   ],
   "source": [
    "def children_category(row):\n",
    "    if row == 1:\n",
    "        return '1 ребенок'\n",
    "    if row == 2:\n",
    "        return \"2 ребенка\"\n",
    "    if row == 0:\n",
    "        return '0 бездетные'\n",
    "        \n",
    "    return \"многодетные\"\n",
    "\n",
    "\n",
    "def income_category(row):\n",
    "    if row < 50000:\n",
    "        return 'до 50000'\n",
    "    if (row >= 50000) & (row < 100000):\n",
    "        return '50000 - 100000'\n",
    "    if (row >= 100000) & (row < 500000):\n",
    "        return '100000 - 500000'\n",
    "        \n",
    "    return \"свыше 500000\"\n",
    "\n",
    "\n",
    "def class_purpose(data):\n",
    "    if 'недвижимость' in data:\n",
    "        return 'недвижимость'\n",
    "    if 'жилье' in data:\n",
    "        return 'недвижимость'\n",
    "    if 'свадьба' in data:\n",
    "        return 'свадьба'\n",
    "    if 'автомобиль' in data:\n",
    "        return 'автомобиль'\n",
    "    if 'oбразование,' or 'oбразование' in data:\n",
    "        return 'образование'\n",
    "    \n",
    "    return 'другое'\n",
    "\n",
    "\n",
    "data['education'] = data['education'].str.lower()\n",
    "data['family_status'] = data['family_status'].str.lower()\n",
    "\n",
    "data['children'] = data['children'].replace(-1, 1)\n",
    "data['children'] = data['children'].replace(20, 2)\n",
    "data['children_category'] = data['children'].apply(children_category)\n",
    "children_category_vs_debt = data.pivot_table(index = 'children_category', values=['debt'], aggfunc=['count', 'sum'])\n",
    "print(children_category_vs_debt)\n",
    "print()\n",
    "\n",
    "family_id_category = data.pivot_table(index=['family_status','family_status_id'], values=['debt'], aggfunc = ['count', 'sum'])\n",
    "print(family_id_category.sort_values('family_status_id'))\n",
    "print()\n",
    "\n",
    "data['income_category'] = data['total_income'].apply(income_category)\n",
    "total_income_vs_debt = data.pivot_table(index ='income_category', values=['debt'], aggfunc = ['count', 'sum'])\n",
    "print(total_income_vs_debt)\n",
    "print()\n",
    "\n",
    "data['class_purpose'] = data['lem_purpose'].apply(class_purpose)\n",
    "class_purpose_vs_debt = data.pivot_table(index ='class_purpose', values=['debt'], aggfunc = ['count', 'sum'])\n",
    "print(class_purpose_vs_debt)"
   ]
  },
  {
   "cell_type": "markdown",
   "metadata": {},
   "source": [
    "### Вывод\n",
    "В соответствии с целями данного исследования сформированы следующие критерии для категоризации данных: \n",
    "- количество детей ('children_category');\n",
    "- семейное положение ('family_status_id'); \n",
    "- уровень дохода ('total_income_class); \n",
    "- основная цель кредита ('class_purpose'). \n",
    "По количеству детей клиенты с 3 и более детьми объединены в одну каnегорию - \"многодетные\", поскольку клиентов с 4 и 5 детьми значительно меньше, чем всех остальных. Отдельное их рассмотрение может привести к неправильнм выводам. \n",
    "\n",
    "В данных о детях содержались выбивающиеся значения: 76 человек с 20 детьми (вероятнее всего опечатка при внесении данных), 47 семей с '-1' ребенком. Произведена замена методом replace() - \"-1\" заменено на \"1\", \"20\" заменено на \"2\". Если данная замена не корректна, просьба внести пояснения для интерпретации таких данных. \n",
    "При заполнении графы об образовании не соблюдался единый формат записи, поэтому все записи об образовании приведены к единому формату - запись строчными буквами - методом str.lower()."
   ]
  },
  {
   "cell_type": "markdown",
   "metadata": {},
   "source": [
    "### Шаг 3. Ответьте на вопросы"
   ]
  },
  {
   "cell_type": "markdown",
   "metadata": {},
   "source": [
    "- Есть ли зависимость между наличием детей и возвратом кредита в срок?"
   ]
  },
  {
   "cell_type": "code",
   "execution_count": 17,
   "metadata": {},
   "outputs": [
    {
     "name": "stdout",
     "output_type": "stream",
     "text": [
      "                   count   sum debt_in_time_probability\n",
      "                    debt  debt                         \n",
      "children_category                                      \n",
      "0 бездетные        14107  1063                 0.924647\n",
      "1 ребенок           4856   445                 0.908361\n",
      "2 ребенка           2128   202                 0.905075\n",
      "многодетные          380    31                 0.918421\n"
     ]
    }
   ],
   "source": [
    "children_category_vs_debt['debt_in_time_probability'] = 1 - (children_category_vs_debt['sum'] / children_category_vs_debt['count'])\n",
    "print(children_category_vs_debt)"
   ]
  },
  {
   "cell_type": "markdown",
   "metadata": {},
   "source": [
    "### Вывод\n",
    "После категоризации данных по количеству детей можно сделать следующие выводы:\n",
    "1. Бездетные люди чаще берут кредит;\n",
    "2. Бездетные люди чаще возвращают кредит (92,5% взятых кредитов вернули вовремя);\n",
    "3. Возможно, что многодетные возвращают кредит вовремя чаще, чем клиенты, у которых 1 и 2 рабенка. Но скорее всего эта категория клиентов просто реже берет кредит."
   ]
  },
  {
   "cell_type": "markdown",
   "metadata": {},
   "source": [
    "- Есть ли зависимость между семейным положением и возвратом кредита в срок?"
   ]
  },
  {
   "cell_type": "code",
   "execution_count": 18,
   "metadata": {},
   "outputs": [
    {
     "name": "stdout",
     "output_type": "stream",
     "text": [
      "                                        count  sum debt_in_time_probability\n",
      "                                         debt debt                         \n",
      "family_status         family_status_id                                     \n",
      "не женат / не замужем 4                  2810  274                 0.902491\n",
      "гражданский брак      1                  4163  388                 0.906798\n",
      "женат / замужем       0                 12344  931                 0.924579\n",
      "в разводе             3                  1195   85                 0.928870\n",
      "вдовец / вдова        2                   959   63                 0.934307\n"
     ]
    }
   ],
   "source": [
    "family_id_category['debt_in_time_probability'] = 1 - (family_id_category['sum'] / family_id_category['count'])\n",
    "print(family_id_category.sort_values('debt_in_time_probability'))"
   ]
  },
  {
   "cell_type": "markdown",
   "metadata": {},
   "source": [
    "### Вывод\n",
    "После категоризации данных по семейному положению можно сделать следующие выводы:\n",
    "1. Клиенты находящиеся или бывшие в официальном браке возвращают кредит вовремя чаще;\n",
    "2. Не видно боьлшой разницы при возвращении кредита между неженатыми/незамужними и находящимися в гражданском браке;\n",
    "3. Реже всего кредит берут вдовцы/вдовы и клиенты в разводе. С другой стороны они же чаще возвращают кредит вовремя. "
   ]
  },
  {
   "cell_type": "markdown",
   "metadata": {},
   "source": [
    "- Есть ли зависимость между уровнем дохода и возвратом кредита в срок?"
   ]
  },
  {
   "cell_type": "code",
   "execution_count": 19,
   "metadata": {},
   "outputs": [
    {
     "name": "stdout",
     "output_type": "stream",
     "text": [
      "                 count   sum debt_in_time_probability\n",
      "                  debt  debt                         \n",
      "income_category                                      \n",
      "100000 - 500000  16786  1373                 0.918206\n",
      "50000 - 100000    4091   331                 0.919091\n",
      "до 50000           372    23                 0.938172\n",
      "свыше 500000       222    14                 0.936937\n"
     ]
    }
   ],
   "source": [
    "total_income_vs_debt['debt_in_time_probability'] = 1 - (total_income_vs_debt['sum'] / total_income_vs_debt['count'])\n",
    "print(total_income_vs_debt)"
   ]
  },
  {
   "cell_type": "markdown",
   "metadata": {},
   "source": [
    "### Вывод\n",
    "При категоризации данных по ежемесячному уровню дохода можно сделать следующие выводы:\n",
    "1. Больше всего кредитов берут клиенты с уровнем дохода от 100 до 500 т.р. в месяц;\n",
    "2. Намного реже берут кредит клиенты с уровнем дохода до 50000 и свыше 500000;\n",
    "3. Из сводной таблицы видно, что те, кто чаще берут кредит, реже его возвращают вовремя, но есть вероятность что это ошибка связанная с несбалансированными классами клиентов по ежемесячному доходу. \n",
    "4. Зависимость между уровнем охода и возвратом кредита в срок не явная, требуется больше данных для клиентов с низким уровнем дохода (менее 50000). (Клиенты со сверхвысоким уровнем дохода редко нуждаются в кредитах - могут позволить себе покупки за свой счет, не обременяя банк - сложнее найти выборку для исследования). "
   ]
  },
  {
   "cell_type": "markdown",
   "metadata": {},
   "source": [
    "- Как разные цели кредита влияют на его возврат в срок?"
   ]
  },
  {
   "cell_type": "code",
   "execution_count": 20,
   "metadata": {},
   "outputs": [
    {
     "name": "stdout",
     "output_type": "stream",
     "text": [
      "               count  sum debt_in_time_probability\n",
      "                debt debt                         \n",
      "class_purpose                                     \n",
      "автомобиль      4308  403                 0.906453\n",
      "образование     4014  370                 0.907823\n",
      "свадьба         2335  186                 0.920343\n",
      "недвижимость   10814  782                 0.927686\n"
     ]
    }
   ],
   "source": [
    "class_purpose_vs_debt['debt_in_time_probability'] = 1 - (class_purpose_vs_debt['sum'] / class_purpose_vs_debt['count'])\n",
    "print(class_purpose_vs_debt.sort_values('debt_in_time_probability'))"
   ]
  },
  {
   "cell_type": "markdown",
   "metadata": {},
   "source": [
    "### Вывод\n",
    "При группировании данных по целям кредита можно сделать следующие выводы:\n",
    "1. Чаще всего берут кредит на покупку недвижимости. Этот же тип кредита возвращают вовремя чаще всего;\n",
    "2. Кредит на свадьбу в данной выборке брали реже всего, но возвращали его чаще, чем кредит на машину или образование;\n",
    "3. Кредит на машину чаще всего возвращают с просрочками платежей. Возможно, это связано с тем, что это единственная категория движимого имущества (в данном датасете) - можно испортить, разбить, не получив ожидаемой пользы. "
   ]
  },
  {
   "cell_type": "markdown",
   "metadata": {},
   "source": [
    "### Шаг 4. Общий вывод\n",
    "Исходя из полученных данных, можно сделать заключение:\n",
    "1. Наиболее ответственными являются клиенты без детей, находящиеся или находившиеся в официальном браке, вне зависимости от уровня дохода. \n",
    "2. Самым возвращаемым кредитом является кредит на недвижимость (вероятность возврата кредита без задержек - 92,77%)\n",
    "3. Клиенты без детей возвращают кредит вовремя чаще, чем клиенты с детьми (92,5%)\n",
    "4. Клиенты находящиеся/находившиеся в официальном браке более дисциплинированы в том числе и в плане выплаты кредита (вероятность вернуть кредит вовремя выше 92,5%)\n",
    "5. Из полученных данных не видно четкой зависимости между величиной ежемесячного дохода и возвратом кредита. Но в данных достаточно велика доля пропущенных значений для графы ежемесячного дохода, что может сильно влиять на выводы. \n",
    "6. При работе с данными нужны дополнительные комментарии к графе 'days_employed'. Трактовка этих значений неоднозначна, неясно, правильно ли заполнены пропущенные данные. \n",
    "7. В некоторых данных не соблюдена единая форма записи ('education', 'family_status') и допущены опечатки ('children'). Возможно, этого можно избежать введением единой формы заполнения данных, или использованием выпадающего списка.\n",
    "8. В данных встречаются дубликаты (71 строка). Это может происходить при повторном введении данных оператором или при слиянии разных баз данных. \n",
    "\n",
    "\n"
   ]
  },
  {
   "cell_type": "code",
   "execution_count": null,
   "metadata": {},
   "outputs": [],
   "source": []
  }
 ],
 "metadata": {
  "kernelspec": {
   "display_name": "Python 3",
   "language": "python",
   "name": "python3"
  },
  "language_info": {
   "codemirror_mode": {
    "name": "ipython",
    "version": 3
   },
   "file_extension": ".py",
   "mimetype": "text/x-python",
   "name": "python",
   "nbconvert_exporter": "python",
   "pygments_lexer": "ipython3",
   "version": "3.7.6"
  }
 },
 "nbformat": 4,
 "nbformat_minor": 2
}
