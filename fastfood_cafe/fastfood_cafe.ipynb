{
 "cells": [
  {
   "cell_type": "markdown",
   "metadata": {},
   "source": [
    "## Рынок заведений общественного питания Москвы\n",
    "Оригинальное кафе — гостей должны обслуживать роботы. Проект многообещающий, но дорогой.\n",
    "\n",
    "\n",
    "Цель работы - описать текущее положение дел на рынке.\n",
    "Подготовить исследование рынка.\n",
    "\n",
    "##### Открытые данные о заведениях общественного питания в Москве:\n",
    "Таблица rest_data:\n",
    "- object_name — название объекта общественного питания;\n",
    "- chain — сетевой ресторан;\n",
    "- object_type — тип объекта общественного питания;\n",
    "- address — адрес;\n",
    "- number — количество посадочных мест.\n",
    "\n",
    "\n",
    "##### Оглавление\n",
    "1. <a href='#Предобработка данных'>Предобработка данных</a>\n",
    "2. <a href='#Анализ данных'>Анализ данных</a>\n",
    "3. <a href='#Выводы '>Выводы </a>   \n",
    "    \n"
   ]
  },
  {
   "cell_type": "markdown",
   "metadata": {},
   "source": [
    "#### Презентация: <https://drive.google.com/file/d/198FtLJqUxJUlsHuVOyjYK8jckFHDswTM/view?usp=sharing>"
   ]
  },
  {
   "cell_type": "code",
   "execution_count": 1,
   "metadata": {},
   "outputs": [],
   "source": [
    "import pandas as pd\n",
    "import datetime as dt\n",
    "import numpy as np\n",
    "import matplotlib.pyplot as plt\n",
    "import seaborn as sns\n",
    "from io import BytesIO\n",
    "import requests\n",
    "import re\n",
    "import warnings\n",
    "import math"
   ]
  },
  {
   "cell_type": "markdown",
   "metadata": {},
   "source": [
    "### 1. Предобработка данных\n",
    "<a id='Предобработка данных'></a>"
   ]
  },
  {
   "cell_type": "code",
   "execution_count": 2,
   "metadata": {},
   "outputs": [
    {
     "data": {
      "text/html": [
       "<div>\n",
       "<style scoped>\n",
       "    .dataframe tbody tr th:only-of-type {\n",
       "        vertical-align: middle;\n",
       "    }\n",
       "\n",
       "    .dataframe tbody tr th {\n",
       "        vertical-align: top;\n",
       "    }\n",
       "\n",
       "    .dataframe thead th {\n",
       "        text-align: right;\n",
       "    }\n",
       "</style>\n",
       "<table border=\"1\" class=\"dataframe\">\n",
       "  <thead>\n",
       "    <tr style=\"text-align: right;\">\n",
       "      <th></th>\n",
       "      <th>id</th>\n",
       "      <th>object_name</th>\n",
       "      <th>chain</th>\n",
       "      <th>object_type</th>\n",
       "      <th>address</th>\n",
       "      <th>number</th>\n",
       "    </tr>\n",
       "  </thead>\n",
       "  <tbody>\n",
       "    <tr>\n",
       "      <td>0</td>\n",
       "      <td>151635</td>\n",
       "      <td>СМЕТАНА</td>\n",
       "      <td>нет</td>\n",
       "      <td>кафе</td>\n",
       "      <td>город Москва, улица Егора Абакумова, дом 9</td>\n",
       "      <td>48</td>\n",
       "    </tr>\n",
       "    <tr>\n",
       "      <td>1</td>\n",
       "      <td>77874</td>\n",
       "      <td>Родник</td>\n",
       "      <td>нет</td>\n",
       "      <td>кафе</td>\n",
       "      <td>город Москва, улица Талалихина, дом 2/1, корпус 1</td>\n",
       "      <td>35</td>\n",
       "    </tr>\n",
       "    <tr>\n",
       "      <td>2</td>\n",
       "      <td>24309</td>\n",
       "      <td>Кафе «Академия»</td>\n",
       "      <td>нет</td>\n",
       "      <td>кафе</td>\n",
       "      <td>город Москва, Абельмановская улица, дом 6</td>\n",
       "      <td>95</td>\n",
       "    </tr>\n",
       "    <tr>\n",
       "      <td>3</td>\n",
       "      <td>21894</td>\n",
       "      <td>ПИЦЦЕТОРИЯ</td>\n",
       "      <td>да</td>\n",
       "      <td>кафе</td>\n",
       "      <td>город Москва, Абрамцевская улица, дом 1</td>\n",
       "      <td>40</td>\n",
       "    </tr>\n",
       "    <tr>\n",
       "      <td>4</td>\n",
       "      <td>119365</td>\n",
       "      <td>Кафе «Вишневая метель»</td>\n",
       "      <td>нет</td>\n",
       "      <td>кафе</td>\n",
       "      <td>город Москва, Абрамцевская улица, дом 9, корпус 1</td>\n",
       "      <td>50</td>\n",
       "    </tr>\n",
       "    <tr>\n",
       "      <td>5</td>\n",
       "      <td>27429</td>\n",
       "      <td>СТОЛ. ПРИ ГОУ СОШ № 1051</td>\n",
       "      <td>нет</td>\n",
       "      <td>столовая</td>\n",
       "      <td>город Москва, Абрамцевская улица, дом 15, корп...</td>\n",
       "      <td>240</td>\n",
       "    </tr>\n",
       "    <tr>\n",
       "      <td>6</td>\n",
       "      <td>148815</td>\n",
       "      <td>Брусника</td>\n",
       "      <td>да</td>\n",
       "      <td>кафе</td>\n",
       "      <td>город Москва, переулок Сивцев Вражек, дом 6/2</td>\n",
       "      <td>10</td>\n",
       "    </tr>\n",
       "    <tr>\n",
       "      <td>7</td>\n",
       "      <td>20957</td>\n",
       "      <td>Буфет МТУСИ</td>\n",
       "      <td>нет</td>\n",
       "      <td>столовая</td>\n",
       "      <td>город Москва, Авиамоторная улица, дом 8, строе...</td>\n",
       "      <td>90</td>\n",
       "    </tr>\n",
       "    <tr>\n",
       "      <td>8</td>\n",
       "      <td>20958</td>\n",
       "      <td>КПФ СЕМЬЯ-1</td>\n",
       "      <td>нет</td>\n",
       "      <td>столовая</td>\n",
       "      <td>город Москва, Авиамоторная улица, дом 8, строе...</td>\n",
       "      <td>150</td>\n",
       "    </tr>\n",
       "    <tr>\n",
       "      <td>9</td>\n",
       "      <td>28858</td>\n",
       "      <td>Столовая МТУСИ</td>\n",
       "      <td>нет</td>\n",
       "      <td>столовая</td>\n",
       "      <td>город Москва, Авиамоторная улица, дом 8, строе...</td>\n",
       "      <td>120</td>\n",
       "    </tr>\n",
       "  </tbody>\n",
       "</table>\n",
       "</div>"
      ],
      "text/plain": [
       "       id               object_name chain object_type  \\\n",
       "0  151635                   СМЕТАНА   нет        кафе   \n",
       "1   77874                    Родник   нет        кафе   \n",
       "2   24309           Кафе «Академия»   нет        кафе   \n",
       "3   21894                ПИЦЦЕТОРИЯ    да        кафе   \n",
       "4  119365    Кафе «Вишневая метель»   нет        кафе   \n",
       "5   27429  СТОЛ. ПРИ ГОУ СОШ № 1051   нет    столовая   \n",
       "6  148815                  Брусника    да        кафе   \n",
       "7   20957               Буфет МТУСИ   нет    столовая   \n",
       "8   20958               КПФ СЕМЬЯ-1   нет    столовая   \n",
       "9   28858            Столовая МТУСИ   нет    столовая   \n",
       "\n",
       "                                             address  number  \n",
       "0         город Москва, улица Егора Абакумова, дом 9      48  \n",
       "1  город Москва, улица Талалихина, дом 2/1, корпус 1      35  \n",
       "2          город Москва, Абельмановская улица, дом 6      95  \n",
       "3            город Москва, Абрамцевская улица, дом 1      40  \n",
       "4  город Москва, Абрамцевская улица, дом 9, корпус 1      50  \n",
       "5  город Москва, Абрамцевская улица, дом 15, корп...     240  \n",
       "6      город Москва, переулок Сивцев Вражек, дом 6/2      10  \n",
       "7  город Москва, Авиамоторная улица, дом 8, строе...      90  \n",
       "8  город Москва, Авиамоторная улица, дом 8, строе...     150  \n",
       "9  город Москва, Авиамоторная улица, дом 8, строе...     120  "
      ]
     },
     "execution_count": 2,
     "metadata": {},
     "output_type": "execute_result"
    }
   ],
   "source": [
    "rest = pd.read_csv('/datasets/rest_data.csv')\n",
    "rest.head(10)"
   ]
  },
  {
   "cell_type": "code",
   "execution_count": 3,
   "metadata": {},
   "outputs": [],
   "source": [
    "rest['object_name'] = rest['object_name'].str.lower()\n",
    "rest['object_type'] = rest['object_type'].replace('предприятие быстрого обслуживания', 'ПБО')\n",
    "rest['object_type'] = rest['object_type'].replace('магазин (отдел кулинарии)', 'кулинария')"
   ]
  },
  {
   "cell_type": "code",
   "execution_count": 4,
   "metadata": {},
   "outputs": [
    {
     "name": "stdout",
     "output_type": "stream",
     "text": [
      "6258\n"
     ]
    },
    {
     "data": {
      "text/html": [
       "<div>\n",
       "<style scoped>\n",
       "    .dataframe tbody tr th:only-of-type {\n",
       "        vertical-align: middle;\n",
       "    }\n",
       "\n",
       "    .dataframe tbody tr th {\n",
       "        vertical-align: top;\n",
       "    }\n",
       "\n",
       "    .dataframe thead th {\n",
       "        text-align: right;\n",
       "    }\n",
       "</style>\n",
       "<table border=\"1\" class=\"dataframe\">\n",
       "  <thead>\n",
       "    <tr style=\"text-align: right;\">\n",
       "      <th></th>\n",
       "      <th>id</th>\n",
       "      <th>object_name</th>\n",
       "      <th>chain</th>\n",
       "      <th>object_type</th>\n",
       "      <th>address</th>\n",
       "      <th>number</th>\n",
       "    </tr>\n",
       "  </thead>\n",
       "  <tbody>\n",
       "    <tr>\n",
       "      <td>114</td>\n",
       "      <td>28613</td>\n",
       "      <td>комбинат питания мгту им.н.э.баумана</td>\n",
       "      <td>нет</td>\n",
       "      <td>закусочная</td>\n",
       "      <td>город Москва, Бригадирский переулок, дом 3-5</td>\n",
       "      <td>216</td>\n",
       "    </tr>\n",
       "    <tr>\n",
       "      <td>115</td>\n",
       "      <td>28614</td>\n",
       "      <td>комбинат питания мгту им.н.э.баумана</td>\n",
       "      <td>нет</td>\n",
       "      <td>буфет</td>\n",
       "      <td>город Москва, Бригадирский переулок, дом 3-5</td>\n",
       "      <td>12</td>\n",
       "    </tr>\n",
       "    <tr>\n",
       "      <td>579</td>\n",
       "      <td>149227</td>\n",
       "      <td>общественное питание</td>\n",
       "      <td>нет</td>\n",
       "      <td>столовая</td>\n",
       "      <td>город Москва, Павелецкая площадь, дом 1</td>\n",
       "      <td>70</td>\n",
       "    </tr>\n",
       "    <tr>\n",
       "      <td>580</td>\n",
       "      <td>149205</td>\n",
       "      <td>общественное питание</td>\n",
       "      <td>нет</td>\n",
       "      <td>кафе</td>\n",
       "      <td>город Москва, Павелецкая площадь, дом 1</td>\n",
       "      <td>35</td>\n",
       "    </tr>\n",
       "    <tr>\n",
       "      <td>581</td>\n",
       "      <td>149131</td>\n",
       "      <td>общественное питание</td>\n",
       "      <td>нет</td>\n",
       "      <td>кафе</td>\n",
       "      <td>город Москва, Павелецкая площадь, дом 1</td>\n",
       "      <td>39</td>\n",
       "    </tr>\n",
       "    <tr>\n",
       "      <td>...</td>\n",
       "      <td>...</td>\n",
       "      <td>...</td>\n",
       "      <td>...</td>\n",
       "      <td>...</td>\n",
       "      <td>...</td>\n",
       "      <td>...</td>\n",
       "    </tr>\n",
       "    <tr>\n",
       "      <td>15217</td>\n",
       "      <td>214146</td>\n",
       "      <td>макдоналдс</td>\n",
       "      <td>да</td>\n",
       "      <td>ПБО</td>\n",
       "      <td>город Москва, Кировоградская улица, дом 13А</td>\n",
       "      <td>0</td>\n",
       "    </tr>\n",
       "    <tr>\n",
       "      <td>15241</td>\n",
       "      <td>210885</td>\n",
       "      <td>kfc</td>\n",
       "      <td>да</td>\n",
       "      <td>ПБО</td>\n",
       "      <td>город Москва, Манежная площадь, дом 1, строение 2</td>\n",
       "      <td>41</td>\n",
       "    </tr>\n",
       "    <tr>\n",
       "      <td>15253</td>\n",
       "      <td>214872</td>\n",
       "      <td>чайхона №1</td>\n",
       "      <td>да</td>\n",
       "      <td>кафе</td>\n",
       "      <td>город Москва, Кутузовский проспект, дом 57</td>\n",
       "      <td>0</td>\n",
       "    </tr>\n",
       "    <tr>\n",
       "      <td>15363</td>\n",
       "      <td>209186</td>\n",
       "      <td>шоколадница</td>\n",
       "      <td>да</td>\n",
       "      <td>кафе</td>\n",
       "      <td>город Москва, улица Земляной Вал, дом 33</td>\n",
       "      <td>20</td>\n",
       "    </tr>\n",
       "    <tr>\n",
       "      <td>15365</td>\n",
       "      <td>222535</td>\n",
       "      <td>шоколадница</td>\n",
       "      <td>да</td>\n",
       "      <td>кафе</td>\n",
       "      <td>город Москва, Ходынский бульвар, дом 4</td>\n",
       "      <td>10</td>\n",
       "    </tr>\n",
       "  </tbody>\n",
       "</table>\n",
       "<p>225 rows × 6 columns</p>\n",
       "</div>"
      ],
      "text/plain": [
       "           id                           object_name chain object_type  \\\n",
       "114     28613  комбинат питания мгту им.н.э.баумана   нет  закусочная   \n",
       "115     28614  комбинат питания мгту им.н.э.баумана   нет       буфет   \n",
       "579    149227                  общественное питание   нет    столовая   \n",
       "580    149205                  общественное питание   нет        кафе   \n",
       "581    149131                  общественное питание   нет        кафе   \n",
       "...       ...                                   ...   ...         ...   \n",
       "15217  214146                            макдоналдс    да         ПБО   \n",
       "15241  210885                                   kfc    да         ПБО   \n",
       "15253  214872                            чайхона №1    да        кафе   \n",
       "15363  209186                           шоколадница    да        кафе   \n",
       "15365  222535                           шоколадница    да        кафе   \n",
       "\n",
       "                                                 address  number  \n",
       "114         город Москва, Бригадирский переулок, дом 3-5     216  \n",
       "115         город Москва, Бригадирский переулок, дом 3-5      12  \n",
       "579              город Москва, Павелецкая площадь, дом 1      70  \n",
       "580              город Москва, Павелецкая площадь, дом 1      35  \n",
       "581              город Москва, Павелецкая площадь, дом 1      39  \n",
       "...                                                  ...     ...  \n",
       "15217        город Москва, Кировоградская улица, дом 13А       0  \n",
       "15241  город Москва, Манежная площадь, дом 1, строение 2      41  \n",
       "15253         город Москва, Кутузовский проспект, дом 57       0  \n",
       "15363           город Москва, улица Земляной Вал, дом 33      20  \n",
       "15365             город Москва, Ходынский бульвар, дом 4      10  \n",
       "\n",
       "[225 rows x 6 columns]"
      ]
     },
     "execution_count": 4,
     "metadata": {},
     "output_type": "execute_result"
    }
   ],
   "source": [
    "print(rest['address'].duplicated().sum())\n",
    "rest[rest.duplicated(subset=['address', 'object_name']) == True]"
   ]
  },
  {
   "cell_type": "code",
   "execution_count": 5,
   "metadata": {},
   "outputs": [
    {
     "name": "stdout",
     "output_type": "stream",
     "text": [
      "<class 'pandas.core.frame.DataFrame'>\n",
      "Int64Index: 15141 entries, 0 to 15364\n",
      "Data columns (total 6 columns):\n",
      "id             15141 non-null float64\n",
      "object_name    15141 non-null object\n",
      "chain          15141 non-null object\n",
      "object_type    15141 non-null object\n",
      "address        15141 non-null object\n",
      "number         15141 non-null float64\n",
      "dtypes: float64(2), object(4)\n",
      "memory usage: 828.0+ KB\n"
     ]
    },
    {
     "name": "stderr",
     "output_type": "stream",
     "text": [
      "/opt/conda/lib/python3.7/site-packages/ipykernel_launcher.py:1: SettingWithCopyWarning: \n",
      "A value is trying to be set on a copy of a slice from a DataFrame\n",
      "\n",
      "See the caveats in the documentation: http://pandas.pydata.org/pandas-docs/stable/user_guide/indexing.html#returning-a-view-versus-a-copy\n",
      "  \"\"\"Entry point for launching an IPython kernel.\n"
     ]
    }
   ],
   "source": [
    "rest.loc[(rest.duplicated(subset=['address', 'object_name'])==True)] = rest.loc[(rest.duplicated(subset=['address', 'object_name'])==True)].drop_duplicates(inplace = True)\n",
    "rest = rest.dropna()\n",
    "rest.info()\n",
    "\n",
    "warnings.filterwarnings(\"ignore\")"
   ]
  },
  {
   "cell_type": "code",
   "execution_count": 6,
   "metadata": {},
   "outputs": [],
   "source": [
    "rest['adresss1']=rest['address'].str.split(', ').str.get(0)\n",
    "rest['adresss2']=rest['address'].str.split(', ').str.get(1)"
   ]
  },
  {
   "cell_type": "code",
   "execution_count": 7,
   "metadata": {},
   "outputs": [],
   "source": [
    "rest['street'] = 1"
   ]
  },
  {
   "cell_type": "code",
   "execution_count": 8,
   "metadata": {},
   "outputs": [
    {
     "data": {
      "text/plain": [
       "город Зеленоград             230\n",
       "проспект Мира                196\n",
       "Профсоюзная улица            180\n",
       "Ленинградский проспект       171\n",
       "Пресненская набережная       165\n",
       "                            ... \n",
       "Малый Саввинский переулок      1\n",
       "Красногвардейский бульвар      1\n",
       "3-й Лучевой просек             1\n",
       "1-й Саратовский проезд         1\n",
       "Нарвская улица                 1\n",
       "Name: street, Length: 1854, dtype: int64"
      ]
     },
     "execution_count": 8,
     "metadata": {},
     "output_type": "execute_result"
    }
   ],
   "source": [
    "rest.loc[rest['adresss1']== \"город Москва\", 'street'] = rest.loc[rest['adresss1']== \"город Москва\", 'adresss2']\n",
    "rest.loc[rest['adresss1']!= \"город Москва\", 'street'] = rest.loc[rest['adresss1']!= \"город Москва\", 'adresss1']\n",
    "rest['street'].value_counts()"
   ]
  },
  {
   "cell_type": "markdown",
   "metadata": {},
   "source": [
    "В данных нет пропусков. \n",
    "При использовании метода duplicated() на данных 'address' и 'object_name' обнаружено 225 дубликатов, которые удалены методом drop_duplicates().\n",
    "Данные в графе \"object_name\" переведены в нижний регистр, поскольку есть большое количество одинаковых названий, написанных разным способом. \n",
    "\n",
    "Названия \"object_type\" заменены:\n",
    "- 'предприятие быстрого обслуживания' на 'ПБО'\n",
    "- 'магазин (отдел кулинарии)' на 'кулинария',\n",
    "чтобы громоздкие названия не мешались на графиках.\n",
    "\n",
    "При этом различные написания кафе (например кафе \"шоколадница\" и \"шоколадница\") не будут считаться одним и тем же заведением, поскольку это могут быть заведения разных владельцев франшизы. \n",
    "\n",
    "Так же для дальнейшего анализа введен новые столбец - данные об улице, на которой расположено заведение.\n",
    "\n",
    "В данных об адресе есть некоторые различия в заполнении - это делает их не очень удобными для анализа. Поэтому в графу 'street' попадают поселения Новой Москвы, микрорайоны и другий образования внутри города Москвы. "
   ]
  },
  {
   "cell_type": "markdown",
   "metadata": {},
   "source": [
    "### 2. Анализ данных\n",
    "<a id='Анализ данных'></a>"
   ]
  },
  {
   "cell_type": "markdown",
   "metadata": {},
   "source": [
    "#### 2.1 Соотношение видов объектов общественного питания по количеству. "
   ]
  },
  {
   "cell_type": "code",
   "execution_count": 9,
   "metadata": {},
   "outputs": [],
   "source": [
    "type_total = rest.groupby('object_type').agg({'id' : 'count'}).sort_values(by='id', ascending = False)\n",
    "type_total.columns = ['id_count']"
   ]
  },
  {
   "cell_type": "code",
   "execution_count": 10,
   "metadata": {},
   "outputs": [
    {
     "data": {
      "text/plain": [
       "Text(0, 0.5, 'Количесвто заведений')"
      ]
     },
     "execution_count": 10,
     "metadata": {},
     "output_type": "execute_result"
    },
    {
     "data": {
      "image/png": "[encoded data removed]",
      "text/plain": [
       "<Figure size 432x288 with 1 Axes>"
      ]
     },
     "metadata": {
      "needs_background": "light"
     },
     "output_type": "display_data"
    }
   ],
   "source": [
    "type_total.plot(kind='bar')\n",
    "plt.title('Количество заведений каждого типа')\n",
    "plt.xlabel(\"Тип заведения\")\n",
    "plt.ylabel(\"Количесвто заведений\")"
   ]
  },
  {
   "cell_type": "markdown",
   "metadata": {},
   "source": [
    "Большая часть заведений общественного питания относится к типу \"кафе\". Далее идут \"столовая\", \"ресторан\", \"предприятие быстрого обслуживания\". "
   ]
  },
  {
   "cell_type": "markdown",
   "metadata": {},
   "source": [
    "#### 2.2 Соотношение сетевых и несетевых заведений по количеству."
   ]
  },
  {
   "cell_type": "code",
   "execution_count": 11,
   "metadata": {},
   "outputs": [
    {
     "name": "stdout",
     "output_type": "stream",
     "text": [
      "Несетевых заведений в 4.16 раза больше, чем сетевых\n"
     ]
    },
    {
     "data": {
      "image/png": "[encoded data removed]",
      "text/plain": [
       "<Figure size 432x288 with 1 Axes>"
      ]
     },
     "metadata": {
      "needs_background": "light"
     },
     "output_type": "display_data"
    }
   ],
   "source": [
    "is_chain = rest.groupby('chain').agg({'id' : 'count'}).sort_values(by='id', ascending = False)\n",
    "is_chain.columns= ['id_count']\n",
    "is_chain.plot(kind='bar')\n",
    "plt.title('Количество сетевых и несетевых заведений')\n",
    "plt.xlabel(\"Являются сетевыми\")\n",
    "plt.ylabel(\"Количесвто заведений\")\n",
    "print('Несетевых заведений в {:.2f} раза больше, чем сетевых'.format(is_chain['id_count'][0]/is_chain['id_count'][1]))"
   ]
  },
  {
   "cell_type": "markdown",
   "metadata": {},
   "source": [
    "#### 2.3 Вид объекта общественного питания, для которого характерно сетевое распространение"
   ]
  },
  {
   "cell_type": "code",
   "execution_count": 12,
   "metadata": {},
   "outputs": [],
   "source": [
    "type_chain_count = rest.groupby(['object_type', 'chain']).agg({'id':'count'}).reset_index()\n",
    "common_type = type_chain_count.query('chain == \"да\"').merge(type_chain_count.query('chain == \"нет\"'), on = 'object_type')"
   ]
  },
  {
   "cell_type": "code",
   "execution_count": 13,
   "metadata": {},
   "outputs": [
    {
     "data": {
      "text/plain": [
       "Text(0, 0.5, '% сетевых заведений')"
      ]
     },
     "execution_count": 13,
     "metadata": {},
     "output_type": "execute_result"
    },
    {
     "data": {
      "image/png": "[encoded data removed]",
      "text/plain": [
       "<Figure size 432x288 with 1 Axes>"
      ]
     },
     "metadata": {
      "needs_background": "light"
     },
     "output_type": "display_data"
    }
   ],
   "source": [
    "common_type['%_chain'] = 100 * common_type['id_x']/(common_type['id_x'] + common_type['id_y'])\n",
    "common_type.sort_values(by='%_chain').plot('object_type', '%_chain', kind = 'bar')\n",
    "plt.title('Процент сетевых заведений')\n",
    "plt.xlabel(\"Тип заведения\")\n",
    "plt.ylabel(\"% сетевых заведений\")"
   ]
  },
  {
   "cell_type": "markdown",
   "metadata": {},
   "source": [
    "Чаще всего сетевыми являются предприятия быстрого обслуживания и магазин(отдел кулинария). Реже всего - столовая, буфет и бар (доля сетевых заведений не превышает 5%. "
   ]
  },
  {
   "cell_type": "markdown",
   "metadata": {},
   "source": [
    "#### 2.4 Что характерно для сетевых заведений: много заведений с небольшим числом посадочных мест в каждом или мало заведений с большим количеством посадочных мест?"
   ]
  },
  {
   "cell_type": "code",
   "execution_count": 14,
   "metadata": {},
   "outputs": [],
   "source": [
    "chain_rest = rest.query('chain == \"да\"')"
   ]
  },
  {
   "cell_type": "code",
   "execution_count": 15,
   "metadata": {},
   "outputs": [
    {
     "data": {
      "text/html": [
       "<div>\n",
       "<style scoped>\n",
       "    .dataframe tbody tr th:only-of-type {\n",
       "        vertical-align: middle;\n",
       "    }\n",
       "\n",
       "    .dataframe tbody tr th {\n",
       "        vertical-align: top;\n",
       "    }\n",
       "\n",
       "    .dataframe thead th {\n",
       "        text-align: right;\n",
       "    }\n",
       "</style>\n",
       "<table border=\"1\" class=\"dataframe\">\n",
       "  <thead>\n",
       "    <tr style=\"text-align: right;\">\n",
       "      <th></th>\n",
       "      <th>id</th>\n",
       "      <th>number</th>\n",
       "    </tr>\n",
       "    <tr>\n",
       "      <th>object_name</th>\n",
       "      <th></th>\n",
       "      <th></th>\n",
       "    </tr>\n",
       "  </thead>\n",
       "  <tbody>\n",
       "    <tr>\n",
       "      <td>шоколадница</td>\n",
       "      <td>154</td>\n",
       "      <td>50.0</td>\n",
       "    </tr>\n",
       "    <tr>\n",
       "      <td>kfc</td>\n",
       "      <td>152</td>\n",
       "      <td>45.0</td>\n",
       "    </tr>\n",
       "    <tr>\n",
       "      <td>макдоналдс</td>\n",
       "      <td>147</td>\n",
       "      <td>79.0</td>\n",
       "    </tr>\n",
       "    <tr>\n",
       "      <td>бургер кинг</td>\n",
       "      <td>136</td>\n",
       "      <td>45.0</td>\n",
       "    </tr>\n",
       "    <tr>\n",
       "      <td>теремок</td>\n",
       "      <td>93</td>\n",
       "      <td>24.0</td>\n",
       "    </tr>\n",
       "  </tbody>\n",
       "</table>\n",
       "</div>"
      ],
      "text/plain": [
       "              id  number\n",
       "object_name             \n",
       "шоколадница  154    50.0\n",
       "kfc          152    45.0\n",
       "макдоналдс   147    79.0\n",
       "бургер кинг  136    45.0\n",
       "теремок       93    24.0"
      ]
     },
     "execution_count": 15,
     "metadata": {},
     "output_type": "execute_result"
    }
   ],
   "source": [
    "chain_rest_group = chain_rest.groupby('object_name').agg({'id':'count', 'number': 'median'}).sort_values(by = 'id', ascending = False)\n",
    "chain_rest_group.head(5)"
   ]
  },
  {
   "cell_type": "code",
   "execution_count": 16,
   "metadata": {},
   "outputs": [
    {
     "data": {
      "image/png": "[encoded data removed]",
      "text/plain": [
       "<Figure size 432x432 with 3 Axes>"
      ]
     },
     "metadata": {
      "needs_background": "light"
     },
     "output_type": "display_data"
    }
   ],
   "source": [
    "h = sns.jointplot(x=\"number\", y=\"id\", data=chain_rest_group, kind='reg')\n",
    "h.set_axis_labels('Количество мест', 'Количество ресторанов', fontsize=16)\n",
    "h.fig.subplots_adjust(top=0.93)\n",
    "h.fig.suptitle('Количество мест в сетевых заведениях')\n",
    "plt.show()"
   ]
  },
  {
   "cell_type": "code",
   "execution_count": 17,
   "metadata": {},
   "outputs": [
    {
     "data": {
      "text/plain": [
       "Text(0, 0.5, 'Частота')"
      ]
     },
     "execution_count": 17,
     "metadata": {},
     "output_type": "execute_result"
    },
    {
     "data": {
      "image/png": "[encoded data removed]",
      "text/plain": [
       "<Figure size 432x288 with 1 Axes>"
      ]
     },
     "metadata": {
      "needs_background": "light"
     },
     "output_type": "display_data"
    }
   ],
   "source": [
    "chain_rest_group.boxplot('number')\n",
    "plt.title('Распределение количества посадочных мест в сетевых заведениях')\n",
    "plt.xlabel(\"Количество посадочных мест\")\n",
    "plt.ylabel(\"Частота\")"
   ]
  },
  {
   "cell_type": "code",
   "execution_count": 18,
   "metadata": {},
   "outputs": [
    {
     "name": "stdout",
     "output_type": "stream",
     "text": [
      "Медиана количества посадочных мест во всех типах сетевых заведений 43.0\n",
      "Квантили распределения посадочных мест во всех типах сетевых заведений: 0.25     20.000\n",
      "0.75     82.375\n",
      "0.95    160.000\n",
      "Name: number, dtype: float64\n",
      "Медиана количества посадочных мест в заведениях типа кафе 40.0\n"
     ]
    }
   ],
   "source": [
    "print('Медиана количества посадочных мест во всех типах сетевых заведений', chain_rest_group['number'].median())\n",
    "print('Квантили распределения посадочных мест во всех типах сетевых заведений:', chain_rest_group['number'].quantile([0.25, 0.75, 0.95]))\n",
    "print('Медиана количества посадочных мест в заведениях типа кафе',chain_rest.query('object_type == \"кафе\"')['number'].median())"
   ]
  },
  {
   "cell_type": "code",
   "execution_count": 19,
   "metadata": {},
   "outputs": [
    {
     "data": {
      "text/plain": [
       "Text(0, 0.5, 'Частота')"
      ]
     },
     "execution_count": 19,
     "metadata": {},
     "output_type": "execute_result"
    },
    {
     "data": {
      "image/png": "[encoded data removed]",
      "text/plain": [
       "<Figure size 432x288 with 1 Axes>"
      ]
     },
     "metadata": {
      "needs_background": "light"
     },
     "output_type": "display_data"
    }
   ],
   "source": [
    "chain_rest_group.boxplot('id')\n",
    "plt.title('Распределение количества заведений в сетях')\n",
    "plt.xlabel(\"Количество заведений\")\n",
    "plt.ylabel(\"Частота\")"
   ]
  },
  {
   "cell_type": "code",
   "execution_count": 20,
   "metadata": {},
   "outputs": [
    {
     "name": "stdout",
     "output_type": "stream",
     "text": [
      "95% распределения количества заведений в сети во всех типах сетевых заведений: 16.5\n"
     ]
    }
   ],
   "source": [
    "print('95% распределения количества заведений в сети во всех типах сетевых заведений:', chain_rest_group['id'].quantile(0.95))"
   ]
  },
  {
   "cell_type": "code",
   "execution_count": 21,
   "metadata": {
    "scrolled": true
   },
   "outputs": [
    {
     "data": {
      "image/png": "[encoded data removed]",
      "text/plain": [
       "<Figure size 432x288 with 1 Axes>"
      ]
     },
     "metadata": {
      "needs_background": "light"
     },
     "output_type": "display_data"
    },
    {
     "name": "stdout",
     "output_type": "stream",
     "text": [
      "Среднее количество заведений типа кафе в сети 4.03\n",
      "Медиана количества заведений типа кафе в сети 1.00\n"
     ]
    }
   ],
   "source": [
    "cafe_group = chain_rest.groupby(['object_type', 'object_name']).agg({\n",
    "    'id': 'count', \n",
    "    'number': 'median'\n",
    "}).sort_values(by= 'id', ascending = False).reset_index().query('object_type == \"кафе\"')\n",
    "\n",
    "cafe_group.plot(x = 'id', y = 'number', kind = 'scatter')\n",
    "plt.title('Распределение количества посадочных мест в сетевых кафе')\n",
    "plt.xlabel(\"Количество заведений\")\n",
    "plt.ylabel(\"Количество посадочных мест\")\n",
    "plt.show()\n",
    "\n",
    "print('Среднее количество заведений типа кафе в сети {:.2f}'.format(cafe_group['id'].mean()))\n",
    "print('Медиана количества заведений типа кафе в сети {:.2f}'.format(cafe_group['id'].median()))"
   ]
  },
  {
   "cell_type": "code",
   "execution_count": 22,
   "metadata": {},
   "outputs": [
    {
     "data": {
      "image/png": "[encoded data removed]",
      "text/plain": [
       "<Figure size 432x288 with 1 Axes>"
      ]
     },
     "metadata": {
      "needs_background": "light"
     },
     "output_type": "display_data"
    },
    {
     "data": {
      "image/png": "[encoded data removed]",
      "text/plain": [
       "<Figure size 432x288 with 1 Axes>"
      ]
     },
     "metadata": {
      "needs_background": "light"
     },
     "output_type": "display_data"
    },
    {
     "data": {
      "image/png": "[encoded data removed]",
      "text/plain": [
       "<Figure size 432x288 with 1 Axes>"
      ]
     },
     "metadata": {
      "needs_background": "light"
     },
     "output_type": "display_data"
    },
    {
     "name": "stdout",
     "output_type": "stream",
     "text": [
      "Медиана количества посадочных мест в заведении типа несетевое кафе 30.0\n",
      "Медиана количества посадочных мест в заведении типа сетевое кафе (маленькие сети) 40.0\n",
      "Медиана количества посадочных мест в заведении типа сетевое кафе (топ-10) 40.0\n",
      "Среднее количество заведений типа кафе в большой сети 43.80\n",
      "Медиана количества заведений типа кафе в большой сети 31.50\n",
      "Среднее количество заведений типа кафе в сети 2.83\n",
      "Медиана количества заведений типа кафе в сети 1.00\n"
     ]
    }
   ],
   "source": [
    "cafe_top_10 = cafe_group.head(10)['object_name'].unique() # выделим топ-10 кафе сетей по количеству заведений\n",
    "chain_cafe = rest.query('object_name not in @cafe_top_10 and object_type == \"кафе\" and chain ==\"да\"')\n",
    "not_chain_cafe = rest.query('object_name not in @cafe_top_10 and object_type == \"кафе\" and chain ==\"нет\"')\n",
    "big_chain_cafe = rest.query('object_name.isin(@cafe_top_10) == True  and object_type == \"кафе\" and chain ==\"да\"')\n",
    "\n",
    "not_chain_cafe.hist('number', bins = 50)\n",
    "plt.title('Распределение количества посадочных мест в несетевых кафе')\n",
    "plt.xlabel(\"Количество посадочных мест\")\n",
    "plt.ylabel(\"Как часто встречается\")\n",
    "plt.show()\n",
    "\n",
    "chain_cafe.hist('number', bins = 50)\n",
    "plt.title('Распределение количества посадочных мест в сетевых кафе (маленькие сети)')\n",
    "plt.xlabel(\"Количество посадочных мест\")\n",
    "plt.ylabel(\"Как часто встречается\")\n",
    "plt.show()\n",
    "\n",
    "\n",
    "big_chain_cafe.hist('number', bins = 50)\n",
    "plt.title('Распределение количества посадочных мест в сетевых кафе (топ-10 сети)')\n",
    "plt.xlabel(\"Количество посадочных мест\")\n",
    "plt.ylabel(\"Как часто встречается\")\n",
    "plt.show()\n",
    "\n",
    "print('Медиана количества посадочных мест в заведении типа несетевое кафе', not_chain_cafe['number'].median())\n",
    "print('Медиана количества посадочных мест в заведении типа сетевое кафе (маленькие сети)', chain_cafe['number'].median())\n",
    "print('Медиана количества посадочных мест в заведении типа сетевое кафе (топ-10)', big_chain_cafe['number'].median())\n",
    "\n",
    "big_chain_cafe_group = big_chain_cafe.groupby('object_name').agg({\n",
    "    'id': 'count', \n",
    "    'number': 'median'\n",
    "}).sort_values(by= 'id', ascending = False).reset_index()\n",
    "\n",
    "chain_cafe_group = chain_cafe.groupby('object_name').agg({\n",
    "    'id': 'count', \n",
    "    'number': 'median'\n",
    "}).sort_values(by= 'id', ascending = False).reset_index()\n",
    "\n",
    "print('Среднее количество заведений типа кафе в большой сети {:.2f}'.format(big_chain_cafe_group['id'].mean()))\n",
    "print('Медиана количества заведений типа кафе в большой сети {:.2f}'.format(big_chain_cafe_group['id'].median()))\n",
    "\n",
    "print('Среднее количество заведений типа кафе в сети {:.2f}'.format(chain_cafe_group['id'].mean()))\n",
    "print('Медиана количества заведений типа кафе в сети {:.2f}'.format(chain_cafe_group['id'].median()))"
   ]
  },
  {
   "cell_type": "markdown",
   "metadata": {},
   "source": [
    "Для сетевых заведений характерно разное количество заведений (95% заведений имеют до 17 заведений в сети). Медиана количества посадочных мест во всех типах сетевых заведений 43.\n",
    "При этом если рассматривать сетевые кафе, то разброс значений будет меньше. \n",
    "Если взять сетевые кафе, принадлежащие большим сетям, то среднее количество заведений в сети равно 43.8, количество мест - 40.\n",
    "Сетевые кафе маленьких сетей имеют тоже количество посадочных мест в среднем, но среднее количество заведений составляет 2.8. "
   ]
  },
  {
   "cell_type": "markdown",
   "metadata": {},
   "source": [
    "#### 2.5 Среднее количество посадочных мест."
   ]
  },
  {
   "cell_type": "code",
   "execution_count": 23,
   "metadata": {},
   "outputs": [
    {
     "data": {
      "image/png": "[encoded data removed]",
      "text/plain": [
       "<Figure size 432x288 with 1 Axes>"
      ]
     },
     "metadata": {
      "needs_background": "light"
     },
     "output_type": "display_data"
    },
    {
     "data": {
      "text/html": [
       "<div>\n",
       "<style scoped>\n",
       "    .dataframe tbody tr th:only-of-type {\n",
       "        vertical-align: middle;\n",
       "    }\n",
       "\n",
       "    .dataframe tbody tr th {\n",
       "        vertical-align: top;\n",
       "    }\n",
       "\n",
       "    .dataframe thead th {\n",
       "        text-align: right;\n",
       "    }\n",
       "</style>\n",
       "<table border=\"1\" class=\"dataframe\">\n",
       "  <thead>\n",
       "    <tr style=\"text-align: right;\">\n",
       "      <th></th>\n",
       "      <th>object_type</th>\n",
       "      <th>number</th>\n",
       "    </tr>\n",
       "  </thead>\n",
       "  <tbody>\n",
       "    <tr>\n",
       "      <td>8</td>\n",
       "      <td>столовая</td>\n",
       "      <td>130.457621</td>\n",
       "    </tr>\n",
       "    <tr>\n",
       "      <td>7</td>\n",
       "      <td>ресторан</td>\n",
       "      <td>97.128137</td>\n",
       "    </tr>\n",
       "    <tr>\n",
       "      <td>2</td>\n",
       "      <td>буфет</td>\n",
       "      <td>51.660177</td>\n",
       "    </tr>\n",
       "    <tr>\n",
       "      <td>1</td>\n",
       "      <td>бар</td>\n",
       "      <td>43.660777</td>\n",
       "    </tr>\n",
       "    <tr>\n",
       "      <td>4</td>\n",
       "      <td>кафе</td>\n",
       "      <td>39.915707</td>\n",
       "    </tr>\n",
       "    <tr>\n",
       "      <td>0</td>\n",
       "      <td>ПБО</td>\n",
       "      <td>20.743767</td>\n",
       "    </tr>\n",
       "    <tr>\n",
       "      <td>5</td>\n",
       "      <td>кафетерий</td>\n",
       "      <td>9.155612</td>\n",
       "    </tr>\n",
       "    <tr>\n",
       "      <td>3</td>\n",
       "      <td>закусочная</td>\n",
       "      <td>6.904070</td>\n",
       "    </tr>\n",
       "    <tr>\n",
       "      <td>6</td>\n",
       "      <td>кулинария</td>\n",
       "      <td>5.610294</td>\n",
       "    </tr>\n",
       "  </tbody>\n",
       "</table>\n",
       "</div>"
      ],
      "text/plain": [
       "  object_type      number\n",
       "8    столовая  130.457621\n",
       "7    ресторан   97.128137\n",
       "2       буфет   51.660177\n",
       "1         бар   43.660777\n",
       "4        кафе   39.915707\n",
       "0         ПБО   20.743767\n",
       "5   кафетерий    9.155612\n",
       "3  закусочная    6.904070\n",
       "6   кулинария    5.610294"
      ]
     },
     "metadata": {},
     "output_type": "display_data"
    }
   ],
   "source": [
    "number_type = rest.groupby(['object_type']).agg({'number': 'mean'}).reset_index().sort_values(by = 'number', ascending = False)\n",
    "number_type.plot(x = 'object_type', y = 'number', kind = 'bar')\n",
    "plt.title('Среднее количество посадочных мест в заведениях разных типов')\n",
    "plt.xlabel(\"Тип заведения\")\n",
    "plt.ylabel(\"Среднее количество посадочных мест\")\n",
    "plt.show()\n",
    "display(number_type)"
   ]
  },
  {
   "cell_type": "markdown",
   "metadata": {},
   "source": [
    "В среднем больше всего мест для посетителей отведено в столовых (среднее количество мест - 130). А меньше всего - в закусочных и магазинах (отдел кулинарии) - среднее количествво мест 6.9 и 5.6 соответственно. "
   ]
  },
  {
   "cell_type": "markdown",
   "metadata": {},
   "source": [
    "#### 2.6 Топ-10 улиц по количеству объектов общественного питания"
   ]
  },
  {
   "cell_type": "code",
   "execution_count": 24,
   "metadata": {},
   "outputs": [],
   "source": [
    "#https://docs.google.com/spreadsheets/d/1BDWfMGkX0UMuvdmcRhhpo3RDZctQDEDWpuV9fcJT7eA/edit?usp=sharing\n",
    "spreadsheet_id = '1BDWfMGkX0UMuvdmcRhhpo3RDZctQDEDWpuV9fcJT7eA'\n",
    "file_name = 'https://docs.google.com/spreadsheets/d/{}/export?format=csv'.format(spreadsheet_id)\n",
    "r = requests.get(file_name)\n",
    "df = pd.read_csv(BytesIO(r.content))\n",
    "df.columns= ['street', 'estate_code']\n",
    "df = df.groupby('street').agg({'estate_code': 'first'}).reset_index()"
   ]
  },
  {
   "cell_type": "code",
   "execution_count": 25,
   "metadata": {},
   "outputs": [
    {
     "name": "stdout",
     "output_type": "stream",
     "text": [
      "<class 'pandas.core.frame.DataFrame'>\n",
      "Int64Index: 15141 entries, 0 to 15140\n",
      "Data columns (total 10 columns):\n",
      "id             15141 non-null float64\n",
      "object_name    15141 non-null object\n",
      "chain          15141 non-null object\n",
      "object_type    15141 non-null object\n",
      "address        15141 non-null object\n",
      "number         15141 non-null float64\n",
      "adresss1       15141 non-null object\n",
      "adresss2       15141 non-null object\n",
      "street         15141 non-null object\n",
      "estate_code    15139 non-null object\n",
      "dtypes: float64(2), object(8)\n",
      "memory usage: 1.3+ MB\n"
     ]
    }
   ],
   "source": [
    "rest_location = pd.merge(rest, df, on = 'street', how = 'left')\n",
    "rest_location.info()"
   ]
  },
  {
   "cell_type": "code",
   "execution_count": 26,
   "metadata": {},
   "outputs": [
    {
     "data": {
      "text/html": [
       "<div>\n",
       "<style scoped>\n",
       "    .dataframe tbody tr th:only-of-type {\n",
       "        vertical-align: middle;\n",
       "    }\n",
       "\n",
       "    .dataframe tbody tr th {\n",
       "        vertical-align: top;\n",
       "    }\n",
       "\n",
       "    .dataframe thead th {\n",
       "        text-align: right;\n",
       "    }\n",
       "</style>\n",
       "<table border=\"1\" class=\"dataframe\">\n",
       "  <thead>\n",
       "    <tr style=\"text-align: right;\">\n",
       "      <th></th>\n",
       "      <th>street</th>\n",
       "      <th>id_count</th>\n",
       "      <th>estate_code</th>\n",
       "    </tr>\n",
       "  </thead>\n",
       "  <tbody>\n",
       "    <tr>\n",
       "      <td>0</td>\n",
       "      <td>проспект Мира</td>\n",
       "      <td>196</td>\n",
       "      <td>0105;0301;0309;0310;0312;0313;0317</td>\n",
       "    </tr>\n",
       "    <tr>\n",
       "      <td>1</td>\n",
       "      <td>Профсоюзная улица</td>\n",
       "      <td>180</td>\n",
       "      <td>0701;0704;0707;0709;0710;0712</td>\n",
       "    </tr>\n",
       "    <tr>\n",
       "      <td>2</td>\n",
       "      <td>Ленинградский проспект</td>\n",
       "      <td>171</td>\n",
       "      <td>0201;0202;0214;0217</td>\n",
       "    </tr>\n",
       "    <tr>\n",
       "      <td>3</td>\n",
       "      <td>Пресненская набережная</td>\n",
       "      <td>165</td>\n",
       "      <td>106</td>\n",
       "    </tr>\n",
       "    <tr>\n",
       "      <td>4</td>\n",
       "      <td>Варшавское шоссе</td>\n",
       "      <td>160</td>\n",
       "      <td>0610;0613;0615;0619;0620;0621;0708;0711;1111</td>\n",
       "    </tr>\n",
       "    <tr>\n",
       "      <td>5</td>\n",
       "      <td>Ленинский проспект</td>\n",
       "      <td>148</td>\n",
       "      <td>0110;0610;0702;0706;0707;0709;0814;0817</td>\n",
       "    </tr>\n",
       "    <tr>\n",
       "      <td>6</td>\n",
       "      <td>проспект Вернадского</td>\n",
       "      <td>126</td>\n",
       "      <td>0702;0706;0814;0815;0817</td>\n",
       "    </tr>\n",
       "    <tr>\n",
       "      <td>7</td>\n",
       "      <td>Кутузовский проспект</td>\n",
       "      <td>112</td>\n",
       "      <td>0805;0819</td>\n",
       "    </tr>\n",
       "    <tr>\n",
       "      <td>8</td>\n",
       "      <td>Каширское шоссе</td>\n",
       "      <td>110</td>\n",
       "      <td>0612;0613;0616;0617</td>\n",
       "    </tr>\n",
       "    <tr>\n",
       "      <td>9</td>\n",
       "      <td>Кировоградская улица</td>\n",
       "      <td>106</td>\n",
       "      <td>0619;0620;0621</td>\n",
       "    </tr>\n",
       "  </tbody>\n",
       "</table>\n",
       "</div>"
      ],
      "text/plain": [
       "                   street  id_count  \\\n",
       "0           проспект Мира       196   \n",
       "1       Профсоюзная улица       180   \n",
       "2  Ленинградский проспект       171   \n",
       "3  Пресненская набережная       165   \n",
       "4        Варшавское шоссе       160   \n",
       "5      Ленинский проспект       148   \n",
       "6    проспект Вернадского       126   \n",
       "7    Кутузовский проспект       112   \n",
       "8         Каширское шоссе       110   \n",
       "9    Кировоградская улица       106   \n",
       "\n",
       "                                    estate_code  \n",
       "0            0105;0301;0309;0310;0312;0313;0317  \n",
       "1                 0701;0704;0707;0709;0710;0712  \n",
       "2                           0201;0202;0214;0217  \n",
       "3                                           106  \n",
       "4  0610;0613;0615;0619;0620;0621;0708;0711;1111  \n",
       "5       0110;0610;0702;0706;0707;0709;0814;0817  \n",
       "6                      0702;0706;0814;0815;0817  \n",
       "7                                     0805;0819  \n",
       "8                           0612;0613;0616;0617  \n",
       "9                                0619;0620;0621  "
      ]
     },
     "metadata": {},
     "output_type": "display_data"
    }
   ],
   "source": [
    "top_10 = rest_location.groupby('street').agg({\n",
    "    'id': 'count', \n",
    "    'estate_code' : 'first' \n",
    "}).sort_values(by='id', ascending= False).query('street != \"город Зеленоград\" and street != \"поселение Сосенское\"').head(10).reset_index()\n",
    "top_10.columns = ['street', 'id_count', 'estate_code']\n",
    "display(top_10)"
   ]
  },
  {
   "cell_type": "code",
   "execution_count": 27,
   "metadata": {},
   "outputs": [
    {
     "data": {
      "image/png": "[encoded data removed]",
      "text/plain": [
       "<Figure size 432x288 with 1 Axes>"
      ]
     },
     "metadata": {
      "needs_background": "light"
     },
     "output_type": "display_data"
    }
   ],
   "source": [
    "top_10.plot('street', 'id_count', kind = 'barh')\n",
    "plt.title('Количество заведений разных типов на топ-10 улиц Москвы')\n",
    "plt.xlabel(\"Количество заведений\")\n",
    "plt.ylabel(\"Улица\")\n",
    "plt.show()"
   ]
  },
  {
   "cell_type": "markdown",
   "metadata": {},
   "source": [
    "Все улицы принадлежат разным районам. Но: в топ-10 по количеству заведений попали не простые улицы:\n",
    "- Варшавское шоссе - прямое шоссе с наибольшей протяженностью, которое раскинулась на 22,5 км и имеет важное транспортное значение. Шоссе проходит через 8 районов, размещенных в трех административных округах.\n",
    "- Ленинский проспект состоит из большой Калужской улицы, частично из одноименного шоссе и Киевского шоссе. Месторасположение объекта охватывает 4 округа (Западный, Южный, Западно-Южный и Центральный). Берет свое начало автомагистраль от Калужской площади, заканчивается возле МКАД и имеет протяженность 14 км, ширину от 108 до 120 м. Это единственная в столице России радиальная автомагистраль, не меняющая название на всей дистанции.\n",
    "- Ленинградский проспект (Ленинградка) размещается в Северном административном округе, держит первенство в статусе самой широкой улицы Москвы (120м)\n",
    "- Проспект Мира одна из самых протяженных и оживленных улиц города Москвы. \n",
    "- Профсоюзная улица является одной из главных магистралей юго-запада Москвы. От метро Коньково до пересечения с улицей Академика Капицы она также выступает в качестве границы между районами Коньково и Тёплый Стан.\n",
    "- Пресненская набережная проходит вдоль делового центра Москва-Сити - крупный развивающийся деловой район в Москве.\n",
    "        \n",
    "        \n",
    "Каждая улица проходит через несколько районов и административных округов, это улицы с большой проходимостью (людей и транспорта) вполне логично, что на них собираются заведения общественного питания. При этом в основном это не улицы ЦАО (исключая Пресненскую набережную, но она обособлена за счет Москва-Сити)."
   ]
  },
  {
   "cell_type": "markdown",
   "metadata": {},
   "source": [
    "#### 2.7 Улицы с одним объектом общественного питания."
   ]
  },
  {
   "cell_type": "code",
   "execution_count": 28,
   "metadata": {},
   "outputs": [
    {
     "name": "stdout",
     "output_type": "stream",
     "text": [
      "<class 'pandas.core.frame.DataFrame'>\n",
      "RangeIndex: 151 entries, 0 to 150\n",
      "Data columns (total 2 columns):\n",
      "estate               151 non-null object\n",
      "first_estate_code    151 non-null int64\n",
      "dtypes: int64(1), object(1)\n",
      "memory usage: 2.5+ KB\n"
     ]
    }
   ],
   "source": [
    "#https://docs.google.com/spreadsheets/d/1jPv-rHHoDAgEG_ZZTd3ZizEIcjobQkN-_MOIycxOfkw/edit?usp=sharing\n",
    "spread_id = '1jPv-rHHoDAgEG_ZZTd3ZizEIcjobQkN-_MOIycxOfkw'\n",
    "file_name = 'https://docs.google.com/spreadsheets/d/{}/export?format=csv'.format(spread_id)\n",
    "r = requests.get(file_name)\n",
    "code_omk_te = pd.read_csv(BytesIO(r.content))    \n",
    "code_omk_te.columns = ['estate', 'first_estate_code']\n",
    "code_omk_te.info()"
   ]
  },
  {
   "cell_type": "code",
   "execution_count": 29,
   "metadata": {},
   "outputs": [],
   "source": [
    "rest_location['first_estate_code'] =rest_location['estate_code'].str.split(';').str.get(0)\n",
    "rest_location['first_estate_code'] = rest_location['first_estate_code'].fillna(0)\n",
    "rest_location['first_estate_code'] = rest_location['first_estate_code'].astype(int)\n",
    "rest_location= pd.merge(rest_location, code_omk_te, on = 'first_estate_code', how = 'left')\n",
    "rest_location['state_code'] = (rest_location['first_estate_code']/100)\n",
    "rest_location['state_code'] = rest_location['state_code'].astype(int)\n"
   ]
  },
  {
   "cell_type": "code",
   "execution_count": 30,
   "metadata": {},
   "outputs": [
    {
     "name": "stdout",
     "output_type": "stream",
     "text": [
      "<class 'pandas.core.frame.DataFrame'>\n",
      "RangeIndex: 12 entries, 0 to 11\n",
      "Data columns (total 2 columns):\n",
      "state         12 non-null object\n",
      "state_code    12 non-null int64\n",
      "dtypes: int64(1), object(1)\n",
      "memory usage: 320.0+ bytes\n"
     ]
    }
   ],
   "source": [
    "#https://docs.google.com/spreadsheets/d/1iMn2w5Wl9v0fg_4luXpQLkpCeMJUXlbF2XZeRocLB_s/edit?usp=sharing\n",
    "spread_id = '1iMn2w5Wl9v0fg_4luXpQLkpCeMJUXlbF2XZeRocLB_s'\n",
    "file_name = 'https://docs.google.com/spreadsheets/d/{}/export?format=csv'.format(spread_id)\n",
    "r = requests.get(file_name)\n",
    "state_code = pd.read_csv(BytesIO(r.content))    \n",
    "state_code.columns = ['state', 'state_code']\n",
    "state_code.info()"
   ]
  },
  {
   "cell_type": "code",
   "execution_count": 31,
   "metadata": {},
   "outputs": [],
   "source": [
    "rest_location= pd.merge(rest_location, state_code, on = 'state_code', how = 'left')"
   ]
  },
  {
   "cell_type": "code",
   "execution_count": 32,
   "metadata": {},
   "outputs": [
    {
     "name": "stdout",
     "output_type": "stream",
     "text": [
      "Всего в данных 542 улиц, на которых есть всего лишь 1 заведение общественного питания\n"
     ]
    }
   ],
   "source": [
    "street_witn_1 = rest_location.groupby('street').agg({'id': 'count'}).query('id == 1').reset_index()\n",
    "list_street_witn_1 = street_witn_1['street'].unique()\n",
    "print('Всего в данных {} улиц, на которых есть всего лишь 1 заведение общественного питания'.format(len(street_witn_1)))"
   ]
  },
  {
   "cell_type": "code",
   "execution_count": 33,
   "metadata": {},
   "outputs": [
    {
     "data": {
      "text/html": [
       "<div>\n",
       "<style scoped>\n",
       "    .dataframe tbody tr th:only-of-type {\n",
       "        vertical-align: middle;\n",
       "    }\n",
       "\n",
       "    .dataframe tbody tr th {\n",
       "        vertical-align: top;\n",
       "    }\n",
       "\n",
       "    .dataframe thead th {\n",
       "        text-align: right;\n",
       "    }\n",
       "</style>\n",
       "<table border=\"1\" class=\"dataframe\">\n",
       "  <thead>\n",
       "    <tr style=\"text-align: right;\">\n",
       "      <th></th>\n",
       "      <th>estate</th>\n",
       "      <th>state</th>\n",
       "      <th>id</th>\n",
       "    </tr>\n",
       "    <tr>\n",
       "      <th>estate_code</th>\n",
       "      <th></th>\n",
       "      <th></th>\n",
       "      <th></th>\n",
       "    </tr>\n",
       "  </thead>\n",
       "  <tbody>\n",
       "    <tr>\n",
       "      <td>107</td>\n",
       "      <td>муниципальный округ Таганский</td>\n",
       "      <td>ЦАО</td>\n",
       "      <td>26</td>\n",
       "    </tr>\n",
       "    <tr>\n",
       "      <td>102</td>\n",
       "      <td>муниципальный округ Басманный</td>\n",
       "      <td>ЦАО</td>\n",
       "      <td>24</td>\n",
       "    </tr>\n",
       "    <tr>\n",
       "      <td>109</td>\n",
       "      <td>муниципальный округ Хамовники</td>\n",
       "      <td>ЦАО</td>\n",
       "      <td>22</td>\n",
       "    </tr>\n",
       "    <tr>\n",
       "      <td>108</td>\n",
       "      <td>муниципальный округ Тверской</td>\n",
       "      <td>ЦАО</td>\n",
       "      <td>19</td>\n",
       "    </tr>\n",
       "    <tr>\n",
       "      <td>309</td>\n",
       "      <td>муниципальный округ Марьина Роща</td>\n",
       "      <td>СВАО</td>\n",
       "      <td>16</td>\n",
       "    </tr>\n",
       "    <tr>\n",
       "      <td>106</td>\n",
       "      <td>муниципальный округ Пресненский</td>\n",
       "      <td>ЦАО</td>\n",
       "      <td>15</td>\n",
       "    </tr>\n",
       "    <tr>\n",
       "      <td>418</td>\n",
       "      <td>муниципальный округ Сокольники</td>\n",
       "      <td>ВАО</td>\n",
       "      <td>15</td>\n",
       "    </tr>\n",
       "    <tr>\n",
       "      <td>103</td>\n",
       "      <td>муниципальный округ Замоскворечье</td>\n",
       "      <td>ЦАО</td>\n",
       "      <td>12</td>\n",
       "    </tr>\n",
       "    <tr>\n",
       "      <td>105</td>\n",
       "      <td>муниципальный округ Мещанский</td>\n",
       "      <td>ЦАО</td>\n",
       "      <td>12</td>\n",
       "    </tr>\n",
       "    <tr>\n",
       "      <td>507</td>\n",
       "      <td>муниципальный округ Лефортово</td>\n",
       "      <td>ЮВАО</td>\n",
       "      <td>11</td>\n",
       "    </tr>\n",
       "  </tbody>\n",
       "</table>\n",
       "</div>"
      ],
      "text/plain": [
       "                                        estate state  id\n",
       "estate_code                                             \n",
       "107              муниципальный округ Таганский   ЦАО  26\n",
       "102              муниципальный округ Басманный   ЦАО  24\n",
       "109              муниципальный округ Хамовники   ЦАО  22\n",
       "108               муниципальный округ Тверской   ЦАО  19\n",
       "309           муниципальный округ Марьина Роща  СВАО  16\n",
       "106            муниципальный округ Пресненский   ЦАО  15\n",
       "418             муниципальный округ Сокольники   ВАО  15\n",
       "103          муниципальный округ Замоскворечье   ЦАО  12\n",
       "105              муниципальный округ Мещанский   ЦАО  12\n",
       "507              муниципальный округ Лефортово  ЮВАО  11"
      ]
     },
     "metadata": {},
     "output_type": "display_data"
    },
    {
     "data": {
      "text/html": [
       "<div>\n",
       "<style scoped>\n",
       "    .dataframe tbody tr th:only-of-type {\n",
       "        vertical-align: middle;\n",
       "    }\n",
       "\n",
       "    .dataframe tbody tr th {\n",
       "        vertical-align: top;\n",
       "    }\n",
       "\n",
       "    .dataframe thead th {\n",
       "        text-align: right;\n",
       "    }\n",
       "</style>\n",
       "<table border=\"1\" class=\"dataframe\">\n",
       "  <thead>\n",
       "    <tr style=\"text-align: right;\">\n",
       "      <th></th>\n",
       "      <th>id</th>\n",
       "    </tr>\n",
       "    <tr>\n",
       "      <th>state</th>\n",
       "      <th></th>\n",
       "    </tr>\n",
       "  </thead>\n",
       "  <tbody>\n",
       "    <tr>\n",
       "      <td>ЦАО</td>\n",
       "      <td>176</td>\n",
       "    </tr>\n",
       "    <tr>\n",
       "      <td>ВАО</td>\n",
       "      <td>64</td>\n",
       "    </tr>\n",
       "    <tr>\n",
       "      <td>СВАО</td>\n",
       "      <td>64</td>\n",
       "    </tr>\n",
       "    <tr>\n",
       "      <td>ЮВАО</td>\n",
       "      <td>55</td>\n",
       "    </tr>\n",
       "    <tr>\n",
       "      <td>САО</td>\n",
       "      <td>53</td>\n",
       "    </tr>\n",
       "    <tr>\n",
       "      <td>ЗАО</td>\n",
       "      <td>45</td>\n",
       "    </tr>\n",
       "    <tr>\n",
       "      <td>ЮЗАО</td>\n",
       "      <td>28</td>\n",
       "    </tr>\n",
       "    <tr>\n",
       "      <td>СЗАО</td>\n",
       "      <td>27</td>\n",
       "    </tr>\n",
       "    <tr>\n",
       "      <td>ЮАО</td>\n",
       "      <td>23</td>\n",
       "    </tr>\n",
       "    <tr>\n",
       "      <td>Новая Москва</td>\n",
       "      <td>4</td>\n",
       "    </tr>\n",
       "    <tr>\n",
       "      <td>Троицкий АО</td>\n",
       "      <td>2</td>\n",
       "    </tr>\n",
       "    <tr>\n",
       "      <td>Зеленоград</td>\n",
       "      <td>1</td>\n",
       "    </tr>\n",
       "  </tbody>\n",
       "</table>\n",
       "</div>"
      ],
      "text/plain": [
       "               id\n",
       "state            \n",
       "ЦАО           176\n",
       "ВАО            64\n",
       "СВАО           64\n",
       "ЮВАО           55\n",
       "САО            53\n",
       "ЗАО            45\n",
       "ЮЗАО           28\n",
       "СЗАО           27\n",
       "ЮАО            23\n",
       "Новая Москва    4\n",
       "Троицкий АО     2\n",
       "Зеленоград      1"
      ]
     },
     "execution_count": 33,
     "metadata": {},
     "output_type": "execute_result"
    }
   ],
   "source": [
    "rest_alone = rest_location.query('street.isin(@list_street_witn_1)==True').groupby('street').agg({\n",
    "    'id': 'count',  \n",
    "    'estate_code': 'first',\n",
    "    'estate': 'first',\n",
    "    'state': 'first'\n",
    "}).reset_index().groupby('estate_code').agg({'estate': 'first','state':'first','id': 'count'}).sort_values(by = 'id', ascending= False)\n",
    "display(rest_alone.head(10))\n",
    "rest_alone.groupby('state').agg({'id':'sum'}).sort_values(by='id', ascending= False)\n"
   ]
  },
  {
   "cell_type": "markdown",
   "metadata": {},
   "source": [
    "По одному объекту общественного питания находятся на улицах многих районов и округов. Видно, что лидируют районы ЦАО - Таганский, Басманный, хамовники. \n",
    "Предпологаю две причины такого состояния:\n",
    "- дорогая арендная плата \n",
    "- короткие улицы, для центра Москвы, особенно старый город и улицы вокруг Кремля - короткие, с узкими тротуарами. Нет возможности расширить помещения за счет улицы или перепланировки здания.\n",
    "Плюс здания в центре Москвы не подлежат перепланировке и накладывается ряд ограничений на использование наружной рекламы - реклама не может нарушать внешний вид города. \n",
    "Поэтому же в центре больше всего кафе - эти предприятия не требуют больших помещений (нет необходимости в полноценной кухне), могут существовать с маленьким количеством посадочных мест, основным товаром является кофе, в том числе кофе на вынос - что удобно для районов с офисами. (Перед рабочим днем зайти и выпить кофе, или взять кофе с собой в офис)"
   ]
  },
  {
   "cell_type": "markdown",
   "metadata": {},
   "source": [
    "#### 2.8 Распределение количества посадочных мест для улиц с большим количеством объектов общественного питания."
   ]
  },
  {
   "cell_type": "code",
   "execution_count": 34,
   "metadata": {},
   "outputs": [
    {
     "name": "stdout",
     "output_type": "stream",
     "text": [
      "0.90    143.0\n",
      "0.95    180.0\n",
      "0.99    300.0\n",
      "Name: number, dtype: float64\n",
      "1700.0\n",
      "40.0\n"
     ]
    },
    {
     "data": {
      "image/png": "[encoded data removed]",
      "text/plain": [
       "<Figure size 432x288 with 1 Axes>"
      ]
     },
     "metadata": {
      "needs_background": "light"
     },
     "output_type": "display_data"
    }
   ],
   "source": [
    "top_20_num = rest_location.groupby('street').agg({\n",
    "    'id': 'count'\n",
    "}).sort_values(by='id', ascending= False).head(10).reset_index()\n",
    "\n",
    "list_of_streets = top_20_num['street'].unique()\n",
    "print(rest.query('street in @list_of_streets')['number'].quantile([0.90, 0.95, 0.99]))\n",
    "print(rest.query('street in @list_of_streets')['number'].max())\n",
    "print(rest.query('street in @list_of_streets')['number'].median())\n",
    "rest.query('street in @list_of_streets')['number'].hist( bins = 50, range =(0, 300))\n",
    "plt.title('Распределение количества посадочных мест на топ-20 улиц Москвы по количеству заведений')\n",
    "plt.xlabel(\"Количество посадочных мест\")\n",
    "plt.ylabel(\"Частота\")\n",
    "plt.show()"
   ]
  },
  {
   "cell_type": "code",
   "execution_count": 35,
   "metadata": {},
   "outputs": [
    {
     "name": "stdout",
     "output_type": "stream",
     "text": [
      "152\n"
     ]
    },
    {
     "data": {
      "text/html": [
       "<div>\n",
       "<style scoped>\n",
       "    .dataframe tbody tr th:only-of-type {\n",
       "        vertical-align: middle;\n",
       "    }\n",
       "\n",
       "    .dataframe tbody tr th {\n",
       "        vertical-align: top;\n",
       "    }\n",
       "\n",
       "    .dataframe thead th {\n",
       "        text-align: right;\n",
       "    }\n",
       "</style>\n",
       "<table border=\"1\" class=\"dataframe\">\n",
       "  <thead>\n",
       "    <tr style=\"text-align: right;\">\n",
       "      <th></th>\n",
       "      <th>id</th>\n",
       "    </tr>\n",
       "    <tr>\n",
       "      <th>object_type</th>\n",
       "      <th></th>\n",
       "    </tr>\n",
       "  </thead>\n",
       "  <tbody>\n",
       "    <tr>\n",
       "      <td>ПБО</td>\n",
       "      <td>55</td>\n",
       "    </tr>\n",
       "    <tr>\n",
       "      <td>бар</td>\n",
       "      <td>1</td>\n",
       "    </tr>\n",
       "    <tr>\n",
       "      <td>буфет</td>\n",
       "      <td>3</td>\n",
       "    </tr>\n",
       "    <tr>\n",
       "      <td>закусочная</td>\n",
       "      <td>16</td>\n",
       "    </tr>\n",
       "    <tr>\n",
       "      <td>кафе</td>\n",
       "      <td>44</td>\n",
       "    </tr>\n",
       "    <tr>\n",
       "      <td>кафетерий</td>\n",
       "      <td>13</td>\n",
       "    </tr>\n",
       "    <tr>\n",
       "      <td>кулинария</td>\n",
       "      <td>7</td>\n",
       "    </tr>\n",
       "    <tr>\n",
       "      <td>ресторан</td>\n",
       "      <td>12</td>\n",
       "    </tr>\n",
       "    <tr>\n",
       "      <td>столовая</td>\n",
       "      <td>1</td>\n",
       "    </tr>\n",
       "  </tbody>\n",
       "</table>\n",
       "</div>"
      ],
      "text/plain": [
       "             id\n",
       "object_type    \n",
       "ПБО          55\n",
       "бар           1\n",
       "буфет         3\n",
       "закусочная   16\n",
       "кафе         44\n",
       "кафетерий    13\n",
       "кулинария     7\n",
       "ресторан     12\n",
       "столовая      1"
      ]
     },
     "execution_count": 35,
     "metadata": {},
     "output_type": "execute_result"
    }
   ],
   "source": [
    "print(rest.query('street in @list_of_streets and number == 0')['number'].count())\n",
    "rest.query('street in @list_of_streets and number == 0').groupby('object_type').agg({'id': 'count'})"
   ]
  },
  {
   "cell_type": "markdown",
   "metadata": {},
   "source": [
    "Большинство заведений, расположенных на топ-20 улиц имеют не более 300 посадочных мест. 90% имеют не более 150 посадочных мест, а медиана проходит через 40 посадочных мест. Так же на этих улицах зарегистрировано 104 заведения вообще без посадочных мест. (такие как сеть Милти, которые занимаются только доставкой еды и не имеют своих залов, а так же палатки с шаурмой и кофе на вынос)"
   ]
  },
  {
   "cell_type": "code",
   "execution_count": 36,
   "metadata": {},
   "outputs": [],
   "source": [
    "#https://docs.google.com/spreadsheets/d/1j1q5m4MQZ3rA4ForbJcXnsicRVStu-ZR8_n2m-3L6PY/edit?usp=sharing\n",
    "spread_id = '1j1q5m4MQZ3rA4ForbJcXnsicRVStu-ZR8_n2m-3L6PY'\n",
    "file_name = 'https://docs.google.com/spreadsheets/d/{}/export?format=csv'.format(spread_id)\n",
    "r = requests.get(file_name)\n",
    "state_sq = pd.read_csv(BytesIO(r.content))    \n",
    "state_sq.columns = ['state', 'sq', '%sq', 'sq_rating']\n",
    "state_sq['sq'] = pd.to_numeric(state_sq['sq'])"
   ]
  },
  {
   "cell_type": "code",
   "execution_count": 37,
   "metadata": {},
   "outputs": [],
   "source": [
    "state_rest_pivot = rest_location.groupby(['state', 'object_type']).agg({'id':'count'}).reset_index()\n",
    "state_rest_pivot = pd.merge(state_rest_pivot, state_sq, on = 'state', how = 'left')\n",
    "state_rest_pivot['rest_per_sq_km'] = state_rest_pivot['id'] / state_rest_pivot['sq']\n",
    "state_rest_pivot['rest_per_sq_km'] = state_rest_pivot['rest_per_sq_km'].round(2)\n",
    "state_rest_pivot.columns = ['Округ', 'Тип заведения', 'id', 'sq', '%sq', 'sq_rating',\n",
    "       'rest_per_sq_km']"
   ]
  },
  {
   "cell_type": "code",
   "execution_count": 38,
   "metadata": {},
   "outputs": [],
   "source": [
    "heatmap_pivot = state_rest_pivot.pivot_table(index = 'Округ', columns = 'Тип заведения', values = 'rest_per_sq_km', aggfunc = 'first')\n",
    "heatmap_pivot = heatmap_pivot.fillna(0)"
   ]
  },
  {
   "cell_type": "code",
   "execution_count": 39,
   "metadata": {},
   "outputs": [
    {
     "name": "stdout",
     "output_type": "stream",
     "text": [
      "Количество заведений определенного типа на квадратный километр округа\n"
     ]
    },
    {
     "data": {
      "image/png": "[encoded data removed]",
      "text/plain": [
       "<Figure size 432x288 with 2 Axes>"
      ]
     },
     "metadata": {
      "needs_background": "light"
     },
     "output_type": "display_data"
    }
   ],
   "source": [
    "s = sns.heatmap(heatmap_pivot, annot=True)\n",
    "print('Количество заведений определенного типа на квадратный километр округа')\n",
    "plt.show()"
   ]
  },
  {
   "cell_type": "markdown",
   "metadata": {},
   "source": [
    "По тепловой карте видно, что ЦАО переполнен заведениями типа кафе - в среднем 36 кафе на каждый квадратный километр ЦАО."
   ]
  },
  {
   "cell_type": "markdown",
   "metadata": {},
   "source": [
    "### 3. Выводы\n",
    "<a id='Выводы '></a>\n",
    " Большая часть заведений общественного питания относится к типу \"кафе\". Далее идут \"столовая\", \"ресторан\", \"предприятие быстрого обслуживания\".\n",
    " Несетевых заведений в 4.18 раза больше, чем сетевых.\n",
    " Чаще всего сетевыми являются предприятия быстрого обслуживания и магазин(отдел кулинария). Реже всего - столовая, буфет и бар (доля сетевых заведений не превышает 5%.\n",
    " Медиана количества посадочных мест во всех типах сетевых заведений 43.5\n",
    "Квантили распределения посадочных мест во всех типах сетевых заведений: \n",
    "- 25% - до 20 посадочных мест,\n",
    "- 75% - до 84 мест,\n",
    "- 95% - до 160 мест\n",
    "\n",
    "Для сетевых заведений характерно разное количество заведений (95% заведений имеют до 16 заведений в сети). Медиана количества посадочных мест во всех типах сетевых заведений 43.5 При этом если рассматривать сетевые кафе, то разброс значений будет меньше. Если взять сетевые кафе, принадлежащие большим сетям, то среднее количество заведений в сети равно 44.4, количество мест - 40. Сетевые кафе маленьких сетей имеют тоже количество посадочных мест в среднем, но среднее количество заведений составляет 2.9.\n",
    "\n",
    "Медиана количества посадочных мест в заведениях типа кафе 40.0\n",
    "Среднее количество заведений типа кафе в большой сети 44.4\n",
    "Среднее количество заведений типа кафе в сети 2.9\n",
    "\n",
    "В среднем больше всего мест для посетителей отведено в столовых (среднее количество мест - 130). А меньше всего - в закусочных и магазинах (отдел кулинарии) - среднее количествво мест 8 и 6 соответственно.\n",
    "\n",
    "В топ-10 по количеству заведений попали не простые улицы:\n",
    "\n",
    "- Варшавское шоссе - прямое шоссе с наибольшей протяженностью, которое раскинулась на 22,5 км и имеет важное транспортное значение. Шоссе проходит через 8 районов, размещенных в трех административных округах.\n",
    "- Ленинский проспект состоит из большой Калужской улицы, частично из одноименного шоссе и Киевского шоссе. Месторасположение объекта охватывает 4 округа (Западный, Южный, Западно-Южный и Центральный). Берет свое начало автомагистраль от Калужской площади, заканчивается возле МКАД и имеет протяженность 14 км, ширину от 108 до 120 м. Это единственная в столице России радиальная автомагистраль, не меняющая название на всей дистанции.\n",
    "- Ленинградский проспект (Ленинградка) размещается в Северном административном округе, держит первенство в статусе самой широкой улицы Москвы (120м)\n",
    "- Проспект Мира одна из самых протяженных и оживленных улиц города Москвы.\n",
    "- Профсоюзная улица является одной из главных магистралей юго-запада Москвы. От метро Коньково до пересечения с улицей Академика Капицы она также выступает в качестве границы между районами Коньково и Тёплый Стан.\n",
    "- Пресненская набережная проходит вдоль делового центра Москва-Сити - крупный развивающийся деловой район в Москве.\n",
    "\n",
    "Каждая улица проходит через несколько районов и административных округов, это улицы с большой проходимостью (людей и транспорта) вполне логично, что на них собираются заведения общественного питания. При этом в основном это не улицы ЦАО (исключая Пресненскую набережную, но она обособлена за счет Москва-Сити).\n",
    "\n",
    "Всего в данных 640 улиц, на которых есть всего лишь 1 заведение общественного питания\n",
    "По одному объекту общественного питания находятся на улицах многих районов и округов. Лидируют районы ЦАО. Предпологаю две причины такого состояния:\n",
    "\n",
    "- дорогая арендная плата\n",
    "- короткие улицы, для центра Москвы, особенно старый город и улицы вокруг Кремля - короткие, с узкими тротуарами. Нет возможности расширить помещения за счет улицы или перепланировки здания. Плюс здания в центре Москвы не подлежат перепланировке и накладывается ряд ограничений на использование наружной рекламы - реклама не может нарушать внешний вид города. Поэтому же в центре больше всего кафе - эти предприятия не требуют больших помещений (нет необходимости в полноценной кухне), могут существовать с маленьким количеством посадочных мест, основным товаром является кофе, в том числе кофе на вынос - что удобно для районов с офисами. (Перед рабочим днем зайти и выпить кофе, или взять кофе с собой в офис)\n",
    "\n",
    " Большинство заведений, расположенных на топ-20 улиц имеют не более 300 посадочных мест. 90% имеют не более 150 посадочных мест, а медиана проходит через 40 посадочных мест. Так же на этих улицах зарегистрировано 104 заведения вообще без посадочных мест. (такие как сеть Милти, которые занимаются только доставкой еды и не имеют своих залов, а так же палатки с шаурмой и кофе на вынос)\n",
    "  "
   ]
  },
  {
   "cell_type": "markdown",
   "metadata": {},
   "source": [
    "### Рекомендации\n",
    "В данном выводе много предположений, поскольку не указаны подробности для планируемого помещения, функционал роботов (стоять на месте или перемещаться по залу) и место, где хотят открыть кафе. На данном этапе можно сделать следующие выводы:\n",
    "- не планировать большую сеть, поскольку составить сразу конкуренцию сетевым гигантам не получится\n",
    "- центр Москвы завален кафе разных типов, не самое лучшее место для начала\n",
    "- если кафе с роботами предполагает быстрое обслуживание с небольшим залом - можно рассматривать такие места, как Пресненская набережная - рядом с бизнес-центрами, ТЦ или выставочными залами. Здесь спрос на кофе никогда не спадет.\n",
    "- если есть необходимость в больших залах для посетителей, стоит обратить внимание на СВАО и ЗАО. И рассмотреть другой тип заведения - например, ресторан с банкетным залом. \n",
    "- особенность кафе - официанты-роботы - можно обыграть в соответствующей среде - например, расположиться рядом с Робостанцией на ВВЦ (СВАО) или Интерактивным музеем «Восстание машин» (ЮВАО)\n"
   ]
  },
  {
   "cell_type": "code",
   "execution_count": null,
   "metadata": {},
   "outputs": [],
   "source": []
  }
 ],
 "metadata": {
  "kernelspec": {
   "display_name": "Python 3",
   "language": "python",
   "name": "python3"
  },
  "language_info": {
   "codemirror_mode": {
    "name": "ipython",
    "version": 3
   },
   "file_extension": ".py",
   "mimetype": "text/x-python",
   "name": "python",
   "nbconvert_exporter": "python",
   "pygments_lexer": "ipython3",
   "version": "3.7.6"
  }
 },
 "nbformat": 4,
 "nbformat_minor": 2
}
